{
 "cells": [
  {
   "cell_type": "code",
   "execution_count": 379,
   "id": "e936d6cc",
   "metadata": {},
   "outputs": [],
   "source": [
    "import pandas as pd\n",
    "import numpy as np\n",
    "import matplotlib.pyplot as plt\n",
    "import seaborn as sns\n",
    "import os\n",
    "sns.set(rc={'figure.figsize':(14,8)})\n",
    "\n",
    "from sklearn.utils import resample\n",
    "from sklearn.preprocessing import MinMaxScaler\n",
    "from sklearn.neural_network import MLPClassifier\n",
    "\n",
    "from sklearn.model_selection import cross_val_score\n",
    "from sklearn.model_selection import train_test_split\n",
    "\n",
    "from sklearn.metrics import f1_score\n",
    "from sklearn.metrics import precision_score\n",
    "from sklearn.metrics import recall_score\n",
    "from sklearn.metrics import plot_confusion_matrix\n",
    "from sklearn.metrics import classification_report\n",
    "\n",
    "import joblib"
   ]
  },
  {
   "cell_type": "code",
   "execution_count": 345,
   "id": "bc1f6fac",
   "metadata": {},
   "outputs": [
    {
     "data": {
      "text/plain": [
       "['mitbih_test.csv',\n",
       " 'mitbih_train.csv',\n",
       " 'ptbdb_abnormal.csv',\n",
       " 'ptbdb_normal.csv']"
      ]
     },
     "execution_count": 345,
     "metadata": {},
     "output_type": "execute_result"
    }
   ],
   "source": [
    "os.listdir(path='data')"
   ]
  },
  {
   "cell_type": "code",
   "execution_count": 346,
   "id": "2edf3042",
   "metadata": {},
   "outputs": [],
   "source": [
    "train_set = pd.read_csv('data/mitbih_train.csv', header=None)\n",
    "test_set = pd.read_csv('data/mitbih_test.csv', header=None)"
   ]
  },
  {
   "cell_type": "code",
   "execution_count": 347,
   "id": "20e29fe8",
   "metadata": {},
   "outputs": [
    {
     "data": {
      "text/plain": [
       "(87554, 188)"
      ]
     },
     "execution_count": 347,
     "metadata": {},
     "output_type": "execute_result"
    }
   ],
   "source": [
    "train_set.shape"
   ]
  },
  {
   "cell_type": "code",
   "execution_count": 348,
   "id": "8d9f004b",
   "metadata": {},
   "outputs": [
    {
     "data": {
      "text/plain": [
       "(21892, 188)"
      ]
     },
     "execution_count": 348,
     "metadata": {},
     "output_type": "execute_result"
    }
   ],
   "source": [
    "test_set.shape"
   ]
  },
  {
   "cell_type": "code",
   "execution_count": 349,
   "id": "62359928",
   "metadata": {},
   "outputs": [
    {
     "data": {
      "text/html": [
       "<div>\n",
       "<style scoped>\n",
       "    .dataframe tbody tr th:only-of-type {\n",
       "        vertical-align: middle;\n",
       "    }\n",
       "\n",
       "    .dataframe tbody tr th {\n",
       "        vertical-align: top;\n",
       "    }\n",
       "\n",
       "    .dataframe thead th {\n",
       "        text-align: right;\n",
       "    }\n",
       "</style>\n",
       "<table border=\"1\" class=\"dataframe\">\n",
       "  <thead>\n",
       "    <tr style=\"text-align: right;\">\n",
       "      <th></th>\n",
       "      <th>0</th>\n",
       "      <th>1</th>\n",
       "      <th>2</th>\n",
       "      <th>3</th>\n",
       "      <th>4</th>\n",
       "      <th>5</th>\n",
       "      <th>6</th>\n",
       "      <th>7</th>\n",
       "      <th>8</th>\n",
       "      <th>9</th>\n",
       "      <th>...</th>\n",
       "      <th>178</th>\n",
       "      <th>179</th>\n",
       "      <th>180</th>\n",
       "      <th>181</th>\n",
       "      <th>182</th>\n",
       "      <th>183</th>\n",
       "      <th>184</th>\n",
       "      <th>185</th>\n",
       "      <th>186</th>\n",
       "      <th>187</th>\n",
       "    </tr>\n",
       "  </thead>\n",
       "  <tbody>\n",
       "    <tr>\n",
       "      <th>0</th>\n",
       "      <td>0.977941</td>\n",
       "      <td>0.926471</td>\n",
       "      <td>0.681373</td>\n",
       "      <td>0.245098</td>\n",
       "      <td>0.154412</td>\n",
       "      <td>0.191176</td>\n",
       "      <td>0.151961</td>\n",
       "      <td>0.085784</td>\n",
       "      <td>0.058824</td>\n",
       "      <td>0.049020</td>\n",
       "      <td>...</td>\n",
       "      <td>0.0</td>\n",
       "      <td>0.0</td>\n",
       "      <td>0.0</td>\n",
       "      <td>0.0</td>\n",
       "      <td>0.0</td>\n",
       "      <td>0.0</td>\n",
       "      <td>0.0</td>\n",
       "      <td>0.0</td>\n",
       "      <td>0.0</td>\n",
       "      <td>0.0</td>\n",
       "    </tr>\n",
       "    <tr>\n",
       "      <th>1</th>\n",
       "      <td>0.960114</td>\n",
       "      <td>0.863248</td>\n",
       "      <td>0.461538</td>\n",
       "      <td>0.196581</td>\n",
       "      <td>0.094017</td>\n",
       "      <td>0.125356</td>\n",
       "      <td>0.099715</td>\n",
       "      <td>0.088319</td>\n",
       "      <td>0.074074</td>\n",
       "      <td>0.082621</td>\n",
       "      <td>...</td>\n",
       "      <td>0.0</td>\n",
       "      <td>0.0</td>\n",
       "      <td>0.0</td>\n",
       "      <td>0.0</td>\n",
       "      <td>0.0</td>\n",
       "      <td>0.0</td>\n",
       "      <td>0.0</td>\n",
       "      <td>0.0</td>\n",
       "      <td>0.0</td>\n",
       "      <td>0.0</td>\n",
       "    </tr>\n",
       "    <tr>\n",
       "      <th>2</th>\n",
       "      <td>1.000000</td>\n",
       "      <td>0.659459</td>\n",
       "      <td>0.186486</td>\n",
       "      <td>0.070270</td>\n",
       "      <td>0.070270</td>\n",
       "      <td>0.059459</td>\n",
       "      <td>0.056757</td>\n",
       "      <td>0.043243</td>\n",
       "      <td>0.054054</td>\n",
       "      <td>0.045946</td>\n",
       "      <td>...</td>\n",
       "      <td>0.0</td>\n",
       "      <td>0.0</td>\n",
       "      <td>0.0</td>\n",
       "      <td>0.0</td>\n",
       "      <td>0.0</td>\n",
       "      <td>0.0</td>\n",
       "      <td>0.0</td>\n",
       "      <td>0.0</td>\n",
       "      <td>0.0</td>\n",
       "      <td>0.0</td>\n",
       "    </tr>\n",
       "    <tr>\n",
       "      <th>3</th>\n",
       "      <td>0.925414</td>\n",
       "      <td>0.665746</td>\n",
       "      <td>0.541436</td>\n",
       "      <td>0.276243</td>\n",
       "      <td>0.196133</td>\n",
       "      <td>0.077348</td>\n",
       "      <td>0.071823</td>\n",
       "      <td>0.060773</td>\n",
       "      <td>0.066298</td>\n",
       "      <td>0.058011</td>\n",
       "      <td>...</td>\n",
       "      <td>0.0</td>\n",
       "      <td>0.0</td>\n",
       "      <td>0.0</td>\n",
       "      <td>0.0</td>\n",
       "      <td>0.0</td>\n",
       "      <td>0.0</td>\n",
       "      <td>0.0</td>\n",
       "      <td>0.0</td>\n",
       "      <td>0.0</td>\n",
       "      <td>0.0</td>\n",
       "    </tr>\n",
       "    <tr>\n",
       "      <th>4</th>\n",
       "      <td>0.967136</td>\n",
       "      <td>1.000000</td>\n",
       "      <td>0.830986</td>\n",
       "      <td>0.586854</td>\n",
       "      <td>0.356808</td>\n",
       "      <td>0.248826</td>\n",
       "      <td>0.145540</td>\n",
       "      <td>0.089202</td>\n",
       "      <td>0.117371</td>\n",
       "      <td>0.150235</td>\n",
       "      <td>...</td>\n",
       "      <td>0.0</td>\n",
       "      <td>0.0</td>\n",
       "      <td>0.0</td>\n",
       "      <td>0.0</td>\n",
       "      <td>0.0</td>\n",
       "      <td>0.0</td>\n",
       "      <td>0.0</td>\n",
       "      <td>0.0</td>\n",
       "      <td>0.0</td>\n",
       "      <td>0.0</td>\n",
       "    </tr>\n",
       "  </tbody>\n",
       "</table>\n",
       "<p>5 rows × 188 columns</p>\n",
       "</div>"
      ],
      "text/plain": [
       "        0         1         2         3         4         5         6    \\\n",
       "0  0.977941  0.926471  0.681373  0.245098  0.154412  0.191176  0.151961   \n",
       "1  0.960114  0.863248  0.461538  0.196581  0.094017  0.125356  0.099715   \n",
       "2  1.000000  0.659459  0.186486  0.070270  0.070270  0.059459  0.056757   \n",
       "3  0.925414  0.665746  0.541436  0.276243  0.196133  0.077348  0.071823   \n",
       "4  0.967136  1.000000  0.830986  0.586854  0.356808  0.248826  0.145540   \n",
       "\n",
       "        7         8         9    ...  178  179  180  181  182  183  184  185  \\\n",
       "0  0.085784  0.058824  0.049020  ...  0.0  0.0  0.0  0.0  0.0  0.0  0.0  0.0   \n",
       "1  0.088319  0.074074  0.082621  ...  0.0  0.0  0.0  0.0  0.0  0.0  0.0  0.0   \n",
       "2  0.043243  0.054054  0.045946  ...  0.0  0.0  0.0  0.0  0.0  0.0  0.0  0.0   \n",
       "3  0.060773  0.066298  0.058011  ...  0.0  0.0  0.0  0.0  0.0  0.0  0.0  0.0   \n",
       "4  0.089202  0.117371  0.150235  ...  0.0  0.0  0.0  0.0  0.0  0.0  0.0  0.0   \n",
       "\n",
       "   186  187  \n",
       "0  0.0  0.0  \n",
       "1  0.0  0.0  \n",
       "2  0.0  0.0  \n",
       "3  0.0  0.0  \n",
       "4  0.0  0.0  \n",
       "\n",
       "[5 rows x 188 columns]"
      ]
     },
     "execution_count": 349,
     "metadata": {},
     "output_type": "execute_result"
    }
   ],
   "source": [
    "train_set.head()"
   ]
  },
  {
   "cell_type": "code",
   "execution_count": 350,
   "id": "6884e16c",
   "metadata": {
    "scrolled": true
   },
   "outputs": [],
   "source": [
    "# Classes: ['N': 0, 'S': 1, 'V': 2, 'F': 3, 'Q': 4]\n",
    "# 0=normal (N), 1=SVEB (S), 2=VEB (V), 3=Fusion beat (F), 4=Unknown beat (Q)\n",
    "\n",
    "\"\"\"\n",
    "• N: Normal beat\n",
    "• S: Supraventricular premature beat\n",
    "• V: Premature ventricular contraction\n",
    "• F: Fusion of ventricular and normal beat\n",
    "• Q: Unclassifiable beat\n",
    "\n",
    "N\n",
    "Normal\n",
    "Left/Right bundle branch block\n",
    "Atrial escape\n",
    "Nodal escape\n",
    "\n",
    "S\n",
    "Atrial premature\n",
    "Aberrant atrial premature\n",
    "Nodal premature\n",
    "Supra-ventricular premature\n",
    "\n",
    "V\n",
    "Premature ventricular contraction\n",
    "Ventricular escape\n",
    "\n",
    "F\n",
    "Fusion of ventricular and normal\n",
    "\n",
    "Q\n",
    "Paced\n",
    "Fusion of paced and normal\n",
    "Unclassifiable\n",
    "\"\"\";"
   ]
  },
  {
   "cell_type": "code",
   "execution_count": 351,
   "id": "3b184e64",
   "metadata": {},
   "outputs": [
    {
     "data": {
      "text/plain": [
       "<AxesSubplot:>"
      ]
     },
     "execution_count": 351,
     "metadata": {},
     "output_type": "execute_result"
    },
    {
     "data": {
      "image/png": "[encoded data removed]",
      "text/plain": [
       "<Figure size 1008x576 with 1 Axes>"
      ]
     },
     "metadata": {},
     "output_type": "display_data"
    }
   ],
   "source": [
    "# each row represents one cardiac cycle (heartbeat)\n",
    "train_set.iloc[0].plot()"
   ]
  },
  {
   "cell_type": "code",
   "execution_count": 352,
   "id": "524f7a21",
   "metadata": {},
   "outputs": [
    {
     "data": {
      "text/plain": [
       "0.0    72471\n",
       "4.0     6431\n",
       "2.0     5788\n",
       "1.0     2223\n",
       "3.0      641\n",
       "Name: 187, dtype: int64"
      ]
     },
     "execution_count": 352,
     "metadata": {},
     "output_type": "execute_result"
    }
   ],
   "source": [
    "# unbalanced classes\n",
    "train_set.iloc[:, 187].value_counts()"
   ]
  },
  {
   "cell_type": "code",
   "execution_count": 353,
   "id": "ba710bf8",
   "metadata": {},
   "outputs": [
    {
     "data": {
      "text/plain": [
       "0.0    18118\n",
       "4.0     1608\n",
       "2.0     1448\n",
       "1.0      556\n",
       "3.0      162\n",
       "Name: 187, dtype: int64"
      ]
     },
     "execution_count": 353,
     "metadata": {},
     "output_type": "execute_result"
    }
   ],
   "source": [
    "test_set.iloc[:, 187].value_counts()"
   ]
  },
  {
   "cell_type": "code",
   "execution_count": 354,
   "id": "9b42a7ce",
   "metadata": {},
   "outputs": [
    {
     "data": {
      "text/plain": [
       "0"
      ]
     },
     "execution_count": 354,
     "metadata": {},
     "output_type": "execute_result"
    }
   ],
   "source": [
    "# number of columns with at least one null value\n",
    "len(train_set.columns[train_set.isnull().any()])"
   ]
  },
  {
   "cell_type": "code",
   "execution_count": 355,
   "id": "a060bc0f",
   "metadata": {},
   "outputs": [],
   "source": [
    "# resample to balance the classes - will aim to keep ~same amount as original data\n",
    "def balance_classes(data, class_size=0):\n",
    "    labels_0 = data[data[187]==0].sample(n=class_size,random_state=42)\n",
    "    labels_1 = data[data[187]==1]\n",
    "    labels_2 = data[data[187]==2]\n",
    "    labels_3 = data[data[187]==3]\n",
    "    labels_4 = data[data[187]==4]\n",
    "    \n",
    "    labels_1_up = resample(labels_1, replace=True, n_samples=class_size, random_state=33)\n",
    "    labels_2_up = resample(labels_2, replace=True, n_samples=class_size, random_state=34)\n",
    "    labels_3_up = resample(labels_3, replace=True, n_samples=class_size, random_state=35)\n",
    "    labels_4_up = resample(labels_4, replace=True, n_samples=class_size, random_state=36)\n",
    "    \n",
    "    final_df = pd.concat([labels_0, labels_1_up, labels_2_up, labels_3_up, labels_4_up])\n",
    "    \n",
    "    return final_df"
   ]
  },
  {
   "cell_type": "code",
   "execution_count": 356,
   "id": "ba3ce23a",
   "metadata": {},
   "outputs": [],
   "source": [
    "train_set_balanced = balance_classes(train_set, class_size=18000)\n",
    "test_set_balanced = balance_classes(test_set, class_size=4400)"
   ]
  },
  {
   "cell_type": "code",
   "execution_count": 357,
   "id": "eec98198",
   "metadata": {},
   "outputs": [
    {
     "data": {
      "text/plain": [
       "0.0    18000\n",
       "4.0    18000\n",
       "3.0    18000\n",
       "1.0    18000\n",
       "2.0    18000\n",
       "Name: 187, dtype: int64"
      ]
     },
     "execution_count": 357,
     "metadata": {},
     "output_type": "execute_result"
    }
   ],
   "source": [
    "train_set_balanced.iloc[:, 187].value_counts()"
   ]
  },
  {
   "cell_type": "code",
   "execution_count": 358,
   "id": "3d9c05ff",
   "metadata": {},
   "outputs": [
    {
     "data": {
      "text/plain": [
       "0.0    4400\n",
       "4.0    4400\n",
       "2.0    4400\n",
       "3.0    4400\n",
       "1.0    4400\n",
       "Name: 187, dtype: int64"
      ]
     },
     "execution_count": 358,
     "metadata": {},
     "output_type": "execute_result"
    }
   ],
   "source": [
    "test_set_balanced.iloc[:, 187].value_counts()"
   ]
  },
  {
   "cell_type": "code",
   "execution_count": 361,
   "id": "7674b24c",
   "metadata": {},
   "outputs": [],
   "source": [
    "# randomly sample training data and plot\n",
    "def subplot_random_rows(data, num_samples=0):\n",
    "    data = data.iloc[:, :-1]\n",
    "    shuffled_indices = np.random.permutation(len(data))\n",
    "    indices_to_plot = shuffled_indices[:num_samples]\n",
    "    random_data = data.iloc[indices_to_plot]\n",
    "    \n",
    "    for i in range(9):\n",
    "        plt.subplot(3,3,i+1)\n",
    "        plt.plot(np.arange(0,186), random_data.iloc[i,:])\n",
    "    \n",
    "    return plt.show()"
   ]
  },
  {
   "cell_type": "code",
   "execution_count": 362,
   "id": "eb1d45d4",
   "metadata": {},
   "outputs": [
    {
     "data": {
      "image/png": "[encoded data removed]",
      "text/plain": [
       "<Figure size 1008x576 with 9 Axes>"
      ]
     },
     "metadata": {},
     "output_type": "display_data"
    }
   ],
   "source": [
    "subplot_random_rows(X_train, num_samples=9)"
   ]
  },
  {
   "cell_type": "code",
   "execution_count": 363,
   "id": "0e3169f0",
   "metadata": {},
   "outputs": [],
   "source": [
    "# split data into features and labels\n",
    "X_train = train_set_balanced.iloc[:, :-1]\n",
    "y_train = train_set_balanced.iloc[:, -1]"
   ]
  },
  {
   "cell_type": "code",
   "execution_count": 375,
   "id": "1b6f8ac3",
   "metadata": {},
   "outputs": [
    {
     "name": "stdout",
     "output_type": "stream",
     "text": [
      "X_train shape: (90000, 187), y_train shape: (90000,)\n"
     ]
    }
   ],
   "source": [
    "print(f'X_train shape: {X_train.shape}, y_train shape: {y_train.shape}')"
   ]
  },
  {
   "cell_type": "code",
   "execution_count": 364,
   "id": "101b4c3c",
   "metadata": {},
   "outputs": [],
   "source": [
    "# set aside validation set\n",
    "X_test, X_val, y_test, y_val = train_test_split(test_set_balanced.iloc[:, :-1], \n",
    "                                                test_set_balanced.iloc[:, -1], \n",
    "                                                test_size=0.3,\n",
    "                                                random_state=42)"
   ]
  },
  {
   "cell_type": "code",
   "execution_count": 365,
   "id": "115bce7a",
   "metadata": {},
   "outputs": [],
   "source": [
    "# data already scaled between 0-1\n",
    "#scaler = MinMaxScaler(feature_range=(0, 1))"
   ]
  },
  {
   "cell_type": "code",
   "execution_count": 366,
   "id": "04b7f859",
   "metadata": {},
   "outputs": [
    {
     "data": {
      "text/plain": [
       "MLPClassifier(hidden_layer_sizes=(75, 75, 75), max_iter=1000)"
      ]
     },
     "execution_count": 366,
     "metadata": {},
     "output_type": "execute_result"
    }
   ],
   "source": [
    "# relu activation is default\n",
    "mlp = MLPClassifier(hidden_layer_sizes=(75, 75, 75), max_iter=300)\n",
    "\n",
    "mlp.fit(X_train, y_train)"
   ]
  },
  {
   "cell_type": "code",
   "execution_count": 367,
   "id": "914298c3",
   "metadata": {},
   "outputs": [
    {
     "data": {
      "text/plain": [
       "['EKG_nn.pkl']"
      ]
     },
     "execution_count": 367,
     "metadata": {},
     "output_type": "execute_result"
    }
   ],
   "source": [
    "joblib.dump(mlp, \"EKG_nn.pkl\")"
   ]
  },
  {
   "cell_type": "code",
   "execution_count": 368,
   "id": "48ca3a69",
   "metadata": {},
   "outputs": [],
   "source": [
    "y_pred = mlp.predict(X_test)"
   ]
  },
  {
   "cell_type": "code",
   "execution_count": 381,
   "id": "2d258d25",
   "metadata": {},
   "outputs": [
    {
     "name": "stdout",
     "output_type": "stream",
     "text": [
      "              precision    recall  f1-score   support\n",
      "\n",
      "         0.0       0.76      0.97      0.85      3102\n",
      "         1.0       0.97      0.79      0.87      3025\n",
      "         2.0       0.93      0.93      0.93      3089\n",
      "         3.0       0.97      0.87      0.92      3071\n",
      "         4.0       0.99      0.98      0.98      3113\n",
      "\n",
      "    accuracy                           0.91     15400\n",
      "   macro avg       0.92      0.91      0.91     15400\n",
      "weighted avg       0.92      0.91      0.91     15400\n",
      "\n"
     ]
    }
   ],
   "source": [
    "# which metrics to evaluate on?\n",
    "print(classification_report(y_test, y_pred))"
   ]
  },
  {
   "cell_type": "code",
   "execution_count": 402,
   "id": "2541e59d",
   "metadata": {},
   "outputs": [
    {
     "data": {
      "text/plain": [
       "<sklearn.metrics._plot.confusion_matrix.ConfusionMatrixDisplay at 0x22bd12a15c8>"
      ]
     },
     "execution_count": 402,
     "metadata": {},
     "output_type": "execute_result"
    },
    {
     "data": {
      "image/png": "[encoded data removed]",
      "text/plain": [
       "<Figure size 1008x576 with 2 Axes>"
      ]
     },
     "metadata": {},
     "output_type": "display_data"
    }
   ],
   "source": [
    "plot_confusion_matrix(mlp, X_test, y_test, cmap='Blues')"
   ]
  }
 ],
 "metadata": {
  "kernelspec": {
   "display_name": "Python 3",
   "language": "python",
   "name": "python3"
  },
  "language_info": {
   "codemirror_mode": {
    "name": "ipython",
    "version": 3
   },
   "file_extension": ".py",
   "mimetype": "text/x-python",
   "name": "python",
   "nbconvert_exporter": "python",
   "pygments_lexer": "ipython3",
   "version": "3.7.6"
  }
 },
 "nbformat": 4,
 "nbformat_minor": 5
}
