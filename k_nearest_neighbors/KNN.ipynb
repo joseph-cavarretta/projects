{
 "cells": [
  {
   "cell_type": "code",
   "execution_count": 72,
   "id": "402af63c",
   "metadata": {},
   "outputs": [],
   "source": [
    "import pandas as pd\n",
    "import numpy as np\n",
    "from sklearn.neighbors import BallTree\n",
    "from sklearn.metrics import DistanceMetric\n",
    "\n",
    "# Other methods that were considered, but none of them offer a Haversine metric option\n",
    "# from sklearn.neighbors import KDTree\n",
    "# from scipy.spatial import KDTree\n",
    "# import pykdtree\n"
   ]
  },
  {
   "cell_type": "code",
   "execution_count": 73,
   "id": "381e5533",
   "metadata": {},
   "outputs": [],
   "source": [
    "sb_cols = ['starbucksid', 'name', 'lat', 'lon']\n",
    "sb_df = pd.read_csv('data/starbucks_us.csv', usecols=sb_cols)\n",
    "\n",
    "# convert float64's to float32's to save space\n",
    "for col in sb_df.columns:\n",
    "    if sb_df[col].dtype == 'float64':\n",
    "        sb_df[col]=pd.to_numeric(sb_df[col], downcast='float')"
   ]
  },
  {
   "cell_type": "code",
   "execution_count": 74,
   "id": "cca81c59",
   "metadata": {},
   "outputs": [],
   "source": [
    "sb_df.rename(columns={'starbucksid': 'starbucks_id', 'name': 'store_name', 'street1': 'store_address', \n",
    "                      'city': 'store_city', 'countrysubdivisioncode': 'store_state', \n",
    "                      'lat': 'store_lat', 'lon': 'store_long'}, inplace=True)\n",
    "\n",
    "# drop columns with no lat / long info\n",
    "sb_df.dropna(axis=0, how=\"any\", subset=['store_lat', 'store_long'], inplace=True)"
   ]
  },
  {
   "cell_type": "code",
   "execution_count": 75,
   "id": "2b3a3ee3",
   "metadata": {},
   "outputs": [
    {
     "name": "stdout",
     "output_type": "stream",
     "text": [
      "Total Starbucks Locations: 13620\n"
     ]
    },
    {
     "data": {
      "text/html": [
       "<div>\n",
       "<style scoped>\n",
       "    .dataframe tbody tr th:only-of-type {\n",
       "        vertical-align: middle;\n",
       "    }\n",
       "\n",
       "    .dataframe tbody tr th {\n",
       "        vertical-align: top;\n",
       "    }\n",
       "\n",
       "    .dataframe thead th {\n",
       "        text-align: right;\n",
       "    }\n",
       "</style>\n",
       "<table border=\"1\" class=\"dataframe\">\n",
       "  <thead>\n",
       "    <tr style=\"text-align: right;\">\n",
       "      <th></th>\n",
       "      <th>starbucks_id</th>\n",
       "      <th>store_name</th>\n",
       "      <th>store_lat</th>\n",
       "      <th>store_long</th>\n",
       "    </tr>\n",
       "  </thead>\n",
       "  <tbody>\n",
       "    <tr>\n",
       "      <th>0</th>\n",
       "      <td>10357</td>\n",
       "      <td>Target Virginia T-847</td>\n",
       "      <td>47.511105</td>\n",
       "      <td>-92.549225</td>\n",
       "    </tr>\n",
       "    <tr>\n",
       "      <th>1</th>\n",
       "      <td>1006159</td>\n",
       "      <td>Target Vadnais Heights T-751</td>\n",
       "      <td>45.050411</td>\n",
       "      <td>-93.061546</td>\n",
       "    </tr>\n",
       "    <tr>\n",
       "      <th>2</th>\n",
       "      <td>1008940</td>\n",
       "      <td>Highway 169 and Freeport-Elk River</td>\n",
       "      <td>45.319901</td>\n",
       "      <td>-93.564262</td>\n",
       "    </tr>\n",
       "    <tr>\n",
       "      <th>3</th>\n",
       "      <td>14598</td>\n",
       "      <td>St. Paul-Grand Ave &amp; Oxford St</td>\n",
       "      <td>44.939873</td>\n",
       "      <td>-93.144943</td>\n",
       "    </tr>\n",
       "    <tr>\n",
       "      <th>4</th>\n",
       "      <td>12449</td>\n",
       "      <td>Target Minneapolis T-1375</td>\n",
       "      <td>44.970516</td>\n",
       "      <td>-93.277710</td>\n",
       "    </tr>\n",
       "  </tbody>\n",
       "</table>\n",
       "</div>"
      ],
      "text/plain": [
       "   starbucks_id                          store_name  store_lat  store_long\n",
       "0         10357               Target Virginia T-847  47.511105  -92.549225\n",
       "1       1006159        Target Vadnais Heights T-751  45.050411  -93.061546\n",
       "2       1008940  Highway 169 and Freeport-Elk River  45.319901  -93.564262\n",
       "3         14598      St. Paul-Grand Ave & Oxford St  44.939873  -93.144943\n",
       "4         12449           Target Minneapolis T-1375  44.970516  -93.277710"
      ]
     },
     "execution_count": 75,
     "metadata": {},
     "output_type": "execute_result"
    }
   ],
   "source": [
    "# US starbucks locations\n",
    "print(f'Total Starbucks Locations: {len(sb_df)}')\n",
    "sb_df.head()"
   ]
  },
  {
   "cell_type": "code",
   "execution_count": 76,
   "id": "dd436ded",
   "metadata": {},
   "outputs": [],
   "source": [
    "h_cols = ['PROPERTY_ID', 'PROPERTY_NAME', 'ADDRESS', 'CITY', 'STATE_NAME', 'LATITUDE', 'LONGITUDE']\n",
    "h_df = pd.read_csv(\"data/multifamily_physical_inspection_scores_0321.csv\", usecols=h_cols)\n",
    "\n",
    "# convert float64's to float32's to save space\n",
    "for col in h_df.columns:\n",
    "    if h_df[col].dtype == 'float64':\n",
    "        h_df[col]=pd.to_numeric(h_df[col], downcast='float')"
   ]
  },
  {
   "cell_type": "code",
   "execution_count": 77,
   "id": "93a5d50a",
   "metadata": {},
   "outputs": [],
   "source": [
    "h_df.columns = [col.lower() for col in h_df.columns]\n",
    "# drop columns with no lat / long info\n",
    "h_df.dropna(axis=0, how=\"any\", subset=['latitude', 'longitude'], inplace=True)"
   ]
  },
  {
   "cell_type": "code",
   "execution_count": 78,
   "id": "4fb0b16c",
   "metadata": {},
   "outputs": [
    {
     "name": "stdout",
     "output_type": "stream",
     "text": [
      "Total Housing Locations: 27415\n"
     ]
    },
    {
     "data": {
      "text/html": [
       "<div>\n",
       "<style scoped>\n",
       "    .dataframe tbody tr th:only-of-type {\n",
       "        vertical-align: middle;\n",
       "    }\n",
       "\n",
       "    .dataframe tbody tr th {\n",
       "        vertical-align: top;\n",
       "    }\n",
       "\n",
       "    .dataframe thead th {\n",
       "        text-align: right;\n",
       "    }\n",
       "</style>\n",
       "<table border=\"1\" class=\"dataframe\">\n",
       "  <thead>\n",
       "    <tr style=\"text-align: right;\">\n",
       "      <th></th>\n",
       "      <th>property_id</th>\n",
       "      <th>property_name</th>\n",
       "      <th>address</th>\n",
       "      <th>city</th>\n",
       "      <th>state_name</th>\n",
       "      <th>latitude</th>\n",
       "      <th>longitude</th>\n",
       "    </tr>\n",
       "  </thead>\n",
       "  <tbody>\n",
       "    <tr>\n",
       "      <th>0</th>\n",
       "      <td>800006929</td>\n",
       "      <td>PARKVIEW APARTMENTS I</td>\n",
       "      <td>1334 Memorial Ln</td>\n",
       "      <td>Huntington</td>\n",
       "      <td>IN</td>\n",
       "      <td>40.879551</td>\n",
       "      <td>-85.513695</td>\n",
       "    </tr>\n",
       "    <tr>\n",
       "      <th>1</th>\n",
       "      <td>800005604</td>\n",
       "      <td>Maple West Apartments</td>\n",
       "      <td>350 W Maple St</td>\n",
       "      <td>Pocatello</td>\n",
       "      <td>ID</td>\n",
       "      <td>42.880722</td>\n",
       "      <td>-112.454483</td>\n",
       "    </tr>\n",
       "    <tr>\n",
       "      <th>2</th>\n",
       "      <td>800001529</td>\n",
       "      <td>FOSTER AVE APTS</td>\n",
       "      <td>13630 Foster Ave</td>\n",
       "      <td>Baldwin Park</td>\n",
       "      <td>CA</td>\n",
       "      <td>34.074928</td>\n",
       "      <td>-117.976234</td>\n",
       "    </tr>\n",
       "    <tr>\n",
       "      <th>3</th>\n",
       "      <td>800027853</td>\n",
       "      <td>ST. LUKE RESIDENTIAL H.C.F.</td>\n",
       "      <td>299 E River Rd</td>\n",
       "      <td>Oswego</td>\n",
       "      <td>NY</td>\n",
       "      <td>43.444981</td>\n",
       "      <td>-76.493813</td>\n",
       "    </tr>\n",
       "    <tr>\n",
       "      <th>4</th>\n",
       "      <td>800225287</td>\n",
       "      <td>Adams Street Place</td>\n",
       "      <td>1024 Adams St</td>\n",
       "      <td>Jefferson City</td>\n",
       "      <td>MO</td>\n",
       "      <td>38.566467</td>\n",
       "      <td>-92.177773</td>\n",
       "    </tr>\n",
       "  </tbody>\n",
       "</table>\n",
       "</div>"
      ],
      "text/plain": [
       "   property_id                property_name           address            city  \\\n",
       "0    800006929        PARKVIEW APARTMENTS I  1334 Memorial Ln      Huntington   \n",
       "1    800005604        Maple West Apartments    350 W Maple St       Pocatello   \n",
       "2    800001529              FOSTER AVE APTS  13630 Foster Ave    Baldwin Park   \n",
       "3    800027853  ST. LUKE RESIDENTIAL H.C.F.    299 E River Rd          Oswego   \n",
       "4    800225287           Adams Street Place     1024 Adams St  Jefferson City   \n",
       "\n",
       "  state_name   latitude   longitude  \n",
       "0         IN  40.879551  -85.513695  \n",
       "1         ID  42.880722 -112.454483  \n",
       "2         CA  34.074928 -117.976234  \n",
       "3         NY  43.444981  -76.493813  \n",
       "4         MO  38.566467  -92.177773  "
      ]
     },
     "execution_count": 78,
     "metadata": {},
     "output_type": "execute_result"
    }
   ],
   "source": [
    "# US housing dataset\n",
    "print(f'Total Housing Locations: {len(h_df)}')\n",
    "h_df.head()"
   ]
  },
  {
   "cell_type": "markdown",
   "id": "ec46adfe",
   "metadata": {},
   "source": [
    "## Brute force method to find nearest starbucks to each house"
   ]
  },
  {
   "cell_type": "code",
   "execution_count": 79,
   "id": "ccfe643d",
   "metadata": {},
   "outputs": [],
   "source": [
    "# This function is the brute force method to find the nearest point to each point in two arrays\n",
    "# It runs at O^n2...\n",
    "\n",
    "def nearest_locations_pairwise(df1, df2):\n",
    "    '''\n",
    "    df1 is the dataframe you want to append the nearest starbucks to\n",
    "    df2 is the dataframe with all starbucks locations\n",
    "    '''\n",
    "    # make a copy of dfs since we will be modifying them\n",
    "    houses_df = df1\n",
    "    starbucks_df = df2\n",
    "\n",
    "    # add columns to convert latitude and longitude to radians\n",
    "    houses_df[['lat_radians', 'long_radians']] = (np.radians(houses_df.loc[:, ['latitude', 'longitude']]))\n",
    "    starbucks_df[['sb_lat_radians', 'sb_long_radians']] = (np.radians(starbucks_df.loc[:, ['store_lat', 'store_long']]))\n",
    "\n",
    "    # use Haversine distance since earth is sphere\n",
    "    dist = DistanceMetric.get_metric('haversine')\n",
    "\n",
    "    # 3959 is the radius of the earth in miles, multiply to convert radians to miles\n",
    "    dist_matrix = (dist.pairwise(houses_df[['lat_radians','long_radians']],\n",
    "                                 starbucks_df[['sb_lat_radians','sb_long_radians']])*3959)\n",
    "\n",
    "    # resultant df is a matrix of distances between all houses and starbucks stores\n",
    "    distances_df = (pd.DataFrame(dist_matrix, \n",
    "                                 index=houses_df['property_id'], \n",
    "                                 columns=starbucks_df['starbucks_id']))\n",
    "    \n",
    "    # Unpivot above dataframe from wide format to long format.\n",
    "    distances_df = (pd.melt(distances_df.reset_index(), id_vars='property_id'))\n",
    "    \n",
    "    # When you unpivot, the data in the pivot table becomes a column named 'value'. \n",
    "    # Rename this column to 'miles' for clarity.\n",
    "    distances_df.rename(columns={'value':'miles'}, inplace=True)\n",
    "    \n",
    "    # Sort all location pairs by distance, keep the closest distance.\n",
    "    distances_df.sort_values(['property_id', 'miles'], ascending=[False, True], inplace=True)\n",
    "    distances_df.drop_duplicates(subset=['property_id'], keep='first', inplace=True)\n",
    "    distances_df.reset_index(drop=True, inplace=True)\n",
    "    \n",
    "    # Merge df with distance pairs back into original df\n",
    "    merged_df = houses_df.merge(distances_df, on='property_id')\n",
    "    merged_df.rename(columns={'miles': 'closest_starbucks (mi)'}, inplace=True)\n",
    "    \n",
    "    return merged_df"
   ]
  },
  {
   "cell_type": "code",
   "execution_count": 80,
   "id": "71db435f",
   "metadata": {},
   "outputs": [
    {
     "name": "stdout",
     "output_type": "stream",
     "text": [
      "CPU times: total: 0 ns\n",
      "Wall time: 0 ns\n"
     ]
    }
   ],
   "source": [
    "%%time \n",
    "# current fastest runtime 20:24\n",
    "pairwise_df = nearest_locations_pairwise(h_df, sb_df)"
   ]
  },
  {
   "cell_type": "code",
   "execution_count": 81,
   "id": "98bb9be0",
   "metadata": {},
   "outputs": [],
   "source": [
    "# Avg distance to a starbucks nationwide = 8.15 miles\n",
    "print(f'Avg distance to a starbucks nationwide: {pairwise_df[\"closest_starbucks (mi)\"].mean()}')\n",
    "pairwise_df.head()"
   ]
  },
  {
   "cell_type": "markdown",
   "id": "f4c9909e",
   "metadata": {},
   "source": [
    "## Ball tree method to find nearest starbucks to each house"
   ]
  },
  {
   "cell_type": "code",
   "execution_count": 82,
   "id": "bb1877b4",
   "metadata": {},
   "outputs": [],
   "source": [
    "def nearest_locations_balltree(df1, df2):\n",
    "    # make a copy of dfs since we will be modifying them\n",
    "    houses_df = df1.copy()\n",
    "    starbucks_df = df2.copy()\n",
    "\n",
    "    # add columns to convert latitude and longitude to radians\n",
    "    houses_df[['lat_radians', 'long_radians']] = (np.radians(houses_df.loc[:, ['latitude', 'longitude']]))\n",
    "    starbucks_df[['sb_lat_radians', 'sb_long_radians']] = (np.radians(starbucks_df.loc[:, ['store_lat', 'store_long']]))\n",
    "\n",
    "    # Construct ball tree with starbucks coordinates\n",
    "    ball = BallTree(starbucks_df[['sb_lat_radians', 'sb_long_radians']].values, metric='haversine')\n",
    "\n",
    "    # Execute query with the starbucks locations\n",
    "    dist, idx = ball.query(houses_df[['lat_radians', 'long_radians']].values, k=1)\n",
    "    # convert to miles x 3959\n",
    "    dist = dist * 3959\n",
    "\n",
    "    # get indices of nearest starbucks and merge with housing\n",
    "    starbucks_filtered = starbucks_df[['starbucks_id', 'store_name']]\n",
    "    sb_nearest = starbucks_filtered.iloc[np.squeeze(idx)]\n",
    "    \n",
    "    houses_filtered = houses_df.drop(columns=['latitude', 'longitude', 'lat_radians', 'long_radians'])\n",
    "    final_df = pd.concat([\n",
    "        houses_filtered.reset_index(drop=True), \n",
    "        sb_nearest.reset_index(drop=True), \n",
    "        pd.Series(np.squeeze(dist), name='closest_starbucks (mi)')\n",
    "    ], axis=1)\n",
    "\n",
    "    return final_df"
   ]
  },
  {
   "cell_type": "code",
   "execution_count": 83,
   "id": "4d0478e9",
   "metadata": {},
   "outputs": [
    {
     "name": "stdout",
     "output_type": "stream",
     "text": [
      "CPU times: total: 1.44 s\n",
      "Wall time: 1.44 s\n"
     ]
    }
   ],
   "source": [
    "%%time\n",
    "# current fastest runtime 00:01.44\n",
    "balltree_df = nearest_locations_balltree(h_df, sb_df)"
   ]
  },
  {
   "cell_type": "code",
   "execution_count": 84,
   "id": "ddfe3b0b",
   "metadata": {},
   "outputs": [
    {
     "name": "stdout",
     "output_type": "stream",
     "text": [
      "Avg distance to a starbucks nationwide: 8.149464937759666\n"
     ]
    },
    {
     "data": {
      "text/html": [
       "<div>\n",
       "<style scoped>\n",
       "    .dataframe tbody tr th:only-of-type {\n",
       "        vertical-align: middle;\n",
       "    }\n",
       "\n",
       "    .dataframe tbody tr th {\n",
       "        vertical-align: top;\n",
       "    }\n",
       "\n",
       "    .dataframe thead th {\n",
       "        text-align: right;\n",
       "    }\n",
       "</style>\n",
       "<table border=\"1\" class=\"dataframe\">\n",
       "  <thead>\n",
       "    <tr style=\"text-align: right;\">\n",
       "      <th></th>\n",
       "      <th>property_id</th>\n",
       "      <th>property_name</th>\n",
       "      <th>address</th>\n",
       "      <th>city</th>\n",
       "      <th>state_name</th>\n",
       "      <th>starbucks_id</th>\n",
       "      <th>store_name</th>\n",
       "      <th>closest_starbucks (mi)</th>\n",
       "    </tr>\n",
       "  </thead>\n",
       "  <tbody>\n",
       "    <tr>\n",
       "      <th>0</th>\n",
       "      <td>800006929</td>\n",
       "      <td>PARKVIEW APARTMENTS I</td>\n",
       "      <td>1334 Memorial Ln</td>\n",
       "      <td>Huntington</td>\n",
       "      <td>IN</td>\n",
       "      <td>1009517</td>\n",
       "      <td>Kroger - Ft Wayne #990</td>\n",
       "      <td>17.004137</td>\n",
       "    </tr>\n",
       "    <tr>\n",
       "      <th>1</th>\n",
       "      <td>800005604</td>\n",
       "      <td>Maple West Apartments</td>\n",
       "      <td>350 W Maple St</td>\n",
       "      <td>Pocatello</td>\n",
       "      <td>ID</td>\n",
       "      <td>7436</td>\n",
       "      <td>Fred Meyer-Pocatello #260</td>\n",
       "      <td>0.636020</td>\n",
       "    </tr>\n",
       "    <tr>\n",
       "      <th>2</th>\n",
       "      <td>800001529</td>\n",
       "      <td>FOSTER AVE APTS</td>\n",
       "      <td>13630 Foster Ave</td>\n",
       "      <td>Baldwin Park</td>\n",
       "      <td>CA</td>\n",
       "      <td>1015032</td>\n",
       "      <td>Target Baldwinpark T-1033</td>\n",
       "      <td>0.360616</td>\n",
       "    </tr>\n",
       "    <tr>\n",
       "      <th>3</th>\n",
       "      <td>800027853</td>\n",
       "      <td>ST. LUKE RESIDENTIAL H.C.F.</td>\n",
       "      <td>299 E River Rd</td>\n",
       "      <td>Oswego</td>\n",
       "      <td>NY</td>\n",
       "      <td>13542</td>\n",
       "      <td>Clay</td>\n",
       "      <td>25.169139</td>\n",
       "    </tr>\n",
       "    <tr>\n",
       "      <th>4</th>\n",
       "      <td>800225287</td>\n",
       "      <td>Adams Street Place</td>\n",
       "      <td>1024 Adams St</td>\n",
       "      <td>Jefferson City</td>\n",
       "      <td>MO</td>\n",
       "      <td>8388</td>\n",
       "      <td>Target Jefferson City T-752</td>\n",
       "      <td>2.160710</td>\n",
       "    </tr>\n",
       "  </tbody>\n",
       "</table>\n",
       "</div>"
      ],
      "text/plain": [
       "   property_id                property_name           address            city  \\\n",
       "0    800006929        PARKVIEW APARTMENTS I  1334 Memorial Ln      Huntington   \n",
       "1    800005604        Maple West Apartments    350 W Maple St       Pocatello   \n",
       "2    800001529              FOSTER AVE APTS  13630 Foster Ave    Baldwin Park   \n",
       "3    800027853  ST. LUKE RESIDENTIAL H.C.F.    299 E River Rd          Oswego   \n",
       "4    800225287           Adams Street Place     1024 Adams St  Jefferson City   \n",
       "\n",
       "  state_name  starbucks_id                   store_name  \\\n",
       "0         IN       1009517       Kroger - Ft Wayne #990   \n",
       "1         ID          7436    Fred Meyer-Pocatello #260   \n",
       "2         CA       1015032    Target Baldwinpark T-1033   \n",
       "3         NY         13542                         Clay   \n",
       "4         MO          8388  Target Jefferson City T-752   \n",
       "\n",
       "   closest_starbucks (mi)  \n",
       "0               17.004137  \n",
       "1                0.636020  \n",
       "2                0.360616  \n",
       "3               25.169139  \n",
       "4                2.160710  "
      ]
     },
     "execution_count": 84,
     "metadata": {},
     "output_type": "execute_result"
    }
   ],
   "source": [
    "# Avg distance to a starbucks nationwide = 8.15mi\n",
    "print(f'Avg distance to a starbucks nationwide: {balltree_df[\"closest_starbucks (mi)\"].mean()}')\n",
    "balltree_df.head()"
   ]
  },
  {
   "cell_type": "code",
   "execution_count": 85,
   "id": "58b27156",
   "metadata": {},
   "outputs": [],
   "source": [
    "(pairwise_df['closest_starbucks (mi)'] != balltree_df['closest_starbucks (mi)']).any()"
   ]
  }
 ],
 "metadata": {
  "kernelspec": {
   "display_name": "Python 3 (ipykernel)",
   "language": "python",
   "name": "python3"
  },
  "language_info": {
   "codemirror_mode": {
    "name": "ipython",
    "version": 3
   },
   "file_extension": ".py",
   "mimetype": "text/x-python",
   "name": "python",
   "nbconvert_exporter": "python",
   "pygments_lexer": "ipython3",
   "version": "3.10.6"
  },
  "vscode": {
   "interpreter": {
    "hash": "93028d5495cf3fdad3791cfb45569ed1ffef5b94a8e8037ba1bdda77d837769f"
   }
  }
 },
 "nbformat": 4,
 "nbformat_minor": 5
}
