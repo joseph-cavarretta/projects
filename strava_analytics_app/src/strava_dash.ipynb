{
 "cells": [
  {
   "cell_type": "code",
   "execution_count": 248,
   "metadata": {},
   "outputs": [],
   "source": [
    "import pandas as pd\n",
    "import plotly.express as px\n",
    "import plotly.graph_objects as go\n",
    "from dash import dash_table"
   ]
  },
  {
   "cell_type": "code",
   "execution_count": 198,
   "metadata": {},
   "outputs": [],
   "source": [
    "df = pd.read_csv('data/processed_activities.csv')\n",
    "# types to not want to include in rankings for distance and elevation\n",
    "omit_types = ['AlpineSki', 'WeightTraining', 'Swim', 'Workout', 'RockClimbing', 'Elliptical']\n",
    "aerobic_types = []"
   ]
  },
  {
   "cell_type": "code",
   "execution_count": 199,
   "metadata": {},
   "outputs": [
    {
     "data": {
      "text/html": [
       "<div>\n",
       "<style scoped>\n",
       "    .dataframe tbody tr th:only-of-type {\n",
       "        vertical-align: middle;\n",
       "    }\n",
       "\n",
       "    .dataframe tbody tr th {\n",
       "        vertical-align: top;\n",
       "    }\n",
       "\n",
       "    .dataframe thead th {\n",
       "        text-align: right;\n",
       "    }\n",
       "</style>\n",
       "<table border=\"1\" class=\"dataframe\">\n",
       "  <thead>\n",
       "    <tr style=\"text-align: right;\">\n",
       "      <th></th>\n",
       "      <th>name</th>\n",
       "      <th>type</th>\n",
       "      <th>start_date_local</th>\n",
       "      <th>total_elevation_gain</th>\n",
       "    </tr>\n",
       "  </thead>\n",
       "  <tbody>\n",
       "    <tr>\n",
       "      <th>1278</th>\n",
       "      <td>Grand Canyon R3</td>\n",
       "      <td>Run</td>\n",
       "      <td>2018-04-21</td>\n",
       "      <td>11538.71</td>\n",
       "    </tr>\n",
       "    <tr>\n",
       "      <th>606</th>\n",
       "      <td>Belford &amp; Oxford</td>\n",
       "      <td>Run</td>\n",
       "      <td>2020-06-07</td>\n",
       "      <td>8881.23</td>\n",
       "    </tr>\n",
       "    <tr>\n",
       "      <th>500</th>\n",
       "      <td>Bear Peak x3</td>\n",
       "      <td>Run</td>\n",
       "      <td>2020-11-21</td>\n",
       "      <td>8215.22</td>\n",
       "    </tr>\n",
       "    <tr>\n",
       "      <th>1138</th>\n",
       "      <td>The Bear 50k!</td>\n",
       "      <td>Run</td>\n",
       "      <td>2018-09-28</td>\n",
       "      <td>7742.78</td>\n",
       "    </tr>\n",
       "    <tr>\n",
       "      <th>1840</th>\n",
       "      <td>Hyner 50k</td>\n",
       "      <td>Run</td>\n",
       "      <td>2016-04-23</td>\n",
       "      <td>7437.66</td>\n",
       "    </tr>\n",
       "    <tr>\n",
       "      <th>1488</th>\n",
       "      <td>Pikes Peak Ascent</td>\n",
       "      <td>Run</td>\n",
       "      <td>2017-08-19</td>\n",
       "      <td>7089.90</td>\n",
       "    </tr>\n",
       "    <tr>\n",
       "      <th>1292</th>\n",
       "      <td>Sanitas x5</td>\n",
       "      <td>Run</td>\n",
       "      <td>2018-04-01</td>\n",
       "      <td>6706.04</td>\n",
       "    </tr>\n",
       "    <tr>\n",
       "      <th>1565</th>\n",
       "      <td>Mudfest #2 on the GRT. Redeemed!</td>\n",
       "      <td>Run</td>\n",
       "      <td>2017-05-13</td>\n",
       "      <td>6574.80</td>\n",
       "    </tr>\n",
       "    <tr>\n",
       "      <th>612</th>\n",
       "      <td>Goat Trail via Skyline</td>\n",
       "      <td>Run</td>\n",
       "      <td>2020-05-25</td>\n",
       "      <td>6236.88</td>\n",
       "    </tr>\n",
       "    <tr>\n",
       "      <th>506</th>\n",
       "      <td>Skyline</td>\n",
       "      <td>Run</td>\n",
       "      <td>2020-11-06</td>\n",
       "      <td>6184.38</td>\n",
       "    </tr>\n",
       "  </tbody>\n",
       "</table>\n",
       "</div>"
      ],
      "text/plain": [
       "                                  name type start_date_local  \\\n",
       "1278                   Grand Canyon R3  Run       2018-04-21   \n",
       "606                   Belford & Oxford  Run       2020-06-07   \n",
       "500                       Bear Peak x3  Run       2020-11-21   \n",
       "1138                     The Bear 50k!  Run       2018-09-28   \n",
       "1840                         Hyner 50k  Run       2016-04-23   \n",
       "1488                 Pikes Peak Ascent  Run       2017-08-19   \n",
       "1292                        Sanitas x5  Run       2018-04-01   \n",
       "1565  Mudfest #2 on the GRT. Redeemed!  Run       2017-05-13   \n",
       "612             Goat Trail via Skyline  Run       2020-05-25   \n",
       "506                            Skyline  Run       2020-11-06   \n",
       "\n",
       "      total_elevation_gain  \n",
       "1278              11538.71  \n",
       "606                8881.23  \n",
       "500                8215.22  \n",
       "1138               7742.78  \n",
       "1840               7437.66  \n",
       "1488               7089.90  \n",
       "1292               6706.04  \n",
       "1565               6574.80  \n",
       "612                6236.88  \n",
       "506                6184.38  "
      ]
     },
     "execution_count": 199,
     "metadata": {},
     "output_type": "execute_result"
    }
   ],
   "source": [
    "# Top 10 elevation overall\n",
    "cols = ['name', 'type', 'start_date_local', 'total_elevation_gain']\n",
    "df.loc[~df.type.isin(omit_types), cols].sort_values(by='total_elevation_gain', ascending=False).head(10)"
   ]
  },
  {
   "cell_type": "code",
   "execution_count": 200,
   "metadata": {},
   "outputs": [
    {
     "data": {
      "text/html": [
       "<div>\n",
       "<style scoped>\n",
       "    .dataframe tbody tr th:only-of-type {\n",
       "        vertical-align: middle;\n",
       "    }\n",
       "\n",
       "    .dataframe tbody tr th {\n",
       "        vertical-align: top;\n",
       "    }\n",
       "\n",
       "    .dataframe thead th {\n",
       "        text-align: right;\n",
       "    }\n",
       "</style>\n",
       "<table border=\"1\" class=\"dataframe\">\n",
       "  <thead>\n",
       "    <tr style=\"text-align: right;\">\n",
       "      <th></th>\n",
       "      <th>name</th>\n",
       "      <th>type</th>\n",
       "      <th>start_date_local</th>\n",
       "      <th>miles</th>\n",
       "    </tr>\n",
       "  </thead>\n",
       "  <tbody>\n",
       "    <tr>\n",
       "      <th>1565</th>\n",
       "      <td>Mudfest #2 on the GRT. Redeemed!</td>\n",
       "      <td>Run</td>\n",
       "      <td>2017-05-13</td>\n",
       "      <td>49.55</td>\n",
       "    </tr>\n",
       "    <tr>\n",
       "      <th>1278</th>\n",
       "      <td>Grand Canyon R3</td>\n",
       "      <td>Run</td>\n",
       "      <td>2018-04-21</td>\n",
       "      <td>47.09</td>\n",
       "    </tr>\n",
       "    <tr>\n",
       "      <th>1835</th>\n",
       "      <td>GRT 50Mile. DNF'D at mile 40 due to injury.</td>\n",
       "      <td>Run</td>\n",
       "      <td>2016-05-14</td>\n",
       "      <td>39.16</td>\n",
       "    </tr>\n",
       "    <tr>\n",
       "      <th>1474</th>\n",
       "      <td>Crested Butte Ultra. Body quit. Brain did not.</td>\n",
       "      <td>Run</td>\n",
       "      <td>2017-09-09</td>\n",
       "      <td>35.19</td>\n",
       "    </tr>\n",
       "    <tr>\n",
       "      <th>1138</th>\n",
       "      <td>The Bear 50k!</td>\n",
       "      <td>Run</td>\n",
       "      <td>2018-09-28</td>\n",
       "      <td>30.05</td>\n",
       "    </tr>\n",
       "    <tr>\n",
       "      <th>1840</th>\n",
       "      <td>Hyner 50k</td>\n",
       "      <td>Run</td>\n",
       "      <td>2016-04-23</td>\n",
       "      <td>29.66</td>\n",
       "    </tr>\n",
       "    <tr>\n",
       "      <th>1727</th>\n",
       "      <td>Moab 50K.</td>\n",
       "      <td>Run</td>\n",
       "      <td>2016-11-19</td>\n",
       "      <td>29.35</td>\n",
       "    </tr>\n",
       "    <tr>\n",
       "      <th>1853</th>\n",
       "      <td>Morning Run</td>\n",
       "      <td>Run</td>\n",
       "      <td>2016-03-26</td>\n",
       "      <td>24.00</td>\n",
       "    </tr>\n",
       "    <tr>\n",
       "      <th>1779</th>\n",
       "      <td>RRR pacing Tomas</td>\n",
       "      <td>Run</td>\n",
       "      <td>2016-09-16</td>\n",
       "      <td>21.28</td>\n",
       "    </tr>\n",
       "    <tr>\n",
       "      <th>1579</th>\n",
       "      <td>Gold Hill. In honor of Hyner.</td>\n",
       "      <td>Run</td>\n",
       "      <td>2017-04-22</td>\n",
       "      <td>21.02</td>\n",
       "    </tr>\n",
       "  </tbody>\n",
       "</table>\n",
       "</div>"
      ],
      "text/plain": [
       "                                                name type start_date_local  \\\n",
       "1565                Mudfest #2 on the GRT. Redeemed!  Run       2017-05-13   \n",
       "1278                                 Grand Canyon R3  Run       2018-04-21   \n",
       "1835     GRT 50Mile. DNF'D at mile 40 due to injury.  Run       2016-05-14   \n",
       "1474  Crested Butte Ultra. Body quit. Brain did not.  Run       2017-09-09   \n",
       "1138                                   The Bear 50k!  Run       2018-09-28   \n",
       "1840                                       Hyner 50k  Run       2016-04-23   \n",
       "1727                                      Moab 50K.   Run       2016-11-19   \n",
       "1853                                     Morning Run  Run       2016-03-26   \n",
       "1779                                RRR pacing Tomas  Run       2016-09-16   \n",
       "1579                   Gold Hill. In honor of Hyner.  Run       2017-04-22   \n",
       "\n",
       "      miles  \n",
       "1565  49.55  \n",
       "1278  47.09  \n",
       "1835  39.16  \n",
       "1474  35.19  \n",
       "1138  30.05  \n",
       "1840  29.66  \n",
       "1727  29.35  \n",
       "1853  24.00  \n",
       "1779  21.28  \n",
       "1579  21.02  "
      ]
     },
     "execution_count": 200,
     "metadata": {},
     "output_type": "execute_result"
    }
   ],
   "source": [
    "# Top 10 run distances\n",
    "cols = ['name', 'type', 'start_date_local', 'miles']\n",
    "df.loc[df.type=='Run', cols].sort_values(by='miles', ascending=False).head(10)"
   ]
  },
  {
   "cell_type": "code",
   "execution_count": 201,
   "metadata": {},
   "outputs": [
    {
     "data": {
      "text/html": [
       "<div>\n",
       "<style scoped>\n",
       "    .dataframe tbody tr th:only-of-type {\n",
       "        vertical-align: middle;\n",
       "    }\n",
       "\n",
       "    .dataframe tbody tr th {\n",
       "        vertical-align: top;\n",
       "    }\n",
       "\n",
       "    .dataframe thead th {\n",
       "        text-align: right;\n",
       "    }\n",
       "</style>\n",
       "<table border=\"1\" class=\"dataframe\">\n",
       "  <thead>\n",
       "    <tr style=\"text-align: right;\">\n",
       "      <th></th>\n",
       "      <th>name</th>\n",
       "      <th>type</th>\n",
       "      <th>start_date_local</th>\n",
       "      <th>miles</th>\n",
       "    </tr>\n",
       "  </thead>\n",
       "  <tbody>\n",
       "    <tr>\n",
       "      <th>426</th>\n",
       "      <td>Moab Cruisin</td>\n",
       "      <td>Ride</td>\n",
       "      <td>2021-03-27</td>\n",
       "      <td>86.67</td>\n",
       "    </tr>\n",
       "    <tr>\n",
       "      <th>1130</th>\n",
       "      <td>Lost in Denver with Eric</td>\n",
       "      <td>Ride</td>\n",
       "      <td>2018-10-13</td>\n",
       "      <td>52.53</td>\n",
       "    </tr>\n",
       "    <tr>\n",
       "      <th>807</th>\n",
       "      <td>I said hard times! They're just an old friend ...</td>\n",
       "      <td>Ride</td>\n",
       "      <td>2019-09-21</td>\n",
       "      <td>42.25</td>\n",
       "    </tr>\n",
       "    <tr>\n",
       "      <th>1347</th>\n",
       "      <td>Tour of Sufferlandria Stage 1: Who Dares + The...</td>\n",
       "      <td>Ride</td>\n",
       "      <td>2018-02-03</td>\n",
       "      <td>40.00</td>\n",
       "    </tr>\n",
       "    <tr>\n",
       "      <th>331</th>\n",
       "      <td>EVO: to &amp; fro'</td>\n",
       "      <td>Ride</td>\n",
       "      <td>2021-08-14</td>\n",
       "      <td>34.20</td>\n",
       "    </tr>\n",
       "    <tr>\n",
       "      <th>822</th>\n",
       "      <td>Black Project</td>\n",
       "      <td>Ride</td>\n",
       "      <td>2019-09-07</td>\n",
       "      <td>33.75</td>\n",
       "    </tr>\n",
       "    <tr>\n",
       "      <th>129</th>\n",
       "      <td>Hero Sand w/Jason</td>\n",
       "      <td>Ride</td>\n",
       "      <td>2022-05-14</td>\n",
       "      <td>32.05</td>\n",
       "    </tr>\n",
       "    <tr>\n",
       "      <th>128</th>\n",
       "      <td>Morning Ride</td>\n",
       "      <td>Ride</td>\n",
       "      <td>2022-05-14</td>\n",
       "      <td>32.03</td>\n",
       "    </tr>\n",
       "    <tr>\n",
       "      <th>1110</th>\n",
       "      <td>Afternoon Ride</td>\n",
       "      <td>Ride</td>\n",
       "      <td>2018-10-29</td>\n",
       "      <td>31.60</td>\n",
       "    </tr>\n",
       "    <tr>\n",
       "      <th>1606</th>\n",
       "      <td>29'n SoBo Creek-&gt;Dirty B-&gt;Doudy</td>\n",
       "      <td>Ride</td>\n",
       "      <td>2017-03-25</td>\n",
       "      <td>31.11</td>\n",
       "    </tr>\n",
       "  </tbody>\n",
       "</table>\n",
       "</div>"
      ],
      "text/plain": [
       "                                                   name  type  \\\n",
       "426                                        Moab Cruisin  Ride   \n",
       "1130                           Lost in Denver with Eric  Ride   \n",
       "807   I said hard times! They're just an old friend ...  Ride   \n",
       "1347  Tour of Sufferlandria Stage 1: Who Dares + The...  Ride   \n",
       "331                                      EVO: to & fro'  Ride   \n",
       "822                                       Black Project  Ride   \n",
       "129                                   Hero Sand w/Jason  Ride   \n",
       "128                                        Morning Ride  Ride   \n",
       "1110                                     Afternoon Ride  Ride   \n",
       "1606                    29'n SoBo Creek->Dirty B->Doudy  Ride   \n",
       "\n",
       "     start_date_local  miles  \n",
       "426        2021-03-27  86.67  \n",
       "1130       2018-10-13  52.53  \n",
       "807        2019-09-21  42.25  \n",
       "1347       2018-02-03  40.00  \n",
       "331        2021-08-14  34.20  \n",
       "822        2019-09-07  33.75  \n",
       "129        2022-05-14  32.05  \n",
       "128        2022-05-14  32.03  \n",
       "1110       2018-10-29  31.60  \n",
       "1606       2017-03-25  31.11  "
      ]
     },
     "execution_count": 201,
     "metadata": {},
     "output_type": "execute_result"
    }
   ],
   "source": [
    "# Top 10 bike distances\n",
    "cols = ['name', 'type', 'start_date_local', 'miles']\n",
    "df.loc[df.type=='Ride', cols].sort_values(by='miles', ascending=False).head(10)"
   ]
  },
  {
   "cell_type": "code",
   "execution_count": 203,
   "metadata": {},
   "outputs": [
    {
     "data": {
      "application/vnd.plotly.v1+json": {
       "config": {
        "plotlyServerURL": "https://plot.ly"
       },
       "data": [
        {
         "alignmentgroup": "True",
         "hovertemplate": "year_week=%{x}<br>hours=%{y}<extra></extra>",
         "legendgroup": "",
         "marker": {
          "color": "#636efa",
          "pattern": {
           "shape": ""
          }
         },
         "name": "",
         "offsetgroup": "",
         "orientation": "v",
         "showlegend": false,
         "textposition": "auto",
         "type": "bar",
         "x": [
          "2022-29",
          "2022-30",
          "2022-31",
          "2022-32",
          "2022-33",
          "2022-34",
          "2022-35",
          "2022-36",
          "2022-37",
          "2022-38",
          "2022-39",
          "2022-40",
          "2022-41",
          "2022-42",
          "2022-43",
          "2022-44",
          "2022-45",
          "2022-46",
          "2022-47",
          "2022-48"
         ],
         "xaxis": "x",
         "y": [
          9.61,
          7.800000000000001,
          4.05,
          0.51,
          8.93,
          3.82,
          5.5,
          0.61,
          5.859999999999999,
          7.1899999999999995,
          3.81,
          8.67,
          6.430000000000001,
          2.71,
          2.52,
          1.48,
          5.37,
          4.8100000000000005,
          3.76,
          3.91
         ],
         "yaxis": "y"
        }
       ],
       "layout": {
        "barmode": "relative",
        "legend": {
         "tracegroupgap": 0
        },
        "template": {
         "data": {
          "bar": [
           {
            "error_x": {
             "color": "#2a3f5f"
            },
            "error_y": {
             "color": "#2a3f5f"
            },
            "marker": {
             "line": {
              "color": "#E5ECF6",
              "width": 0.5
             },
             "pattern": {
              "fillmode": "overlay",
              "size": 10,
              "solidity": 0.2
             }
            },
            "type": "bar"
           }
          ],
          "barpolar": [
           {
            "marker": {
             "line": {
              "color": "#E5ECF6",
              "width": 0.5
             },
             "pattern": {
              "fillmode": "overlay",
              "size": 10,
              "solidity": 0.2
             }
            },
            "type": "barpolar"
           }
          ],
          "carpet": [
           {
            "aaxis": {
             "endlinecolor": "#2a3f5f",
             "gridcolor": "white",
             "linecolor": "white",
             "minorgridcolor": "white",
             "startlinecolor": "#2a3f5f"
            },
            "baxis": {
             "endlinecolor": "#2a3f5f",
             "gridcolor": "white",
             "linecolor": "white",
             "minorgridcolor": "white",
             "startlinecolor": "#2a3f5f"
            },
            "type": "carpet"
           }
          ],
          "choropleth": [
           {
            "colorbar": {
             "outlinewidth": 0,
             "ticks": ""
            },
            "type": "choropleth"
           }
          ],
          "contour": [
           {
            "colorbar": {
             "outlinewidth": 0,
             "ticks": ""
            },
            "colorscale": [
             [
              0,
              "#0d0887"
             ],
             [
              0.1111111111111111,
              "#46039f"
             ],
             [
              0.2222222222222222,
              "#7201a8"
             ],
             [
              0.3333333333333333,
              "#9c179e"
             ],
             [
              0.4444444444444444,
              "#bd3786"
             ],
             [
              0.5555555555555556,
              "#d8576b"
             ],
             [
              0.6666666666666666,
              "#ed7953"
             ],
             [
              0.7777777777777778,
              "#fb9f3a"
             ],
             [
              0.8888888888888888,
              "#fdca26"
             ],
             [
              1,
              "#f0f921"
             ]
            ],
            "type": "contour"
           }
          ],
          "contourcarpet": [
           {
            "colorbar": {
             "outlinewidth": 0,
             "ticks": ""
            },
            "type": "contourcarpet"
           }
          ],
          "heatmap": [
           {
            "colorbar": {
             "outlinewidth": 0,
             "ticks": ""
            },
            "colorscale": [
             [
              0,
              "#0d0887"
             ],
             [
              0.1111111111111111,
              "#46039f"
             ],
             [
              0.2222222222222222,
              "#7201a8"
             ],
             [
              0.3333333333333333,
              "#9c179e"
             ],
             [
              0.4444444444444444,
              "#bd3786"
             ],
             [
              0.5555555555555556,
              "#d8576b"
             ],
             [
              0.6666666666666666,
              "#ed7953"
             ],
             [
              0.7777777777777778,
              "#fb9f3a"
             ],
             [
              0.8888888888888888,
              "#fdca26"
             ],
             [
              1,
              "#f0f921"
             ]
            ],
            "type": "heatmap"
           }
          ],
          "heatmapgl": [
           {
            "colorbar": {
             "outlinewidth": 0,
             "ticks": ""
            },
            "colorscale": [
             [
              0,
              "#0d0887"
             ],
             [
              0.1111111111111111,
              "#46039f"
             ],
             [
              0.2222222222222222,
              "#7201a8"
             ],
             [
              0.3333333333333333,
              "#9c179e"
             ],
             [
              0.4444444444444444,
              "#bd3786"
             ],
             [
              0.5555555555555556,
              "#d8576b"
             ],
             [
              0.6666666666666666,
              "#ed7953"
             ],
             [
              0.7777777777777778,
              "#fb9f3a"
             ],
             [
              0.8888888888888888,
              "#fdca26"
             ],
             [
              1,
              "#f0f921"
             ]
            ],
            "type": "heatmapgl"
           }
          ],
          "histogram": [
           {
            "marker": {
             "pattern": {
              "fillmode": "overlay",
              "size": 10,
              "solidity": 0.2
             }
            },
            "type": "histogram"
           }
          ],
          "histogram2d": [
           {
            "colorbar": {
             "outlinewidth": 0,
             "ticks": ""
            },
            "colorscale": [
             [
              0,
              "#0d0887"
             ],
             [
              0.1111111111111111,
              "#46039f"
             ],
             [
              0.2222222222222222,
              "#7201a8"
             ],
             [
              0.3333333333333333,
              "#9c179e"
             ],
             [
              0.4444444444444444,
              "#bd3786"
             ],
             [
              0.5555555555555556,
              "#d8576b"
             ],
             [
              0.6666666666666666,
              "#ed7953"
             ],
             [
              0.7777777777777778,
              "#fb9f3a"
             ],
             [
              0.8888888888888888,
              "#fdca26"
             ],
             [
              1,
              "#f0f921"
             ]
            ],
            "type": "histogram2d"
           }
          ],
          "histogram2dcontour": [
           {
            "colorbar": {
             "outlinewidth": 0,
             "ticks": ""
            },
            "colorscale": [
             [
              0,
              "#0d0887"
             ],
             [
              0.1111111111111111,
              "#46039f"
             ],
             [
              0.2222222222222222,
              "#7201a8"
             ],
             [
              0.3333333333333333,
              "#9c179e"
             ],
             [
              0.4444444444444444,
              "#bd3786"
             ],
             [
              0.5555555555555556,
              "#d8576b"
             ],
             [
              0.6666666666666666,
              "#ed7953"
             ],
             [
              0.7777777777777778,
              "#fb9f3a"
             ],
             [
              0.8888888888888888,
              "#fdca26"
             ],
             [
              1,
              "#f0f921"
             ]
            ],
            "type": "histogram2dcontour"
           }
          ],
          "mesh3d": [
           {
            "colorbar": {
             "outlinewidth": 0,
             "ticks": ""
            },
            "type": "mesh3d"
           }
          ],
          "parcoords": [
           {
            "line": {
             "colorbar": {
              "outlinewidth": 0,
              "ticks": ""
             }
            },
            "type": "parcoords"
           }
          ],
          "pie": [
           {
            "automargin": true,
            "type": "pie"
           }
          ],
          "scatter": [
           {
            "fillpattern": {
             "fillmode": "overlay",
             "size": 10,
             "solidity": 0.2
            },
            "type": "scatter"
           }
          ],
          "scatter3d": [
           {
            "line": {
             "colorbar": {
              "outlinewidth": 0,
              "ticks": ""
             }
            },
            "marker": {
             "colorbar": {
              "outlinewidth": 0,
              "ticks": ""
             }
            },
            "type": "scatter3d"
           }
          ],
          "scattercarpet": [
           {
            "marker": {
             "colorbar": {
              "outlinewidth": 0,
              "ticks": ""
             }
            },
            "type": "scattercarpet"
           }
          ],
          "scattergeo": [
           {
            "marker": {
             "colorbar": {
              "outlinewidth": 0,
              "ticks": ""
             }
            },
            "type": "scattergeo"
           }
          ],
          "scattergl": [
           {
            "marker": {
             "colorbar": {
              "outlinewidth": 0,
              "ticks": ""
             }
            },
            "type": "scattergl"
           }
          ],
          "scattermapbox": [
           {
            "marker": {
             "colorbar": {
              "outlinewidth": 0,
              "ticks": ""
             }
            },
            "type": "scattermapbox"
           }
          ],
          "scatterpolar": [
           {
            "marker": {
             "colorbar": {
              "outlinewidth": 0,
              "ticks": ""
             }
            },
            "type": "scatterpolar"
           }
          ],
          "scatterpolargl": [
           {
            "marker": {
             "colorbar": {
              "outlinewidth": 0,
              "ticks": ""
             }
            },
            "type": "scatterpolargl"
           }
          ],
          "scatterternary": [
           {
            "marker": {
             "colorbar": {
              "outlinewidth": 0,
              "ticks": ""
             }
            },
            "type": "scatterternary"
           }
          ],
          "surface": [
           {
            "colorbar": {
             "outlinewidth": 0,
             "ticks": ""
            },
            "colorscale": [
             [
              0,
              "#0d0887"
             ],
             [
              0.1111111111111111,
              "#46039f"
             ],
             [
              0.2222222222222222,
              "#7201a8"
             ],
             [
              0.3333333333333333,
              "#9c179e"
             ],
             [
              0.4444444444444444,
              "#bd3786"
             ],
             [
              0.5555555555555556,
              "#d8576b"
             ],
             [
              0.6666666666666666,
              "#ed7953"
             ],
             [
              0.7777777777777778,
              "#fb9f3a"
             ],
             [
              0.8888888888888888,
              "#fdca26"
             ],
             [
              1,
              "#f0f921"
             ]
            ],
            "type": "surface"
           }
          ],
          "table": [
           {
            "cells": {
             "fill": {
              "color": "#EBF0F8"
             },
             "line": {
              "color": "white"
             }
            },
            "header": {
             "fill": {
              "color": "#C8D4E3"
             },
             "line": {
              "color": "white"
             }
            },
            "type": "table"
           }
          ]
         },
         "layout": {
          "annotationdefaults": {
           "arrowcolor": "#2a3f5f",
           "arrowhead": 0,
           "arrowwidth": 1
          },
          "autotypenumbers": "strict",
          "coloraxis": {
           "colorbar": {
            "outlinewidth": 0,
            "ticks": ""
           }
          },
          "colorscale": {
           "diverging": [
            [
             0,
             "#8e0152"
            ],
            [
             0.1,
             "#c51b7d"
            ],
            [
             0.2,
             "#de77ae"
            ],
            [
             0.3,
             "#f1b6da"
            ],
            [
             0.4,
             "#fde0ef"
            ],
            [
             0.5,
             "#f7f7f7"
            ],
            [
             0.6,
             "#e6f5d0"
            ],
            [
             0.7,
             "#b8e186"
            ],
            [
             0.8,
             "#7fbc41"
            ],
            [
             0.9,
             "#4d9221"
            ],
            [
             1,
             "#276419"
            ]
           ],
           "sequential": [
            [
             0,
             "#0d0887"
            ],
            [
             0.1111111111111111,
             "#46039f"
            ],
            [
             0.2222222222222222,
             "#7201a8"
            ],
            [
             0.3333333333333333,
             "#9c179e"
            ],
            [
             0.4444444444444444,
             "#bd3786"
            ],
            [
             0.5555555555555556,
             "#d8576b"
            ],
            [
             0.6666666666666666,
             "#ed7953"
            ],
            [
             0.7777777777777778,
             "#fb9f3a"
            ],
            [
             0.8888888888888888,
             "#fdca26"
            ],
            [
             1,
             "#f0f921"
            ]
           ],
           "sequentialminus": [
            [
             0,
             "#0d0887"
            ],
            [
             0.1111111111111111,
             "#46039f"
            ],
            [
             0.2222222222222222,
             "#7201a8"
            ],
            [
             0.3333333333333333,
             "#9c179e"
            ],
            [
             0.4444444444444444,
             "#bd3786"
            ],
            [
             0.5555555555555556,
             "#d8576b"
            ],
            [
             0.6666666666666666,
             "#ed7953"
            ],
            [
             0.7777777777777778,
             "#fb9f3a"
            ],
            [
             0.8888888888888888,
             "#fdca26"
            ],
            [
             1,
             "#f0f921"
            ]
           ]
          },
          "colorway": [
           "#636efa",
           "#EF553B",
           "#00cc96",
           "#ab63fa",
           "#FFA15A",
           "#19d3f3",
           "#FF6692",
           "#B6E880",
           "#FF97FF",
           "#FECB52"
          ],
          "font": {
           "color": "#2a3f5f"
          },
          "geo": {
           "bgcolor": "white",
           "lakecolor": "white",
           "landcolor": "#E5ECF6",
           "showlakes": true,
           "showland": true,
           "subunitcolor": "white"
          },
          "hoverlabel": {
           "align": "left"
          },
          "hovermode": "closest",
          "mapbox": {
           "style": "light"
          },
          "paper_bgcolor": "white",
          "plot_bgcolor": "#E5ECF6",
          "polar": {
           "angularaxis": {
            "gridcolor": "white",
            "linecolor": "white",
            "ticks": ""
           },
           "bgcolor": "#E5ECF6",
           "radialaxis": {
            "gridcolor": "white",
            "linecolor": "white",
            "ticks": ""
           }
          },
          "scene": {
           "xaxis": {
            "backgroundcolor": "#E5ECF6",
            "gridcolor": "white",
            "gridwidth": 2,
            "linecolor": "white",
            "showbackground": true,
            "ticks": "",
            "zerolinecolor": "white"
           },
           "yaxis": {
            "backgroundcolor": "#E5ECF6",
            "gridcolor": "white",
            "gridwidth": 2,
            "linecolor": "white",
            "showbackground": true,
            "ticks": "",
            "zerolinecolor": "white"
           },
           "zaxis": {
            "backgroundcolor": "#E5ECF6",
            "gridcolor": "white",
            "gridwidth": 2,
            "linecolor": "white",
            "showbackground": true,
            "ticks": "",
            "zerolinecolor": "white"
           }
          },
          "shapedefaults": {
           "line": {
            "color": "#2a3f5f"
           }
          },
          "ternary": {
           "aaxis": {
            "gridcolor": "white",
            "linecolor": "white",
            "ticks": ""
           },
           "baxis": {
            "gridcolor": "white",
            "linecolor": "white",
            "ticks": ""
           },
           "bgcolor": "#E5ECF6",
           "caxis": {
            "gridcolor": "white",
            "linecolor": "white",
            "ticks": ""
           }
          },
          "title": {
           "x": 0.05
          },
          "xaxis": {
           "automargin": true,
           "gridcolor": "white",
           "linecolor": "white",
           "ticks": "",
           "title": {
            "standoff": 15
           },
           "zerolinecolor": "white",
           "zerolinewidth": 2
          },
          "yaxis": {
           "automargin": true,
           "gridcolor": "white",
           "linecolor": "white",
           "ticks": "",
           "title": {
            "standoff": 15
           },
           "zerolinecolor": "white",
           "zerolinewidth": 2
          }
         }
        },
        "title": {
         "text": "Aerobic Training Time Last 20 Weeks"
        },
        "xaxis": {
         "anchor": "y",
         "domain": [
          0,
          1
         ],
         "title": {
          "text": "year_week"
         }
        },
        "yaxis": {
         "anchor": "x",
         "domain": [
          0,
          1
         ],
         "title": {
          "text": "hours"
         }
        }
       }
      }
     },
     "metadata": {},
     "output_type": "display_data"
    }
   ],
   "source": [
    "# Bar chart of aerobic time for last 20 weeks\n",
    "df['year_week'] = df['year'].astype(str) + '-' + df['week'].astype(str).str.zfill(2)\n",
    "grouped_yr_wk = df.loc[~df.type.isin(omit_types)].groupby(['year_week']).agg({'hours': 'sum'}).sort_values(by='year_week', ascending=False).reset_index().head(20).sort_values(by='year_week', ascending=True)\n",
    "time_x_week_bar = px.bar(grouped_yr_wk,\n",
    "                          x=\"year_week\",\n",
    "                          y=\"hours\",\n",
    "                          title='Aerobic Training Time Last 20 Weeks'\n",
    "                         )\n",
    "\n",
    "time_x_week_bar.show()"
   ]
  },
  {
   "cell_type": "code",
   "execution_count": 204,
   "metadata": {},
   "outputs": [
    {
     "data": {
      "application/vnd.plotly.v1+json": {
       "config": {
        "plotlyServerURL": "https://plot.ly"
       },
       "data": [
        {
         "alignmentgroup": "True",
         "hovertemplate": "year_week=%{x}<br>hours=%{y}<extra></extra>",
         "legendgroup": "",
         "marker": {
          "color": "#636efa",
          "pattern": {
           "shape": ""
          }
         },
         "name": "",
         "offsetgroup": "",
         "orientation": "v",
         "showlegend": false,
         "textposition": "auto",
         "type": "bar",
         "x": [
          "2022-16",
          "2022-17",
          "2022-18",
          "2022-19",
          "2022-20",
          "2022-22",
          "2022-23",
          "2022-24",
          "2022-27",
          "2022-28",
          "2022-29",
          "2022-31",
          "2022-37",
          "2022-38",
          "2022-39",
          "2022-41",
          "2022-44",
          "2022-45",
          "2022-46",
          "2022-47"
         ],
         "xaxis": "x",
         "y": [
          1.5,
          2,
          0.5,
          1.25,
          0.67,
          0.75,
          0.75,
          0.83,
          0.5,
          1,
          0.5,
          0.67,
          0.67,
          1,
          2,
          0.67,
          1,
          1.75,
          1.75,
          0.83
         ],
         "yaxis": "y"
        }
       ],
       "layout": {
        "barmode": "relative",
        "legend": {
         "tracegroupgap": 0
        },
        "template": {
         "data": {
          "bar": [
           {
            "error_x": {
             "color": "#2a3f5f"
            },
            "error_y": {
             "color": "#2a3f5f"
            },
            "marker": {
             "line": {
              "color": "#E5ECF6",
              "width": 0.5
             },
             "pattern": {
              "fillmode": "overlay",
              "size": 10,
              "solidity": 0.2
             }
            },
            "type": "bar"
           }
          ],
          "barpolar": [
           {
            "marker": {
             "line": {
              "color": "#E5ECF6",
              "width": 0.5
             },
             "pattern": {
              "fillmode": "overlay",
              "size": 10,
              "solidity": 0.2
             }
            },
            "type": "barpolar"
           }
          ],
          "carpet": [
           {
            "aaxis": {
             "endlinecolor": "#2a3f5f",
             "gridcolor": "white",
             "linecolor": "white",
             "minorgridcolor": "white",
             "startlinecolor": "#2a3f5f"
            },
            "baxis": {
             "endlinecolor": "#2a3f5f",
             "gridcolor": "white",
             "linecolor": "white",
             "minorgridcolor": "white",
             "startlinecolor": "#2a3f5f"
            },
            "type": "carpet"
           }
          ],
          "choropleth": [
           {
            "colorbar": {
             "outlinewidth": 0,
             "ticks": ""
            },
            "type": "choropleth"
           }
          ],
          "contour": [
           {
            "colorbar": {
             "outlinewidth": 0,
             "ticks": ""
            },
            "colorscale": [
             [
              0,
              "#0d0887"
             ],
             [
              0.1111111111111111,
              "#46039f"
             ],
             [
              0.2222222222222222,
              "#7201a8"
             ],
             [
              0.3333333333333333,
              "#9c179e"
             ],
             [
              0.4444444444444444,
              "#bd3786"
             ],
             [
              0.5555555555555556,
              "#d8576b"
             ],
             [
              0.6666666666666666,
              "#ed7953"
             ],
             [
              0.7777777777777778,
              "#fb9f3a"
             ],
             [
              0.8888888888888888,
              "#fdca26"
             ],
             [
              1,
              "#f0f921"
             ]
            ],
            "type": "contour"
           }
          ],
          "contourcarpet": [
           {
            "colorbar": {
             "outlinewidth": 0,
             "ticks": ""
            },
            "type": "contourcarpet"
           }
          ],
          "heatmap": [
           {
            "colorbar": {
             "outlinewidth": 0,
             "ticks": ""
            },
            "colorscale": [
             [
              0,
              "#0d0887"
             ],
             [
              0.1111111111111111,
              "#46039f"
             ],
             [
              0.2222222222222222,
              "#7201a8"
             ],
             [
              0.3333333333333333,
              "#9c179e"
             ],
             [
              0.4444444444444444,
              "#bd3786"
             ],
             [
              0.5555555555555556,
              "#d8576b"
             ],
             [
              0.6666666666666666,
              "#ed7953"
             ],
             [
              0.7777777777777778,
              "#fb9f3a"
             ],
             [
              0.8888888888888888,
              "#fdca26"
             ],
             [
              1,
              "#f0f921"
             ]
            ],
            "type": "heatmap"
           }
          ],
          "heatmapgl": [
           {
            "colorbar": {
             "outlinewidth": 0,
             "ticks": ""
            },
            "colorscale": [
             [
              0,
              "#0d0887"
             ],
             [
              0.1111111111111111,
              "#46039f"
             ],
             [
              0.2222222222222222,
              "#7201a8"
             ],
             [
              0.3333333333333333,
              "#9c179e"
             ],
             [
              0.4444444444444444,
              "#bd3786"
             ],
             [
              0.5555555555555556,
              "#d8576b"
             ],
             [
              0.6666666666666666,
              "#ed7953"
             ],
             [
              0.7777777777777778,
              "#fb9f3a"
             ],
             [
              0.8888888888888888,
              "#fdca26"
             ],
             [
              1,
              "#f0f921"
             ]
            ],
            "type": "heatmapgl"
           }
          ],
          "histogram": [
           {
            "marker": {
             "pattern": {
              "fillmode": "overlay",
              "size": 10,
              "solidity": 0.2
             }
            },
            "type": "histogram"
           }
          ],
          "histogram2d": [
           {
            "colorbar": {
             "outlinewidth": 0,
             "ticks": ""
            },
            "colorscale": [
             [
              0,
              "#0d0887"
             ],
             [
              0.1111111111111111,
              "#46039f"
             ],
             [
              0.2222222222222222,
              "#7201a8"
             ],
             [
              0.3333333333333333,
              "#9c179e"
             ],
             [
              0.4444444444444444,
              "#bd3786"
             ],
             [
              0.5555555555555556,
              "#d8576b"
             ],
             [
              0.6666666666666666,
              "#ed7953"
             ],
             [
              0.7777777777777778,
              "#fb9f3a"
             ],
             [
              0.8888888888888888,
              "#fdca26"
             ],
             [
              1,
              "#f0f921"
             ]
            ],
            "type": "histogram2d"
           }
          ],
          "histogram2dcontour": [
           {
            "colorbar": {
             "outlinewidth": 0,
             "ticks": ""
            },
            "colorscale": [
             [
              0,
              "#0d0887"
             ],
             [
              0.1111111111111111,
              "#46039f"
             ],
             [
              0.2222222222222222,
              "#7201a8"
             ],
             [
              0.3333333333333333,
              "#9c179e"
             ],
             [
              0.4444444444444444,
              "#bd3786"
             ],
             [
              0.5555555555555556,
              "#d8576b"
             ],
             [
              0.6666666666666666,
              "#ed7953"
             ],
             [
              0.7777777777777778,
              "#fb9f3a"
             ],
             [
              0.8888888888888888,
              "#fdca26"
             ],
             [
              1,
              "#f0f921"
             ]
            ],
            "type": "histogram2dcontour"
           }
          ],
          "mesh3d": [
           {
            "colorbar": {
             "outlinewidth": 0,
             "ticks": ""
            },
            "type": "mesh3d"
           }
          ],
          "parcoords": [
           {
            "line": {
             "colorbar": {
              "outlinewidth": 0,
              "ticks": ""
             }
            },
            "type": "parcoords"
           }
          ],
          "pie": [
           {
            "automargin": true,
            "type": "pie"
           }
          ],
          "scatter": [
           {
            "fillpattern": {
             "fillmode": "overlay",
             "size": 10,
             "solidity": 0.2
            },
            "type": "scatter"
           }
          ],
          "scatter3d": [
           {
            "line": {
             "colorbar": {
              "outlinewidth": 0,
              "ticks": ""
             }
            },
            "marker": {
             "colorbar": {
              "outlinewidth": 0,
              "ticks": ""
             }
            },
            "type": "scatter3d"
           }
          ],
          "scattercarpet": [
           {
            "marker": {
             "colorbar": {
              "outlinewidth": 0,
              "ticks": ""
             }
            },
            "type": "scattercarpet"
           }
          ],
          "scattergeo": [
           {
            "marker": {
             "colorbar": {
              "outlinewidth": 0,
              "ticks": ""
             }
            },
            "type": "scattergeo"
           }
          ],
          "scattergl": [
           {
            "marker": {
             "colorbar": {
              "outlinewidth": 0,
              "ticks": ""
             }
            },
            "type": "scattergl"
           }
          ],
          "scattermapbox": [
           {
            "marker": {
             "colorbar": {
              "outlinewidth": 0,
              "ticks": ""
             }
            },
            "type": "scattermapbox"
           }
          ],
          "scatterpolar": [
           {
            "marker": {
             "colorbar": {
              "outlinewidth": 0,
              "ticks": ""
             }
            },
            "type": "scatterpolar"
           }
          ],
          "scatterpolargl": [
           {
            "marker": {
             "colorbar": {
              "outlinewidth": 0,
              "ticks": ""
             }
            },
            "type": "scatterpolargl"
           }
          ],
          "scatterternary": [
           {
            "marker": {
             "colorbar": {
              "outlinewidth": 0,
              "ticks": ""
             }
            },
            "type": "scatterternary"
           }
          ],
          "surface": [
           {
            "colorbar": {
             "outlinewidth": 0,
             "ticks": ""
            },
            "colorscale": [
             [
              0,
              "#0d0887"
             ],
             [
              0.1111111111111111,
              "#46039f"
             ],
             [
              0.2222222222222222,
              "#7201a8"
             ],
             [
              0.3333333333333333,
              "#9c179e"
             ],
             [
              0.4444444444444444,
              "#bd3786"
             ],
             [
              0.5555555555555556,
              "#d8576b"
             ],
             [
              0.6666666666666666,
              "#ed7953"
             ],
             [
              0.7777777777777778,
              "#fb9f3a"
             ],
             [
              0.8888888888888888,
              "#fdca26"
             ],
             [
              1,
              "#f0f921"
             ]
            ],
            "type": "surface"
           }
          ],
          "table": [
           {
            "cells": {
             "fill": {
              "color": "#EBF0F8"
             },
             "line": {
              "color": "white"
             }
            },
            "header": {
             "fill": {
              "color": "#C8D4E3"
             },
             "line": {
              "color": "white"
             }
            },
            "type": "table"
           }
          ]
         },
         "layout": {
          "annotationdefaults": {
           "arrowcolor": "#2a3f5f",
           "arrowhead": 0,
           "arrowwidth": 1
          },
          "autotypenumbers": "strict",
          "coloraxis": {
           "colorbar": {
            "outlinewidth": 0,
            "ticks": ""
           }
          },
          "colorscale": {
           "diverging": [
            [
             0,
             "#8e0152"
            ],
            [
             0.1,
             "#c51b7d"
            ],
            [
             0.2,
             "#de77ae"
            ],
            [
             0.3,
             "#f1b6da"
            ],
            [
             0.4,
             "#fde0ef"
            ],
            [
             0.5,
             "#f7f7f7"
            ],
            [
             0.6,
             "#e6f5d0"
            ],
            [
             0.7,
             "#b8e186"
            ],
            [
             0.8,
             "#7fbc41"
            ],
            [
             0.9,
             "#4d9221"
            ],
            [
             1,
             "#276419"
            ]
           ],
           "sequential": [
            [
             0,
             "#0d0887"
            ],
            [
             0.1111111111111111,
             "#46039f"
            ],
            [
             0.2222222222222222,
             "#7201a8"
            ],
            [
             0.3333333333333333,
             "#9c179e"
            ],
            [
             0.4444444444444444,
             "#bd3786"
            ],
            [
             0.5555555555555556,
             "#d8576b"
            ],
            [
             0.6666666666666666,
             "#ed7953"
            ],
            [
             0.7777777777777778,
             "#fb9f3a"
            ],
            [
             0.8888888888888888,
             "#fdca26"
            ],
            [
             1,
             "#f0f921"
            ]
           ],
           "sequentialminus": [
            [
             0,
             "#0d0887"
            ],
            [
             0.1111111111111111,
             "#46039f"
            ],
            [
             0.2222222222222222,
             "#7201a8"
            ],
            [
             0.3333333333333333,
             "#9c179e"
            ],
            [
             0.4444444444444444,
             "#bd3786"
            ],
            [
             0.5555555555555556,
             "#d8576b"
            ],
            [
             0.6666666666666666,
             "#ed7953"
            ],
            [
             0.7777777777777778,
             "#fb9f3a"
            ],
            [
             0.8888888888888888,
             "#fdca26"
            ],
            [
             1,
             "#f0f921"
            ]
           ]
          },
          "colorway": [
           "#636efa",
           "#EF553B",
           "#00cc96",
           "#ab63fa",
           "#FFA15A",
           "#19d3f3",
           "#FF6692",
           "#B6E880",
           "#FF97FF",
           "#FECB52"
          ],
          "font": {
           "color": "#2a3f5f"
          },
          "geo": {
           "bgcolor": "white",
           "lakecolor": "white",
           "landcolor": "#E5ECF6",
           "showlakes": true,
           "showland": true,
           "subunitcolor": "white"
          },
          "hoverlabel": {
           "align": "left"
          },
          "hovermode": "closest",
          "mapbox": {
           "style": "light"
          },
          "paper_bgcolor": "white",
          "plot_bgcolor": "#E5ECF6",
          "polar": {
           "angularaxis": {
            "gridcolor": "white",
            "linecolor": "white",
            "ticks": ""
           },
           "bgcolor": "#E5ECF6",
           "radialaxis": {
            "gridcolor": "white",
            "linecolor": "white",
            "ticks": ""
           }
          },
          "scene": {
           "xaxis": {
            "backgroundcolor": "#E5ECF6",
            "gridcolor": "white",
            "gridwidth": 2,
            "linecolor": "white",
            "showbackground": true,
            "ticks": "",
            "zerolinecolor": "white"
           },
           "yaxis": {
            "backgroundcolor": "#E5ECF6",
            "gridcolor": "white",
            "gridwidth": 2,
            "linecolor": "white",
            "showbackground": true,
            "ticks": "",
            "zerolinecolor": "white"
           },
           "zaxis": {
            "backgroundcolor": "#E5ECF6",
            "gridcolor": "white",
            "gridwidth": 2,
            "linecolor": "white",
            "showbackground": true,
            "ticks": "",
            "zerolinecolor": "white"
           }
          },
          "shapedefaults": {
           "line": {
            "color": "#2a3f5f"
           }
          },
          "ternary": {
           "aaxis": {
            "gridcolor": "white",
            "linecolor": "white",
            "ticks": ""
           },
           "baxis": {
            "gridcolor": "white",
            "linecolor": "white",
            "ticks": ""
           },
           "bgcolor": "#E5ECF6",
           "caxis": {
            "gridcolor": "white",
            "linecolor": "white",
            "ticks": ""
           }
          },
          "title": {
           "x": 0.05
          },
          "xaxis": {
           "automargin": true,
           "gridcolor": "white",
           "linecolor": "white",
           "ticks": "",
           "title": {
            "standoff": 15
           },
           "zerolinecolor": "white",
           "zerolinewidth": 2
          },
          "yaxis": {
           "automargin": true,
           "gridcolor": "white",
           "linecolor": "white",
           "ticks": "",
           "title": {
            "standoff": 15
           },
           "zerolinecolor": "white",
           "zerolinewidth": 2
          }
         }
        },
        "title": {
         "text": "Strength Sessions Last 20 Weeks"
        },
        "xaxis": {
         "anchor": "y",
         "domain": [
          0,
          1
         ],
         "title": {
          "text": "year_week"
         }
        },
        "yaxis": {
         "anchor": "x",
         "domain": [
          0,
          1
         ],
         "title": {
          "text": "hours"
         }
        }
       }
      }
     },
     "metadata": {},
     "output_type": "display_data"
    }
   ],
   "source": [
    "# Bar chart of aerobic time for last 12 weeks\n",
    "df['year_week'] = df['year'].astype(str) + '-' + df['week'].astype(str).str.zfill(2)\n",
    "grouped_yr_wk = df.loc[df.type=='WeightTraining'].groupby(['year_week']).agg({'hours': 'sum'}).sort_values(by='year_week', ascending=False).reset_index().head(20).sort_values(by='year_week', ascending=True)\n",
    "time_x_week_bar = px.bar(grouped_yr_wk,\n",
    "                          x=\"year_week\",\n",
    "                          y=\"hours\",\n",
    "                          title='Strength Duration Last 20 Weeks'\n",
    "                         )\n",
    "\n",
    "time_x_week_bar.show()"
   ]
  },
  {
   "cell_type": "code",
   "execution_count": 205,
   "metadata": {},
   "outputs": [
    {
     "data": {
      "text/html": [
       "<div>\n",
       "<style scoped>\n",
       "    .dataframe tbody tr th:only-of-type {\n",
       "        vertical-align: middle;\n",
       "    }\n",
       "\n",
       "    .dataframe tbody tr th {\n",
       "        vertical-align: top;\n",
       "    }\n",
       "\n",
       "    .dataframe thead th {\n",
       "        text-align: right;\n",
       "    }\n",
       "</style>\n",
       "<table border=\"1\" class=\"dataframe\">\n",
       "  <thead>\n",
       "    <tr style=\"text-align: right;\">\n",
       "      <th></th>\n",
       "      <th>year</th>\n",
       "      <th>bear_peak_count</th>\n",
       "      <th>sanitas_count</th>\n",
       "      <th>second_flatiron_count</th>\n",
       "    </tr>\n",
       "  </thead>\n",
       "  <tbody>\n",
       "    <tr>\n",
       "      <th>0</th>\n",
       "      <td>2015</td>\n",
       "      <td>0</td>\n",
       "      <td>0</td>\n",
       "      <td>0</td>\n",
       "    </tr>\n",
       "    <tr>\n",
       "      <th>1</th>\n",
       "      <td>2016</td>\n",
       "      <td>15</td>\n",
       "      <td>13</td>\n",
       "      <td>10</td>\n",
       "    </tr>\n",
       "    <tr>\n",
       "      <th>2</th>\n",
       "      <td>2017</td>\n",
       "      <td>59</td>\n",
       "      <td>24</td>\n",
       "      <td>5</td>\n",
       "    </tr>\n",
       "    <tr>\n",
       "      <th>3</th>\n",
       "      <td>2018</td>\n",
       "      <td>27</td>\n",
       "      <td>32</td>\n",
       "      <td>24</td>\n",
       "    </tr>\n",
       "    <tr>\n",
       "      <th>4</th>\n",
       "      <td>2019</td>\n",
       "      <td>13</td>\n",
       "      <td>16</td>\n",
       "      <td>11</td>\n",
       "    </tr>\n",
       "    <tr>\n",
       "      <th>5</th>\n",
       "      <td>2020</td>\n",
       "      <td>20</td>\n",
       "      <td>23</td>\n",
       "      <td>16</td>\n",
       "    </tr>\n",
       "    <tr>\n",
       "      <th>6</th>\n",
       "      <td>2021</td>\n",
       "      <td>13</td>\n",
       "      <td>12</td>\n",
       "      <td>16</td>\n",
       "    </tr>\n",
       "    <tr>\n",
       "      <th>7</th>\n",
       "      <td>2022</td>\n",
       "      <td>5</td>\n",
       "      <td>20</td>\n",
       "      <td>1</td>\n",
       "    </tr>\n",
       "  </tbody>\n",
       "</table>\n",
       "</div>"
      ],
      "text/plain": [
       "   year  bear_peak_count  sanitas_count  second_flatiron_count\n",
       "0  2015                0              0                      0\n",
       "1  2016               15             13                     10\n",
       "2  2017               59             24                      5\n",
       "3  2018               27             32                     24\n",
       "4  2019               13             16                     11\n",
       "5  2020               20             23                     16\n",
       "6  2021               13             12                     16\n",
       "7  2022                5             20                      1"
      ]
     },
     "execution_count": 205,
     "metadata": {},
     "output_type": "execute_result"
    }
   ],
   "source": [
    "from functools import reduce\n",
    "dfs = [\n",
    "    df.groupby('year').agg({'bear_peak_count':'sum'}).reset_index(),\n",
    "    df.groupby('year').agg({'sanitas_count':'sum'}).reset_index(),\n",
    "    df.groupby('year').agg({'second_flatiron_count':'sum'}).reset_index()\n",
    "]\n",
    "\n",
    "df_merged = reduce(lambda  left,right: pd.merge(left,right, on=['year'],\n",
    "                                            how='left'), dfs)\n",
    "\n",
    "df_merged"
   ]
  },
  {
   "cell_type": "code",
   "execution_count": 249,
   "metadata": {},
   "outputs": [
    {
     "data": {
      "text/plain": [
       "DataTable(data=[{'year': 2015, 'bear_peak_count': 0, 'sanitas_count': 0, 'second_flatiron_count': 0}, {'year': 2016, 'bear_peak_count': 15, 'sanitas_count': 13, 'second_flatiron_count': 10}, {'year': 2017, 'bear_peak_count': 59, 'sanitas_count': 24, 'second_flatiron_count': 5}, {'year': 2018, 'bear_peak_count': 27, 'sanitas_count': 32, 'second_flatiron_count': 24}, {'year': 2019, 'bear_peak_count': 13, 'sanitas_count': 16, 'second_flatiron_count': 11}, {'year': 2020, 'bear_peak_count': 20, 'sanitas_count': 23, 'second_flatiron_count': 16}, {'year': 2021, 'bear_peak_count': 13, 'sanitas_count': 12, 'second_flatiron_count': 16}, {'year': 2022, 'bear_peak_count': 5, 'sanitas_count': 20, 'second_flatiron_count': 1}], columns=[Index(['year', 'bear_peak_count', 'sanitas_count', 'second_flatiron_count'], dtype='object')])"
      ]
     },
     "execution_count": 249,
     "metadata": {},
     "output_type": "execute_result"
    }
   ],
   "source": [
    "dash_table.DataTable(\n",
    "    data=df_merged.to_dict('records'),\n",
    "    columns=[df_merged.columns]\n",
    ")"
   ]
  },
  {
   "cell_type": "code",
   "execution_count": 214,
   "metadata": {},
   "outputs": [
    {
     "data": {
      "application/vnd.plotly.v1+json": {
       "config": {
        "plotlyServerURL": "https://plot.ly"
       },
       "data": [
        {
         "alignmentgroup": "True",
         "hovertemplate": "variable=bear_peak_count<br>year=%{x}<br>value=%{y}<extra></extra>",
         "legendgroup": "bear_peak_count",
         "marker": {
          "color": "#636efa",
          "opacity": 0.9,
          "pattern": {
           "shape": ""
          }
         },
         "name": "bear_peak_count",
         "offsetgroup": "bear_peak_count",
         "orientation": "v",
         "showlegend": true,
         "textposition": "auto",
         "type": "bar",
         "x": [
          2016,
          2017,
          2018,
          2019,
          2020,
          2021,
          2022
         ],
         "xaxis": "x",
         "y": [
          15,
          59,
          27,
          13,
          20,
          13,
          5
         ],
         "yaxis": "y"
        },
        {
         "alignmentgroup": "True",
         "hovertemplate": "variable=sanitas_count<br>year=%{x}<br>value=%{y}<extra></extra>",
         "legendgroup": "sanitas_count",
         "marker": {
          "color": "#EF553B",
          "opacity": 0.9,
          "pattern": {
           "shape": ""
          }
         },
         "name": "sanitas_count",
         "offsetgroup": "sanitas_count",
         "orientation": "v",
         "showlegend": true,
         "textposition": "auto",
         "type": "bar",
         "x": [
          2016,
          2017,
          2018,
          2019,
          2020,
          2021,
          2022
         ],
         "xaxis": "x",
         "y": [
          13,
          24,
          32,
          16,
          23,
          12,
          20
         ],
         "yaxis": "y"
        },
        {
         "alignmentgroup": "True",
         "hovertemplate": "variable=second_flatiron_count<br>year=%{x}<br>value=%{y}<extra></extra>",
         "legendgroup": "second_flatiron_count",
         "marker": {
          "color": "#00cc96",
          "opacity": 0.9,
          "pattern": {
           "shape": ""
          }
         },
         "name": "second_flatiron_count",
         "offsetgroup": "second_flatiron_count",
         "orientation": "v",
         "showlegend": true,
         "textposition": "auto",
         "type": "bar",
         "x": [
          2016,
          2017,
          2018,
          2019,
          2020,
          2021,
          2022
         ],
         "xaxis": "x",
         "y": [
          10,
          5,
          24,
          11,
          16,
          16,
          1
         ],
         "yaxis": "y"
        }
       ],
       "layout": {
        "barmode": "group",
        "legend": {
         "title": {
          "text": "variable"
         },
         "tracegroupgap": 0
        },
        "template": {
         "data": {
          "bar": [
           {
            "error_x": {
             "color": "#2a3f5f"
            },
            "error_y": {
             "color": "#2a3f5f"
            },
            "marker": {
             "line": {
              "color": "#E5ECF6",
              "width": 0.5
             },
             "pattern": {
              "fillmode": "overlay",
              "size": 10,
              "solidity": 0.2
             }
            },
            "type": "bar"
           }
          ],
          "barpolar": [
           {
            "marker": {
             "line": {
              "color": "#E5ECF6",
              "width": 0.5
             },
             "pattern": {
              "fillmode": "overlay",
              "size": 10,
              "solidity": 0.2
             }
            },
            "type": "barpolar"
           }
          ],
          "carpet": [
           {
            "aaxis": {
             "endlinecolor": "#2a3f5f",
             "gridcolor": "white",
             "linecolor": "white",
             "minorgridcolor": "white",
             "startlinecolor": "#2a3f5f"
            },
            "baxis": {
             "endlinecolor": "#2a3f5f",
             "gridcolor": "white",
             "linecolor": "white",
             "minorgridcolor": "white",
             "startlinecolor": "#2a3f5f"
            },
            "type": "carpet"
           }
          ],
          "choropleth": [
           {
            "colorbar": {
             "outlinewidth": 0,
             "ticks": ""
            },
            "type": "choropleth"
           }
          ],
          "contour": [
           {
            "colorbar": {
             "outlinewidth": 0,
             "ticks": ""
            },
            "colorscale": [
             [
              0,
              "#0d0887"
             ],
             [
              0.1111111111111111,
              "#46039f"
             ],
             [
              0.2222222222222222,
              "#7201a8"
             ],
             [
              0.3333333333333333,
              "#9c179e"
             ],
             [
              0.4444444444444444,
              "#bd3786"
             ],
             [
              0.5555555555555556,
              "#d8576b"
             ],
             [
              0.6666666666666666,
              "#ed7953"
             ],
             [
              0.7777777777777778,
              "#fb9f3a"
             ],
             [
              0.8888888888888888,
              "#fdca26"
             ],
             [
              1,
              "#f0f921"
             ]
            ],
            "type": "contour"
           }
          ],
          "contourcarpet": [
           {
            "colorbar": {
             "outlinewidth": 0,
             "ticks": ""
            },
            "type": "contourcarpet"
           }
          ],
          "heatmap": [
           {
            "colorbar": {
             "outlinewidth": 0,
             "ticks": ""
            },
            "colorscale": [
             [
              0,
              "#0d0887"
             ],
             [
              0.1111111111111111,
              "#46039f"
             ],
             [
              0.2222222222222222,
              "#7201a8"
             ],
             [
              0.3333333333333333,
              "#9c179e"
             ],
             [
              0.4444444444444444,
              "#bd3786"
             ],
             [
              0.5555555555555556,
              "#d8576b"
             ],
             [
              0.6666666666666666,
              "#ed7953"
             ],
             [
              0.7777777777777778,
              "#fb9f3a"
             ],
             [
              0.8888888888888888,
              "#fdca26"
             ],
             [
              1,
              "#f0f921"
             ]
            ],
            "type": "heatmap"
           }
          ],
          "heatmapgl": [
           {
            "colorbar": {
             "outlinewidth": 0,
             "ticks": ""
            },
            "colorscale": [
             [
              0,
              "#0d0887"
             ],
             [
              0.1111111111111111,
              "#46039f"
             ],
             [
              0.2222222222222222,
              "#7201a8"
             ],
             [
              0.3333333333333333,
              "#9c179e"
             ],
             [
              0.4444444444444444,
              "#bd3786"
             ],
             [
              0.5555555555555556,
              "#d8576b"
             ],
             [
              0.6666666666666666,
              "#ed7953"
             ],
             [
              0.7777777777777778,
              "#fb9f3a"
             ],
             [
              0.8888888888888888,
              "#fdca26"
             ],
             [
              1,
              "#f0f921"
             ]
            ],
            "type": "heatmapgl"
           }
          ],
          "histogram": [
           {
            "marker": {
             "pattern": {
              "fillmode": "overlay",
              "size": 10,
              "solidity": 0.2
             }
            },
            "type": "histogram"
           }
          ],
          "histogram2d": [
           {
            "colorbar": {
             "outlinewidth": 0,
             "ticks": ""
            },
            "colorscale": [
             [
              0,
              "#0d0887"
             ],
             [
              0.1111111111111111,
              "#46039f"
             ],
             [
              0.2222222222222222,
              "#7201a8"
             ],
             [
              0.3333333333333333,
              "#9c179e"
             ],
             [
              0.4444444444444444,
              "#bd3786"
             ],
             [
              0.5555555555555556,
              "#d8576b"
             ],
             [
              0.6666666666666666,
              "#ed7953"
             ],
             [
              0.7777777777777778,
              "#fb9f3a"
             ],
             [
              0.8888888888888888,
              "#fdca26"
             ],
             [
              1,
              "#f0f921"
             ]
            ],
            "type": "histogram2d"
           }
          ],
          "histogram2dcontour": [
           {
            "colorbar": {
             "outlinewidth": 0,
             "ticks": ""
            },
            "colorscale": [
             [
              0,
              "#0d0887"
             ],
             [
              0.1111111111111111,
              "#46039f"
             ],
             [
              0.2222222222222222,
              "#7201a8"
             ],
             [
              0.3333333333333333,
              "#9c179e"
             ],
             [
              0.4444444444444444,
              "#bd3786"
             ],
             [
              0.5555555555555556,
              "#d8576b"
             ],
             [
              0.6666666666666666,
              "#ed7953"
             ],
             [
              0.7777777777777778,
              "#fb9f3a"
             ],
             [
              0.8888888888888888,
              "#fdca26"
             ],
             [
              1,
              "#f0f921"
             ]
            ],
            "type": "histogram2dcontour"
           }
          ],
          "mesh3d": [
           {
            "colorbar": {
             "outlinewidth": 0,
             "ticks": ""
            },
            "type": "mesh3d"
           }
          ],
          "parcoords": [
           {
            "line": {
             "colorbar": {
              "outlinewidth": 0,
              "ticks": ""
             }
            },
            "type": "parcoords"
           }
          ],
          "pie": [
           {
            "automargin": true,
            "type": "pie"
           }
          ],
          "scatter": [
           {
            "fillpattern": {
             "fillmode": "overlay",
             "size": 10,
             "solidity": 0.2
            },
            "type": "scatter"
           }
          ],
          "scatter3d": [
           {
            "line": {
             "colorbar": {
              "outlinewidth": 0,
              "ticks": ""
             }
            },
            "marker": {
             "colorbar": {
              "outlinewidth": 0,
              "ticks": ""
             }
            },
            "type": "scatter3d"
           }
          ],
          "scattercarpet": [
           {
            "marker": {
             "colorbar": {
              "outlinewidth": 0,
              "ticks": ""
             }
            },
            "type": "scattercarpet"
           }
          ],
          "scattergeo": [
           {
            "marker": {
             "colorbar": {
              "outlinewidth": 0,
              "ticks": ""
             }
            },
            "type": "scattergeo"
           }
          ],
          "scattergl": [
           {
            "marker": {
             "colorbar": {
              "outlinewidth": 0,
              "ticks": ""
             }
            },
            "type": "scattergl"
           }
          ],
          "scattermapbox": [
           {
            "marker": {
             "colorbar": {
              "outlinewidth": 0,
              "ticks": ""
             }
            },
            "type": "scattermapbox"
           }
          ],
          "scatterpolar": [
           {
            "marker": {
             "colorbar": {
              "outlinewidth": 0,
              "ticks": ""
             }
            },
            "type": "scatterpolar"
           }
          ],
          "scatterpolargl": [
           {
            "marker": {
             "colorbar": {
              "outlinewidth": 0,
              "ticks": ""
             }
            },
            "type": "scatterpolargl"
           }
          ],
          "scatterternary": [
           {
            "marker": {
             "colorbar": {
              "outlinewidth": 0,
              "ticks": ""
             }
            },
            "type": "scatterternary"
           }
          ],
          "surface": [
           {
            "colorbar": {
             "outlinewidth": 0,
             "ticks": ""
            },
            "colorscale": [
             [
              0,
              "#0d0887"
             ],
             [
              0.1111111111111111,
              "#46039f"
             ],
             [
              0.2222222222222222,
              "#7201a8"
             ],
             [
              0.3333333333333333,
              "#9c179e"
             ],
             [
              0.4444444444444444,
              "#bd3786"
             ],
             [
              0.5555555555555556,
              "#d8576b"
             ],
             [
              0.6666666666666666,
              "#ed7953"
             ],
             [
              0.7777777777777778,
              "#fb9f3a"
             ],
             [
              0.8888888888888888,
              "#fdca26"
             ],
             [
              1,
              "#f0f921"
             ]
            ],
            "type": "surface"
           }
          ],
          "table": [
           {
            "cells": {
             "fill": {
              "color": "#EBF0F8"
             },
             "line": {
              "color": "white"
             }
            },
            "header": {
             "fill": {
              "color": "#C8D4E3"
             },
             "line": {
              "color": "white"
             }
            },
            "type": "table"
           }
          ]
         },
         "layout": {
          "annotationdefaults": {
           "arrowcolor": "#2a3f5f",
           "arrowhead": 0,
           "arrowwidth": 1
          },
          "autotypenumbers": "strict",
          "coloraxis": {
           "colorbar": {
            "outlinewidth": 0,
            "ticks": ""
           }
          },
          "colorscale": {
           "diverging": [
            [
             0,
             "#8e0152"
            ],
            [
             0.1,
             "#c51b7d"
            ],
            [
             0.2,
             "#de77ae"
            ],
            [
             0.3,
             "#f1b6da"
            ],
            [
             0.4,
             "#fde0ef"
            ],
            [
             0.5,
             "#f7f7f7"
            ],
            [
             0.6,
             "#e6f5d0"
            ],
            [
             0.7,
             "#b8e186"
            ],
            [
             0.8,
             "#7fbc41"
            ],
            [
             0.9,
             "#4d9221"
            ],
            [
             1,
             "#276419"
            ]
           ],
           "sequential": [
            [
             0,
             "#0d0887"
            ],
            [
             0.1111111111111111,
             "#46039f"
            ],
            [
             0.2222222222222222,
             "#7201a8"
            ],
            [
             0.3333333333333333,
             "#9c179e"
            ],
            [
             0.4444444444444444,
             "#bd3786"
            ],
            [
             0.5555555555555556,
             "#d8576b"
            ],
            [
             0.6666666666666666,
             "#ed7953"
            ],
            [
             0.7777777777777778,
             "#fb9f3a"
            ],
            [
             0.8888888888888888,
             "#fdca26"
            ],
            [
             1,
             "#f0f921"
            ]
           ],
           "sequentialminus": [
            [
             0,
             "#0d0887"
            ],
            [
             0.1111111111111111,
             "#46039f"
            ],
            [
             0.2222222222222222,
             "#7201a8"
            ],
            [
             0.3333333333333333,
             "#9c179e"
            ],
            [
             0.4444444444444444,
             "#bd3786"
            ],
            [
             0.5555555555555556,
             "#d8576b"
            ],
            [
             0.6666666666666666,
             "#ed7953"
            ],
            [
             0.7777777777777778,
             "#fb9f3a"
            ],
            [
             0.8888888888888888,
             "#fdca26"
            ],
            [
             1,
             "#f0f921"
            ]
           ]
          },
          "colorway": [
           "#636efa",
           "#EF553B",
           "#00cc96",
           "#ab63fa",
           "#FFA15A",
           "#19d3f3",
           "#FF6692",
           "#B6E880",
           "#FF97FF",
           "#FECB52"
          ],
          "font": {
           "color": "#2a3f5f"
          },
          "geo": {
           "bgcolor": "white",
           "lakecolor": "white",
           "landcolor": "#E5ECF6",
           "showlakes": true,
           "showland": true,
           "subunitcolor": "white"
          },
          "hoverlabel": {
           "align": "left"
          },
          "hovermode": "closest",
          "mapbox": {
           "style": "light"
          },
          "paper_bgcolor": "white",
          "plot_bgcolor": "#E5ECF6",
          "polar": {
           "angularaxis": {
            "gridcolor": "white",
            "linecolor": "white",
            "ticks": ""
           },
           "bgcolor": "#E5ECF6",
           "radialaxis": {
            "gridcolor": "white",
            "linecolor": "white",
            "ticks": ""
           }
          },
          "scene": {
           "xaxis": {
            "backgroundcolor": "#E5ECF6",
            "gridcolor": "white",
            "gridwidth": 2,
            "linecolor": "white",
            "showbackground": true,
            "ticks": "",
            "zerolinecolor": "white"
           },
           "yaxis": {
            "backgroundcolor": "#E5ECF6",
            "gridcolor": "white",
            "gridwidth": 2,
            "linecolor": "white",
            "showbackground": true,
            "ticks": "",
            "zerolinecolor": "white"
           },
           "zaxis": {
            "backgroundcolor": "#E5ECF6",
            "gridcolor": "white",
            "gridwidth": 2,
            "linecolor": "white",
            "showbackground": true,
            "ticks": "",
            "zerolinecolor": "white"
           }
          },
          "shapedefaults": {
           "line": {
            "color": "#2a3f5f"
           }
          },
          "ternary": {
           "aaxis": {
            "gridcolor": "white",
            "linecolor": "white",
            "ticks": ""
           },
           "baxis": {
            "gridcolor": "white",
            "linecolor": "white",
            "ticks": ""
           },
           "bgcolor": "#E5ECF6",
           "caxis": {
            "gridcolor": "white",
            "linecolor": "white",
            "ticks": ""
           }
          },
          "title": {
           "x": 0.05
          },
          "xaxis": {
           "automargin": true,
           "gridcolor": "white",
           "linecolor": "white",
           "ticks": "",
           "title": {
            "standoff": 15
           },
           "zerolinecolor": "white",
           "zerolinewidth": 2
          },
          "yaxis": {
           "automargin": true,
           "gridcolor": "white",
           "linecolor": "white",
           "ticks": "",
           "title": {
            "standoff": 15
           },
           "zerolinecolor": "white",
           "zerolinewidth": 2
          }
         }
        },
        "title": {
         "text": "Most Common Routes Count by Year"
        },
        "xaxis": {
         "anchor": "y",
         "domain": [
          0,
          1
         ],
         "title": {
          "text": "year"
         }
        },
        "yaxis": {
         "anchor": "x",
         "domain": [
          0,
          1
         ],
         "title": {
          "text": "value"
         }
        }
       }
      }
     },
     "metadata": {},
     "output_type": "display_data"
    }
   ],
   "source": [
    "# Count of bear peaks, sanitas, 2nd_flatiron by year\n",
    "px.bar(\n",
    "    data_frame = df_merged.loc[df_merged.year != 2015],\n",
    "    x = 'year',\n",
    "    y = ['bear_peak_count','sanitas_count','second_flatiron_count'],\n",
    "    opacity = 0.9,\n",
    "    orientation = \"v\",\n",
    "    barmode = 'group',\n",
    "    title='Most Common Routes Count by Year',\n",
    ")"
   ]
  },
  {
   "cell_type": "code",
   "execution_count": 246,
   "metadata": {},
   "outputs": [
    {
     "data": {
      "application/vnd.plotly.v1+json": {
       "config": {
        "plotlyServerURL": "https://plot.ly"
       },
       "data": [
        {
         "customdata": [
          [
           2022,
           "Afternoon Run",
           787.4,
           "Run"
          ],
          [
           2021,
           "Mt. Garfield",
           1817.59,
           "Run"
          ],
          [
           2019,
           "Bear Peak",
           3553.15,
           "Run"
          ],
          [
           2021,
           "Lunch Run",
           2142.39,
           "Run"
          ],
          [
           2019,
           "Eldora Skimo Laps w/Ben",
           3054.46,
           "BackcountrySki"
          ],
          [
           2019,
           "Lunch Run",
           134.51,
           "Run"
          ],
          [
           2018,
           "2nd Flatiron + 1st Flatironette w/Puma",
           2053.81,
           "Run"
          ],
          [
           2022,
           "Anermoney",
           816.93,
           "Run"
          ],
          [
           2021,
           "Sanitas",
           1292.65,
           "Run"
          ],
          [
           2019,
           "Bear Canyon Ski",
           1394.36,
           "BackcountrySki"
          ],
          [
           2017,
           "Bear Peak",
           2516.4,
           "Run"
          ],
          [
           2017,
           "Bear Peak",
           2611.55,
           "Run"
          ],
          [
           2021,
           "Evening Ride",
           226.38,
           "Ride"
          ],
          [
           2021,
           "Bear Peak",
           2759.19,
           "Run"
          ],
          [
           2017,
           "Bear Peak + Summit Repeat x1",
           3674.54,
           "Run"
          ],
          [
           2018,
           "Winter Park Skimo w/Ben",
           4035.43,
           "BackcountrySki"
          ],
          [
           2018,
           "Afternoon Run",
           1289.37,
           "Run"
          ],
          [
           2020,
           "Sanitas",
           1250,
           "Run"
          ],
          [
           2021,
           "Sanitas",
           1302.49,
           "Run"
          ],
          [
           2019,
           "Shanahan Ridge Ski",
           830.05,
           "BackcountrySki"
          ],
          [
           2020,
           "Fern Amphitheater-> Onoclea/Pellaea Gully-> Larks Ascending-> Nebel Horn",
           2322.83,
           "Run"
          ],
          [
           2017,
           "RMR Green",
           2375.33,
           "Run"
          ],
          [
           2018,
           "Sanitas (S11)",
           1315.62,
           "Run"
          ],
          [
           2021,
           "SoBo",
           2979,
           "Run"
          ],
          [
           2018,
           "Eben G. to Green via Chaps",
           2844.49,
           "Run"
          ],
          [
           2020,
           "Eldora Laps",
           2135.83,
           "BackcountrySki"
          ],
          [
           2017,
           "Bear Peak",
           3366.14,
           "Run"
          ],
          [
           2017,
           "2nd Flatiron-->Flatironette Scramble w/Nick",
           935.04,
           "Run"
          ],
          [
           2020,
           "Lunch Run",
           767.72,
           "Run"
          ],
          [
           2018,
           "The Bear 50k!",
           7742.78,
           "Run"
          ],
          [
           2017,
           "Sobo - Bear Peak",
           3868.11,
           "Run"
          ],
          [
           2016,
           "Morning Bear Peak",
           2732.94,
           "Run"
          ],
          [
           2018,
           "Quandary Peak",
           3674.54,
           "Run"
          ],
          [
           2018,
           "Sanitas (S10)",
           1341.86,
           "Run"
          ],
          [
           2017,
           "Sanitas",
           1532.15,
           "Run"
          ],
          [
           2018,
           "Bear Peak",
           3113.52,
           "Run"
          ],
          [
           2021,
           "RA",
           1338.58,
           "Run"
          ],
          [
           2018,
           "Sanitas (S6)",
           1410.76,
           "Run"
          ],
          [
           2019,
           "A Park Ski",
           3759.84,
           "BackcountrySki"
          ],
          [
           2018,
           "2nd Flatiron x2",
           1814.3,
           "Run"
          ],
          [
           2018,
           "Lunch Ride",
           1135.17,
           "Ride"
          ],
          [
           2017,
           "Bear Peak  (B35)",
           2795.28,
           "Run"
          ],
          [
           2018,
           "Marshall Mesa from the Front Door",
           3024.93,
           "Ride"
          ],
          [
           2020,
           "Sunshine -> Gold Hill",
           3944.88,
           "Ride"
          ],
          [
           2019,
           "Gooseberry to White Rim",
           1509.19,
           "Run"
          ],
          [
           2021,
           "Moab Cruisin",
           5839.9,
           "Ride"
          ],
          [
           2020,
           "Longs Peak",
           5685.7,
           "Run"
          ],
          [
           2019,
           "EVO via Flagstaff",
           2101.05,
           "Ride"
          ],
          [
           2021,
           "Afternoon Run",
           921.92,
           "Run"
          ],
          [
           2022,
           "Green",
           2480.32,
           "Run"
          ],
          [
           2020,
           "Bear Peak + Sobo",
           3766.4,
           "Run"
          ],
          [
           2017,
           "Bear Peak (31) via Shadow Canyon",
           3110.24,
           "Run"
          ],
          [
           2017,
           "Bear Peak x2",
           4232.28,
           "Run"
          ],
          [
           2019,
           "Afternoon Ride",
           380.58,
           "Ride"
          ],
          [
           2017,
           "Bear Peak",
           2808.4,
           "Run"
          ],
          [
           2019,
           "Neighborhood Ski Tour",
           1814.3,
           "BackcountrySki"
          ],
          [
           2019,
           "Syncline to Upheaval Dome",
           2260.5,
           "Run"
          ],
          [
           2016,
           "Morning Run",
           3996.06,
           "Run"
          ],
          [
           2018,
           "Melting in Bear Canyon (B18)",
           2844.49,
           "Run"
          ],
          [
           2016,
           "Salomon Run Club",
           711.94,
           "Run"
          ],
          [
           2018,
           "Bear Peak",
           3080.71,
           "Run"
          ],
          [
           2017,
           "Bear Peak",
           2742.78,
           "Run"
          ],
          [
           2018,
           "Lunch Run",
           462.6,
           "Run"
          ],
          [
           2017,
           "Mt. Princeton",
           2778.87,
           "Run"
          ],
          [
           2021,
           "2nd Flatiron",
           1227.03,
           "Run"
          ],
          [
           2017,
           "Bear Peak  (B34)",
           2772.31,
           "Run"
          ],
          [
           2020,
           "Bear Peak",
           2818.24,
           "Run"
          ],
          [
           2017,
           "Marshall Mesa->Doudy->Springbrook",
           1118.77,
           "Ride"
          ],
          [
           2020,
           "Goat Trail via Skyline",
           6236.88,
           "Run"
          ],
          [
           2017,
           "29'n SoBo Creek->Dirty B->Doudy",
           1624.02,
           "Ride"
          ],
          [
           2016,
           "Mt. Bierstadt",
           2273.62,
           "Run"
          ],
          [
           2021,
           "1st flatironette + sputnik boulder w/NPTR!",
           1184.38,
           "Run"
          ],
          [
           2017,
           "Loop 2 with Rally Runners",
           101.71,
           "Run"
          ],
          [
           2018,
           "Bear Peak (B9) w/Olivia and Rachel",
           2837.93,
           "Run"
          ],
          [
           2019,
           "Fern Saddle",
           1948.82,
           "Run"
          ],
          [
           2018,
           "Bear Peak + Summit Repeats x3",
           5413.39,
           "Run"
          ],
          [
           2017,
           "Mesa Loops",
           1276.25,
           "Run"
          ],
          [
           2017,
           "Bear Peak  (B33)",
           2716.54,
           "Run"
          ],
          [
           2017,
           "Bear Peak  (B47)",
           2788.71,
           "Run"
          ],
          [
           2016,
           "2nd Flatiron + Hammerhead + Buckets.",
           2667.32,
           "Run"
          ],
          [
           2020,
           "1/2 Shavano",
           2280.18,
           "Run"
          ],
          [
           2019,
           "2nd Flatiron w/Puma",
           1322.18,
           "Run"
          ],
          [
           2017,
           "Bear Peak w/Olivia & Morgyn (B23)",
           3438.32,
           "Run"
          ],
          [
           2021,
           "Chapman",
           1712.6,
           "Ride"
          ],
          [
           2017,
           "Bear Peak",
           2769.03,
           "Run"
          ],
          [
           2022,
           "Bear Peak",
           2778.87,
           "Run"
          ],
          [
           2020,
           "Morning Run",
           1499.34,
           "Run"
          ],
          [
           2019,
           "La Plata Peak",
           4738.85,
           "Run"
          ],
          [
           2020,
           "Afternoon Run",
           688.98,
           "Run"
          ],
          [
           2017,
           "Bear Peak (B32)",
           2752.62,
           "Run"
          ],
          [
           2017,
           "Bear Peak w/🐶 (B46)",
           2782.15,
           "Run"
          ],
          [
           2017,
           "Green Mtn",
           2559.06,
           "Run"
          ],
          [
           2021,
           "Regency -> RA",
           1732.28,
           "Run"
          ],
          [
           2019,
           "Bear Peak (B5)",
           3028.22,
           "Run"
          ],
          [
           2018,
           "High Lonesome Loop",
           3743.44,
           "Run"
          ],
          [
           2022,
           "Mt Parnassus & Woods Mountain ",
           3628.61,
           "Run"
          ],
          [
           2016,
           "Morning Run",
           1256.56,
           "Run"
          ],
          [
           2016,
           "Afternoon Run",
           2888.45,
           "Run"
          ],
          [
           2020,
           "Bear Peak",
           2841.21,
           "Run"
          ],
          [
           2021,
           "Mt. Marathon",
           3094.49,
           "Run"
          ],
          [
           2016,
           "Hyner 50k",
           7437.66,
           "Run"
          ],
          [
           2017,
           "Friday Marshall Mesa & Chill",
           1556.43,
           "Ride"
          ],
          [
           2021,
           "Regency -> RA -> Hammerhead",
           1541.99,
           "Run"
          ],
          [
           2021,
           "2nd Flatiron + 1st Flatironette",
           1397.64,
           "Run"
          ],
          [
           2018,
           "2nd Flatiron + 1st Flatironette w/Nick",
           1348.43,
           "Run"
          ],
          [
           2016,
           "Afternoon Run",
           1805.77,
           "Run"
          ],
          [
           2019,
           "Belford",
           3822.18,
           "Run"
          ],
          [
           2019,
           "Mt. Yale",
           4360.24,
           "Run"
          ],
          [
           2022,
           "Sanitas",
           1515.75,
           "Run"
          ],
          [
           2020,
           "Bear Peak",
           2982.28,
           "Run"
          ],
          [
           2017,
           "Bear Peak",
           3083.99,
           "Run"
          ],
          [
           2018,
           "Bear Peak (B23)",
           2739.5,
           "Run"
          ],
          [
           2017,
           "Gold Hill. In honor of Hyner.",
           3238.19,
           "Run"
          ],
          [
           2019,
           "I said hard times! They're just an old friend to me",
           3293.96,
           "Ride"
          ],
          [
           2022,
           "Hall Ranch",
           1440.29,
           "Ride"
          ],
          [
           2020,
           "Bear Peak x3",
           8215.22,
           "Run"
          ],
          [
           2018,
           "Beet Juice Catastrophe w/Nick",
           1417.32,
           "Run"
          ],
          [
           2020,
           "Bear Peak",
           3136.48,
           "Run"
          ],
          [
           2020,
           "Mt. Sherman from Iowa Gulch",
           3117.45,
           "Run"
          ],
          [
           2019,
           "Redcloud / Sunshine / Redcloud",
           4940.95,
           "Run"
          ],
          [
           2017,
           "Bear Peak",
           2847.77,
           "Run"
          ],
          [
           2018,
           "Sanitas",
           1456.69,
           "Run"
          ],
          [
           2019,
           "Allenspark Ski",
           2047.24,
           "BackcountrySki"
          ],
          [
           2021,
           "Harding Ice Field",
           4199.48,
           "Run"
          ],
          [
           2018,
           "Grand Canyon R3",
           11538.71,
           "Run"
          ],
          [
           2022,
           "Walker Loop",
           1509.51,
           "Ride"
          ],
          [
           2019,
           "Sanitas",
           1940.94,
           "Run"
          ],
          [
           2018,
           "Sanitas (S31)",
           1307.74,
           "Run"
          ],
          [
           2020,
           "Morning Run",
           1417.32,
           "Run"
          ],
          [
           2021,
           "Bear Peak",
           3074.15,
           "Run"
          ],
          [
           2022,
           "Buffalo Mountain pt. 1",
           3700.79,
           "Run"
          ],
          [
           2018,
           "Grant Swamp Pass",
           3375.98,
           "Run"
          ],
          [
           2018,
           "Sanitas",
           1459.97,
           "Run"
          ],
          [
           2020,
           "3x10 LT Stairmaster Intervals",
           1702.1,
           "Run"
          ],
          [
           2019,
           "Afternoon Ride",
           1177.82,
           "Ride"
          ],
          [
           2019,
           "To EVO",
           639.76,
           "Ride"
          ],
          [
           2019,
           "2nd Flatiron",
           1246.72,
           "Run"
          ],
          [
           2020,
           "Sanitas",
           1978.35,
           "Run"
          ],
          [
           2019,
           "2nd Flatiron",
           1446.85,
           "Run"
          ],
          [
           2016,
           "Moab 50K. ",
           2664.04,
           "Run"
          ],
          [
           2019,
           "Green!",
           2539.37,
           "Run"
          ],
          [
           2021,
           "A-Basin Happy Hour",
           2087.93,
           "BackcountrySki"
          ],
          [
           2018,
           "Bear Peak",
           2880.58,
           "Run"
          ],
          [
           2018,
           "Mt. Sneffels",
           3428.48,
           "Run"
          ],
          [
           2019,
           "Bear Peak (B2)--> Bear Canyon",
           2988.85,
           "Run"
          ],
          [
           2017,
           "Bouldering around Sanitas (S8)",
           1469.82,
           "Run"
          ],
          [
           2020,
           "Ski resort mtn-eer",
           2080.05,
           "BackcountrySki"
          ],
          [
           2017,
           "Pikes Peak Ascent",
           7089.9,
           "Run"
          ],
          [
           2022,
           "Afternoon Run",
           495.41,
           "Run"
          ],
          [
           2020,
           "Bear Peak",
           3018.37,
           "Run"
          ],
          [
           2017,
           "Bear Peak  (B45)",
           2785.43,
           "Run"
          ],
          [
           2022,
           "Sanitas",
           1400.92,
           "Run"
          ],
          [
           2021,
           "Bear Peak + Sobo",
           3303.81,
           "Run"
          ],
          [
           2018,
           "Sobo - Bear Peak - Green",
           4647.64,
           "Run"
          ],
          [
           2016,
           "Gray's and Torrey's",
           3374.67,
           "Run"
          ],
          [
           2020,
           "Hematite Gulch",
           3008.53,
           "Run"
          ],
          [
           2018,
           "Bear Peak",
           3061.02,
           "Run"
          ],
          [
           2017,
           "Lil hike up royal arch ",
           1535.43,
           "Run"
          ],
          [
           2020,
           "Afternoon Run",
           908.79,
           "Run"
          ],
          [
           2021,
           "2x Flattop Mountain",
           2329.4,
           "Run"
          ],
          [
           2018,
           "Jogging around Slickrock",
           741.47,
           "Run"
          ],
          [
           2019,
           "Afternoon Ride",
           511.81,
           "Ride"
          ],
          [
           2017,
           "Bear Peak  (B44) *watch died*",
           1581.36,
           "Run"
          ],
          [
           2018,
           "Lunch Ride",
           918.64,
           "Ride"
          ],
          [
           2018,
           "Up & Down B. Canyon",
           1938.98,
           "Run"
          ],
          [
           2019,
           "Sanitas (S3)",
           1315.62,
           "Run"
          ],
          [
           2016,
           "Royal Arch - 1st/2nd Trail",
           2214.57,
           "Run"
          ],
          [
           2020,
           "Kendall Mtn",
           3792.65,
           "Run"
          ],
          [
           2017,
           "Bear Peak",
           3044.62,
           "Run"
          ],
          [
           2017,
           "Sobo",
           2880.58,
           "Run"
          ],
          [
           2018,
           "Skimo laps at eldora",
           3064.3,
           "BackcountrySki"
          ],
          [
           2019,
           "Hope Pass: Pacing Tyler",
           2982.28,
           "Run"
          ],
          [
           2021,
           "Bear Peak",
           2775.59,
           "Run"
          ],
          [
           2016,
           "RRR pacing Tomas",
           3546.59,
           "Run"
          ],
          [
           2016,
           "Bear Peak with some Fam",
           2244.09,
           "Run"
          ],
          [
           2019,
           "A-Basin Uphill #1",
           1627.3,
           "BackcountrySki"
          ],
          [
           2018,
           "Sanitas w/Olivia (S20)",
           1305.77,
           "Run"
          ],
          [
           2020,
           "Sanitas",
           1335.3,
           "Run"
          ],
          [
           2020,
           "Bear peak",
           2716.54,
           "Run"
          ],
          [
           2017,
           "Bear Peak  (B27)",
           2611.55,
           "Run"
          ],
          [
           2017,
           "Sanitas x2",
           2837.93,
           "Run"
          ],
          [
           2018,
           "Bear Peak",
           2808.4,
           "Run"
          ],
          [
           2016,
           "Bear Peak + Sobo",
           3540.03,
           "Run"
          ],
          [
           2019,
           "Holy Cross ➕",
           5797.24,
           "Run"
          ],
          [
           2017,
           "SoBo + Bear Peak + Green + Flag",
           4340.55,
           "Run"
          ],
          [
           2022,
           "Sanitas",
           1689.63,
           "Run"
          ],
          [
           2017,
           "Bear Peak + Nebel Horn (B43)",
           3106.96,
           "Run"
          ],
          [
           2018,
           "Sanitas",
           1335.3,
           "Run"
          ],
          [
           2018,
           "2nd Flatiron Scramble w/Nick",
           1217.19,
           "Run"
          ],
          [
           2021,
           "Shanahan ski",
           1410.76,
           "BackcountrySki"
          ],
          [
           2021,
           "Mt Audubon",
           2874.02,
           "Run"
          ],
          [
           2017,
           "Huron Peak",
           4297.9,
           "Run"
          ],
          [
           2022,
           "Batman Loop",
           1610.89,
           "Run"
          ],
          [
           2022,
           "Sanitas ",
           1269.69,
           "Run"
          ],
          [
           2017,
           "Bear Peak (B53) Happy Hour w/Nick",
           2824.8,
           "Run"
          ],
          [
           2018,
           "Sanitas (S26) w/ OC & Queen",
           1263.12,
           "Run"
          ],
          [
           2018,
           "Sanitas",
           1427.17,
           "Run"
          ],
          [
           2019,
           "Hunting Spontaneous Beverages",
           639.76,
           "Ride"
          ],
          [
           2017,
           "Bear Peak (B42)",
           2831.36,
           "Run"
          ],
          [
           2021,
           "2nd Flatiron",
           1730.32,
           "Run"
          ],
          [
           2016,
           "GRT 50Mile. DNF'D at mile 40 due to injury.",
           5000,
           "Run"
          ],
          [
           2020,
           "Bear Peak + Sobo",
           3435.04,
           "Run"
          ],
          [
           2018,
           "Bear Peak",
           2844.49,
           "Run"
          ],
          [
           2019,
           "2nd Flatiron",
           1248.03,
           "Run"
          ],
          [
           2017,
           "Bear Peak",
           2782.15,
           "Run"
          ],
          [
           2018,
           "Sanitas (S4)",
           1312.34,
           "Run"
          ],
          [
           2018,
           "A-Basin Vertical Race",
           1643.7,
           "BackcountrySki"
          ],
          [
           2021,
           "EVO: to & fro'",
           1673.23,
           "Ride"
          ],
          [
           2018,
           "2nd Flatiron-->Green-->Bear Canyon",
           2854.33,
           "Run"
          ],
          [
           2020,
           "2nd flatiron w/emir",
           1377.95,
           "Run"
          ],
          [
           2018,
           "Lost in Denver with Eric",
           2866.14,
           "Ride"
          ],
          [
           2021,
           "Mesa w/Mo",
           1558.4,
           "Run"
          ],
          [
           2017,
           "Mudfest #2 on the GRT. Redeemed!",
           6574.8,
           "Run"
          ],
          [
           2021,
           "East Leadville Tour",
           1700.13,
           "BackcountrySki"
          ],
          [
           2020,
           "Skyline",
           5974.41,
           "Run"
          ],
          [
           2021,
           "Hogsback",
           1341.86,
           "Run"
          ],
          [
           2018,
           "1st/2nd Hike w/O and Morgy",
           1564.96,
           "Run"
          ],
          [
           2019,
           "Afternoon Activity",
           1405.51,
           "BackcountrySki"
          ],
          [
           2018,
           "Afternoon Run",
           390.42,
           "Run"
          ],
          [
           2016,
           "Easy hike on Sanitas",
           1332.02,
           "Run"
          ],
          [
           2019,
           "Sanitas",
           1942.26,
           "Run"
          ],
          [
           2020,
           "WU + Ramble",
           1043.31,
           "Run"
          ],
          [
           2017,
           "Bear Peak w/Olivia (B41)",
           3159.45,
           "Run"
          ],
          [
           2022,
           "Afternoon Run",
           1089.24,
           "Run"
          ],
          [
           2019,
           "Afternoon Run",
           708.66,
           "Run"
          ],
          [
           2022,
           "Sanitas ",
           1394.36,
           "Run"
          ],
          [
           2016,
           "Mesa Trail",
           2018.37,
           "Run"
          ],
          [
           2020,
           "South Arapahoe Peak",
           3408.79,
           "Run"
          ],
          [
           2018,
           "Bear Peak",
           2992.13,
           "Run"
          ],
          [
           2020,
           "Afternoon Run",
           118.11,
           "Run"
          ],
          [
           2021,
           "Bear Peak",
           2329.4,
           "Run"
          ],
          [
           2018,
           "Sobo - Bear Peak - Green",
           4274.93,
           "Run"
          ],
          [
           2020,
           "Bear Peak",
           3079.4,
           "Run"
          ],
          [
           2016,
           "Recovery Hike",
           1322.18,
           "Run"
          ],
          [
           2017,
           "Bear Peak (B40)",
           2762.47,
           "Run"
          ],
          [
           2016,
           "2nd Flatiron x2",
           1827.43,
           "Run"
          ],
          [
           2021,
           "Fern",
           1732.28,
           "Run"
          ],
          [
           2018,
           "Bear Peak (B11) -> SoBo",
           3595.8,
           "Run"
          ],
          [
           2021,
           "Challenger (no summit)",
           3532.48,
           "Run"
          ],
          [
           2021,
           "Mt Sneffels - SW Ridge",
           2843.5,
           "Run"
          ],
          [
           2018,
           "Afternoon Run",
           685.7,
           "Run"
          ],
          [
           2017,
           "Skyline Traverse w/squad (B8, S7)",
           6128.61,
           "Run"
          ],
          [
           2018,
           "Been getting back to it, just not on strava.",
           242.78,
           "Run"
          ],
          [
           2018,
           "Missouri Mountain",
           4786.75,
           "Run"
          ],
          [
           2021,
           "Bear Peak",
           2759.19,
           "Run"
          ],
          [
           2016,
           "Cows",
           777.56,
           "Run"
          ],
          [
           2021,
           "2nd Flatiron",
           1272.97,
           "Run"
          ],
          [
           2018,
           "2nd Flatiron",
           1437.01,
           "Run"
          ],
          [
           2019,
           "Sanitas (S5)!",
           1295.93,
           "Run"
          ],
          [
           2021,
           "Bear Peak",
           2737.53,
           "Run"
          ],
          [
           2018,
           "Grays Peak and Torreys Peak",
           3956.69,
           "Run"
          ],
          [
           2020,
           "Sanitas",
           1400.92,
           "Run"
          ],
          [
           2021,
           "A-Park",
           2041.34,
           "BackcountrySki"
          ],
          [
           2017,
           "Sanitas",
           1246.72,
           "Run"
          ],
          [
           2018,
           "Royal Arch w/the crew",
           1384.51,
           "Run"
          ],
          [
           2019,
           "Kohl's-->Eldo-->Rayback",
           1863.52,
           "Ride"
          ],
          [
           2017,
           "Rallysport --> Sanitas (S11)",
           1574.8,
           "Run"
          ],
          [
           2017,
           "Crested Butte Ultra. Body quit. Brain did not.",
           5780.84,
           "Run"
          ],
          [
           2020,
           "Front Porch -> Angels Way",
           1938.98,
           "Run"
          ],
          [
           2019,
           "Bear Peak Intervals",
           2769.03,
           "Run"
          ],
          [
           2019,
           "Stairclimbin'",
           1200.13,
           "Run"
          ],
          [
           2018,
           "Bear Peak w/Nick (B10)",
           2985.56,
           "Run"
          ],
          [
           2020,
           "Regency -> RA -> Buckets -> Hammerhead -> Yodeling -> Tomato Rock",
           1909.45,
           "Run"
          ],
          [
           2016,
           "Mt. Democrat, Mt. Cameron, Mt. Lincoln, Mt. Bross.",
           2621.39,
           "Run"
          ],
          [
           2021,
           "Bear Peak + Sobo",
           3471.13,
           "Run"
          ],
          [
           2018,
           "Bear Peak (B5)",
           3490.81,
           "Run"
          ],
          [
           2016,
           "Bear Peak w/Simon",
           2713.25,
           "Run"
          ],
          [
           2018,
           "2nd Flatiron x2",
           1793.31,
           "Run"
          ],
          [
           2021,
           "Bear Peak",
           2742.78,
           "Run"
          ],
          [
           2018,
           "Green Mountain tour with Amy & Karin!",
           2208.01,
           "Run"
          ],
          [
           2016,
           "SoBo + Bear Peak + Green + Flagstaff",
           5200.13,
           "Run"
          ],
          [
           2017,
           "Bear Peak  (B50!)",
           2778.87,
           "Run"
          ],
          [
           2021,
           "2nd Flatiron -> Green",
           2874.02,
           "Run"
          ],
          [
           2022,
           "Sanitas x2",
           2322.83,
           "Run"
          ],
          [
           2020,
           "2nd Flatiron",
           1381.23,
           "Run"
          ],
          [
           2019,
           "Bear Peak + SoBo w/Stephen!",
           3392.39,
           "Run"
          ],
          [
           2017,
           "First Bear Peak of the year! (B1)",
           2604.99,
           "Run"
          ],
          [
           2021,
           "Lunch Run",
           941.6,
           "Run"
          ],
          [
           2017,
           "Bear Peak (B52). Up Fern/Down Shadow with Friends!",
           3172.57,
           "Run"
          ],
          [
           2018,
           "2nd Flatiron",
           1220.47,
           "Run"
          ],
          [
           2018,
           "Bear Peak (B14)",
           2755.91,
           "Run"
          ],
          [
           2019,
           "Black Project",
           1791.34,
           "Ride"
          ],
          [
           2020,
           "Sanitas",
           1269.69,
           "Run"
          ],
          [
           2020,
           "Rayback",
           360.89,
           "Ride"
          ],
          [
           2022,
           "Halfmoon creek",
           1151.57,
           "Ride"
          ],
          [
           2021,
           "2nd flatiron",
           1567.91,
           "Run"
          ],
          [
           2020,
           "Belford & Oxford",
           8881.23,
           "Run"
          ],
          [
           2018,
           "Longs Peak",
           5436.35,
           "Run"
          ],
          [
           2019,
           "Morning Laps w/Ben",
           3100.39,
           "BackcountrySki"
          ],
          [
           2021,
           "Green",
           2811.68,
           "Run"
          ],
          [
           2019,
           "A-Park Ski",
           2641.08,
           "BackcountrySki"
          ],
          [
           2016,
           "Mt. Evans",
           1742.13,
           "Run"
          ],
          [
           2021,
           "Regency - RA",
           1348.43,
           "Run"
          ],
          [
           2021,
           "Green WR",
           721.78,
           "Run"
          ],
          [
           2020,
           "Regency-> RA-> Hammerhead",
           1696.19,
           "Run"
          ],
          [
           2020,
           "Skyline",
           6184.38,
           "Run"
          ],
          [
           2018,
           "Regency-->Royal Arch Scramble w/Nick",
           1282.81,
           "Run"
          ],
          [
           2018,
           "1st Flatironette",
           1066.27,
           "Run"
          ],
          [
           2022,
           "Incline -> Powerhair",
           564.3,
           "Run"
          ],
          [
           2020,
           "Sanitas",
           1466.54,
           "Run"
          ],
          [
           2022,
           "Kohler Ski",
           1761.81,
           "BackcountrySki"
          ],
          [
           2020,
           "Treadmill Hike",
           2216.86,
           "Run"
          ],
          [
           2017,
           "Afternoon Run",
           1187.66,
           "Run"
          ],
          [
           2017,
           "Bear Peak w/Amy! (B29)",
           2660.76,
           "Run"
          ],
          [
           2017,
           "Sanitas",
           1692.91,
           "Run"
          ],
          [
           2017,
           "2nd Flatiron",
           1322.51,
           "Run"
          ],
          [
           2017,
           "Bear Peak (B37)",
           2778.87,
           "Run"
          ],
          [
           2018,
           "2nd Flatiron w/Nick",
           1377.95,
           "Run"
          ],
          [
           2022,
           "Lunch Run",
           633.2,
           "Run"
          ],
          [
           2017,
           "Bear Peak",
           2470.47,
           "Run"
          ],
          [
           2021,
           "Bear Peak",
           2926.51,
           "Run"
          ],
          [
           2018,
           "2nd Flatiron-->Spyronette Scramble w/Nick",
           1669.95,
           "Run"
          ],
          [
           2018,
           "Bear Peak",
           3126.64,
           "Run"
          ],
          [
           2017,
           "Bear Peak",
           2713.25,
           "Run"
          ],
          [
           2018,
           "Eldora Skimo Laps",
           2116.14,
           "BackcountrySki"
          ],
          [
           2017,
           "Mesa Out-n-Back",
           2532.81,
           "Run"
          ],
          [
           2022,
           "Caves Trail ",
           931.76,
           "Run"
          ],
          [
           2016,
           "Got lost. And then 3 became 7.",
           823.49,
           "Run"
          ],
          [
           2019,
           "Bear Peak w/Elliot and Liz",
           2736.22,
           "Run"
          ],
          [
           2016,
           "2nd Flatiron & 1st Flatironette w/Simon",
           1466.54,
           "Run"
          ],
          [
           2019,
           "SoBo-->Bear Peak",
           3389.11,
           "Run"
          ],
          [
           2022,
           "Bear Peak",
           2706.69,
           "Run"
          ],
          [
           2019,
           "Dog Jaunt",
           196.85,
           "Run"
          ],
          [
           2018,
           "Bear Peak (B19)",
           2893.7,
           "Run"
          ],
          [
           2020,
           "Sunlight Mountain",
           5091.86,
           "BackcountrySki"
          ],
          [
           2017,
           "Bear Peak",
           2870.74,
           "Run"
          ],
          [
           2016,
           "Quick jaunt up Sanitas",
           1299.21,
           "Run"
          ],
          [
           2018,
           "Afternoon Ride",
           1709.97,
           "Ride"
          ],
          [
           2021,
           "2nd Flatiron",
           1610.89,
           "Run"
          ],
          [
           2016,
           "Cautiously rebuilding.",
           164.04,
           "Run"
          ],
          [
           2020,
           "Bear Peak",
           2791.01,
           "Run"
          ],
          [
           2019,
           "Sanitas w/Queen, Obo, J-Roc",
           1368.11,
           "Run"
          ],
          [
           2021,
           "Sanitas",
           1268.7,
           "Run"
          ],
          [
           2019,
           "Bear Canyon on Skis!",
           1361.55,
           "BackcountrySki"
          ],
          [
           2018,
           "2nd Flatiron + Green",
           2978.35,
           "Run"
          ],
          [
           2021,
           "Shavano & Tabeguache",
           5346.13,
           "Run"
          ],
          [
           2016,
           "Lunch Run",
           761.48,
           "Run"
          ],
          [
           2021,
           "Lunch Run",
           843.18,
           "Run"
          ],
          [
           2016,
           "Mosey around the 1st/2nd",
           1601.05,
           "Run"
          ],
          [
           2017,
           "Bear Peak (B28)",
           2900.26,
           "Run"
          ],
          [
           2020,
           "Bear Peak",
           2785.43,
           "Run"
          ],
          [
           2017,
           "Long's Peak (14,255')",
           5100.07,
           "Run"
          ],
          [
           2020,
           "2nd Flatiron + 1st flatironette",
           1509.19,
           "Run"
          ],
          [
           2020,
           "2nd flatiron by lamp",
           1295.93,
           "Run"
          ],
          [
           2017,
           "Taper lap up Sanitas (S12)",
           1158.14,
           "Run"
          ],
          [
           2019,
           "Bear Peak (B4)",
           2835.96,
           "Run"
          ],
          [
           2020,
           "Green",
           2470.47,
           "Run"
          ],
          [
           2017,
           "Mt. Massive",
           3622.05,
           "Run"
          ],
          [
           2021,
           "Bear Peak + Sobo",
           4120.74,
           "Run"
          ],
          [
           2019,
           "Bear Peak (B3) + SoBo",
           3667.98,
           "Run"
          ],
          [
           2016,
           "Bear Peak Climb w/Simon. Snow. Mountain Lion.",
           2755.91,
           "Run"
          ],
          [
           2020,
           "2nd & 1st Flatironette",
           1291.99,
           "Run"
          ],
          [
           2017,
           "Bear Peak + Sobo",
           3162.73,
           "Run"
          ],
          [
           2018,
           "Bear Peak (B28)",
           2729.66,
           "Run"
          ],
          [
           2017,
           "Scouting the route to Shirttail Peak w/Nick",
           2024.28,
           "Run"
          ],
          [
           2020,
           "2nd Flatiron",
           1555.12,
           "Run"
          ],
          [
           2021,
           "The morning after",
           925.2,
           "Run"
          ],
          [
           2022,
           "Afternoon Run",
           265.75,
           "Run"
          ],
          [
           2020,
           "Bear Peak",
           2611.55,
           "Run"
          ],
          [
           2017,
           "Mt. Elbert",
           4327.43,
           "Run"
          ],
          [
           2020,
           "Allenspark Ski",
           1671.26,
           "BackcountrySki"
          ],
          [
           2020,
           "Winter Park",
           3106.96,
           "BackcountrySki"
          ],
          [
           2018,
           "Eldora Nordic Trails w/Olivia",
           1656.82,
           "NordicSki"
          ],
          [
           2017,
           "Climbin' rocks w/Dán",
           1446.85,
           "Run"
          ],
          [
           2018,
           "Sanitas x5",
           6706.04,
           "Run"
          ]
         ],
         "hovertemplate": "Name: %{customdata[1]}<br>Type: %{customdata[3]}<br>Date: %{x} %{y}, %{customdata[0]}<br>Elevation: %{customdata[2]}",
         "legendgroup": "",
         "marker": {
          "color": [
           787.4,
           1817.59,
           3553.15,
           2142.39,
           3054.46,
           134.51,
           2053.81,
           816.93,
           1292.65,
           1394.36,
           2516.4,
           2611.55,
           226.38,
           2759.19,
           3674.54,
           4035.43,
           1289.37,
           1250,
           1302.49,
           830.05,
           2322.83,
           2375.33,
           1315.62,
           2979,
           2844.49,
           2135.83,
           3366.14,
           935.04,
           767.72,
           7742.78,
           3868.11,
           2732.94,
           3674.54,
           1341.86,
           1532.15,
           3113.52,
           1338.58,
           1410.76,
           3759.84,
           1814.3,
           1135.17,
           2795.28,
           3024.93,
           3944.88,
           1509.19,
           5839.9,
           5685.7,
           2101.05,
           921.92,
           2480.32,
           3766.4,
           3110.24,
           4232.28,
           380.58,
           2808.4,
           1814.3,
           2260.5,
           3996.06,
           2844.49,
           711.94,
           3080.71,
           2742.78,
           462.6,
           2778.87,
           1227.03,
           2772.31,
           2818.24,
           1118.77,
           6236.88,
           1624.02,
           2273.62,
           1184.38,
           101.71,
           2837.93,
           1948.82,
           5413.39,
           1276.25,
           2716.54,
           2788.71,
           2667.32,
           2280.18,
           1322.18,
           3438.32,
           1712.6,
           2769.03,
           2778.87,
           1499.34,
           4738.85,
           688.98,
           2752.62,
           2782.15,
           2559.06,
           1732.28,
           3028.22,
           3743.44,
           3628.61,
           1256.56,
           2888.45,
           2841.21,
           3094.49,
           7437.66,
           1556.43,
           1541.99,
           1397.64,
           1348.43,
           1805.77,
           3822.18,
           4360.24,
           1515.75,
           2982.28,
           3083.99,
           2739.5,
           3238.19,
           3293.96,
           1440.29,
           8215.22,
           1417.32,
           3136.48,
           3117.45,
           4940.95,
           2847.77,
           1456.69,
           2047.24,
           4199.48,
           11538.71,
           1509.51,
           1940.94,
           1307.74,
           1417.32,
           3074.15,
           3700.79,
           3375.98,
           1459.97,
           1702.1,
           1177.82,
           639.76,
           1246.72,
           1978.35,
           1446.85,
           2664.04,
           2539.37,
           2087.93,
           2880.58,
           3428.48,
           2988.85,
           1469.82,
           2080.05,
           7089.9,
           495.41,
           3018.37,
           2785.43,
           1400.92,
           3303.81,
           4647.64,
           3374.67,
           3008.53,
           3061.02,
           1535.43,
           908.79,
           2329.4,
           741.47,
           511.81,
           1581.36,
           918.64,
           1938.98,
           1315.62,
           2214.57,
           3792.65,
           3044.62,
           2880.58,
           3064.3,
           2982.28,
           2775.59,
           3546.59,
           2244.09,
           1627.3,
           1305.77,
           1335.3,
           2716.54,
           2611.55,
           2837.93,
           2808.4,
           3540.03,
           5797.24,
           4340.55,
           1689.63,
           3106.96,
           1335.3,
           1217.19,
           1410.76,
           2874.02,
           4297.9,
           1610.89,
           1269.69,
           2824.8,
           1263.12,
           1427.17,
           639.76,
           2831.36,
           1730.32,
           5000,
           3435.04,
           2844.49,
           1248.03,
           2782.15,
           1312.34,
           1643.7,
           1673.23,
           2854.33,
           1377.95,
           2866.14,
           1558.4,
           6574.8,
           1700.13,
           5974.41,
           1341.86,
           1564.96,
           1405.51,
           390.42,
           1332.02,
           1942.26,
           1043.31,
           3159.45,
           1089.24,
           708.66,
           1394.36,
           2018.37,
           3408.79,
           2992.13,
           118.11,
           2329.4,
           4274.93,
           3079.4,
           1322.18,
           2762.47,
           1827.43,
           1732.28,
           3595.8,
           3532.48,
           2843.5,
           685.7,
           6128.61,
           242.78,
           4786.75,
           2759.19,
           777.56,
           1272.97,
           1437.01,
           1295.93,
           2737.53,
           3956.69,
           1400.92,
           2041.34,
           1246.72,
           1384.51,
           1863.52,
           1574.8,
           5780.84,
           1938.98,
           2769.03,
           1200.13,
           2985.56,
           1909.45,
           2621.39,
           3471.13,
           3490.81,
           2713.25,
           1793.31,
           2742.78,
           2208.01,
           5200.13,
           2778.87,
           2874.02,
           2322.83,
           1381.23,
           3392.39,
           2604.99,
           941.6,
           3172.57,
           1220.47,
           2755.91,
           1791.34,
           1269.69,
           360.89,
           1151.57,
           1567.91,
           8881.23,
           5436.35,
           3100.39,
           2811.68,
           2641.08,
           1742.13,
           1348.43,
           721.78,
           1696.19,
           6184.38,
           1282.81,
           1066.27,
           564.3,
           1466.54,
           1761.81,
           2216.86,
           1187.66,
           2660.76,
           1692.91,
           1322.51,
           2778.87,
           1377.95,
           633.2,
           2470.47,
           2926.51,
           1669.95,
           3126.64,
           2713.25,
           2116.14,
           2532.81,
           931.76,
           823.49,
           2736.22,
           1466.54,
           3389.11,
           2706.69,
           196.85,
           2893.7,
           5091.86,
           2870.74,
           1299.21,
           1709.97,
           1610.89,
           164.04,
           2791.01,
           1368.11,
           1268.7,
           1361.55,
           2978.35,
           5346.13,
           761.48,
           843.18,
           1601.05,
           2900.26,
           2785.43,
           5100.07,
           1509.19,
           1295.93,
           1158.14,
           2835.96,
           2470.47,
           3622.05,
           4120.74,
           3667.98,
           2755.91,
           1291.99,
           3162.73,
           2729.66,
           2024.28,
           1555.12,
           925.2,
           265.75,
           2611.55,
           4327.43,
           1671.26,
           3106.96,
           1656.82,
           1446.85,
           6706.04
          ],
          "coloraxis": "coloraxis",
          "size": [
           1.48,
           2.3,
           2.46,
           2.46,
           1.95,
           0.82,
           2.07,
           1.44,
           1.36,
           1.38,
           2.66,
           1.4,
           1.52,
           3.77,
           2.58,
           3.28,
           1.12,
           1.19,
           1.58,
           1.05,
           3.37,
           1.78,
           0.88,
           3.17,
           3.37,
           1.79,
           2.21,
           1.22,
           1.16,
           8.88,
           3.91,
           1.98,
           4.89,
           1.02,
           2.12,
           2.8,
           1.56,
           1.27,
           3.41,
           1.61,
           1.99,
           2.25,
           3.68,
           3.84,
           1.69,
           8.6,
           9.76,
           1.95,
           1.02,
           2.71,
           4.04,
           2.81,
           3.43,
           0.46,
           1.67,
           2.06,
           3.14,
           5.55,
           2.55,
           0.82,
           2.19,
           2.12,
           1.1,
           3.16,
           1.29,
           2.12,
           2.21,
           1.68,
           6.99,
           3.18,
           3.29,
           1.95,
           0.63,
           2.94,
           2.41,
           3.93,
           1.61,
           1.78,
           2,
           3.79,
           3.41,
           1.23,
           3.89,
           3.04,
           1.91,
           2.37,
           1.69,
           3.76,
           1.52,
           1.92,
           2.09,
           2,
           1.43,
           2.57,
           4.69,
           4.55,
           1.65,
           2.29,
           2.27,
           3.75,
           11.07,
           2.16,
           2.45,
           1.99,
           1.12,
           1.59,
           3.08,
           4.35,
           2.19,
           3.35,
           2.15,
           1.79,
           3.92,
           5.35,
           1.71,
           8.55,
           1.45,
           3.23,
           2.44,
           5.43,
           2.86,
           1.35,
           1.78,
           6.29,
           14.94,
           1.8,
           1.68,
           1.08,
           1.8,
           2.21,
           3.84,
           5.31,
           2.15,
           0.5,
           0.5,
           0.71,
           1.29,
           2.24,
           1.42,
           5.05,
           1.8,
           1.47,
           2.19,
           3.46,
           2.6,
           2.32,
           2.31,
           3.98,
           1.2,
           2.74,
           2.08,
           1.3,
           3.16,
           5.04,
           4.27,
           3.65,
           2.21,
           2.43,
           0.87,
           2.36,
           0.86,
           0.82,
           0.65,
           3.24,
           1.91,
           0.86,
           2,
           4.22,
           2.42,
           4.71,
           2.6,
           3.97,
           2.91,
           9.16,
           3.67,
           1.34,
           1.58,
           1.23,
           2.84,
           2.07,
           2.27,
           2.04,
           3,
           6.28,
           4.04,
           1.92,
           3.72,
           1.3,
           1.07,
           1.52,
           3.81,
           6.8,
           2.07,
           1.17,
           1.94,
           1.49,
           1.87,
           1.34,
           1.8,
           2.15,
           8.46,
           3.19,
           2.31,
           1.16,
           3.58,
           1.48,
           1.09,
           4.78,
           2.66,
           1.75,
           6.06,
           2.26,
           10.93,
           2,
           6.44,
           1.21,
           2.02,
           1.19,
           1.01,
           2.29,
           2.38,
           1.35,
           3.26,
           1.38,
           0.74,
           1.48,
           5.27,
           4.34,
           1.52,
           0.62,
           2.54,
           3.55,
           2.9,
           1.77,
           2.61,
           2.14,
           1.4,
           2.66,
           5.89,
           4.7,
           0.79,
           6.06,
           0.99,
           4.84,
           3.07,
           1.68,
           1.23,
           1.54,
           1.19,
           2.07,
           3.12,
           1.84,
           2.43,
           1.54,
           1.23,
           3.14,
           1.86,
           8.31,
           2.35,
           2.35,
           0.5,
           1.89,
           3.01,
           3.92,
           3.33,
           2.91,
           1.95,
           2.32,
           2.34,
           2.56,
           5.44,
           2.68,
           2.85,
           1.94,
           1.24,
           2.99,
           2.19,
           0.72,
           2.79,
           1.27,
           2.17,
           3.14,
           1.56,
           3.41,
           2.04,
           1.07,
           6.14,
           6.79,
           2.21,
           3.24,
           2,
           3.25,
           2.52,
           1.34,
           2.48,
           9.8,
           1.39,
           0.99,
           0.66,
           1.56,
           1.82,
           1,
           1.17,
           2.21,
           2.39,
           1.38,
           2.13,
           1.11,
           0.57,
           2.26,
           2.95,
           1.64,
           2.22,
           1.91,
           1.79,
           2.72,
           0.83,
           1.61,
           3.94,
           1.93,
           2.17,
           2.59,
           0.33,
           2.46,
           5.49,
           2.35,
           0.93,
           2.81,
           1.42,
           0.63,
           3.14,
           1.79,
           1.23,
           1.88,
           3.08,
           6.75,
           1.55,
           0.78,
           1.8,
           2.16,
           2.4,
           6.5,
           1.83,
           1.75,
           1.33,
           2.23,
           2.48,
           4.72,
           3.15,
           2.76,
           1.13,
           1.89,
           4.65,
           2.01,
           2.62,
           2.08,
           0.94,
           0.73,
           2.41,
           5.39,
           1.48,
           2.73,
           1.44,
           2.34,
           5.48
          ],
          "sizemode": "area",
          "sizeref": 0.03735,
          "symbol": "circle"
         },
         "mode": "markers",
         "name": "",
         "orientation": "v",
         "showlegend": false,
         "type": "scatter",
         "x": [
          "October",
          "May",
          "March",
          "July",
          "January",
          "December",
          "August",
          "September",
          "October",
          "November",
          "May",
          "March",
          "June",
          "July",
          "January",
          "December",
          "August",
          "April",
          "September",
          "October",
          "November",
          "May",
          "March",
          "June",
          "July",
          "January",
          "December",
          "August",
          "April",
          "September",
          "October",
          "November",
          "May",
          "March",
          "June",
          "July",
          "January",
          "February",
          "December",
          "August",
          "April",
          "September",
          "October",
          "November",
          "May",
          "March",
          "June",
          "July",
          "January",
          "February",
          "December",
          "August",
          "April",
          "September",
          "October",
          "November",
          "May",
          "March",
          "June",
          "July",
          "January",
          "February",
          "December",
          "August",
          "April",
          "September",
          "October",
          "November",
          "May",
          "March",
          "June",
          "July",
          "January",
          "February",
          "December",
          "August",
          "April",
          "September",
          "October",
          "November",
          "May",
          "March",
          "June",
          "July",
          "January",
          "February",
          "December",
          "August",
          "April",
          "September",
          "October",
          "November",
          "May",
          "March",
          "June",
          "July",
          "January",
          "February",
          "December",
          "August",
          "April",
          "September",
          "October",
          "November",
          "May",
          "March",
          "June",
          "July",
          "January",
          "February",
          "December",
          "August",
          "April",
          "September",
          "October",
          "November",
          "May",
          "March",
          "June",
          "July",
          "January",
          "February",
          "December",
          "August",
          "April",
          "September",
          "October",
          "November",
          "May",
          "March",
          "June",
          "July",
          "January",
          "February",
          "December",
          "August",
          "April",
          "September",
          "October",
          "November",
          "May",
          "March",
          "June",
          "July",
          "January",
          "February",
          "December",
          "August",
          "April",
          "September",
          "October",
          "November",
          "May",
          "March",
          "June",
          "July",
          "January",
          "February",
          "December",
          "August",
          "April",
          "September",
          "October",
          "November",
          "May",
          "March",
          "June",
          "July",
          "January",
          "February",
          "December",
          "August",
          "April",
          "September",
          "October",
          "November",
          "May",
          "March",
          "June",
          "July",
          "January",
          "February",
          "December",
          "August",
          "April",
          "September",
          "October",
          "November",
          "May",
          "March",
          "June",
          "July",
          "January",
          "February",
          "December",
          "August",
          "April",
          "September",
          "October",
          "November",
          "May",
          "March",
          "June",
          "July",
          "January",
          "February",
          "December",
          "August",
          "April",
          "September",
          "October",
          "November",
          "May",
          "March",
          "June",
          "July",
          "January",
          "February",
          "December",
          "August",
          "April",
          "September",
          "October",
          "November",
          "May",
          "March",
          "June",
          "July",
          "January",
          "February",
          "December",
          "August",
          "April",
          "September",
          "October",
          "November",
          "May",
          "March",
          "June",
          "July",
          "January",
          "February",
          "December",
          "August",
          "April",
          "September",
          "October",
          "November",
          "May",
          "March",
          "June",
          "July",
          "January",
          "February",
          "December",
          "August",
          "April",
          "September",
          "October",
          "November",
          "May",
          "March",
          "June",
          "July",
          "January",
          "February",
          "December",
          "August",
          "April",
          "September",
          "October",
          "November",
          "May",
          "March",
          "June",
          "July",
          "January",
          "February",
          "December",
          "August",
          "April",
          "September",
          "October",
          "November",
          "May",
          "March",
          "June",
          "July",
          "January",
          "February",
          "December",
          "August",
          "April",
          "September",
          "October",
          "November",
          "May",
          "March",
          "June",
          "July",
          "January",
          "February",
          "December",
          "August",
          "April",
          "September",
          "October",
          "November",
          "May",
          "March",
          "June",
          "July",
          "January",
          "February",
          "December",
          "August",
          "April",
          "September",
          "October",
          "November",
          "May",
          "March",
          "June",
          "July",
          "January",
          "February",
          "December",
          "August",
          "April",
          "September",
          "October",
          "November",
          "May",
          "March",
          "June",
          "July",
          "January",
          "February",
          "December",
          "August",
          "April",
          "September",
          "October",
          "November",
          "May",
          "March",
          "June",
          "July",
          "January",
          "February",
          "December",
          "August",
          "April",
          "September",
          "October",
          "November",
          "May",
          "March",
          "June",
          "July",
          "January",
          "February",
          "December",
          "August",
          "April"
         ],
         "xaxis": "x",
         "y": [
          31,
          31,
          31,
          31,
          31,
          31,
          31,
          30,
          30,
          30,
          30,
          30,
          30,
          30,
          30,
          30,
          30,
          30,
          29,
          29,
          29,
          29,
          29,
          29,
          29,
          29,
          29,
          29,
          29,
          28,
          28,
          28,
          28,
          28,
          28,
          28,
          28,
          28,
          28,
          28,
          28,
          27,
          27,
          27,
          27,
          27,
          27,
          27,
          27,
          27,
          27,
          27,
          27,
          26,
          26,
          26,
          26,
          26,
          26,
          26,
          26,
          26,
          26,
          26,
          26,
          25,
          25,
          25,
          25,
          25,
          25,
          25,
          25,
          25,
          25,
          25,
          25,
          24,
          24,
          24,
          24,
          24,
          24,
          24,
          24,
          24,
          24,
          24,
          24,
          23,
          23,
          23,
          23,
          23,
          23,
          23,
          23,
          23,
          23,
          23,
          23,
          22,
          22,
          22,
          22,
          22,
          22,
          22,
          22,
          22,
          22,
          22,
          22,
          21,
          21,
          21,
          21,
          21,
          21,
          21,
          21,
          21,
          21,
          21,
          21,
          20,
          20,
          20,
          20,
          20,
          20,
          20,
          20,
          20,
          20,
          20,
          20,
          19,
          19,
          19,
          19,
          19,
          19,
          19,
          19,
          19,
          19,
          19,
          19,
          18,
          18,
          18,
          18,
          18,
          18,
          18,
          18,
          18,
          18,
          18,
          18,
          17,
          17,
          17,
          17,
          17,
          17,
          17,
          17,
          17,
          17,
          17,
          17,
          16,
          16,
          16,
          16,
          16,
          16,
          16,
          16,
          16,
          16,
          16,
          16,
          15,
          15,
          15,
          15,
          15,
          15,
          15,
          15,
          15,
          15,
          15,
          15,
          14,
          14,
          14,
          14,
          14,
          14,
          14,
          14,
          14,
          14,
          14,
          14,
          13,
          13,
          13,
          13,
          13,
          13,
          13,
          13,
          13,
          13,
          13,
          13,
          12,
          12,
          12,
          12,
          12,
          12,
          12,
          12,
          12,
          12,
          12,
          12,
          11,
          11,
          11,
          11,
          11,
          11,
          11,
          11,
          11,
          11,
          11,
          11,
          10,
          10,
          10,
          10,
          10,
          10,
          10,
          10,
          10,
          10,
          10,
          10,
          9,
          9,
          9,
          9,
          9,
          9,
          9,
          9,
          9,
          9,
          9,
          9,
          8,
          8,
          8,
          8,
          8,
          8,
          8,
          8,
          8,
          8,
          8,
          8,
          7,
          7,
          7,
          7,
          7,
          7,
          7,
          7,
          7,
          7,
          7,
          7,
          6,
          6,
          6,
          6,
          6,
          6,
          6,
          6,
          6,
          6,
          6,
          6,
          5,
          5,
          5,
          5,
          5,
          5,
          5,
          5,
          5,
          5,
          5,
          5,
          4,
          4,
          4,
          4,
          4,
          4,
          4,
          4,
          4,
          4,
          4,
          4,
          3,
          3,
          3,
          3,
          3,
          3,
          3,
          3,
          3,
          3,
          3,
          3,
          2,
          2,
          2,
          2,
          2,
          2,
          2,
          2,
          2,
          2,
          2,
          2,
          1,
          1,
          1,
          1,
          1,
          1,
          1,
          1,
          1,
          1,
          1,
          1
         ],
         "yaxis": "y"
        }
       ],
       "layout": {
        "coloraxis": {
         "colorbar": {
          "title": {
           "text": "total_elevation_gain"
          }
         },
         "colorscale": [
          [
           0,
           "#0d0887"
          ],
          [
           0.1111111111111111,
           "#46039f"
          ],
          [
           0.2222222222222222,
           "#7201a8"
          ],
          [
           0.3333333333333333,
           "#9c179e"
          ],
          [
           0.4444444444444444,
           "#bd3786"
          ],
          [
           0.5555555555555556,
           "#d8576b"
          ],
          [
           0.6666666666666666,
           "#ed7953"
          ],
          [
           0.7777777777777778,
           "#fb9f3a"
          ],
          [
           0.8888888888888888,
           "#fdca26"
          ],
          [
           1,
           "#f0f921"
          ]
         ]
        },
        "legend": {
         "itemsizing": "constant",
         "tracegroupgap": 0
        },
        "margin": {
         "t": 60
        },
        "template": {
         "data": {
          "bar": [
           {
            "error_x": {
             "color": "#2a3f5f"
            },
            "error_y": {
             "color": "#2a3f5f"
            },
            "marker": {
             "line": {
              "color": "#E5ECF6",
              "width": 0.5
             },
             "pattern": {
              "fillmode": "overlay",
              "size": 10,
              "solidity": 0.2
             }
            },
            "type": "bar"
           }
          ],
          "barpolar": [
           {
            "marker": {
             "line": {
              "color": "#E5ECF6",
              "width": 0.5
             },
             "pattern": {
              "fillmode": "overlay",
              "size": 10,
              "solidity": 0.2
             }
            },
            "type": "barpolar"
           }
          ],
          "carpet": [
           {
            "aaxis": {
             "endlinecolor": "#2a3f5f",
             "gridcolor": "white",
             "linecolor": "white",
             "minorgridcolor": "white",
             "startlinecolor": "#2a3f5f"
            },
            "baxis": {
             "endlinecolor": "#2a3f5f",
             "gridcolor": "white",
             "linecolor": "white",
             "minorgridcolor": "white",
             "startlinecolor": "#2a3f5f"
            },
            "type": "carpet"
           }
          ],
          "choropleth": [
           {
            "colorbar": {
             "outlinewidth": 0,
             "ticks": ""
            },
            "type": "choropleth"
           }
          ],
          "contour": [
           {
            "colorbar": {
             "outlinewidth": 0,
             "ticks": ""
            },
            "colorscale": [
             [
              0,
              "#0d0887"
             ],
             [
              0.1111111111111111,
              "#46039f"
             ],
             [
              0.2222222222222222,
              "#7201a8"
             ],
             [
              0.3333333333333333,
              "#9c179e"
             ],
             [
              0.4444444444444444,
              "#bd3786"
             ],
             [
              0.5555555555555556,
              "#d8576b"
             ],
             [
              0.6666666666666666,
              "#ed7953"
             ],
             [
              0.7777777777777778,
              "#fb9f3a"
             ],
             [
              0.8888888888888888,
              "#fdca26"
             ],
             [
              1,
              "#f0f921"
             ]
            ],
            "type": "contour"
           }
          ],
          "contourcarpet": [
           {
            "colorbar": {
             "outlinewidth": 0,
             "ticks": ""
            },
            "type": "contourcarpet"
           }
          ],
          "heatmap": [
           {
            "colorbar": {
             "outlinewidth": 0,
             "ticks": ""
            },
            "colorscale": [
             [
              0,
              "#0d0887"
             ],
             [
              0.1111111111111111,
              "#46039f"
             ],
             [
              0.2222222222222222,
              "#7201a8"
             ],
             [
              0.3333333333333333,
              "#9c179e"
             ],
             [
              0.4444444444444444,
              "#bd3786"
             ],
             [
              0.5555555555555556,
              "#d8576b"
             ],
             [
              0.6666666666666666,
              "#ed7953"
             ],
             [
              0.7777777777777778,
              "#fb9f3a"
             ],
             [
              0.8888888888888888,
              "#fdca26"
             ],
             [
              1,
              "#f0f921"
             ]
            ],
            "type": "heatmap"
           }
          ],
          "heatmapgl": [
           {
            "colorbar": {
             "outlinewidth": 0,
             "ticks": ""
            },
            "colorscale": [
             [
              0,
              "#0d0887"
             ],
             [
              0.1111111111111111,
              "#46039f"
             ],
             [
              0.2222222222222222,
              "#7201a8"
             ],
             [
              0.3333333333333333,
              "#9c179e"
             ],
             [
              0.4444444444444444,
              "#bd3786"
             ],
             [
              0.5555555555555556,
              "#d8576b"
             ],
             [
              0.6666666666666666,
              "#ed7953"
             ],
             [
              0.7777777777777778,
              "#fb9f3a"
             ],
             [
              0.8888888888888888,
              "#fdca26"
             ],
             [
              1,
              "#f0f921"
             ]
            ],
            "type": "heatmapgl"
           }
          ],
          "histogram": [
           {
            "marker": {
             "pattern": {
              "fillmode": "overlay",
              "size": 10,
              "solidity": 0.2
             }
            },
            "type": "histogram"
           }
          ],
          "histogram2d": [
           {
            "colorbar": {
             "outlinewidth": 0,
             "ticks": ""
            },
            "colorscale": [
             [
              0,
              "#0d0887"
             ],
             [
              0.1111111111111111,
              "#46039f"
             ],
             [
              0.2222222222222222,
              "#7201a8"
             ],
             [
              0.3333333333333333,
              "#9c179e"
             ],
             [
              0.4444444444444444,
              "#bd3786"
             ],
             [
              0.5555555555555556,
              "#d8576b"
             ],
             [
              0.6666666666666666,
              "#ed7953"
             ],
             [
              0.7777777777777778,
              "#fb9f3a"
             ],
             [
              0.8888888888888888,
              "#fdca26"
             ],
             [
              1,
              "#f0f921"
             ]
            ],
            "type": "histogram2d"
           }
          ],
          "histogram2dcontour": [
           {
            "colorbar": {
             "outlinewidth": 0,
             "ticks": ""
            },
            "colorscale": [
             [
              0,
              "#0d0887"
             ],
             [
              0.1111111111111111,
              "#46039f"
             ],
             [
              0.2222222222222222,
              "#7201a8"
             ],
             [
              0.3333333333333333,
              "#9c179e"
             ],
             [
              0.4444444444444444,
              "#bd3786"
             ],
             [
              0.5555555555555556,
              "#d8576b"
             ],
             [
              0.6666666666666666,
              "#ed7953"
             ],
             [
              0.7777777777777778,
              "#fb9f3a"
             ],
             [
              0.8888888888888888,
              "#fdca26"
             ],
             [
              1,
              "#f0f921"
             ]
            ],
            "type": "histogram2dcontour"
           }
          ],
          "mesh3d": [
           {
            "colorbar": {
             "outlinewidth": 0,
             "ticks": ""
            },
            "type": "mesh3d"
           }
          ],
          "parcoords": [
           {
            "line": {
             "colorbar": {
              "outlinewidth": 0,
              "ticks": ""
             }
            },
            "type": "parcoords"
           }
          ],
          "pie": [
           {
            "automargin": true,
            "type": "pie"
           }
          ],
          "scatter": [
           {
            "fillpattern": {
             "fillmode": "overlay",
             "size": 10,
             "solidity": 0.2
            },
            "type": "scatter"
           }
          ],
          "scatter3d": [
           {
            "line": {
             "colorbar": {
              "outlinewidth": 0,
              "ticks": ""
             }
            },
            "marker": {
             "colorbar": {
              "outlinewidth": 0,
              "ticks": ""
             }
            },
            "type": "scatter3d"
           }
          ],
          "scattercarpet": [
           {
            "marker": {
             "colorbar": {
              "outlinewidth": 0,
              "ticks": ""
             }
            },
            "type": "scattercarpet"
           }
          ],
          "scattergeo": [
           {
            "marker": {
             "colorbar": {
              "outlinewidth": 0,
              "ticks": ""
             }
            },
            "type": "scattergeo"
           }
          ],
          "scattergl": [
           {
            "marker": {
             "colorbar": {
              "outlinewidth": 0,
              "ticks": ""
             }
            },
            "type": "scattergl"
           }
          ],
          "scattermapbox": [
           {
            "marker": {
             "colorbar": {
              "outlinewidth": 0,
              "ticks": ""
             }
            },
            "type": "scattermapbox"
           }
          ],
          "scatterpolar": [
           {
            "marker": {
             "colorbar": {
              "outlinewidth": 0,
              "ticks": ""
             }
            },
            "type": "scatterpolar"
           }
          ],
          "scatterpolargl": [
           {
            "marker": {
             "colorbar": {
              "outlinewidth": 0,
              "ticks": ""
             }
            },
            "type": "scatterpolargl"
           }
          ],
          "scatterternary": [
           {
            "marker": {
             "colorbar": {
              "outlinewidth": 0,
              "ticks": ""
             }
            },
            "type": "scatterternary"
           }
          ],
          "surface": [
           {
            "colorbar": {
             "outlinewidth": 0,
             "ticks": ""
            },
            "colorscale": [
             [
              0,
              "#0d0887"
             ],
             [
              0.1111111111111111,
              "#46039f"
             ],
             [
              0.2222222222222222,
              "#7201a8"
             ],
             [
              0.3333333333333333,
              "#9c179e"
             ],
             [
              0.4444444444444444,
              "#bd3786"
             ],
             [
              0.5555555555555556,
              "#d8576b"
             ],
             [
              0.6666666666666666,
              "#ed7953"
             ],
             [
              0.7777777777777778,
              "#fb9f3a"
             ],
             [
              0.8888888888888888,
              "#fdca26"
             ],
             [
              1,
              "#f0f921"
             ]
            ],
            "type": "surface"
           }
          ],
          "table": [
           {
            "cells": {
             "fill": {
              "color": "#EBF0F8"
             },
             "line": {
              "color": "white"
             }
            },
            "header": {
             "fill": {
              "color": "#C8D4E3"
             },
             "line": {
              "color": "white"
             }
            },
            "type": "table"
           }
          ]
         },
         "layout": {
          "annotationdefaults": {
           "arrowcolor": "#2a3f5f",
           "arrowhead": 0,
           "arrowwidth": 1
          },
          "autotypenumbers": "strict",
          "coloraxis": {
           "colorbar": {
            "outlinewidth": 0,
            "ticks": ""
           }
          },
          "colorscale": {
           "diverging": [
            [
             0,
             "#8e0152"
            ],
            [
             0.1,
             "#c51b7d"
            ],
            [
             0.2,
             "#de77ae"
            ],
            [
             0.3,
             "#f1b6da"
            ],
            [
             0.4,
             "#fde0ef"
            ],
            [
             0.5,
             "#f7f7f7"
            ],
            [
             0.6,
             "#e6f5d0"
            ],
            [
             0.7,
             "#b8e186"
            ],
            [
             0.8,
             "#7fbc41"
            ],
            [
             0.9,
             "#4d9221"
            ],
            [
             1,
             "#276419"
            ]
           ],
           "sequential": [
            [
             0,
             "#0d0887"
            ],
            [
             0.1111111111111111,
             "#46039f"
            ],
            [
             0.2222222222222222,
             "#7201a8"
            ],
            [
             0.3333333333333333,
             "#9c179e"
            ],
            [
             0.4444444444444444,
             "#bd3786"
            ],
            [
             0.5555555555555556,
             "#d8576b"
            ],
            [
             0.6666666666666666,
             "#ed7953"
            ],
            [
             0.7777777777777778,
             "#fb9f3a"
            ],
            [
             0.8888888888888888,
             "#fdca26"
            ],
            [
             1,
             "#f0f921"
            ]
           ],
           "sequentialminus": [
            [
             0,
             "#0d0887"
            ],
            [
             0.1111111111111111,
             "#46039f"
            ],
            [
             0.2222222222222222,
             "#7201a8"
            ],
            [
             0.3333333333333333,
             "#9c179e"
            ],
            [
             0.4444444444444444,
             "#bd3786"
            ],
            [
             0.5555555555555556,
             "#d8576b"
            ],
            [
             0.6666666666666666,
             "#ed7953"
            ],
            [
             0.7777777777777778,
             "#fb9f3a"
            ],
            [
             0.8888888888888888,
             "#fdca26"
            ],
            [
             1,
             "#f0f921"
            ]
           ]
          },
          "colorway": [
           "#636efa",
           "#EF553B",
           "#00cc96",
           "#ab63fa",
           "#FFA15A",
           "#19d3f3",
           "#FF6692",
           "#B6E880",
           "#FF97FF",
           "#FECB52"
          ],
          "font": {
           "color": "#2a3f5f"
          },
          "geo": {
           "bgcolor": "white",
           "lakecolor": "white",
           "landcolor": "#E5ECF6",
           "showlakes": true,
           "showland": true,
           "subunitcolor": "white"
          },
          "hoverlabel": {
           "align": "left"
          },
          "hovermode": "closest",
          "mapbox": {
           "style": "light"
          },
          "paper_bgcolor": "white",
          "plot_bgcolor": "#E5ECF6",
          "polar": {
           "angularaxis": {
            "gridcolor": "white",
            "linecolor": "white",
            "ticks": ""
           },
           "bgcolor": "#E5ECF6",
           "radialaxis": {
            "gridcolor": "white",
            "linecolor": "white",
            "ticks": ""
           }
          },
          "scene": {
           "xaxis": {
            "backgroundcolor": "#E5ECF6",
            "gridcolor": "white",
            "gridwidth": 2,
            "linecolor": "white",
            "showbackground": true,
            "ticks": "",
            "zerolinecolor": "white"
           },
           "yaxis": {
            "backgroundcolor": "#E5ECF6",
            "gridcolor": "white",
            "gridwidth": 2,
            "linecolor": "white",
            "showbackground": true,
            "ticks": "",
            "zerolinecolor": "white"
           },
           "zaxis": {
            "backgroundcolor": "#E5ECF6",
            "gridcolor": "white",
            "gridwidth": 2,
            "linecolor": "white",
            "showbackground": true,
            "ticks": "",
            "zerolinecolor": "white"
           }
          },
          "shapedefaults": {
           "line": {
            "color": "#2a3f5f"
           }
          },
          "ternary": {
           "aaxis": {
            "gridcolor": "white",
            "linecolor": "white",
            "ticks": ""
           },
           "baxis": {
            "gridcolor": "white",
            "linecolor": "white",
            "ticks": ""
           },
           "bgcolor": "#E5ECF6",
           "caxis": {
            "gridcolor": "white",
            "linecolor": "white",
            "ticks": ""
           }
          },
          "title": {
           "x": 0.05
          },
          "xaxis": {
           "automargin": true,
           "gridcolor": "white",
           "linecolor": "white",
           "ticks": "",
           "title": {
            "standoff": 15
           },
           "zerolinecolor": "white",
           "zerolinewidth": 2
          },
          "yaxis": {
           "automargin": true,
           "gridcolor": "white",
           "linecolor": "white",
           "ticks": "",
           "title": {
            "standoff": 15
           },
           "zerolinecolor": "white",
           "zerolinewidth": 2
          }
         }
        },
        "xaxis": {
         "anchor": "y",
         "categoryarray": [
          "January",
          "February",
          "March",
          "April",
          "May",
          "June",
          "July",
          "August",
          "September",
          "October",
          "November",
          "December"
         ],
         "categoryorder": "array",
         "domain": [
          0,
          1
         ],
         "title": {
          "text": "month"
         }
        },
        "yaxis": {
         "anchor": "x",
         "domain": [
          0,
          1
         ],
         "title": {
          "text": "day_of_month"
         }
        }
       }
      }
     },
     "metadata": {},
     "output_type": "display_data"
    }
   ],
   "source": [
    "scatter = px.scatter(df.loc[~df['type'].isin(omit_types)].sort_values(by=['day_of_month', 'month', 'total_elevation_gain'], ascending=False).drop_duplicates(subset=['day_of_month', 'month'])[['month', 'day_of_month', 'year', 'name', 'type', 'hours', 'total_elevation_gain']], \n",
    "                 x='month', \n",
    "                 y='day_of_month', \n",
    "                 color='total_elevation_gain', \n",
    "                 size='hours',\n",
    "                 custom_data=['year', 'name', 'total_elevation_gain', 'type'],\n",
    "                 category_orders={\"month\": [\"January\", \"February\", \"March\", \"April\", \"May\", \"June\", \"July\", \"August\", \"September\", \"October\", \"November\", \"December\"]})\n",
    "\n",
    "scatter.update_traces(\n",
    "    hovertemplate=\"<br>\".join([\n",
    "        \"Name: %{customdata[1]}\",\n",
    "        \"Type: %{customdata[3]}\",\n",
    "        \"Date: %{x} %{y}, %{customdata[0]}\",\n",
    "        #\"Month: %{x}\",\n",
    "        #\"Day: %{y}\",\n",
    "        #\"Year: %{customdata[0]}\",\n",
    "        \"Elevation: %{customdata[2]}\",\n",
    "    ])\n",
    ")\n",
    "\n",
    "scatter.show()"
   ]
  },
  {
   "cell_type": "code",
   "execution_count": 208,
   "metadata": {},
   "outputs": [
    {
     "data": {
      "application/vnd.plotly.v1+json": {
       "config": {
        "plotlyServerURL": "https://plot.ly"
       },
       "data": [
        {
         "alignmentgroup": "True",
         "hovertemplate": "type=BackcountrySki<br>month=%{x}<br>total_elevation_gain=%{y}<extra></extra>",
         "legendgroup": "BackcountrySki",
         "marker": {
          "color": "#636efa",
          "pattern": {
           "shape": ""
          }
         },
         "name": "BackcountrySki",
         "offsetgroup": "BackcountrySki",
         "orientation": "v",
         "showlegend": true,
         "textposition": "auto",
         "type": "bar",
         "x": [
          "April",
          "December",
          "February",
          "January",
          "March",
          "May",
          "November",
          "October"
         ],
         "xaxis": "x",
         "y": [
          3441.6,
          27089.87,
          19191.27,
          30973.08,
          7026.25,
          1023.63,
          14164.7,
          1607.61
         ],
         "yaxis": "y"
        },
        {
         "alignmentgroup": "True",
         "hovertemplate": "type=Ride<br>month=%{x}<br>total_elevation_gain=%{y}<extra></extra>",
         "legendgroup": "Ride",
         "marker": {
          "color": "#EF553B",
          "pattern": {
           "shape": ""
          }
         },
         "name": "Ride",
         "offsetgroup": "Ride",
         "orientation": "v",
         "showlegend": true,
         "textposition": "auto",
         "type": "bar",
         "x": [
          "April",
          "August",
          "December",
          "February",
          "January",
          "July",
          "June",
          "March",
          "May",
          "November",
          "October",
          "September"
         ],
         "xaxis": "x",
         "y": [
          10531.49,
          12109.56,
          2959.97,
          2108.28,
          1459.97,
          17599.75,
          8271.01,
          13371.06,
          20647.3,
          12015.76,
          18380.579999999998,
          24713.91
         ],
         "yaxis": "y"
        },
        {
         "alignmentgroup": "True",
         "hovertemplate": "type=Run<br>month=%{x}<br>total_elevation_gain=%{y}<extra></extra>",
         "legendgroup": "Run",
         "marker": {
          "color": "#00cc96",
          "pattern": {
           "shape": ""
          }
         },
         "name": "Run",
         "offsetgroup": "Run",
         "orientation": "v",
         "showlegend": true,
         "textposition": "auto",
         "type": "bar",
         "x": [
          "April",
          "August",
          "December",
          "February",
          "January",
          "July",
          "June",
          "March",
          "May",
          "November",
          "October",
          "September"
         ],
         "xaxis": "x",
         "y": [
          140268.68,
          130406.52,
          92690.65,
          120808.75,
          112581.1,
          184320.58,
          169366.46,
          128292.31,
          114964.91,
          102476.45,
          130999.35,
          107619.75
         ],
         "yaxis": "y"
        },
        {
         "alignmentgroup": "True",
         "hovertemplate": "type=NordicSki<br>month=%{x}<br>total_elevation_gain=%{y}<extra></extra>",
         "legendgroup": "NordicSki",
         "marker": {
          "color": "#ab63fa",
          "pattern": {
           "shape": ""
          }
         },
         "name": "NordicSki",
         "offsetgroup": "NordicSki",
         "orientation": "v",
         "showlegend": true,
         "textposition": "auto",
         "type": "bar",
         "x": [
          "December",
          "February"
         ],
         "xaxis": "x",
         "y": [
          2237.5299999999997,
          734.91
         ],
         "yaxis": "y"
        }
       ],
       "layout": {
        "barmode": "relative",
        "legend": {
         "title": {
          "text": "type"
         },
         "tracegroupgap": 0
        },
        "template": {
         "data": {
          "bar": [
           {
            "error_x": {
             "color": "#2a3f5f"
            },
            "error_y": {
             "color": "#2a3f5f"
            },
            "marker": {
             "line": {
              "color": "#E5ECF6",
              "width": 0.5
             },
             "pattern": {
              "fillmode": "overlay",
              "size": 10,
              "solidity": 0.2
             }
            },
            "type": "bar"
           }
          ],
          "barpolar": [
           {
            "marker": {
             "line": {
              "color": "#E5ECF6",
              "width": 0.5
             },
             "pattern": {
              "fillmode": "overlay",
              "size": 10,
              "solidity": 0.2
             }
            },
            "type": "barpolar"
           }
          ],
          "carpet": [
           {
            "aaxis": {
             "endlinecolor": "#2a3f5f",
             "gridcolor": "white",
             "linecolor": "white",
             "minorgridcolor": "white",
             "startlinecolor": "#2a3f5f"
            },
            "baxis": {
             "endlinecolor": "#2a3f5f",
             "gridcolor": "white",
             "linecolor": "white",
             "minorgridcolor": "white",
             "startlinecolor": "#2a3f5f"
            },
            "type": "carpet"
           }
          ],
          "choropleth": [
           {
            "colorbar": {
             "outlinewidth": 0,
             "ticks": ""
            },
            "type": "choropleth"
           }
          ],
          "contour": [
           {
            "colorbar": {
             "outlinewidth": 0,
             "ticks": ""
            },
            "colorscale": [
             [
              0,
              "#0d0887"
             ],
             [
              0.1111111111111111,
              "#46039f"
             ],
             [
              0.2222222222222222,
              "#7201a8"
             ],
             [
              0.3333333333333333,
              "#9c179e"
             ],
             [
              0.4444444444444444,
              "#bd3786"
             ],
             [
              0.5555555555555556,
              "#d8576b"
             ],
             [
              0.6666666666666666,
              "#ed7953"
             ],
             [
              0.7777777777777778,
              "#fb9f3a"
             ],
             [
              0.8888888888888888,
              "#fdca26"
             ],
             [
              1,
              "#f0f921"
             ]
            ],
            "type": "contour"
           }
          ],
          "contourcarpet": [
           {
            "colorbar": {
             "outlinewidth": 0,
             "ticks": ""
            },
            "type": "contourcarpet"
           }
          ],
          "heatmap": [
           {
            "colorbar": {
             "outlinewidth": 0,
             "ticks": ""
            },
            "colorscale": [
             [
              0,
              "#0d0887"
             ],
             [
              0.1111111111111111,
              "#46039f"
             ],
             [
              0.2222222222222222,
              "#7201a8"
             ],
             [
              0.3333333333333333,
              "#9c179e"
             ],
             [
              0.4444444444444444,
              "#bd3786"
             ],
             [
              0.5555555555555556,
              "#d8576b"
             ],
             [
              0.6666666666666666,
              "#ed7953"
             ],
             [
              0.7777777777777778,
              "#fb9f3a"
             ],
             [
              0.8888888888888888,
              "#fdca26"
             ],
             [
              1,
              "#f0f921"
             ]
            ],
            "type": "heatmap"
           }
          ],
          "heatmapgl": [
           {
            "colorbar": {
             "outlinewidth": 0,
             "ticks": ""
            },
            "colorscale": [
             [
              0,
              "#0d0887"
             ],
             [
              0.1111111111111111,
              "#46039f"
             ],
             [
              0.2222222222222222,
              "#7201a8"
             ],
             [
              0.3333333333333333,
              "#9c179e"
             ],
             [
              0.4444444444444444,
              "#bd3786"
             ],
             [
              0.5555555555555556,
              "#d8576b"
             ],
             [
              0.6666666666666666,
              "#ed7953"
             ],
             [
              0.7777777777777778,
              "#fb9f3a"
             ],
             [
              0.8888888888888888,
              "#fdca26"
             ],
             [
              1,
              "#f0f921"
             ]
            ],
            "type": "heatmapgl"
           }
          ],
          "histogram": [
           {
            "marker": {
             "pattern": {
              "fillmode": "overlay",
              "size": 10,
              "solidity": 0.2
             }
            },
            "type": "histogram"
           }
          ],
          "histogram2d": [
           {
            "colorbar": {
             "outlinewidth": 0,
             "ticks": ""
            },
            "colorscale": [
             [
              0,
              "#0d0887"
             ],
             [
              0.1111111111111111,
              "#46039f"
             ],
             [
              0.2222222222222222,
              "#7201a8"
             ],
             [
              0.3333333333333333,
              "#9c179e"
             ],
             [
              0.4444444444444444,
              "#bd3786"
             ],
             [
              0.5555555555555556,
              "#d8576b"
             ],
             [
              0.6666666666666666,
              "#ed7953"
             ],
             [
              0.7777777777777778,
              "#fb9f3a"
             ],
             [
              0.8888888888888888,
              "#fdca26"
             ],
             [
              1,
              "#f0f921"
             ]
            ],
            "type": "histogram2d"
           }
          ],
          "histogram2dcontour": [
           {
            "colorbar": {
             "outlinewidth": 0,
             "ticks": ""
            },
            "colorscale": [
             [
              0,
              "#0d0887"
             ],
             [
              0.1111111111111111,
              "#46039f"
             ],
             [
              0.2222222222222222,
              "#7201a8"
             ],
             [
              0.3333333333333333,
              "#9c179e"
             ],
             [
              0.4444444444444444,
              "#bd3786"
             ],
             [
              0.5555555555555556,
              "#d8576b"
             ],
             [
              0.6666666666666666,
              "#ed7953"
             ],
             [
              0.7777777777777778,
              "#fb9f3a"
             ],
             [
              0.8888888888888888,
              "#fdca26"
             ],
             [
              1,
              "#f0f921"
             ]
            ],
            "type": "histogram2dcontour"
           }
          ],
          "mesh3d": [
           {
            "colorbar": {
             "outlinewidth": 0,
             "ticks": ""
            },
            "type": "mesh3d"
           }
          ],
          "parcoords": [
           {
            "line": {
             "colorbar": {
              "outlinewidth": 0,
              "ticks": ""
             }
            },
            "type": "parcoords"
           }
          ],
          "pie": [
           {
            "automargin": true,
            "type": "pie"
           }
          ],
          "scatter": [
           {
            "fillpattern": {
             "fillmode": "overlay",
             "size": 10,
             "solidity": 0.2
            },
            "type": "scatter"
           }
          ],
          "scatter3d": [
           {
            "line": {
             "colorbar": {
              "outlinewidth": 0,
              "ticks": ""
             }
            },
            "marker": {
             "colorbar": {
              "outlinewidth": 0,
              "ticks": ""
             }
            },
            "type": "scatter3d"
           }
          ],
          "scattercarpet": [
           {
            "marker": {
             "colorbar": {
              "outlinewidth": 0,
              "ticks": ""
             }
            },
            "type": "scattercarpet"
           }
          ],
          "scattergeo": [
           {
            "marker": {
             "colorbar": {
              "outlinewidth": 0,
              "ticks": ""
             }
            },
            "type": "scattergeo"
           }
          ],
          "scattergl": [
           {
            "marker": {
             "colorbar": {
              "outlinewidth": 0,
              "ticks": ""
             }
            },
            "type": "scattergl"
           }
          ],
          "scattermapbox": [
           {
            "marker": {
             "colorbar": {
              "outlinewidth": 0,
              "ticks": ""
             }
            },
            "type": "scattermapbox"
           }
          ],
          "scatterpolar": [
           {
            "marker": {
             "colorbar": {
              "outlinewidth": 0,
              "ticks": ""
             }
            },
            "type": "scatterpolar"
           }
          ],
          "scatterpolargl": [
           {
            "marker": {
             "colorbar": {
              "outlinewidth": 0,
              "ticks": ""
             }
            },
            "type": "scatterpolargl"
           }
          ],
          "scatterternary": [
           {
            "marker": {
             "colorbar": {
              "outlinewidth": 0,
              "ticks": ""
             }
            },
            "type": "scatterternary"
           }
          ],
          "surface": [
           {
            "colorbar": {
             "outlinewidth": 0,
             "ticks": ""
            },
            "colorscale": [
             [
              0,
              "#0d0887"
             ],
             [
              0.1111111111111111,
              "#46039f"
             ],
             [
              0.2222222222222222,
              "#7201a8"
             ],
             [
              0.3333333333333333,
              "#9c179e"
             ],
             [
              0.4444444444444444,
              "#bd3786"
             ],
             [
              0.5555555555555556,
              "#d8576b"
             ],
             [
              0.6666666666666666,
              "#ed7953"
             ],
             [
              0.7777777777777778,
              "#fb9f3a"
             ],
             [
              0.8888888888888888,
              "#fdca26"
             ],
             [
              1,
              "#f0f921"
             ]
            ],
            "type": "surface"
           }
          ],
          "table": [
           {
            "cells": {
             "fill": {
              "color": "#EBF0F8"
             },
             "line": {
              "color": "white"
             }
            },
            "header": {
             "fill": {
              "color": "#C8D4E3"
             },
             "line": {
              "color": "white"
             }
            },
            "type": "table"
           }
          ]
         },
         "layout": {
          "annotationdefaults": {
           "arrowcolor": "#2a3f5f",
           "arrowhead": 0,
           "arrowwidth": 1
          },
          "autotypenumbers": "strict",
          "coloraxis": {
           "colorbar": {
            "outlinewidth": 0,
            "ticks": ""
           }
          },
          "colorscale": {
           "diverging": [
            [
             0,
             "#8e0152"
            ],
            [
             0.1,
             "#c51b7d"
            ],
            [
             0.2,
             "#de77ae"
            ],
            [
             0.3,
             "#f1b6da"
            ],
            [
             0.4,
             "#fde0ef"
            ],
            [
             0.5,
             "#f7f7f7"
            ],
            [
             0.6,
             "#e6f5d0"
            ],
            [
             0.7,
             "#b8e186"
            ],
            [
             0.8,
             "#7fbc41"
            ],
            [
             0.9,
             "#4d9221"
            ],
            [
             1,
             "#276419"
            ]
           ],
           "sequential": [
            [
             0,
             "#0d0887"
            ],
            [
             0.1111111111111111,
             "#46039f"
            ],
            [
             0.2222222222222222,
             "#7201a8"
            ],
            [
             0.3333333333333333,
             "#9c179e"
            ],
            [
             0.4444444444444444,
             "#bd3786"
            ],
            [
             0.5555555555555556,
             "#d8576b"
            ],
            [
             0.6666666666666666,
             "#ed7953"
            ],
            [
             0.7777777777777778,
             "#fb9f3a"
            ],
            [
             0.8888888888888888,
             "#fdca26"
            ],
            [
             1,
             "#f0f921"
            ]
           ],
           "sequentialminus": [
            [
             0,
             "#0d0887"
            ],
            [
             0.1111111111111111,
             "#46039f"
            ],
            [
             0.2222222222222222,
             "#7201a8"
            ],
            [
             0.3333333333333333,
             "#9c179e"
            ],
            [
             0.4444444444444444,
             "#bd3786"
            ],
            [
             0.5555555555555556,
             "#d8576b"
            ],
            [
             0.6666666666666666,
             "#ed7953"
            ],
            [
             0.7777777777777778,
             "#fb9f3a"
            ],
            [
             0.8888888888888888,
             "#fdca26"
            ],
            [
             1,
             "#f0f921"
            ]
           ]
          },
          "colorway": [
           "#636efa",
           "#EF553B",
           "#00cc96",
           "#ab63fa",
           "#FFA15A",
           "#19d3f3",
           "#FF6692",
           "#B6E880",
           "#FF97FF",
           "#FECB52"
          ],
          "font": {
           "color": "#2a3f5f"
          },
          "geo": {
           "bgcolor": "white",
           "lakecolor": "white",
           "landcolor": "#E5ECF6",
           "showlakes": true,
           "showland": true,
           "subunitcolor": "white"
          },
          "hoverlabel": {
           "align": "left"
          },
          "hovermode": "closest",
          "mapbox": {
           "style": "light"
          },
          "paper_bgcolor": "white",
          "plot_bgcolor": "#E5ECF6",
          "polar": {
           "angularaxis": {
            "gridcolor": "white",
            "linecolor": "white",
            "ticks": ""
           },
           "bgcolor": "#E5ECF6",
           "radialaxis": {
            "gridcolor": "white",
            "linecolor": "white",
            "ticks": ""
           }
          },
          "scene": {
           "xaxis": {
            "backgroundcolor": "#E5ECF6",
            "gridcolor": "white",
            "gridwidth": 2,
            "linecolor": "white",
            "showbackground": true,
            "ticks": "",
            "zerolinecolor": "white"
           },
           "yaxis": {
            "backgroundcolor": "#E5ECF6",
            "gridcolor": "white",
            "gridwidth": 2,
            "linecolor": "white",
            "showbackground": true,
            "ticks": "",
            "zerolinecolor": "white"
           },
           "zaxis": {
            "backgroundcolor": "#E5ECF6",
            "gridcolor": "white",
            "gridwidth": 2,
            "linecolor": "white",
            "showbackground": true,
            "ticks": "",
            "zerolinecolor": "white"
           }
          },
          "shapedefaults": {
           "line": {
            "color": "#2a3f5f"
           }
          },
          "ternary": {
           "aaxis": {
            "gridcolor": "white",
            "linecolor": "white",
            "ticks": ""
           },
           "baxis": {
            "gridcolor": "white",
            "linecolor": "white",
            "ticks": ""
           },
           "bgcolor": "#E5ECF6",
           "caxis": {
            "gridcolor": "white",
            "linecolor": "white",
            "ticks": ""
           }
          },
          "title": {
           "x": 0.05
          },
          "xaxis": {
           "automargin": true,
           "gridcolor": "white",
           "linecolor": "white",
           "ticks": "",
           "title": {
            "standoff": 15
           },
           "zerolinecolor": "white",
           "zerolinewidth": 2
          },
          "yaxis": {
           "automargin": true,
           "gridcolor": "white",
           "linecolor": "white",
           "ticks": "",
           "title": {
            "standoff": 15
           },
           "zerolinecolor": "white",
           "zerolinewidth": 2
          }
         }
        },
        "title": {
         "text": "All-Time Elevation Gain by Month"
        },
        "xaxis": {
         "anchor": "y",
         "domain": [
          0,
          1
         ],
         "title": {
          "text": "month"
         }
        },
        "yaxis": {
         "anchor": "x",
         "domain": [
          0,
          1
         ],
         "title": {
          "text": "total_elevation_gain"
         }
        }
       }
      }
     },
     "metadata": {},
     "output_type": "display_data"
    }
   ],
   "source": [
    "elevation_filter = df[~df['type'].isin(omit_types)]\n",
    "elevation_grouped = elevation_filter.groupby(['month', 'type']).agg({'total_elevation_gain': 'sum'}).reset_index()\n",
    "# Elevation gain by month stacked bar\n",
    "gain_x_month_bar = px.bar(elevation_grouped, \n",
    "                          x=\"month\", \n",
    "                          y=\"total_elevation_gain\", \n",
    "                          color=\"type\", \n",
    "                          title='All-Time Elevation Gain by Month'\n",
    "                         )\n",
    "\n",
    "gain_x_month_bar.show()"
   ]
  },
  {
   "cell_type": "code",
   "execution_count": 291,
   "metadata": {},
   "outputs": [
    {
     "data": {
      "application/vnd.plotly.v1+json": {
       "config": {
        "plotlyServerURL": "https://plot.ly"
       },
       "data": [
        {
         "customdata": [
          [
           2015,
           205.05
          ]
         ],
         "hovertemplate": "<extra></extra><br>Year: %{customdata[0]}<br>Elevation: %{y:,.0f}",
         "legendgroup": "2015",
         "line": {
          "color": "#636efa",
          "dash": "solid"
         },
         "marker": {
          "symbol": "circle"
         },
         "mode": "lines",
         "name": "2015",
         "showlegend": true,
         "type": "scattergl",
         "x": [
          185
         ],
         "xaxis": "x",
         "y": [
          205.05
         ],
         "yaxis": "y"
        },
        {
         "customdata": [
          [
           2016,
           368.77
          ],
          [
           2016,
           1130.25
          ],
          [
           2016,
           1741.1399999999999
          ],
          [
           2016,
           4132.219999999999
          ],
          [
           2016,
           5287.73
          ],
          [
           2016,
           6617.13
          ],
          [
           2016,
           7873.69
          ],
          [
           2016,
           9801.51
          ],
          [
           2016,
           11802.82
          ],
          [
           2016,
           14884.84
          ],
          [
           2016,
           16209.64
          ],
          [
           2016,
           16609.25
          ],
          [
           2016,
           18554.79
          ],
          [
           2016,
           20161.09
          ],
          [
           2016,
           22159.78
          ],
          [
           2016,
           23817.92
          ],
          [
           2016,
           26706.37
          ],
          [
           2016,
           27470.809999999998
          ],
          [
           2016,
           28389.45
          ],
          [
           2016,
           29345.489999999998
          ],
          [
           2016,
           31134.86
          ],
          [
           2016,
           32940.63
          ],
          [
           2016,
           36936.69
          ],
          [
           2016,
           37842.2
          ],
          [
           2016,
           38688.659999999996
          ],
          [
           2016,
           40932.75
          ],
          [
           2016,
           42189.31
          ],
          [
           2016,
           43452.43
          ],
          [
           2016,
           45817.92
          ],
          [
           2016,
           47258.21
          ],
          [
           2016,
           48593.51
          ],
          [
           2016,
           49223.43
          ],
          [
           2016,
           51054.14
          ],
          [
           2016,
           51720.15
          ],
          [
           2016,
           51743.119999999995
          ],
          [
           2016,
           59180.78
          ],
          [
           2016,
           60119.1
          ],
          [
           2016,
           60217.53
          ],
          [
           2016,
           60644.04
          ],
          [
           2016,
           61270.68
          ],
          [
           2016,
           66270.68
          ],
          [
           2016,
           67199.16
          ],
          [
           2016,
           67418.98
          ],
          [
           2016,
           67533.81
          ],
          [
           2016,
           67963.59999999999
          ],
          [
           2016,
           69256.25
          ],
          [
           2016,
           69400.61
          ],
          [
           2016,
           71418.98
          ],
          [
           2016,
           72695.23
          ],
          [
           2016,
           72977.38
          ],
          [
           2016,
           75191.95
          ],
          [
           2016,
           78566.62
          ],
          [
           2016,
           79104.68
          ],
          [
           2016,
           81430.8
          ],
          [
           2016,
           81568.6
          ],
          [
           2016,
           83842.22
          ],
          [
           2016,
           83973.45
          ],
          [
           2016,
           84708.36
          ],
          [
           2016,
           86798.26
          ],
          [
           2016,
           88981.98
          ],
          [
           2016,
           91288.41
          ],
          [
           2016,
           92544.97
          ],
          [
           2016,
           92692.61
          ],
          [
           2016,
           96016.09999999999
          ],
          [
           2016,
           97338.28
          ],
          [
           2016,
           97485.92
          ],
          [
           2016,
           98957.05
          ],
          [
           2016,
           101519.39
          ],
          [
           2016,
           101519.39
          ],
          [
           2016,
           103289.08
          ],
          [
           2016,
           104865.2
          ],
          [
           2016,
           107630.29
          ],
          [
           2016,
           109513.49
          ],
          [
           2016,
           110711
          ],
          [
           2016,
           111422.94
          ],
          [
           2016,
           113329.11
          ],
          [
           2016,
           115071.24
          ],
          [
           2016,
           116403.26
          ],
          [
           2016,
           118959.69
          ],
          [
           2016,
           120239.22
          ],
          [
           2016,
           123126.36
          ],
          [
           2016,
           123221.5
          ],
          [
           2016,
           123323.20999999999
          ],
          [
           2016,
           123487.25
          ],
          [
           2016,
           124310.74
          ],
          [
           2016,
           124474.78
          ],
          [
           2016,
           124661.79
          ],
          [
           2016,
           125862.58
          ],
          [
           2016,
           126640.14
          ],
          [
           2016,
           127962.31999999999
          ],
          [
           2016,
           128821.9
          ],
          [
           2016,
           129048.28
          ],
          [
           2016,
           132594.87
          ],
          [
           2016,
           135170.33
          ],
          [
           2016,
           136485.95
          ],
          [
           2016,
           136663.12
          ],
          [
           2016,
           136814.04
          ],
          [
           2016,
           138004.98
          ],
          [
           2016,
           140705.11
          ],
          [
           2016,
           141430.18
          ],
          [
           2016,
           141689.37
          ],
          [
           2016,
           143034.51
          ],
          [
           2016,
           143280.57
          ],
          [
           2016,
           143559.44
          ],
          [
           2016,
           144146.71
          ],
          [
           2016,
           149346.84
          ],
          [
           2016,
           149507.6
          ],
          [
           2016,
           149655.24
          ],
          [
           2016,
           149934.11
          ],
          [
           2016,
           150009.57
          ],
          [
           2016,
           151180.83
          ],
          [
           2016,
           152079.78
          ],
          [
           2016,
           154323.87
          ],
          [
           2016,
           154799.59
          ],
          [
           2016,
           154963.63
          ],
          [
           2016,
           155298.28
          ],
          [
           2016,
           156541.72
          ],
          [
           2016,
           158815.35
          ],
          [
           2016,
           161397.37
          ],
          [
           2016,
           161594.22
          ],
          [
           2016,
           164409.18
          ],
          [
           2016,
           164635.56
          ],
          [
           2016,
           164701.18
          ],
          [
           2016,
           164701.18
          ],
          [
           2016,
           165191.34
          ],
          [
           2016,
           165568.64
          ],
          [
           2016,
           168242.53
          ],
          [
           2016,
           169269.43
          ],
          [
           2016,
           171841.61
          ],
          [
           2016,
           173869.17
          ],
          [
           2016,
           173993.84
          ],
          [
           2016,
           177402.63
          ],
          [
           2016,
           177402.63
          ],
          [
           2016,
           177546.99
          ],
          [
           2016,
           180211.03
          ],
          [
           2016,
           180877.04
          ],
          [
           2016,
           183544.36
          ],
          [
           2016,
           184650
          ],
          [
           2016,
           186342.91
          ],
          [
           2016,
           187632.28
          ],
          [
           2016,
           190365.22
          ],
          [
           2016,
           190592.25
          ],
          [
           2016,
           193371.13
          ],
          [
           2016,
           194972.18
          ],
          [
           2016,
           196271.39
          ],
          [
           2016,
           196379.66
          ],
          [
           2016,
           199237.27
          ],
          [
           2016,
           201950.52
          ],
          [
           2016,
           203170.99
          ],
          [
           2016,
           203174.27
          ],
          [
           2016,
           203174.27
          ],
          [
           2016,
           203371.12
          ],
          [
           2016,
           203446.58
          ],
          [
           2016,
           206986.61
          ],
          [
           2016,
           206986.61
          ],
          [
           2016,
           206986.61
          ],
          [
           2016,
           207826.51
          ],
          [
           2016,
           208800.92
          ],
          [
           2016,
           209312.73
          ],
          [
           2016,
           209634.25
          ],
          [
           2016,
           210362.6
          ],
          [
           2016,
           211150
          ],
          [
           2016,
           212636.22
          ]
         ],
         "hovertemplate": "<extra></extra><br>Year: %{customdata[0]}<br>Elevation: %{y:,.0f}",
         "legendgroup": "2016",
         "line": {
          "color": "#EF553B",
          "dash": "solid"
         },
         "marker": {
          "symbol": "circle"
         },
         "mode": "lines",
         "name": "2016",
         "showlegend": true,
         "type": "scattergl",
         "x": [
          2,
          3,
          6,
          9,
          12,
          17,
          23,
          24,
          26,
          30,
          31,
          33,
          37,
          40,
          47,
          51,
          54,
          58,
          78,
          79,
          80,
          82,
          86,
          89,
          90,
          93,
          94,
          97,
          100,
          103,
          104,
          105,
          107,
          108,
          110,
          114,
          121,
          125,
          127,
          131,
          135,
          145,
          149,
          154,
          161,
          162,
          163,
          164,
          166,
          167,
          169,
          170,
          171,
          174,
          175,
          177,
          179,
          180,
          184,
          185,
          186,
          187,
          189,
          191,
          194,
          196,
          197,
          199,
          200,
          201,
          202,
          203,
          205,
          206,
          208,
          218,
          220,
          226,
          237,
          238,
          240,
          244,
          245,
          247,
          248,
          251,
          252,
          253,
          254,
          255,
          257,
          258,
          260,
          262,
          263,
          265,
          266,
          268,
          269,
          271,
          272,
          275,
          278,
          279,
          280,
          282,
          283,
          285,
          286,
          287,
          288,
          289,
          290,
          292,
          293,
          294,
          295,
          296,
          297,
          299,
          300,
          302,
          304,
          306,
          307,
          308,
          309,
          310,
          311,
          313,
          314,
          316,
          320,
          321,
          324,
          325,
          329,
          330,
          331,
          332,
          333,
          335,
          337,
          338,
          339,
          342,
          343,
          344,
          345,
          347,
          348,
          349,
          350,
          351,
          353,
          354,
          356,
          357,
          359,
          362,
          363,
          364,
          365
         ],
         "xaxis": "x",
         "y": [
          368.77,
          1130.25,
          1741.1399999999999,
          4132.219999999999,
          5287.73,
          6617.13,
          7873.69,
          9801.51,
          11802.82,
          14884.84,
          16209.64,
          16609.25,
          18554.79,
          20161.09,
          22159.78,
          23817.92,
          26706.37,
          27470.809999999998,
          28389.45,
          29345.489999999998,
          31134.86,
          32940.63,
          36936.69,
          37842.2,
          38688.659999999996,
          40932.75,
          42189.31,
          43452.43,
          45817.92,
          47258.21,
          48593.51,
          49223.43,
          51054.14,
          51720.15,
          51743.119999999995,
          59180.78,
          60119.1,
          60217.53,
          60644.04,
          61270.68,
          66270.68,
          67199.16,
          67418.98,
          67533.81,
          67963.59999999999,
          69256.25,
          69400.61,
          71418.98,
          72695.23,
          72977.38,
          75191.95,
          78566.62,
          79104.68,
          81430.8,
          81568.6,
          83842.22,
          83973.45,
          84708.36,
          86798.26,
          88981.98,
          91288.41,
          92544.97,
          92692.61,
          96016.09999999999,
          97338.28,
          97485.92,
          98957.05,
          101519.39,
          101519.39,
          103289.08,
          104865.2,
          107630.29,
          109513.49,
          110711,
          111422.94,
          113329.11,
          115071.24,
          116403.26,
          118959.69,
          120239.22,
          123126.36,
          123221.5,
          123323.20999999999,
          123487.25,
          124310.74,
          124474.78,
          124661.79,
          125862.58,
          126640.14,
          127962.31999999999,
          128821.9,
          129048.28,
          132594.87,
          135170.33,
          136485.95,
          136663.12,
          136814.04,
          138004.98,
          140705.11,
          141430.18,
          141689.37,
          143034.51,
          143280.57,
          143559.44,
          144146.71,
          149346.84,
          149507.6,
          149655.24,
          149934.11,
          150009.57,
          151180.83,
          152079.78,
          154323.87,
          154799.59,
          154963.63,
          155298.28,
          156541.72,
          158815.35,
          161397.37,
          161594.22,
          164409.18,
          164635.56,
          164701.18,
          164701.18,
          165191.34,
          165568.64,
          168242.53,
          169269.43,
          171841.61,
          173869.17,
          173993.84,
          177402.63,
          177402.63,
          177546.99,
          180211.03,
          180877.04,
          183544.36,
          184650,
          186342.91,
          187632.28,
          190365.22,
          190592.25,
          193371.13,
          194972.18,
          196271.39,
          196379.66,
          199237.27,
          201950.52,
          203170.99,
          203174.27,
          203174.27,
          203371.12,
          203446.58,
          206986.61,
          206986.61,
          206986.61,
          207826.51,
          208800.92,
          209312.73,
          209634.25,
          210362.6,
          211150,
          212636.22
         ],
         "yaxis": "y"
        },
        {
         "customdata": [
          [
           2017,
           666.01
          ],
          [
           2017,
           892.39
          ],
          [
           2017,
           892.39
          ],
          [
           2017,
           2211.29
          ],
          [
           2017,
           4816.28
          ],
          [
           2017,
           6384.5199999999995
          ],
          [
           2017,
           7942.92
          ],
          [
           2017,
           8047.91
          ],
          [
           2017,
           8047.91
          ],
          [
           2017,
           11145.02
          ],
          [
           2017,
           13996.07
          ],
          [
           2017,
           17040.69
          ],
          [
           2017,
           17168.64
          ],
          [
           2017,
           21578.09
          ],
          [
           2017,
           21578.09
          ],
          [
           2017,
           24356.96
          ],
          [
           2017,
           24557.1
          ],
          [
           2017,
           24655.52
          ],
          [
           2017,
           24996.73
          ],
          [
           2017,
           26292.66
          ],
          [
           2017,
           29967.2
          ],
          [
           2017,
           30265.76
          ],
          [
           2017,
           30498.7
          ],
          [
           2017,
           30498.7
          ],
          [
           2017,
           34215.9
          ],
          [
           2017,
           36929.15
          ],
          [
           2017,
           37175.21
          ],
          [
           2017,
           37175.21
          ],
          [
           2017,
           37601.72
          ],
          [
           2017,
           38763.14
          ],
          [
           2017,
           40009.86
          ],
          [
           2017,
           46138.47
          ],
          [
           2017,
           46233.61
          ],
          [
           2017,
           46463.27
          ],
          [
           2017,
           46847.13
          ],
          [
           2017,
           49727.71
          ],
          [
           2017,
           51263.14
          ],
          [
           2017,
           52732.96
          ],
          [
           2017,
           52916.69
          ],
          [
           2017,
           53120.1
          ],
          [
           2017,
           53503.96
          ],
          [
           2017,
           56246.74
          ],
          [
           2017,
           57096.479999999996
          ],
          [
           2017,
           57883.88
          ],
          [
           2017,
           58090.57
          ],
          [
           2017,
           58835.32
          ],
          [
           2017,
           59189.65
          ],
          [
           2017,
           61660.119999999995
          ],
          [
           2017,
           62644.369999999995
          ],
          [
           2017,
           62755.92
          ],
          [
           2017,
           62939.65
          ],
          [
           2017,
           63385.84
          ],
          [
           2017,
           63815.63
          ],
          [
           2017,
           63822.19
          ],
          [
           2017,
           65314.97
          ],
          [
           2017,
           66095.81
          ],
          [
           2017,
           66233.61
          ],
          [
           2017,
           66561.69
          ],
          [
           2017,
           67755.92
          ],
          [
           2017,
           68264.45
          ],
          [
           2017,
           68418.65
          ],
          [
           2017,
           68658.15
          ],
          [
           2017,
           68950.14
          ],
          [
           2017,
           70613.53
          ],
          [
           2017,
           72070.22
          ],
          [
           2017,
           73582.69
          ],
          [
           2017,
           76194.24
          ],
          [
           2017,
           79085.97
          ],
          [
           2017,
           82248.7
          ],
          [
           2017,
           82248.7
          ],
          [
           2017,
           82491.48
          ],
          [
           2017,
           84184.39
          ],
          [
           2017,
           85890.42
          ],
          [
           2017,
           86326.77
          ],
          [
           2017,
           87901.56999999999
          ],
          [
           2017,
           88423.22
          ],
          [
           2017,
           88574.14
          ],
          [
           2017,
           89637.13
          ],
          [
           2017,
           94302.48
          ],
          [
           2017,
           94469.8
          ],
          [
           2017,
           94564.94
          ],
          [
           2017,
           94676.49
          ],
          [
           2017,
           97914.68
          ],
          [
           2017,
           100582
          ],
          [
           2017,
           101054.44
          ],
          [
           2017,
           105286.72
          ],
          [
           2017,
           105483.56999999999
          ],
          [
           2017,
           105634.49
          ],
          [
           2017,
           106792.63
          ],
          [
           2017,
           106792.63
          ],
          [
           2017,
           107504.56999999999
          ],
          [
           2017,
           107911.39
          ],
          [
           2017,
           107911.39
          ],
          [
           2017,
           108006.53
          ],
          [
           2017,
           114581.33
          ],
          [
           2017,
           115027.52
          ],
          [
           2017,
           115027.52
          ],
          [
           2017,
           115089.86
          ],
          [
           2017,
           116339.86
          ],
          [
           2017,
           117018.99
          ],
          [
           2017,
           117018.99
          ],
          [
           2017,
           118242.75
          ],
          [
           2017,
           119883.17
          ],
          [
           2017,
           122258.5
          ],
          [
           2017,
           124774.9
          ],
          [
           2017,
           125148.92
          ],
          [
           2017,
           125969.13
          ],
          [
           2017,
           128547.87
          ],
          [
           2017,
           128757.84
          ],
          [
           2017,
           131763.09
          ],
          [
           2017,
           131825.43
          ],
          [
           2017,
           132025.56
          ],
          [
           2017,
           132206.01
          ],
          [
           2017,
           134824.12
          ],
          [
           2017,
           135017.69
          ],
          [
           2017,
           138246.03
          ],
          [
           2017,
           140762.43
          ],
          [
           2017,
           142078.05
          ],
          [
           2017,
           143177.13
          ],
          [
           2017,
           144646.94
          ],
          [
           2017,
           145139.07
          ],
          [
           2017,
           147514.4
          ],
          [
           2017,
           150952.72
          ],
          [
           2017,
           154545.24
          ],
          [
           2017,
           156077.39
          ],
          [
           2017,
           160404.82
          ],
          [
           2017,
           164026.87
          ],
          [
           2017,
           166579.36
          ],
          [
           2017,
           171671.22
          ],
          [
           2017,
           172878.57
          ],
          [
           2017,
           174909.41
          ],
          [
           2017,
           175824.76
          ],
          [
           2017,
           175978.96
          ],
          [
           2017,
           180276.86
          ],
          [
           2017,
           182888.41
          ],
          [
           2017,
           183728.31
          ],
          [
           2017,
           184276.21
          ],
          [
           2017,
           184348.38999999998
          ],
          [
           2017,
           188003.25
          ],
          [
           2017,
           188324.77
          ],
          [
           2017,
           189998
          ],
          [
           2017,
           190017.68
          ],
          [
           2017,
           191270.96
          ],
          [
           2017,
           192520.96
          ],
          [
           2017,
           192658.76
          ],
          [
           2017,
           194105.61
          ],
          [
           2017,
           197005.87
          ],
          [
           2017,
           197130.54
          ],
          [
           2017,
           199994.71
          ],
          [
           2017,
           205250.61
          ],
          [
           2017,
           205316.23
          ],
          [
           2017,
           205585.26
          ],
          [
           2017,
           206697.46
          ],
          [
           2017,
           207074.76
          ],
          [
           2017,
           207786.7
          ],
          [
           2017,
           209666.62
          ],
          [
           2017,
           216756.52
          ],
          [
           2017,
           217458.62
          ],
          [
           2017,
           219259.8
          ],
          [
           2017,
           222038.67
          ],
          [
           2017,
           225178.44
          ],
          [
           2017,
           226727
          ],
          [
           2017,
           228032.12
          ],
          [
           2017,
           229348.72
          ],
          [
           2017,
           234448.79
          ],
          [
           2017,
           236268.02
          ],
          [
           2017,
           236320.51
          ],
          [
           2017,
           242101.35
          ],
          [
           2017,
           242248.99
          ],
          [
           2017,
           242360.54
          ],
          [
           2017,
           242787.05
          ],
          [
           2017,
           242944.53
          ],
          [
           2017,
           243603.98
          ],
          [
           2017,
           245160.41
          ],
          [
           2017,
           247913.03
          ],
          [
           2017,
           250629.57
          ],
          [
           2017,
           253401.88
          ],
          [
           2017,
           256197.16
          ],
          [
           2017,
           256282.46
          ],
          [
           2017,
           258306.74
          ],
          [
           2017,
           261151.23
          ],
          [
           2017,
           262440.6
          ],
          [
           2017,
           265219.47
          ],
          [
           2017,
           270291.66
          ],
          [
           2017,
           273054.13
          ],
          [
           2017,
           276213.58
          ],
          [
           2017,
           279044.94
          ],
          [
           2017,
           282151.9
          ],
          [
           2017,
           285661.74
          ],
          [
           2017,
           288447.17
          ],
          [
           2017,
           291229.32
          ],
          [
           2017,
           294018.02999999997
          ],
          [
           2017,
           296826.43
          ],
          [
           2017,
           300694.54
          ],
          [
           2017,
           300819.21
          ],
          [
           2017,
           301491.79
          ],
          [
           2017,
           301629.59
          ],
          [
           2017,
           302548.23
          ],
          [
           2017,
           302787.74
          ],
          [
           2017,
           302968.19
          ],
          [
           2017,
           303184.73
          ],
          [
           2017,
           305963.6
          ],
          [
           2017,
           306094.83
          ],
          [
           2017,
           306183.41
          ],
          [
           2017,
           307679.47
          ],
          [
           2017,
           307910.44
          ],
          [
           2017,
           308048.24
          ],
          [
           2017,
           309204.08
          ],
          [
           2017,
           310808.41
          ],
          [
           2017,
           310926.52
          ],
          [
           2017,
           311418.65
          ],
          [
           2017,
           311940.31
          ],
          [
           2017,
           311940.31
          ],
          [
           2017,
           314499.37
          ],
          [
           2017,
           315001.34
          ],
          [
           2017,
           316120.11
          ],
          [
           2017,
           316597.48
          ],
          [
           2017,
           316997.74
          ],
          [
           2017,
           316997.74
          ],
          [
           2017,
           318234.62
          ],
          [
           2017,
           319510.87
          ],
          [
           2017,
           322434.1
          ],
          [
           2017,
           322726.1
          ],
          [
           2017,
           322982.01
          ],
          [
           2017,
           323611.93
          ],
          [
           2017,
           324799.59
          ],
          [
           2017,
           325085.02
          ],
          [
           2017,
           328257.59
          ],
          [
           2017,
           329622.42
          ],
          [
           2017,
           329973.47
          ],
          [
           2017,
           330314.68
          ],
          [
           2017,
           330537.77999999997
          ],
          [
           2017,
           333362.58
          ],
          [
           2017,
           334268.09
          ],
          [
           2017,
           334898.01
          ],
          [
           2017,
           335012.84
          ],
          [
           2017,
           335012.84
          ],
          [
           2017,
           338096.83
          ],
          [
           2017,
           338972.81
          ],
          [
           2017,
           339317.3
          ],
          [
           2017,
           339638.82
          ],
          [
           2017,
           339638.82
          ],
          [
           2017,
           339750.37
          ],
          [
           2017,
           343116.51
          ],
          [
           2017,
           343969.52999999997
          ]
         ],
         "hovertemplate": "<extra></extra><br>Year: %{customdata[0]}<br>Elevation: %{y:,.0f}",
         "legendgroup": "2017",
         "line": {
          "color": "#00cc96",
          "dash": "solid"
         },
         "marker": {
          "symbol": "circle"
         },
         "mode": "lines",
         "name": "2017",
         "showlegend": true,
         "type": "scattergl",
         "x": [
          1,
          4,
          5,
          7,
          8,
          9,
          10,
          11,
          12,
          14,
          16,
          17,
          18,
          21,
          23,
          24,
          25,
          26,
          28,
          29,
          30,
          31,
          32,
          33,
          35,
          36,
          37,
          38,
          39,
          40,
          41,
          42,
          45,
          46,
          47,
          48,
          49,
          50,
          52,
          53,
          56,
          57,
          58,
          59,
          60,
          61,
          63,
          64,
          65,
          66,
          67,
          68,
          70,
          71,
          72,
          73,
          74,
          75,
          77,
          78,
          80,
          81,
          82,
          84,
          86,
          88,
          89,
          91,
          92,
          94,
          95,
          96,
          98,
          99,
          100,
          101,
          102,
          105,
          106,
          107,
          108,
          110,
          112,
          115,
          116,
          117,
          119,
          121,
          122,
          123,
          124,
          127,
          129,
          131,
          133,
          136,
          138,
          141,
          142,
          143,
          145,
          147,
          148,
          149,
          150,
          151,
          153,
          154,
          156,
          158,
          160,
          161,
          163,
          164,
          165,
          166,
          167,
          168,
          169,
          170,
          171,
          172,
          175,
          178,
          179,
          182,
          183,
          184,
          185,
          187,
          189,
          193,
          194,
          196,
          197,
          199,
          200,
          201,
          203,
          204,
          206,
          208,
          210,
          211,
          212,
          213,
          215,
          216,
          217,
          218,
          220,
          223,
          227,
          228,
          229,
          230,
          231,
          234,
          236,
          238,
          239,
          241,
          243,
          244,
          245,
          248,
          250,
          252,
          253,
          256,
          259,
          262,
          263,
          265,
          266,
          267,
          268,
          270,
          273,
          274,
          276,
          277,
          278,
          281,
          284,
          285,
          287,
          288,
          290,
          291,
          296,
          297,
          299,
          301,
          304,
          305,
          306,
          307,
          309,
          310,
          311,
          312,
          313,
          314,
          315,
          316,
          318,
          319,
          320,
          321,
          324,
          325,
          326,
          327,
          328,
          329,
          331,
          332,
          333,
          334,
          335,
          336,
          337,
          338,
          339,
          340,
          341,
          342,
          343,
          346,
          347,
          348,
          349,
          350,
          353,
          354,
          355,
          356,
          358,
          359,
          360,
          361,
          362,
          363,
          364
         ],
         "xaxis": "x",
         "y": [
          666.01,
          892.39,
          892.39,
          2211.29,
          4816.28,
          6384.5199999999995,
          7942.92,
          8047.91,
          8047.91,
          11145.02,
          13996.07,
          17040.69,
          17168.64,
          21578.09,
          21578.09,
          24356.96,
          24557.1,
          24655.52,
          24996.73,
          26292.66,
          29967.2,
          30265.76,
          30498.7,
          30498.7,
          34215.9,
          36929.15,
          37175.21,
          37175.21,
          37601.72,
          38763.14,
          40009.86,
          46138.47,
          46233.61,
          46463.27,
          46847.13,
          49727.71,
          51263.14,
          52732.96,
          52916.69,
          53120.1,
          53503.96,
          56246.74,
          57096.479999999996,
          57883.88,
          58090.57,
          58835.32,
          59189.65,
          61660.119999999995,
          62644.369999999995,
          62755.92,
          62939.65,
          63385.84,
          63815.63,
          63822.19,
          65314.97,
          66095.81,
          66233.61,
          66561.69,
          67755.92,
          68264.45,
          68418.65,
          68658.15,
          68950.14,
          70613.53,
          72070.22,
          73582.69,
          76194.24,
          79085.97,
          82248.7,
          82248.7,
          82491.48,
          84184.39,
          85890.42,
          86326.77,
          87901.56999999999,
          88423.22,
          88574.14,
          89637.13,
          94302.48,
          94469.8,
          94564.94,
          94676.49,
          97914.68,
          100582,
          101054.44,
          105286.72,
          105483.56999999999,
          105634.49,
          106792.63,
          106792.63,
          107504.56999999999,
          107911.39,
          107911.39,
          108006.53,
          114581.33,
          115027.52,
          115027.52,
          115089.86,
          116339.86,
          117018.99,
          117018.99,
          118242.75,
          119883.17,
          122258.5,
          124774.9,
          125148.92,
          125969.13,
          128547.87,
          128757.84,
          131763.09,
          131825.43,
          132025.56,
          132206.01,
          134824.12,
          135017.69,
          138246.03,
          140762.43,
          142078.05,
          143177.13,
          144646.94,
          145139.07,
          147514.4,
          150952.72,
          154545.24,
          156077.39,
          160404.82,
          164026.87,
          166579.36,
          171671.22,
          172878.57,
          174909.41,
          175824.76,
          175978.96,
          180276.86,
          182888.41,
          183728.31,
          184276.21,
          184348.38999999998,
          188003.25,
          188324.77,
          189998,
          190017.68,
          191270.96,
          192520.96,
          192658.76,
          194105.61,
          197005.87,
          197130.54,
          199994.71,
          205250.61,
          205316.23,
          205585.26,
          206697.46,
          207074.76,
          207786.7,
          209666.62,
          216756.52,
          217458.62,
          219259.8,
          222038.67,
          225178.44,
          226727,
          228032.12,
          229348.72,
          234448.79,
          236268.02,
          236320.51,
          242101.35,
          242248.99,
          242360.54,
          242787.05,
          242944.53,
          243603.98,
          245160.41,
          247913.03,
          250629.57,
          253401.88,
          256197.16,
          256282.46,
          258306.74,
          261151.23,
          262440.6,
          265219.47,
          270291.66,
          273054.13,
          276213.58,
          279044.94,
          282151.9,
          285661.74,
          288447.17,
          291229.32,
          294018.02999999997,
          296826.43,
          300694.54,
          300819.21,
          301491.79,
          301629.59,
          302548.23,
          302787.74,
          302968.19,
          303184.73,
          305963.6,
          306094.83,
          306183.41,
          307679.47,
          307910.44,
          308048.24,
          309204.08,
          310808.41,
          310926.52,
          311418.65,
          311940.31,
          311940.31,
          314499.37,
          315001.34,
          316120.11,
          316597.48,
          316997.74,
          316997.74,
          318234.62,
          319510.87,
          322434.1,
          322726.1,
          322982.01,
          323611.93,
          324799.59,
          325085.02,
          328257.59,
          329622.42,
          329973.47,
          330314.68,
          330537.77999999997,
          333362.58,
          334268.09,
          334898.01,
          335012.84,
          335012.84,
          338096.83,
          338972.81,
          339317.3,
          339638.82,
          339638.82,
          339750.37,
          343116.51,
          343969.52999999997
         ],
         "yaxis": "y"
        },
        {
         "customdata": [
          [
           2018,
           1364.83
          ],
          [
           2018,
           1430.4499999999998
          ],
          [
           2018,
           1827.4299999999998
          ],
          [
           2018,
           4954.07
          ],
          [
           2018,
           5439.63
          ],
          [
           2018,
           6416.01
          ],
          [
           2018,
           6681.76
          ],
          [
           2018,
           6973.76
          ],
          [
           2018,
           7659.46
          ],
          [
           2018,
           10651.59
          ],
          [
           2018,
           12285.45
          ],
          [
           2018,
           12639.78
          ],
          [
           2018,
           12980.99
          ],
          [
           2018,
           13479.68
          ],
          [
           2018,
           16540.7
          ],
          [
           2018,
           18066.29
          ],
          [
           2018,
           19526.260000000002
          ],
          [
           2018,
           19759.2
          ],
          [
           2018,
           22839.91
          ],
          [
           2018,
           23030.2
          ],
          [
           2018,
           23443.58
          ],
          [
           2018,
           23443.58
          ],
          [
           2018,
           23712.61
          ],
          [
           2018,
           23712.61
          ],
          [
           2018,
           24263.79
          ],
          [
           2018,
           24263.79
          ],
          [
           2018,
           24721.8
          ],
          [
           2018,
           25893.06
          ],
          [
           2018,
           27700.8
          ],
          [
           2018,
           27700.8
          ],
          [
           2018,
           31191.61
          ],
          [
           2018,
           32559.72
          ],
          [
           2018,
           33074.81
          ],
          [
           2018,
           34521.66
          ],
          [
           2018,
           34885.83
          ],
          [
           2018,
           37694.23
          ],
          [
           2018,
           38914.71
          ],
          [
           2018,
           39377.31
          ],
          [
           2018,
           39377.31
          ],
          [
           2018,
           40834
          ],
          [
           2018,
           41125.99
          ],
          [
           2018,
           44005.26
          ],
          [
           2018,
           44740.17
          ],
          [
           2018,
           47578.1
          ],
          [
           2018,
           48383.87
          ],
          [
           2018,
           49794.63
          ],
          [
           2018,
           50860.9
          ],
          [
           2018,
           53846.46
          ],
          [
           2018,
           55181.76
          ],
          [
           2018,
           58990.81
          ],
          [
           2018,
           60316.270000000004
          ],
          [
           2018,
           61723.75
          ],
          [
           2018,
           61786.090000000004
          ],
          [
           2018,
           66433.73
          ],
          [
           2018,
           67837.93000000001
          ],
          [
           2018,
           68750
          ],
          [
           2018,
           69215.88
          ],
          [
           2018,
           72234.91
          ],
          [
           2018,
           72398.95
          ],
          [
           2018,
           74472.44
          ],
          [
           2018,
           75935.69
          ],
          [
           2018,
           77973.09
          ],
          [
           2018,
           84679.13
          ],
          [
           2018,
           85604.33
          ],
          [
           2018,
           85778.21
          ],
          [
           2018,
           87362.86
          ],
          [
           2018,
           87963.25
          ],
          [
           2018,
           90719.16
          ],
          [
           2018,
           93573.49
          ],
          [
           2018,
           95000.66
          ],
          [
           2018,
           95742.13
          ],
          [
           2018,
           96057.09
          ],
          [
           2018,
           107595.8
          ],
          [
           2018,
           107618.77
          ],
          [
           2018,
           107710.63
          ],
          [
           2018,
           107999.34
          ],
          [
           2018,
           109134.51
          ],
          [
           2018,
           109433.06
          ],
          [
           2018,
           109531.49
          ],
          [
           2018,
           109666
          ],
          [
           2018,
           111217.84
          ],
          [
           2018,
           111319.55
          ],
          [
           2018,
           112894.35
          ],
          [
           2018,
           112999.34
          ],
          [
           2018,
           114288.70999999999
          ],
          [
           2018,
           114472.44
          ],
          [
           2018,
           114751.31
          ],
          [
           2018,
           116699.47
          ],
          [
           2018,
           118005.24
          ],
          [
           2018,
           119944.22
          ],
          [
           2018,
           120049.21
          ],
          [
           2018,
           121558.39
          ],
          [
           2018,
           123454.72
          ],
          [
           2018,
           125351.05
          ],
          [
           2018,
           127604.99
          ],
          [
           2018,
           127775.59
          ],
          [
           2018,
           131450.13
          ],
          [
           2018,
           133612.21
          ],
          [
           2018,
           135992.13
          ],
          [
           2018,
           136431.76
          ],
          [
           2018,
           137680.45
          ],
          [
           2018,
           138624.02
          ],
          [
           2018,
           141602.37
          ],
          [
           2018,
           141805.78
          ],
          [
           2018,
           142024.28
          ],
          [
           2018,
           144744.1
          ],
          [
           2018,
           146190.95
          ],
          [
           2018,
           150147.63999999998
          ],
          [
           2018,
           153157.49
          ],
          [
           2018,
           153423.24
          ],
          [
           2018,
           156267.73
          ],
          [
           2018,
           156415.37
          ],
          [
           2018,
           159295.95
          ],
          [
           2018,
           159482.96
          ],
          [
           2018,
           160860.91
          ],
          [
           2018,
           164604.35
          ],
          [
           2018,
           164712.62
          ],
          [
           2018,
           167557.11
          ],
          [
           2018,
           167906.19
          ],
          [
           2018,
           168952.78
          ],
          [
           2018,
           168952.78
          ],
          [
           2018,
           169280.86
          ],
          [
           2018,
           172174.56
          ],
          [
           2018,
           175153.57
          ],
          [
           2018,
           180589.91999999998
          ],
          [
           2018,
           181977.72
          ],
          [
           2018,
           182384.54
          ],
          [
           2018,
           185507.9
          ],
          [
           2018,
           187788.08
          ],
          [
           2018,
           188345.82
          ],
          [
           2018,
           191774.3
          ],
          [
           2018,
           197407.5
          ],
          [
           2018,
           199303.82
          ],
          [
           2018,
           199979.68
          ],
          [
           2018,
           201892.41999999998
          ],
          [
           2018,
           202945.57
          ],
          [
           2018,
           206059.09
          ],
          [
           2018,
           208903.58
          ],
          [
           2018,
           208969.2
          ],
          [
           2018,
           210679.16999999998
          ],
          [
           2018,
           211141.77
          ],
          [
           2018,
           212362.24
          ],
          [
           2018,
           214273.66
          ],
          [
           2018,
           214342.56
          ],
          [
           2018,
           219129.31
          ],
          [
           2018,
           223404.24
          ],
          [
           2018,
           224073.53
          ],
          [
           2018,
           225336.65
          ],
          [
           2018,
           226954.1
          ],
          [
           2018,
           227078.77
          ],
          [
           2018,
           227078.77
          ],
          [
           2018,
           231035.46
          ],
          [
           2018,
           231849.11
          ],
          [
           2018,
           233604.36
          ],
          [
           2018,
           239017.75
          ],
          [
           2018,
           240310.4
          ],
          [
           2018,
           242226.41
          ],
          [
           2018,
           243035.47
          ],
          [
           2018,
           244324.84
          ],
          [
           2018,
           246378.65
          ],
          [
           2018,
           250492.82
          ],
          [
           2018,
           251313.03
          ],
          [
           2018,
           251910.13999999998
          ],
          [
           2018,
           253311.06
          ],
          [
           2018,
           257441.63999999998
          ],
          [
           2018,
           260227.07
          ],
          [
           2018,
           260394.38999999998
          ],
          [
           2018,
           261644.38999999998
          ],
          [
           2018,
           262290.72
          ],
          [
           2018,
           263501.35
          ],
          [
           2018,
           264800.23
          ],
          [
           2018,
           272543.01
          ],
          [
           2018,
           272543.01
          ],
          [
           2018,
           272543.01
          ],
          [
           2018,
           272543.01
          ],
          [
           2018,
           273346.82
          ],
          [
           2018,
           276212.96
          ],
          [
           2018,
           276212.96
          ],
          [
           2018,
           276354.04
          ],
          [
           2018,
           276903.25
          ],
          [
           2018,
           276903.25
          ],
          [
           2018,
           277608.63
          ],
          [
           2018,
           277723.46
          ],
          [
           2018,
           278556.79
          ],
          [
           2018,
           279804.82
          ],
          [
           2018,
           280057.44
          ],
          [
           2018,
           281104.02999999997
          ],
          [
           2018,
           281104.02999999997
          ],
          [
           2018,
           281104.02999999997
          ],
          [
           2018,
           284128.96
          ],
          [
           2018,
           284128.96
          ],
          [
           2018,
           284233.95
          ],
          [
           2018,
           284233.95
          ],
          [
           2018,
           284233.95
          ],
          [
           2018,
           285736.57
          ],
          [
           2018,
           286041.69
          ],
          [
           2018,
           286166.36
          ],
          [
           2018,
           286346.81
          ],
          [
           2018,
           287783.82
          ],
          [
           2018,
           287931.46
          ],
          [
           2018,
           288020.04
          ],
          [
           2018,
           288187.36
          ],
          [
           2018,
           288489.2
          ],
          [
           2018,
           289824.5
          ],
          [
           2018,
           289952.45
          ],
          [
           2018,
           291434.08
          ],
          [
           2018,
           291601.4
          ],
          [
           2018,
           292909.14
          ],
          [
           2018,
           292958.35
          ],
          [
           2018,
           293312.68
          ],
          [
           2018,
           293427.51
          ],
          [
           2018,
           293427.51
          ],
          [
           2018,
           293637.48
          ],
          [
           2018,
           293978.02999999997
          ],
          [
           2018,
           295903.89
          ],
          [
           2018,
           297409.8
          ],
          [
           2018,
           298754.94
          ],
          [
           2018,
           300487.22
          ],
          [
           2018,
           302288.4
          ],
          [
           2018,
           302705.07
          ],
          [
           2018,
           304821.21
          ],
          [
           2018,
           304821.21
          ],
          [
           2018,
           305008.22
          ],
          [
           2018,
           305588.93
          ],
          [
           2018,
           306973.44
          ],
          [
           2018,
           307216.22
          ],
          [
           2018,
           307409.79
          ],
          [
           2018,
           307800.21
          ],
          [
           2018,
           309443.91
          ],
          [
           2018,
           309673.57
          ],
          [
           2018,
           310270.68
          ],
          [
           2018,
           313334.98
          ],
          [
           2018,
           313554.8
          ],
          [
           2018,
           313554.8
          ],
          [
           2018,
           314194.56
          ],
          [
           2018,
           314220.81
          ],
          [
           2018,
           314673.57
          ],
          [
           2018,
           315136.17
          ],
          [
           2018,
           315385.51
          ],
          [
           2018,
           315542.99
          ],
          [
           2018,
           319578.42
          ]
         ],
         "hovertemplate": "<extra></extra><br>Year: %{customdata[0]}<br>Elevation: %{y:,.0f}",
         "legendgroup": "2018",
         "line": {
          "color": "#ab63fa",
          "dash": "solid"
         },
         "marker": {
          "symbol": "circle"
         },
         "mode": "lines",
         "name": "2018",
         "showlegend": true,
         "type": "scattergl",
         "x": [
          1,
          3,
          4,
          5,
          6,
          7,
          9,
          10,
          11,
          12,
          13,
          14,
          16,
          17,
          18,
          19,
          20,
          24,
          26,
          27,
          28,
          29,
          30,
          31,
          33,
          34,
          35,
          37,
          38,
          39,
          40,
          42,
          44,
          45,
          46,
          47,
          48,
          49,
          51,
          52,
          53,
          54,
          55,
          56,
          58,
          59,
          65,
          68,
          69,
          70,
          72,
          73,
          76,
          77,
          79,
          80,
          81,
          82,
          83,
          86,
          87,
          88,
          91,
          93,
          95,
          96,
          97,
          98,
          104,
          105,
          108,
          109,
          111,
          115,
          116,
          117,
          118,
          120,
          124,
          125,
          126,
          127,
          128,
          129,
          130,
          132,
          133,
          135,
          136,
          137,
          139,
          141,
          142,
          143,
          144,
          146,
          148,
          149,
          150,
          151,
          152,
          153,
          154,
          156,
          157,
          158,
          160,
          161,
          163,
          164,
          165,
          169,
          170,
          171,
          172,
          174,
          176,
          177,
          178,
          180,
          181,
          184,
          185,
          186,
          188,
          191,
          192,
          193,
          197,
          198,
          200,
          201,
          202,
          204,
          205,
          207,
          209,
          210,
          212,
          216,
          219,
          220,
          221,
          222,
          223,
          224,
          226,
          227,
          228,
          229,
          233,
          234,
          235,
          236,
          237,
          238,
          240,
          241,
          242,
          243,
          244,
          245,
          249,
          250,
          251,
          252,
          253,
          254,
          255,
          256,
          262,
          271,
          281,
          282,
          283,
          285,
          286,
          287,
          288,
          289,
          290,
          291,
          292,
          293,
          294,
          295,
          296,
          297,
          299,
          300,
          302,
          305,
          307,
          308,
          309,
          310,
          311,
          312,
          314,
          315,
          316,
          317,
          318,
          319,
          320,
          321,
          323,
          324,
          325,
          326,
          327,
          329,
          330,
          331,
          332,
          333,
          334,
          335,
          337,
          338,
          339,
          340,
          341,
          342,
          344,
          345,
          346,
          347,
          348,
          349,
          350,
          351,
          354,
          355,
          356,
          357,
          358,
          360,
          361,
          362,
          364
         ],
         "xaxis": "x",
         "y": [
          1364.83,
          1430.4499999999998,
          1827.4299999999998,
          4954.07,
          5439.63,
          6416.01,
          6681.76,
          6973.76,
          7659.46,
          10651.59,
          12285.45,
          12639.78,
          12980.99,
          13479.68,
          16540.7,
          18066.29,
          19526.260000000002,
          19759.2,
          22839.91,
          23030.2,
          23443.58,
          23443.58,
          23712.61,
          23712.61,
          24263.79,
          24263.79,
          24721.8,
          25893.06,
          27700.8,
          27700.8,
          31191.61,
          32559.72,
          33074.81,
          34521.66,
          34885.83,
          37694.23,
          38914.71,
          39377.31,
          39377.31,
          40834,
          41125.99,
          44005.26,
          44740.17,
          47578.1,
          48383.87,
          49794.63,
          50860.9,
          53846.46,
          55181.76,
          58990.81,
          60316.270000000004,
          61723.75,
          61786.090000000004,
          66433.73,
          67837.93000000001,
          68750,
          69215.88,
          72234.91,
          72398.95,
          74472.44,
          75935.69,
          77973.09,
          84679.13,
          85604.33,
          85778.21,
          87362.86,
          87963.25,
          90719.16,
          93573.49,
          95000.66,
          95742.13,
          96057.09,
          107595.8,
          107618.77,
          107710.63,
          107999.34,
          109134.51,
          109433.06,
          109531.49,
          109666,
          111217.84,
          111319.55,
          112894.35,
          112999.34,
          114288.70999999999,
          114472.44,
          114751.31,
          116699.47,
          118005.24,
          119944.22,
          120049.21,
          121558.39,
          123454.72,
          125351.05,
          127604.99,
          127775.59,
          131450.13,
          133612.21,
          135992.13,
          136431.76,
          137680.45,
          138624.02,
          141602.37,
          141805.78,
          142024.28,
          144744.1,
          146190.95,
          150147.63999999998,
          153157.49,
          153423.24,
          156267.73,
          156415.37,
          159295.95,
          159482.96,
          160860.91,
          164604.35,
          164712.62,
          167557.11,
          167906.19,
          168952.78,
          168952.78,
          169280.86,
          172174.56,
          175153.57,
          180589.91999999998,
          181977.72,
          182384.54,
          185507.9,
          187788.08,
          188345.82,
          191774.3,
          197407.5,
          199303.82,
          199979.68,
          201892.41999999998,
          202945.57,
          206059.09,
          208903.58,
          208969.2,
          210679.16999999998,
          211141.77,
          212362.24,
          214273.66,
          214342.56,
          219129.31,
          223404.24,
          224073.53,
          225336.65,
          226954.1,
          227078.77,
          227078.77,
          231035.46,
          231849.11,
          233604.36,
          239017.75,
          240310.4,
          242226.41,
          243035.47,
          244324.84,
          246378.65,
          250492.82,
          251313.03,
          251910.13999999998,
          253311.06,
          257441.63999999998,
          260227.07,
          260394.38999999998,
          261644.38999999998,
          262290.72,
          263501.35,
          264800.23,
          272543.01,
          272543.01,
          272543.01,
          272543.01,
          273346.82,
          276212.96,
          276212.96,
          276354.04,
          276903.25,
          276903.25,
          277608.63,
          277723.46,
          278556.79,
          279804.82,
          280057.44,
          281104.02999999997,
          281104.02999999997,
          281104.02999999997,
          284128.96,
          284128.96,
          284233.95,
          284233.95,
          284233.95,
          285736.57,
          286041.69,
          286166.36,
          286346.81,
          287783.82,
          287931.46,
          288020.04,
          288187.36,
          288489.2,
          289824.5,
          289952.45,
          291434.08,
          291601.4,
          292909.14,
          292958.35,
          293312.68,
          293427.51,
          293427.51,
          293637.48,
          293978.02999999997,
          295903.89,
          297409.8,
          298754.94,
          300487.22,
          302288.4,
          302705.07,
          304821.21,
          304821.21,
          305008.22,
          305588.93,
          306973.44,
          307216.22,
          307409.79,
          307800.21,
          309443.91,
          309673.57,
          310270.68,
          313334.98,
          313554.8,
          313554.8,
          314194.56,
          314220.81,
          314673.57,
          315136.17,
          315385.51,
          315542.99,
          319578.42
         ],
         "yaxis": "y"
        },
        {
         "customdata": [
          [
           2019,
           183.73
          ],
          [
           2019,
           367.46
          ],
          [
           2019,
           634.52
          ],
          [
           2019,
           860.9
          ],
          [
           2019,
           1070.87
          ],
          [
           2019,
           4171.26
          ],
          [
           2019,
           6661.42
          ],
          [
           2019,
           6989.5
          ],
          [
           2019,
           7061.679999999999
          ],
          [
           2019,
           9847.11
          ],
          [
           2019,
           10234.25
          ],
          [
           2019,
           10470.47
          ],
          [
           2019,
           11248.029999999999
          ],
          [
           2019,
           14236.88
          ],
          [
           2019,
           15299.88
          ],
          [
           2019,
           15319.57
          ],
          [
           2019,
           16349.75
          ],
          [
           2019,
           16349.75
          ],
          [
           2019,
           16349.75
          ],
          [
           2019,
           16349.75
          ],
          [
           2019,
           16559.72
          ],
          [
           2019,
           19614.18
          ],
          [
           2019,
           23282.16
          ],
          [
           2019,
           23554.47
          ],
          [
           2019,
           23692.27
          ],
          [
           2019,
           25893.72
          ],
          [
           2019,
           25893.72
          ],
          [
           2019,
           25893.72
          ],
          [
           2019,
           25923.25
          ],
          [
           2019,
           26087.29
          ],
          [
           2019,
           26179.15
          ],
          [
           2019,
           27584.66
          ],
          [
           2019,
           27784.79
          ],
          [
           2019,
           28061.69
          ],
          [
           2019,
           29590.56
          ],
          [
           2019,
           29892.4
          ],
          [
           2019,
           30059.72
          ],
          [
           2019,
           30266.41
          ],
          [
           2019,
           31402.89
          ],
          [
           2019,
           31560.37
          ],
          [
           2019,
           31734.25
          ],
          [
           2019,
           31963.91
          ],
          [
           2019,
           34799.87
          ],
          [
           2019,
           36161.42
          ],
          [
           2019,
           36341.87
          ],
          [
           2019,
           36525.6
          ],
          [
           2019,
           36899.62
          ],
          [
           2019,
           39481.64
          ],
          [
           2019,
           40748.04
          ],
          [
           2019,
           40803.81
          ],
          [
           2019,
           41683.08
          ],
          [
           2019,
           41906.18
          ],
          [
           2019,
           42037.41
          ],
          [
           2019,
           43353.03
          ],
          [
           2019,
           43602.37
          ],
          [
           2019,
           44259.85
          ],
          [
           2019,
           44840.56
          ],
          [
           2019,
           44899.62
          ],
          [
           2019,
           47927.84
          ],
          [
           2019,
           49250.02
          ],
          [
           2019,
           49948.85
          ],
          [
           2019,
           50191.63
          ],
          [
           2019,
           50588.93
          ],
          [
           2019,
           51113.86
          ],
          [
           2019,
           51560.06
          ],
          [
           2019,
           55113.21
          ],
          [
           2019,
           55962.95
          ],
          [
           2019,
           56701.14
          ],
          [
           2019,
           57908.49
          ],
          [
           2019,
           60386.84
          ],
          [
           2019,
           60550.88
          ],
          [
           2019,
           61056.13
          ],
          [
           2019,
           61627
          ],
          [
           2019,
           63569.26
          ],
          [
           2019,
           63795.64
          ],
          [
           2019,
           64852.07
          ],
          [
           2019,
           65659.15
          ],
          [
           2019,
           66154.56
          ],
          [
           2019,
           67978.71
          ],
          [
           2019,
           70817.29
          ],
          [
           2019,
           70948.52
          ],
          [
           2019,
           71453.77
          ],
          [
           2019,
           71680.15
          ],
          [
           2019,
           72323.19
          ],
          [
           2019,
           73425.55
          ],
          [
           2019,
           73819.25
          ],
          [
           2019,
           73953.76
          ],
          [
           2019,
           74150.61
          ],
          [
           2019,
           74481.97
          ],
          [
           2019,
           74974.09
          ],
          [
           2019,
           78363.2
          ],
          [
           2019,
           78612.54
          ],
          [
           2019,
           78612.54
          ],
          [
           2019,
           80112.54
          ],
          [
           2019,
           81312.67
          ],
          [
           2019,
           82608.6
          ],
          [
           2019,
           83671.59
          ],
          [
           2019,
           84997.05
          ],
          [
           2019,
           86143.38
          ],
          [
           2019,
           87977.37
          ],
          [
           2019,
           88528.55
          ],
          [
           2019,
           89545.61
          ],
          [
           2019,
           91471.46
          ],
          [
           2019,
           94010.83
          ],
          [
           2019,
           95004.92
          ],
          [
           2019,
           95100.06
          ],
          [
           2019,
           95869.09
          ],
          [
           2019,
           98493.76
          ],
          [
           2019,
           100002.95
          ],
          [
           2019,
           101161.09
          ],
          [
           2019,
           101256.23
          ],
          [
           2019,
           102571.85
          ],
          [
           2019,
           102644.03
          ],
          [
           2019,
           103867.78
          ],
          [
           2019,
           104064.63
          ],
          [
           2019,
           105859.26
          ],
          [
           2019,
           106695.87
          ],
          [
           2019,
           107722.77
          ],
          [
           2019,
           107893.37
          ],
          [
           2019,
           110636.15
          ],
          [
           2019,
           112870.4
          ],
          [
           2019,
           113024.6
          ],
          [
           2019,
           115638.12
          ],
          [
           2019,
           119460.3
          ],
          [
           2019,
           119591.53
          ],
          [
           2019,
           119638.77
          ],
          [
           2019,
           120157.14
          ],
          [
           2019,
           122955.7
          ],
          [
           2019,
           126348.09
          ],
          [
           2019,
           127023.94
          ],
          [
           2019,
           128250.97
          ],
          [
           2019,
           129499
          ],
          [
           2019,
           130233.91
          ],
          [
           2019,
           131516.72
          ],
          [
           2019,
           132074.46
          ],
          [
           2019,
           134991.13
          ],
          [
           2019,
           139932.08
          ],
          [
           2019,
           144292.32
          ],
          [
           2019,
           145552.16
          ],
          [
           2019,
           146018.04
          ],
          [
           2019,
           146126.31
          ],
          [
           2019,
           146989.17
          ],
          [
           2019,
           149090.22
          ],
          [
           2019,
           149880.9
          ],
          [
           2019,
           150333.65
          ],
          [
           2019,
           150868.43
          ],
          [
           2019,
           152731.95
          ],
          [
           2019,
           153207.67
          ],
          [
           2019,
           154695.86
          ],
          [
           2019,
           160493.1
          ],
          [
           2019,
           163475.38
          ],
          [
           2019,
           163754.25
          ],
          [
           2019,
           164544.93
          ],
          [
           2019,
           165437.31
          ],
          [
           2019,
           165673.53
          ],
          [
           2019,
           170412.38
          ],
          [
           2019,
           172203.72
          ],
          [
           2019,
           173076.42
          ],
          [
           2019,
           173801.48
          ],
          [
           2019,
           174441.24
          ],
          [
           2019,
           175238.48
          ],
          [
           2019,
           176196.49
          ],
          [
           2019,
           176964.21
          ],
          [
           2019,
           177397.28
          ],
          [
           2019,
           180691.24
          ],
          [
           2019,
           182042.95
          ],
          [
           2019,
           183411.06
          ],
          [
           2019,
           184405.15
          ],
          [
           2019,
           184851.35
          ],
          [
           2019,
           185815.92
          ],
          [
           2019,
           186511.46
          ],
          [
           2019,
           187341.51
          ],
          [
           2019,
           188306.08
          ],
          [
           2019,
           191042.3
          ],
          [
           2019,
           192033.11
          ],
          [
           2019,
           193358.57
          ],
          [
           2019,
           193735.87
          ],
          [
           2019,
           194998.99
          ],
          [
           2019,
           195517.36
          ],
          [
           2019,
           197508.83
          ],
          [
           2019,
           199449.77
          ],
          [
           2019,
           200210.93
          ],
          [
           2019,
           201861.19
          ],
          [
           2019,
           203219.46
          ],
          [
           2019,
           204072.48
          ],
          [
           2019,
           205432.39
          ],
          [
           2019,
           206403.52
          ],
          [
           2019,
           207040
          ],
          [
           2019,
           208408.11
          ],
          [
           2019,
           209776.22
          ],
          [
           2019,
           209877.93
          ],
          [
           2019,
           209959.95
          ],
          [
           2019,
           210114.15
          ],
          [
           2019,
           212883.18
          ],
          [
           2019,
           212984.89
          ],
          [
           2019,
           213037.38
          ],
          [
           2019,
           214664.68
          ],
          [
           2019,
           214904.18
          ],
          [
           2019,
           215468.49
          ],
          [
           2019,
           215488.18
          ],
          [
           2019,
           216626.63
          ],
          [
           2019,
           217213.9
          ],
          [
           2019,
           219346.45
          ],
          [
           2019,
           221344.48
          ],
          [
           2019,
           223158.78
          ],
          [
           2019,
           223788.7
          ],
          [
           2019,
           225811.01
          ],
          [
           2019,
           227205.37
          ],
          [
           2019,
           227326.76
          ],
          [
           2019,
           227533.45
          ],
          [
           2019,
           227697.49
          ],
          [
           2019,
           230338.57
          ],
          [
           2019,
           231549.2
          ],
          [
           2019,
           231703.4
          ],
          [
           2019,
           233596.44
          ],
          [
           2019,
           233596.44
          ],
          [
           2019,
           233753.92
          ],
          [
           2019,
           235076.1
          ],
          [
           2019,
           235187.65
          ],
          [
           2019,
           236894.34
          ],
          [
           2019,
           238941.58
          ],
          [
           2019,
           241441.58
          ],
          [
           2019,
           241559.69
          ],
          [
           2019,
           243508.51
          ],
          [
           2019,
           243688.96
          ],
          [
           2019,
           247448.8
          ],
          [
           2019,
           247750.64
          ],
          [
           2019,
           247885.15
          ]
         ],
         "hovertemplate": "<extra></extra><br>Year: %{customdata[0]}<br>Elevation: %{y:,.0f}",
         "legendgroup": "2019",
         "line": {
          "color": "#FFA15A",
          "dash": "solid"
         },
         "marker": {
          "symbol": "circle"
         },
         "mode": "lines",
         "name": "2019",
         "showlegend": true,
         "type": "scattergl",
         "x": [
          1,
          2,
          3,
          5,
          6,
          7,
          8,
          9,
          10,
          12,
          13,
          15,
          18,
          19,
          20,
          21,
          22,
          23,
          26,
          29,
          30,
          31,
          33,
          34,
          36,
          37,
          38,
          40,
          41,
          42,
          43,
          44,
          45,
          46,
          47,
          51,
          52,
          53,
          55,
          56,
          57,
          59,
          61,
          62,
          65,
          66,
          67,
          68,
          69,
          71,
          73,
          74,
          75,
          76,
          77,
          79,
          80,
          81,
          82,
          83,
          84,
          85,
          86,
          87,
          89,
          90,
          91,
          92,
          94,
          96,
          97,
          98,
          99,
          103,
          104,
          106,
          107,
          108,
          110,
          111,
          112,
          113,
          114,
          115,
          116,
          117,
          120,
          121,
          122,
          123,
          124,
          126,
          127,
          128,
          129,
          130,
          131,
          132,
          133,
          134,
          136,
          137,
          138,
          139,
          141,
          142,
          145,
          146,
          147,
          148,
          149,
          150,
          153,
          154,
          155,
          156,
          157,
          160,
          163,
          164,
          166,
          169,
          171,
          173,
          174,
          176,
          183,
          188,
          189,
          190,
          194,
          195,
          196,
          198,
          199,
          201,
          202,
          203,
          204,
          205,
          206,
          207,
          208,
          210,
          219,
          221,
          222,
          223,
          225,
          228,
          229,
          230,
          231,
          232,
          234,
          236,
          250,
          253,
          254,
          257,
          258,
          259,
          260,
          263,
          264,
          265,
          267,
          268,
          269,
          270,
          271,
          272,
          276,
          277,
          286,
          287,
          288,
          289,
          290,
          292,
          293,
          294,
          297,
          298,
          299,
          300,
          302,
          303,
          307,
          308,
          309,
          310,
          312,
          313,
          315,
          319,
          320,
          321,
          322,
          323,
          325,
          326,
          327,
          328,
          330,
          331,
          333,
          334,
          335,
          337,
          338,
          341,
          342,
          344,
          346,
          347,
          348,
          351,
          352,
          354,
          355,
          356,
          358,
          359,
          361,
          362,
          363,
          365
         ],
         "xaxis": "x",
         "y": [
          183.73,
          367.46,
          634.52,
          860.9,
          1070.87,
          4171.26,
          6661.42,
          6989.5,
          7061.679999999999,
          9847.11,
          10234.25,
          10470.47,
          11248.029999999999,
          14236.88,
          15299.88,
          15319.57,
          16349.75,
          16349.75,
          16349.75,
          16349.75,
          16559.72,
          19614.18,
          23282.16,
          23554.47,
          23692.27,
          25893.72,
          25893.72,
          25893.72,
          25923.25,
          26087.29,
          26179.15,
          27584.66,
          27784.79,
          28061.69,
          29590.56,
          29892.4,
          30059.72,
          30266.41,
          31402.89,
          31560.37,
          31734.25,
          31963.91,
          34799.87,
          36161.42,
          36341.87,
          36525.6,
          36899.62,
          39481.64,
          40748.04,
          40803.81,
          41683.08,
          41906.18,
          42037.41,
          43353.03,
          43602.37,
          44259.85,
          44840.56,
          44899.62,
          47927.84,
          49250.02,
          49948.85,
          50191.63,
          50588.93,
          51113.86,
          51560.06,
          55113.21,
          55962.95,
          56701.14,
          57908.49,
          60386.84,
          60550.88,
          61056.13,
          61627,
          63569.26,
          63795.64,
          64852.07,
          65659.15,
          66154.56,
          67978.71,
          70817.29,
          70948.52,
          71453.77,
          71680.15,
          72323.19,
          73425.55,
          73819.25,
          73953.76,
          74150.61,
          74481.97,
          74974.09,
          78363.2,
          78612.54,
          78612.54,
          80112.54,
          81312.67,
          82608.6,
          83671.59,
          84997.05,
          86143.38,
          87977.37,
          88528.55,
          89545.61,
          91471.46,
          94010.83,
          95004.92,
          95100.06,
          95869.09,
          98493.76,
          100002.95,
          101161.09,
          101256.23,
          102571.85,
          102644.03,
          103867.78,
          104064.63,
          105859.26,
          106695.87,
          107722.77,
          107893.37,
          110636.15,
          112870.4,
          113024.6,
          115638.12,
          119460.3,
          119591.53,
          119638.77,
          120157.14,
          122955.7,
          126348.09,
          127023.94,
          128250.97,
          129499,
          130233.91,
          131516.72,
          132074.46,
          134991.13,
          139932.08,
          144292.32,
          145552.16,
          146018.04,
          146126.31,
          146989.17,
          149090.22,
          149880.9,
          150333.65,
          150868.43,
          152731.95,
          153207.67,
          154695.86,
          160493.1,
          163475.38,
          163754.25,
          164544.93,
          165437.31,
          165673.53,
          170412.38,
          172203.72,
          173076.42,
          173801.48,
          174441.24,
          175238.48,
          176196.49,
          176964.21,
          177397.28,
          180691.24,
          182042.95,
          183411.06,
          184405.15,
          184851.35,
          185815.92,
          186511.46,
          187341.51,
          188306.08,
          191042.3,
          192033.11,
          193358.57,
          193735.87,
          194998.99,
          195517.36,
          197508.83,
          199449.77,
          200210.93,
          201861.19,
          203219.46,
          204072.48,
          205432.39,
          206403.52,
          207040,
          208408.11,
          209776.22,
          209877.93,
          209959.95,
          210114.15,
          212883.18,
          212984.89,
          213037.38,
          214664.68,
          214904.18,
          215468.49,
          215488.18,
          216626.63,
          217213.9,
          219346.45,
          221344.48,
          223158.78,
          223788.7,
          225811.01,
          227205.37,
          227326.76,
          227533.45,
          227697.49,
          230338.57,
          231549.2,
          231703.4,
          233596.44,
          233596.44,
          233753.92,
          235076.1,
          235187.65,
          236894.34,
          238941.58,
          241441.58,
          241559.69,
          243508.51,
          243688.96,
          247448.8,
          247750.64,
          247885.15
         ],
         "yaxis": "y"
        },
        {
         "customdata": [
          [
           2020,
           1671.26
          ],
          [
           2020,
           1776.25
          ],
          [
           2020,
           6868.11
          ],
          [
           2020,
           7645.67
          ],
          [
           2020,
           7763.78
          ],
          [
           2020,
           8387.14
          ],
          [
           2020,
           8695.539999999999
          ],
          [
           2020,
           8895.67
          ],
          [
           2020,
           9026.9
          ],
          [
           2020,
           9092.52
          ],
          [
           2020,
           9092.52
          ],
          [
           2020,
           9161.42
          ],
          [
           2020,
           11690.95
          ],
          [
           2020,
           11766.41
          ],
          [
           2020,
           13902.24
          ],
          [
           2020,
           14161.43
          ],
          [
           2020,
           17268.39
          ],
          [
           2020,
           20864.19
          ],
          [
           2020,
           22789.06
          ],
          [
           2020,
           22894.05
          ],
          [
           2020,
           25110.91
          ],
          [
           2020,
           25635.84
          ],
          [
           2020,
           26226.39
          ],
          [
           2020,
           28106.31
          ],
          [
           2020,
           30481.64
          ],
          [
           2020,
           30599.75
          ],
          [
           2020,
           31685.71
          ],
          [
           2020,
           33381.25
          ],
          [
           2020,
           34723.44
          ],
          [
           2020,
           36451.79
          ],
          [
           2020,
           39434.07
          ],
          [
           2020,
           40736.56
          ],
          [
           2020,
           40862.54
          ],
          [
           2020,
           40983.93
          ],
          [
           2020,
           41075.79
          ],
          [
           2020,
           41567.92
          ],
          [
           2020,
           42017.39
          ],
          [
           2020,
           43336.29
          ],
          [
           2020,
           44304.14
          ],
          [
           2020,
           45790.36
          ],
          [
           2020,
           47030.52
          ],
          [
           2020,
           48352.7
          ],
          [
           2020,
           51787.74
          ],
          [
           2020,
           53123.04
          ],
          [
           2020,
           53969.5
          ],
          [
           2020,
           53969.5
          ],
          [
           2020,
           57105.98
          ],
          [
           2020,
           57798.24
          ],
          [
           2020,
           59097.45
          ],
          [
           2020,
           59901.26
          ],
          [
           2020,
           60137.48
          ],
          [
           2020,
           61850.08
          ],
          [
           2020,
           62529.21
          ],
          [
           2020,
           63989.18
          ],
          [
           2020,
           66571.2
          ],
          [
           2020,
           69356.63
          ],
          [
           2020,
           70885.5
          ],
          [
           2020,
           71531.83
          ],
          [
           2020,
           72386.16
          ],
          [
           2020,
           72500.99
          ],
          [
           2020,
           73734.59
          ],
          [
           2020,
           75758.87
          ],
          [
           2020,
           78838.27
          ],
          [
           2020,
           79493.13
          ],
          [
           2020,
           80910.45
          ],
          [
           2020,
           81609.27
          ],
          [
           2020,
           82334.34
          ],
          [
           2020,
           82498.38
          ],
          [
           2020,
           83180.79
          ],
          [
           2020,
           84453.76
          ],
          [
           2020,
           85142.74
          ],
          [
           2020,
           85831.72
          ],
          [
           2020,
           87153.9
          ],
          [
           2020,
           88403.9
          ],
          [
           2020,
           89030.54
          ],
          [
           2020,
           89857.31
          ],
          [
           2020,
           89926.21
          ],
          [
           2020,
           91205.74
          ],
          [
           2020,
           91865.19
          ],
          [
           2020,
           92370.44
          ],
          [
           2020,
           93138.16
          ],
          [
           2020,
           93987.9
          ],
          [
           2020,
           94814.67
          ],
          [
           2020,
           96166.38
          ],
          [
           2020,
           96409.16
          ],
          [
           2020,
           99184.75
          ],
          [
           2020,
           99768.74
          ],
          [
           2020,
           102048.92
          ],
          [
           2020,
           108285.8
          ],
          [
           2020,
           109025.96
          ],
          [
           2020,
           109659.16
          ],
          [
           2020,
           110361.26
          ],
          [
           2020,
           112972.81
          ],
          [
           2020,
           115443.28
          ],
          [
           2020,
           124324.51
          ],
          [
           2020,
           125705.74
          ],
          [
           2020,
           127615.19
          ],
          [
           2020,
           128392.75
          ],
          [
           2020,
           134367.16
          ],
          [
           2020,
           137083.7
          ],
          [
           2020,
           138428.84
          ],
          [
           2020,
           141877
          ],
          [
           2020,
           144994.45
          ],
          [
           2020,
           146395.37
          ],
          [
           2020,
           152081.07
          ],
          [
           2020,
           153547.61
          ],
          [
           2020,
           154846.82
          ],
          [
           2020,
           156296.95
          ],
          [
           2020,
           157697.87
          ],
          [
           2020,
           161106.66
          ],
          [
           2020,
           161543.01
          ],
          [
           2020,
           163737.89
          ],
          [
           2020,
           167530.54
          ],
          [
           2020,
           172222.14
          ],
          [
           2020,
           175447.21
          ],
          [
           2020,
           175499.7
          ],
          [
           2020,
           175558.76
          ],
          [
           2020,
           176365.85
          ],
          [
           2020,
           177487.9
          ],
          [
           2020,
           178012.83
          ],
          [
           2020,
           178388.16
          ],
          [
           2020,
           179919.65
          ],
          [
           2020,
           180802.2
          ],
          [
           2020,
           182111.25
          ],
          [
           2020,
           182580.41
          ],
          [
           2020,
           185146.03
          ],
          [
           2020,
           185323.2
          ],
          [
           2020,
           185571.23
          ],
          [
           2020,
           186289.73
          ],
          [
           2020,
           186378.31
          ],
          [
           2020,
           187234.61
          ],
          [
           2020,
           187857.97
          ],
          [
           2020,
           188581.07
          ],
          [
           2020,
           190011.52
          ],
          [
           2020,
           190090.26
          ],
          [
           2020,
           190241.18
          ],
          [
           2020,
           190290.39
          ],
          [
           2020,
           191914.4
          ],
          [
           2020,
           193266.11
          ],
          [
           2020,
           193905.87
          ],
          [
           2020,
           194178.18
          ],
          [
           2020,
           195221.49
          ],
          [
           2020,
           197317.94
          ],
          [
           2020,
           198357.97
          ],
          [
           2020,
           200306.79
          ],
          [
           2020,
           204004.62
          ],
          [
           2020,
           207183.76
          ],
          [
           2020,
           207574.18
          ],
          [
           2020,
           208204.1
          ],
          [
           2020,
           208738.88
          ],
          [
           2020,
           209145.7
          ],
          [
           2020,
           209760.86
          ],
          [
           2020,
           212470.83
          ],
          [
           2020,
           215049.57
          ],
          [
           2020,
           215590.91
          ],
          [
           2020,
           217100.1
          ],
          [
           2020,
           219891.11
          ],
          [
           2020,
           221526.93
          ],
          [
           2020,
           223223.12
          ],
          [
           2020,
           224492.81
          ],
          [
           2020,
           226074.17
          ],
          [
           2020,
           228013.15
          ],
          [
           2020,
           230559.08
          ],
          [
           2020,
           231887.82
          ],
          [
           2020,
           233508.55
          ],
          [
           2020,
           234122.07
          ],
          [
           2020,
           234932.44
          ],
          [
           2020,
           235811.71
          ],
          [
           2020,
           239129.95
          ],
          [
           2020,
           240005.93
          ],
          [
           2020,
           242797.92
          ],
          [
           2020,
           243165.37
          ],
          [
           2020,
           243552.51
          ],
          [
           2020,
           245107.63
          ],
          [
           2020,
           246403.56
          ],
          [
           2020,
           246895.69
          ],
          [
           2020,
           253080.07
          ],
          [
           2020,
           253440.96
          ],
          [
           2020,
           254313.66
          ],
          [
           2020,
           255763.79
          ],
          [
           2020,
           257030.19
          ],
          [
           2020,
           257633.86
          ],
          [
           2020,
           265849.08
          ],
          [
           2020,
           266337.93
          ],
          [
           2020,
           267227.04
          ],
          [
           2020,
           271171.92
          ],
          [
           2020,
           273494.75
          ],
          [
           2020,
           274357.61
          ],
          [
           2020,
           274656.17
          ],
          [
           2020,
           275505.91
          ],
          [
           2020,
           276808.08
          ],
          [
           2020,
           277962.94
          ],
          [
           2020,
           279285.12
          ],
          [
           2020,
           280646.67
          ],
          [
           2020,
           282139.45
          ],
          [
           2020,
           283169.63
          ],
          [
           2020,
           284078.42
          ],
          [
           2020,
           286286.42
          ],
          [
           2020,
           287221.46
          ],
          [
           2020,
           288084.32
          ],
          [
           2020,
           290925.52999999997
          ],
          [
           2020,
           292424.87
          ],
          [
           2020,
           296191.27
          ],
          [
           2020,
           297093.5
          ]
         ],
         "hovertemplate": "<extra></extra><br>Year: %{customdata[0]}<br>Elevation: %{y:,.0f}",
         "legendgroup": "2020",
         "line": {
          "color": "#19d3f3",
          "dash": "solid"
         },
         "marker": {
          "symbol": "circle"
         },
         "mode": "lines",
         "name": "2020",
         "showlegend": true,
         "type": "scattergl",
         "x": [
          1,
          2,
          4,
          5,
          7,
          8,
          12,
          13,
          14,
          16,
          22,
          24,
          26,
          28,
          29,
          30,
          32,
          33,
          35,
          36,
          37,
          38,
          39,
          40,
          42,
          43,
          44,
          47,
          50,
          51,
          53,
          54,
          56,
          57,
          59,
          64,
          66,
          67,
          68,
          70,
          72,
          73,
          74,
          76,
          77,
          80,
          81,
          82,
          83,
          84,
          85,
          86,
          88,
          90,
          91,
          94,
          95,
          96,
          98,
          100,
          101,
          102,
          103,
          105,
          108,
          109,
          111,
          112,
          113,
          114,
          115,
          118,
          120,
          121,
          124,
          125,
          126,
          129,
          132,
          133,
          134,
          136,
          137,
          138,
          140,
          141,
          142,
          145,
          146,
          149,
          150,
          151,
          153,
          154,
          159,
          160,
          161,
          163,
          165,
          168,
          170,
          172,
          173,
          177,
          179,
          188,
          189,
          190,
          192,
          194,
          195,
          198,
          199,
          200,
          201,
          203,
          205,
          210,
          211,
          212,
          214,
          215,
          216,
          217,
          218,
          219,
          221,
          222,
          224,
          225,
          226,
          227,
          233,
          234,
          236,
          246,
          247,
          251,
          253,
          254,
          255,
          256,
          257,
          259,
          260,
          262,
          263,
          264,
          265,
          266,
          267,
          268,
          269,
          271,
          274,
          276,
          277,
          278,
          280,
          281,
          282,
          283,
          285,
          288,
          289,
          294,
          295,
          296,
          299,
          301,
          302,
          303,
          304,
          306,
          307,
          310,
          311,
          312,
          316,
          318,
          320,
          321,
          326,
          328,
          330,
          332,
          334,
          336,
          338,
          339,
          340,
          342,
          343,
          345,
          347,
          349,
          353,
          354,
          356,
          357,
          358,
          359,
          362,
          364
         ],
         "xaxis": "x",
         "y": [
          1671.26,
          1776.25,
          6868.11,
          7645.67,
          7763.78,
          8387.14,
          8695.539999999999,
          8895.67,
          9026.9,
          9092.52,
          9092.52,
          9161.42,
          11690.95,
          11766.41,
          13902.24,
          14161.43,
          17268.39,
          20864.19,
          22789.06,
          22894.05,
          25110.91,
          25635.84,
          26226.39,
          28106.31,
          30481.64,
          30599.75,
          31685.71,
          33381.25,
          34723.44,
          36451.79,
          39434.07,
          40736.56,
          40862.54,
          40983.93,
          41075.79,
          41567.92,
          42017.39,
          43336.29,
          44304.14,
          45790.36,
          47030.52,
          48352.7,
          51787.74,
          53123.04,
          53969.5,
          53969.5,
          57105.98,
          57798.24,
          59097.45,
          59901.26,
          60137.48,
          61850.08,
          62529.21,
          63989.18,
          66571.2,
          69356.63,
          70885.5,
          71531.83,
          72386.16,
          72500.99,
          73734.59,
          75758.87,
          78838.27,
          79493.13,
          80910.45,
          81609.27,
          82334.34,
          82498.38,
          83180.79,
          84453.76,
          85142.74,
          85831.72,
          87153.9,
          88403.9,
          89030.54,
          89857.31,
          89926.21,
          91205.74,
          91865.19,
          92370.44,
          93138.16,
          93987.9,
          94814.67,
          96166.38,
          96409.16,
          99184.75,
          99768.74,
          102048.92,
          108285.8,
          109025.96,
          109659.16,
          110361.26,
          112972.81,
          115443.28,
          124324.51,
          125705.74,
          127615.19,
          128392.75,
          134367.16,
          137083.7,
          138428.84,
          141877,
          144994.45,
          146395.37,
          152081.07,
          153547.61,
          154846.82,
          156296.95,
          157697.87,
          161106.66,
          161543.01,
          163737.89,
          167530.54,
          172222.14,
          175447.21,
          175499.7,
          175558.76,
          176365.85,
          177487.9,
          178012.83,
          178388.16,
          179919.65,
          180802.2,
          182111.25,
          182580.41,
          185146.03,
          185323.2,
          185571.23,
          186289.73,
          186378.31,
          187234.61,
          187857.97,
          188581.07,
          190011.52,
          190090.26,
          190241.18,
          190290.39,
          191914.4,
          193266.11,
          193905.87,
          194178.18,
          195221.49,
          197317.94,
          198357.97,
          200306.79,
          204004.62,
          207183.76,
          207574.18,
          208204.1,
          208738.88,
          209145.7,
          209760.86,
          212470.83,
          215049.57,
          215590.91,
          217100.1,
          219891.11,
          221526.93,
          223223.12,
          224492.81,
          226074.17,
          228013.15,
          230559.08,
          231887.82,
          233508.55,
          234122.07,
          234932.44,
          235811.71,
          239129.95,
          240005.93,
          242797.92,
          243165.37,
          243552.51,
          245107.63,
          246403.56,
          246895.69,
          253080.07,
          253440.96,
          254313.66,
          255763.79,
          257030.19,
          257633.86,
          265849.08,
          266337.93,
          267227.04,
          271171.92,
          273494.75,
          274357.61,
          274656.17,
          275505.91,
          276808.08,
          277962.94,
          279285.12,
          280646.67,
          282139.45,
          283169.63,
          284078.42,
          286286.42,
          287221.46,
          288084.32,
          290925.52999999997,
          292424.87,
          296191.27,
          297093.5
         ],
         "yaxis": "y"
        },
        {
         "customdata": [
          [
           2021,
           1141.73
          ],
          [
           2021,
           5262.469999999999
          ],
          [
           2021,
           6125.329999999999
          ],
          [
           2021,
           7040.679999999999
          ],
          [
           2021,
           8018.369999999999
          ],
          [
           2021,
           11489.5
          ],
          [
           2021,
           13530.84
          ],
          [
           2021,
           14987.529999999999
          ],
          [
           2021,
           15332.02
          ],
          [
           2021,
           18051.84
          ],
          [
           2021,
           18622.71
          ],
          [
           2021,
           19341.21
          ],
          [
           2021,
           20263.13
          ],
          [
           2021,
           21601.71
          ],
          [
           2021,
           21788.72
          ],
          [
           2021,
           22326.78
          ],
          [
           2021,
           23169.96
          ],
          [
           2021,
           24036.1
          ],
          [
           2021,
           25196.21
          ],
          [
           2021,
           28007.89
          ],
          [
           2021,
           28949.489999999998
          ],
          [
           2021,
           29858.28
          ],
          [
           2021,
           30868.78
          ],
          [
           2021,
           31311.69
          ],
          [
           2021,
           32302.5
          ],
          [
           2021,
           33385.18
          ],
          [
           2021,
           34736.89
          ],
          [
           2021,
           35543.979999999996
          ],
          [
           2021,
           36971.15
          ],
          [
           2021,
           38352.38
          ],
          [
           2021,
           39490.83
          ],
          [
           2021,
           41301.85
          ],
          [
           2021,
           42610.909999999996
          ],
          [
           2021,
           43342.54
          ],
          [
           2021,
           44661.44
          ],
          [
           2021,
           45516.43
          ],
          [
           2021,
           46372.4
          ],
          [
           2021,
           47118.46
          ],
          [
           2021,
           49106.31
          ],
          [
           2021,
           50699.159999999996
          ],
          [
           2021,
           53436.69
          ],
          [
           2021,
           55136.82
          ],
          [
           2021,
           56547.58
          ],
          [
           2021,
           57047.58
          ],
          [
           2021,
           59135.51
          ],
          [
           2021,
           62209.659999999996
          ],
          [
           2021,
           63571.21
          ],
          [
           2021,
           69411.11
          ],
          [
           2021,
           70946.54
          ],
          [
           2021,
           72557.43
          ],
          [
           2021,
           73905.86
          ],
          [
           2021,
           76648.64
          ],
          [
           2021,
           79407.83
          ],
          [
           2021,
           80749.69
          ],
          [
           2021,
           83525.28
          ],
          [
           2021,
           83745.42
          ],
          [
           2021,
           84713.27
          ],
          [
           2021,
           86363.53
          ],
          [
           2021,
           87994.76
          ],
          [
           2021,
           88093.19
          ],
          [
           2021,
           89018.39
          ],
          [
           2021,
           89244.77
          ],
          [
           2021,
           91379.61
          ],
          [
           2021,
           92685.38
          ],
          [
           2021,
           93554.8
          ],
          [
           2021,
           94457.03
          ],
          [
           2021,
           97331.05
          ],
          [
           2021,
           99063.33
          ],
          [
           2021,
           99722.78
          ],
          [
           2021,
           101231.97
          ],
          [
           2021,
           101888.14
          ],
          [
           2021,
           105191.95
          ],
          [
           2021,
           106451.79
          ],
          [
           2021,
           108184.07
          ],
          [
           2021,
           108459.66
          ],
          [
           2021,
           108853.36
          ],
          [
           2021,
           110123.05
          ],
          [
           2021,
           111940.64
          ],
          [
           2021,
           112098.12
          ],
          [
           2021,
           113397.33
          ],
          [
           2021,
           114758.88
          ],
          [
           2021,
           117685.39
          ],
          [
           2021,
           117960.98
          ],
          [
           2021,
           117990.51
          ],
          [
           2021,
           121522.99
          ],
          [
           2021,
           122454.75
          ],
          [
           2021,
           123740.84
          ],
          [
           2021,
           126614.86
          ],
          [
           2021,
           127280.87
          ],
          [
           2021,
           128816.3
          ],
          [
           2021,
           128816.3
          ],
          [
           2021,
           130079.42
          ],
          [
           2021,
           131349.11
          ],
          [
           2021,
           134328.11
          ],
          [
           2021,
           134554.49
          ],
          [
           2021,
           139900.62
          ],
          [
           2021,
           142744.12
          ],
          [
           2021,
           144085.98
          ],
          [
           2021,
           145729.68
          ],
          [
           2021,
           146904.22
          ],
          [
           2021,
           148301.86
          ],
          [
           2021,
           150014.46
          ],
          [
           2021,
           151198.84
          ],
          [
           2021,
           153062.36
          ],
          [
           2021,
           154499.37
          ],
          [
           2021,
           157258.56
          ],
          [
           2021,
           159400.95
          ],
          [
           2021,
           159492.81
          ],
          [
           2021,
           160732.97
          ],
          [
           2021,
           160979.03
          ],
          [
           2021,
           162553.84
          ],
          [
           2021,
           163853.05
          ],
          [
           2021,
           163853.05
          ],
          [
           2021,
           163912.11
          ],
          [
           2021,
           165585.34
          ],
          [
           2021,
           166126.68
          ],
          [
           2021,
           168456.08
          ],
          [
           2021,
           171812.38
          ],
          [
           2021,
           171820.58
          ],
          [
           2021,
           176020.06
          ],
          [
           2021,
           179114.55
          ],
          [
           2021,
           179478.07
          ],
          [
           2021,
           179733.98
          ],
          [
           2021,
           180275.32
          ],
          [
           2021,
           181137.52
          ],
          [
           2021,
           181918.36
          ],
          [
           2021,
           182640.13999999998
          ],
          [
           2021,
           183033.84
          ],
          [
           2021,
           183634.23
          ],
          [
           2021,
           184628.32
          ],
          [
           2021,
           185825.83
          ],
          [
           2021,
           186662.44
          ],
          [
           2021,
           187410.47
          ],
          [
           2021,
           188726.09
          ],
          [
           2021,
           190028.58
          ],
          [
           2021,
           191327.79
          ],
          [
           2021,
           191367.16
          ],
          [
           2021,
           191396.69
          ],
          [
           2021,
           191426.22
          ],
          [
           2021,
           192302.2
          ],
          [
           2021,
           192525.3
          ],
          [
           2021,
           194182.13
          ],
          [
           2021,
           194310.08
          ],
          [
           2021,
           194664.42
          ],
          [
           2021,
           194733.32
          ],
          [
           2021,
           196078.46
          ],
          [
           2021,
           197440.01
          ],
          [
           2021,
           197538.44
          ],
          [
           2021,
           198982.01
          ],
          [
           2021,
           199267.44
          ],
          [
           2021,
           200035.16
          ],
          [
           2021,
           201577.15
          ],
          [
           2021,
           201777.28
          ],
          [
           2021,
           201777.28
          ],
          [
           2021,
           201938.04
          ],
          [
           2021,
           203230.69
          ],
          [
           2021,
           203230.69
          ],
          [
           2021,
           203329.12
          ],
          [
           2021,
           203388.18
          ],
          [
           2021,
           203437.39
          ],
          [
           2021,
           204972.82
          ],
          [
           2021,
           204972.82
          ],
          [
           2021,
           205041.72
          ],
          [
           2021,
           205930.83
          ],
          [
           2021,
           206029.26
          ],
          [
           2021,
           206964.3
          ],
          [
           2021,
           208522.7
          ],
          [
           2021,
           210253.02
          ],
          [
           2021,
           211063.39
          ],
          [
           2021,
           211870.48
          ],
          [
           2021,
           211949.22
          ],
          [
           2021,
           212844.89
          ],
          [
           2021,
           212844.89
          ],
          [
           2021,
           214242.53
          ],
          [
           2021,
           215035.18
          ],
          [
           2021,
           216091.61
          ],
          [
           2021,
           216934.79
          ],
          [
           2021,
           218329.15
          ],
          [
           2021,
           219477.77
          ],
          [
           2021,
           220947.59
          ],
          [
           2021,
           222164.78
          ],
          [
           2021,
           223283.55
          ],
          [
           2021,
           224090.64
          ],
          [
           2021,
           224356.39
          ],
          [
           2021,
           226685.79
          ],
          [
           2021,
           227585.07
          ],
          [
           2021,
           227585.07
          ],
          [
           2021,
           227673.65
          ],
          [
           2021,
           227840.97
          ],
          [
           2021,
           228146.09
          ],
          [
           2021,
           228283.89
          ],
          [
           2021,
           228352.79
          ],
          [
           2021,
           228470.9
          ],
          [
           2021,
           228470.9
          ]
         ],
         "hovertemplate": "<extra></extra><br>Year: %{customdata[0]}<br>Elevation: %{y:,.0f}",
         "legendgroup": "2021",
         "line": {
          "color": "#FF6692",
          "dash": "solid"
         },
         "marker": {
          "symbol": "circle"
         },
         "mode": "lines",
         "name": "2021",
         "showlegend": true,
         "type": "scattergl",
         "x": [
          1,
          2,
          4,
          5,
          7,
          9,
          10,
          14,
          16,
          17,
          21,
          23,
          27,
          28,
          29,
          30,
          34,
          36,
          37,
          38,
          39,
          40,
          42,
          44,
          45,
          46,
          47,
          51,
          52,
          54,
          55,
          56,
          57,
          58,
          59,
          61,
          64,
          65,
          66,
          68,
          69,
          72,
          74,
          75,
          78,
          79,
          85,
          86,
          93,
          94,
          97,
          99,
          101,
          102,
          107,
          113,
          115,
          116,
          117,
          118,
          121,
          122,
          123,
          124,
          126,
          127,
          128,
          131,
          132,
          133,
          136,
          138,
          140,
          143,
          146,
          149,
          150,
          151,
          152,
          153,
          154,
          156,
          159,
          160,
          162,
          163,
          165,
          166,
          172,
          173,
          177,
          178,
          179,
          180,
          181,
          184,
          192,
          194,
          197,
          200,
          202,
          205,
          206,
          209,
          210,
          211,
          212,
          216,
          217,
          219,
          221,
          222,
          224,
          225,
          226,
          229,
          230,
          231,
          232,
          233,
          235,
          240,
          241,
          242,
          243,
          248,
          249,
          251,
          252,
          254,
          258,
          263,
          268,
          270,
          272,
          274,
          276,
          277,
          280,
          281,
          282,
          283,
          285,
          286,
          287,
          288,
          289,
          290,
          291,
          293,
          294,
          295,
          296,
          298,
          302,
          303,
          305,
          306,
          307,
          309,
          310,
          311,
          313,
          314,
          315,
          316,
          317,
          318,
          320,
          321,
          322,
          323,
          324,
          326,
          327,
          328,
          333,
          335,
          336,
          338,
          341,
          342,
          343,
          344,
          346,
          348,
          349,
          350,
          353,
          355,
          356,
          357,
          359,
          360
         ],
         "xaxis": "x",
         "y": [
          1141.73,
          5262.469999999999,
          6125.329999999999,
          7040.679999999999,
          8018.369999999999,
          11489.5,
          13530.84,
          14987.529999999999,
          15332.02,
          18051.84,
          18622.71,
          19341.21,
          20263.13,
          21601.71,
          21788.72,
          22326.78,
          23169.96,
          24036.1,
          25196.21,
          28007.89,
          28949.489999999998,
          29858.28,
          30868.78,
          31311.69,
          32302.5,
          33385.18,
          34736.89,
          35543.979999999996,
          36971.15,
          38352.38,
          39490.83,
          41301.85,
          42610.909999999996,
          43342.54,
          44661.44,
          45516.43,
          46372.4,
          47118.46,
          49106.31,
          50699.159999999996,
          53436.69,
          55136.82,
          56547.58,
          57047.58,
          59135.51,
          62209.659999999996,
          63571.21,
          69411.11,
          70946.54,
          72557.43,
          73905.86,
          76648.64,
          79407.83,
          80749.69,
          83525.28,
          83745.42,
          84713.27,
          86363.53,
          87994.76,
          88093.19,
          89018.39,
          89244.77,
          91379.61,
          92685.38,
          93554.8,
          94457.03,
          97331.05,
          99063.33,
          99722.78,
          101231.97,
          101888.14,
          105191.95,
          106451.79,
          108184.07,
          108459.66,
          108853.36,
          110123.05,
          111940.64,
          112098.12,
          113397.33,
          114758.88,
          117685.39,
          117960.98,
          117990.51,
          121522.99,
          122454.75,
          123740.84,
          126614.86,
          127280.87,
          128816.3,
          128816.3,
          130079.42,
          131349.11,
          134328.11,
          134554.49,
          139900.62,
          142744.12,
          144085.98,
          145729.68,
          146904.22,
          148301.86,
          150014.46,
          151198.84,
          153062.36,
          154499.37,
          157258.56,
          159400.95,
          159492.81,
          160732.97,
          160979.03,
          162553.84,
          163853.05,
          163853.05,
          163912.11,
          165585.34,
          166126.68,
          168456.08,
          171812.38,
          171820.58,
          176020.06,
          179114.55,
          179478.07,
          179733.98,
          180275.32,
          181137.52,
          181918.36,
          182640.13999999998,
          183033.84,
          183634.23,
          184628.32,
          185825.83,
          186662.44,
          187410.47,
          188726.09,
          190028.58,
          191327.79,
          191367.16,
          191396.69,
          191426.22,
          192302.2,
          192525.3,
          194182.13,
          194310.08,
          194664.42,
          194733.32,
          196078.46,
          197440.01,
          197538.44,
          198982.01,
          199267.44,
          200035.16,
          201577.15,
          201777.28,
          201777.28,
          201938.04,
          203230.69,
          203230.69,
          203329.12,
          203388.18,
          203437.39,
          204972.82,
          204972.82,
          205041.72,
          205930.83,
          206029.26,
          206964.3,
          208522.7,
          210253.02,
          211063.39,
          211870.48,
          211949.22,
          212844.89,
          212844.89,
          214242.53,
          215035.18,
          216091.61,
          216934.79,
          218329.15,
          219477.77,
          220947.59,
          222164.78,
          223283.55,
          224090.64,
          224356.39,
          226685.79,
          227585.07,
          227585.07,
          227673.65,
          227840.97,
          228146.09,
          228283.89,
          228352.79,
          228470.9,
          228470.9
         ],
         "yaxis": "y"
        },
        {
         "customdata": [
          [
           2022,
           1617.45
          ],
          [
           2022,
           2631.23
          ],
          [
           2022,
           2788.71
          ],
          [
           2022,
           3572.83
          ],
          [
           2022,
           5334.639999999999
          ],
          [
           2022,
           5692.25
          ],
          [
           2022,
           7014.43
          ],
          [
           2022,
           7880.57
          ],
          [
           2022,
           7992.12
          ],
          [
           2022,
           9074.8
          ],
          [
           2022,
           10685.69
          ],
          [
           2022,
           11630.57
          ],
          [
           2022,
           13464.56
          ],
          [
           2022,
           14980.31
          ],
          [
           2022,
           15068.89
          ],
          [
           2022,
           15088.58
          ],
          [
           2022,
           15958
          ],
          [
           2022,
           18723.75
          ],
          [
           2022,
           18802.49
          ],
          [
           2022,
           19409.77
          ],
          [
           2022,
           20295.6
          ],
          [
           2022,
           21598.09
          ],
          [
           2022,
           22405.18
          ],
          [
           2022,
           23605.97
          ],
          [
           2022,
           24875.66
          ],
          [
           2022,
           25784.45
          ],
          [
           2022,
           25843.510000000002
          ],
          [
           2022,
           26791.670000000002
          ],
          [
           2022,
           27057.420000000002
          ],
          [
           2022,
           28369.760000000002
          ],
          [
           2022,
           28369.760000000002
          ],
          [
           2022,
           28369.760000000002
          ],
          [
           2022,
           31148.63
          ],
          [
           2022,
           32526.58
          ],
          [
           2022,
           35006.9
          ],
          [
           2022,
           35272.65
          ],
          [
           2022,
           36519.37
          ],
          [
           2022,
           39226.06
          ],
          [
           2022,
           41548.89
          ],
          [
           2022,
           41548.89
          ],
          [
           2022,
           44255.58
          ],
          [
           2022,
           45649.94
          ],
          [
           2022,
           46201.12
          ],
          [
           2022,
           47273.95
          ],
          [
           2022,
           48648.62
          ],
          [
           2022,
           49593.5
          ],
          [
           2022,
           52457.67
          ],
          [
           2022,
           52595.47
          ],
          [
           2022,
           54216.2
          ],
          [
           2022,
           55761.48
          ],
          [
           2022,
           56693.24
          ],
          [
           2022,
           57113.19
          ],
          [
           2022,
           58287.73
          ],
          [
           2022,
           59350.72
          ],
          [
           2022,
           59649.28
          ],
          [
           2022,
           59839.57
          ],
          [
           2022,
           60708.99
          ],
          [
           2022,
           62395.340000000004
          ],
          [
           2022,
           62890.75
          ],
          [
           2022,
           64442.590000000004
          ],
          [
           2022,
           64796.92
          ],
          [
           2022,
           65033.14
          ],
          [
           2022,
           65092.2
          ],
          [
           2022,
           65302.17
          ],
          [
           2022,
           65751.65
          ],
          [
           2022,
           66325.8
          ],
          [
           2022,
           66959
          ],
          [
           2022,
           68110.57
          ],
          [
           2022,
           68505.91
          ],
          [
           2022,
           69257.22
          ],
          [
           2022,
           73021.98
          ],
          [
           2022,
           73423.23
          ],
          [
           2022,
           73551.18000000001
          ],
          [
           2022,
           74033.46
          ],
          [
           2022,
           74597.76
          ],
          [
           2022,
           75916.98
          ],
          [
           2022,
           76891.39
          ],
          [
           2022,
           78243.1
          ],
          [
           2022,
           79606.62
          ],
          [
           2022,
           80289.03
          ],
          [
           2022,
           81240.47
          ],
          [
           2022,
           82474.07
          ],
          [
           2022,
           86182.08
          ],
          [
           2022,
           87425.52
          ],
          [
           2022,
           88960.95
          ],
          [
           2022,
           89049.2
          ],
          [
           2022,
           91788.7
          ],
          [
           2022,
           92677.81
          ],
          [
           2022,
           92805.76
          ],
          [
           2022,
           92854.97
          ],
          [
           2022,
           93583.32
          ],
          [
           2022,
           94862.85
          ],
          [
           2022,
           94862.85
          ],
          [
           2022,
           95414.03
          ],
          [
           2022,
           98167.31
          ],
          [
           2022,
           98167.31
          ],
          [
           2022,
           98964.56
          ],
          [
           2022,
           99269.68
          ],
          [
           2022,
           102898.29
          ],
          [
           2022,
           103459.31
          ],
          [
           2022,
           103459.31
          ],
          [
           2022,
           106431.76
          ],
          [
           2022,
           106477.69
          ],
          [
           2022,
           106477.69
          ],
          [
           2022,
           106477.69
          ],
          [
           2022,
           106517.06
          ],
          [
           2022,
           107146.98
          ],
          [
           2022,
           107875.33
          ],
          [
           2022,
           109007.22
          ],
          [
           2022,
           109528.87
          ],
          [
           2022,
           109528.87
          ],
          [
           2022,
           109617.45
          ],
          [
           2022,
           109617.45
          ],
          [
           2022,
           110020.99
          ],
          [
           2022,
           110020.99
          ],
          [
           2022,
           110020.99
          ],
          [
           2022,
           110020.99
          ],
          [
           2022,
           110020.99
          ],
          [
           2022,
           110355.64
          ],
          [
           2022,
           110355.64
          ],
          [
           2022,
           112045.27
          ],
          [
           2022,
           113423.22
          ],
          [
           2022,
           113423.22
          ],
          [
           2022,
           114932.73
          ],
          [
           2022,
           115710.29
          ],
          [
           2022,
           116720.79
          ],
          [
           2022,
           116720.79
          ],
          [
           2022,
           117334.31
          ],
          [
           2022,
           118151.24
          ],
          [
           2022,
           119017.38
          ],
          [
           2022,
           120326.44
          ],
          [
           2022,
           120631.56
          ],
          [
           2022,
           122186.68
          ],
          [
           2022,
           123357.94
          ],
          [
           2022,
           123357.94
          ],
          [
           2022,
           125526.58
          ],
          [
           2022,
           126373.04
          ],
          [
           2022,
           126373.04
          ],
          [
           2022,
           127813.33
          ],
          [
           2022,
           127813.33
          ],
          [
           2022,
           128354.67
          ],
          [
           2022,
           129142.07
          ],
          [
           2022,
           129142.07
          ],
          [
           2022,
           129142.07
          ],
          [
           2022,
           129821.2
          ],
          [
           2022,
           130910.44
          ],
          [
           2022,
           130999.02
          ],
          [
           2022,
           131451.78
          ],
          [
           2022,
           132803.49
          ],
          [
           2022,
           134204.41
          ],
          [
           2022,
           134263.47
          ],
          [
           2022,
           134302.84
          ],
          [
           2022,
           135546.28
          ],
          [
           2022,
           136054.81
          ],
          [
           2022,
           136054.81
          ],
          [
           2022,
           136054.81
          ],
          [
           2022,
           136615.83
          ]
         ],
         "hovertemplate": "<extra></extra><br>Year: %{customdata[0]}<br>Elevation: %{y:,.0f}",
         "legendgroup": "2022",
         "line": {
          "color": "#B6E880",
          "dash": "solid"
         },
         "marker": {
          "symbol": "circle"
         },
         "mode": "lines",
         "name": "2022",
         "showlegend": true,
         "type": "scattergl",
         "x": [
          1,
          2,
          4,
          5,
          6,
          7,
          8,
          10,
          11,
          13,
          15,
          16,
          21,
          22,
          23,
          26,
          27,
          30,
          32,
          33,
          37,
          38,
          40,
          41,
          46,
          47,
          48,
          49,
          50,
          51,
          53,
          54,
          55,
          57,
          58,
          60,
          62,
          63,
          67,
          68,
          69,
          71,
          74,
          79,
          81,
          83,
          85,
          89,
          92,
          93,
          95,
          96,
          99,
          100,
          101,
          104,
          105,
          107,
          109,
          111,
          113,
          114,
          115,
          116,
          121,
          122,
          125,
          127,
          130,
          133,
          134,
          137,
          139,
          156,
          157,
          159,
          161,
          162,
          163,
          165,
          166,
          169,
          171,
          176,
          177,
          181,
          183,
          184,
          187,
          188,
          189,
          190,
          191,
          194,
          196,
          198,
          201,
          202,
          204,
          206,
          207,
          211,
          213,
          214,
          219,
          220,
          228,
          229,
          230,
          231,
          233,
          237,
          238,
          239,
          240,
          243,
          246,
          247,
          250,
          255,
          258,
          259,
          262,
          263,
          266,
          267,
          269,
          270,
          273,
          276,
          277,
          278,
          281,
          282,
          284,
          288,
          289,
          291,
          294,
          299,
          303,
          304,
          311,
          313,
          315,
          316,
          317,
          319,
          320,
          322,
          327,
          328,
          331,
          333,
          335,
          336,
          338
         ],
         "xaxis": "x",
         "y": [
          1617.45,
          2631.23,
          2788.71,
          3572.83,
          5334.639999999999,
          5692.25,
          7014.43,
          7880.57,
          7992.12,
          9074.8,
          10685.69,
          11630.57,
          13464.56,
          14980.31,
          15068.89,
          15088.58,
          15958,
          18723.75,
          18802.49,
          19409.77,
          20295.6,
          21598.09,
          22405.18,
          23605.97,
          24875.66,
          25784.45,
          25843.510000000002,
          26791.670000000002,
          27057.420000000002,
          28369.760000000002,
          28369.760000000002,
          28369.760000000002,
          31148.63,
          32526.58,
          35006.9,
          35272.65,
          36519.37,
          39226.06,
          41548.89,
          41548.89,
          44255.58,
          45649.94,
          46201.12,
          47273.95,
          48648.62,
          49593.5,
          52457.67,
          52595.47,
          54216.2,
          55761.48,
          56693.24,
          57113.19,
          58287.73,
          59350.72,
          59649.28,
          59839.57,
          60708.99,
          62395.340000000004,
          62890.75,
          64442.590000000004,
          64796.92,
          65033.14,
          65092.2,
          65302.17,
          65751.65,
          66325.8,
          66959,
          68110.57,
          68505.91,
          69257.22,
          73021.98,
          73423.23,
          73551.18000000001,
          74033.46,
          74597.76,
          75916.98,
          76891.39,
          78243.1,
          79606.62,
          80289.03,
          81240.47,
          82474.07,
          86182.08,
          87425.52,
          88960.95,
          89049.2,
          91788.7,
          92677.81,
          92805.76,
          92854.97,
          93583.32,
          94862.85,
          94862.85,
          95414.03,
          98167.31,
          98167.31,
          98964.56,
          99269.68,
          102898.29,
          103459.31,
          103459.31,
          106431.76,
          106477.69,
          106477.69,
          106477.69,
          106517.06,
          107146.98,
          107875.33,
          109007.22,
          109528.87,
          109528.87,
          109617.45,
          109617.45,
          110020.99,
          110020.99,
          110020.99,
          110020.99,
          110020.99,
          110355.64,
          110355.64,
          112045.27,
          113423.22,
          113423.22,
          114932.73,
          115710.29,
          116720.79,
          116720.79,
          117334.31,
          118151.24,
          119017.38,
          120326.44,
          120631.56,
          122186.68,
          123357.94,
          123357.94,
          125526.58,
          126373.04,
          126373.04,
          127813.33,
          127813.33,
          128354.67,
          129142.07,
          129142.07,
          129142.07,
          129821.2,
          130910.44,
          130999.02,
          131451.78,
          132803.49,
          134204.41,
          134263.47,
          134302.84,
          135546.28,
          136054.81,
          136054.81,
          136054.81,
          136615.83
         ],
         "yaxis": "y"
        }
       ],
       "layout": {
        "legend": {
         "title": {
          "text": "year"
         },
         "tracegroupgap": 0
        },
        "template": {
         "data": {
          "bar": [
           {
            "error_x": {
             "color": "#2a3f5f"
            },
            "error_y": {
             "color": "#2a3f5f"
            },
            "marker": {
             "line": {
              "color": "#E5ECF6",
              "width": 0.5
             },
             "pattern": {
              "fillmode": "overlay",
              "size": 10,
              "solidity": 0.2
             }
            },
            "type": "bar"
           }
          ],
          "barpolar": [
           {
            "marker": {
             "line": {
              "color": "#E5ECF6",
              "width": 0.5
             },
             "pattern": {
              "fillmode": "overlay",
              "size": 10,
              "solidity": 0.2
             }
            },
            "type": "barpolar"
           }
          ],
          "carpet": [
           {
            "aaxis": {
             "endlinecolor": "#2a3f5f",
             "gridcolor": "white",
             "linecolor": "white",
             "minorgridcolor": "white",
             "startlinecolor": "#2a3f5f"
            },
            "baxis": {
             "endlinecolor": "#2a3f5f",
             "gridcolor": "white",
             "linecolor": "white",
             "minorgridcolor": "white",
             "startlinecolor": "#2a3f5f"
            },
            "type": "carpet"
           }
          ],
          "choropleth": [
           {
            "colorbar": {
             "outlinewidth": 0,
             "ticks": ""
            },
            "type": "choropleth"
           }
          ],
          "contour": [
           {
            "colorbar": {
             "outlinewidth": 0,
             "ticks": ""
            },
            "colorscale": [
             [
              0,
              "#0d0887"
             ],
             [
              0.1111111111111111,
              "#46039f"
             ],
             [
              0.2222222222222222,
              "#7201a8"
             ],
             [
              0.3333333333333333,
              "#9c179e"
             ],
             [
              0.4444444444444444,
              "#bd3786"
             ],
             [
              0.5555555555555556,
              "#d8576b"
             ],
             [
              0.6666666666666666,
              "#ed7953"
             ],
             [
              0.7777777777777778,
              "#fb9f3a"
             ],
             [
              0.8888888888888888,
              "#fdca26"
             ],
             [
              1,
              "#f0f921"
             ]
            ],
            "type": "contour"
           }
          ],
          "contourcarpet": [
           {
            "colorbar": {
             "outlinewidth": 0,
             "ticks": ""
            },
            "type": "contourcarpet"
           }
          ],
          "heatmap": [
           {
            "colorbar": {
             "outlinewidth": 0,
             "ticks": ""
            },
            "colorscale": [
             [
              0,
              "#0d0887"
             ],
             [
              0.1111111111111111,
              "#46039f"
             ],
             [
              0.2222222222222222,
              "#7201a8"
             ],
             [
              0.3333333333333333,
              "#9c179e"
             ],
             [
              0.4444444444444444,
              "#bd3786"
             ],
             [
              0.5555555555555556,
              "#d8576b"
             ],
             [
              0.6666666666666666,
              "#ed7953"
             ],
             [
              0.7777777777777778,
              "#fb9f3a"
             ],
             [
              0.8888888888888888,
              "#fdca26"
             ],
             [
              1,
              "#f0f921"
             ]
            ],
            "type": "heatmap"
           }
          ],
          "heatmapgl": [
           {
            "colorbar": {
             "outlinewidth": 0,
             "ticks": ""
            },
            "colorscale": [
             [
              0,
              "#0d0887"
             ],
             [
              0.1111111111111111,
              "#46039f"
             ],
             [
              0.2222222222222222,
              "#7201a8"
             ],
             [
              0.3333333333333333,
              "#9c179e"
             ],
             [
              0.4444444444444444,
              "#bd3786"
             ],
             [
              0.5555555555555556,
              "#d8576b"
             ],
             [
              0.6666666666666666,
              "#ed7953"
             ],
             [
              0.7777777777777778,
              "#fb9f3a"
             ],
             [
              0.8888888888888888,
              "#fdca26"
             ],
             [
              1,
              "#f0f921"
             ]
            ],
            "type": "heatmapgl"
           }
          ],
          "histogram": [
           {
            "marker": {
             "pattern": {
              "fillmode": "overlay",
              "size": 10,
              "solidity": 0.2
             }
            },
            "type": "histogram"
           }
          ],
          "histogram2d": [
           {
            "colorbar": {
             "outlinewidth": 0,
             "ticks": ""
            },
            "colorscale": [
             [
              0,
              "#0d0887"
             ],
             [
              0.1111111111111111,
              "#46039f"
             ],
             [
              0.2222222222222222,
              "#7201a8"
             ],
             [
              0.3333333333333333,
              "#9c179e"
             ],
             [
              0.4444444444444444,
              "#bd3786"
             ],
             [
              0.5555555555555556,
              "#d8576b"
             ],
             [
              0.6666666666666666,
              "#ed7953"
             ],
             [
              0.7777777777777778,
              "#fb9f3a"
             ],
             [
              0.8888888888888888,
              "#fdca26"
             ],
             [
              1,
              "#f0f921"
             ]
            ],
            "type": "histogram2d"
           }
          ],
          "histogram2dcontour": [
           {
            "colorbar": {
             "outlinewidth": 0,
             "ticks": ""
            },
            "colorscale": [
             [
              0,
              "#0d0887"
             ],
             [
              0.1111111111111111,
              "#46039f"
             ],
             [
              0.2222222222222222,
              "#7201a8"
             ],
             [
              0.3333333333333333,
              "#9c179e"
             ],
             [
              0.4444444444444444,
              "#bd3786"
             ],
             [
              0.5555555555555556,
              "#d8576b"
             ],
             [
              0.6666666666666666,
              "#ed7953"
             ],
             [
              0.7777777777777778,
              "#fb9f3a"
             ],
             [
              0.8888888888888888,
              "#fdca26"
             ],
             [
              1,
              "#f0f921"
             ]
            ],
            "type": "histogram2dcontour"
           }
          ],
          "mesh3d": [
           {
            "colorbar": {
             "outlinewidth": 0,
             "ticks": ""
            },
            "type": "mesh3d"
           }
          ],
          "parcoords": [
           {
            "line": {
             "colorbar": {
              "outlinewidth": 0,
              "ticks": ""
             }
            },
            "type": "parcoords"
           }
          ],
          "pie": [
           {
            "automargin": true,
            "type": "pie"
           }
          ],
          "scatter": [
           {
            "fillpattern": {
             "fillmode": "overlay",
             "size": 10,
             "solidity": 0.2
            },
            "type": "scatter"
           }
          ],
          "scatter3d": [
           {
            "line": {
             "colorbar": {
              "outlinewidth": 0,
              "ticks": ""
             }
            },
            "marker": {
             "colorbar": {
              "outlinewidth": 0,
              "ticks": ""
             }
            },
            "type": "scatter3d"
           }
          ],
          "scattercarpet": [
           {
            "marker": {
             "colorbar": {
              "outlinewidth": 0,
              "ticks": ""
             }
            },
            "type": "scattercarpet"
           }
          ],
          "scattergeo": [
           {
            "marker": {
             "colorbar": {
              "outlinewidth": 0,
              "ticks": ""
             }
            },
            "type": "scattergeo"
           }
          ],
          "scattergl": [
           {
            "marker": {
             "colorbar": {
              "outlinewidth": 0,
              "ticks": ""
             }
            },
            "type": "scattergl"
           }
          ],
          "scattermapbox": [
           {
            "marker": {
             "colorbar": {
              "outlinewidth": 0,
              "ticks": ""
             }
            },
            "type": "scattermapbox"
           }
          ],
          "scatterpolar": [
           {
            "marker": {
             "colorbar": {
              "outlinewidth": 0,
              "ticks": ""
             }
            },
            "type": "scatterpolar"
           }
          ],
          "scatterpolargl": [
           {
            "marker": {
             "colorbar": {
              "outlinewidth": 0,
              "ticks": ""
             }
            },
            "type": "scatterpolargl"
           }
          ],
          "scatterternary": [
           {
            "marker": {
             "colorbar": {
              "outlinewidth": 0,
              "ticks": ""
             }
            },
            "type": "scatterternary"
           }
          ],
          "surface": [
           {
            "colorbar": {
             "outlinewidth": 0,
             "ticks": ""
            },
            "colorscale": [
             [
              0,
              "#0d0887"
             ],
             [
              0.1111111111111111,
              "#46039f"
             ],
             [
              0.2222222222222222,
              "#7201a8"
             ],
             [
              0.3333333333333333,
              "#9c179e"
             ],
             [
              0.4444444444444444,
              "#bd3786"
             ],
             [
              0.5555555555555556,
              "#d8576b"
             ],
             [
              0.6666666666666666,
              "#ed7953"
             ],
             [
              0.7777777777777778,
              "#fb9f3a"
             ],
             [
              0.8888888888888888,
              "#fdca26"
             ],
             [
              1,
              "#f0f921"
             ]
            ],
            "type": "surface"
           }
          ],
          "table": [
           {
            "cells": {
             "fill": {
              "color": "#EBF0F8"
             },
             "line": {
              "color": "white"
             }
            },
            "header": {
             "fill": {
              "color": "#C8D4E3"
             },
             "line": {
              "color": "white"
             }
            },
            "type": "table"
           }
          ]
         },
         "layout": {
          "annotationdefaults": {
           "arrowcolor": "#2a3f5f",
           "arrowhead": 0,
           "arrowwidth": 1
          },
          "autotypenumbers": "strict",
          "coloraxis": {
           "colorbar": {
            "outlinewidth": 0,
            "ticks": ""
           }
          },
          "colorscale": {
           "diverging": [
            [
             0,
             "#8e0152"
            ],
            [
             0.1,
             "#c51b7d"
            ],
            [
             0.2,
             "#de77ae"
            ],
            [
             0.3,
             "#f1b6da"
            ],
            [
             0.4,
             "#fde0ef"
            ],
            [
             0.5,
             "#f7f7f7"
            ],
            [
             0.6,
             "#e6f5d0"
            ],
            [
             0.7,
             "#b8e186"
            ],
            [
             0.8,
             "#7fbc41"
            ],
            [
             0.9,
             "#4d9221"
            ],
            [
             1,
             "#276419"
            ]
           ],
           "sequential": [
            [
             0,
             "#0d0887"
            ],
            [
             0.1111111111111111,
             "#46039f"
            ],
            [
             0.2222222222222222,
             "#7201a8"
            ],
            [
             0.3333333333333333,
             "#9c179e"
            ],
            [
             0.4444444444444444,
             "#bd3786"
            ],
            [
             0.5555555555555556,
             "#d8576b"
            ],
            [
             0.6666666666666666,
             "#ed7953"
            ],
            [
             0.7777777777777778,
             "#fb9f3a"
            ],
            [
             0.8888888888888888,
             "#fdca26"
            ],
            [
             1,
             "#f0f921"
            ]
           ],
           "sequentialminus": [
            [
             0,
             "#0d0887"
            ],
            [
             0.1111111111111111,
             "#46039f"
            ],
            [
             0.2222222222222222,
             "#7201a8"
            ],
            [
             0.3333333333333333,
             "#9c179e"
            ],
            [
             0.4444444444444444,
             "#bd3786"
            ],
            [
             0.5555555555555556,
             "#d8576b"
            ],
            [
             0.6666666666666666,
             "#ed7953"
            ],
            [
             0.7777777777777778,
             "#fb9f3a"
            ],
            [
             0.8888888888888888,
             "#fdca26"
            ],
            [
             1,
             "#f0f921"
            ]
           ]
          },
          "colorway": [
           "#636efa",
           "#EF553B",
           "#00cc96",
           "#ab63fa",
           "#FFA15A",
           "#19d3f3",
           "#FF6692",
           "#B6E880",
           "#FF97FF",
           "#FECB52"
          ],
          "font": {
           "color": "#2a3f5f"
          },
          "geo": {
           "bgcolor": "white",
           "lakecolor": "white",
           "landcolor": "#E5ECF6",
           "showlakes": true,
           "showland": true,
           "subunitcolor": "white"
          },
          "hoverlabel": {
           "align": "left"
          },
          "hovermode": "closest",
          "mapbox": {
           "style": "light"
          },
          "paper_bgcolor": "white",
          "plot_bgcolor": "#E5ECF6",
          "polar": {
           "angularaxis": {
            "gridcolor": "white",
            "linecolor": "white",
            "ticks": ""
           },
           "bgcolor": "#E5ECF6",
           "radialaxis": {
            "gridcolor": "white",
            "linecolor": "white",
            "ticks": ""
           }
          },
          "scene": {
           "xaxis": {
            "backgroundcolor": "#E5ECF6",
            "gridcolor": "white",
            "gridwidth": 2,
            "linecolor": "white",
            "showbackground": true,
            "ticks": "",
            "zerolinecolor": "white"
           },
           "yaxis": {
            "backgroundcolor": "#E5ECF6",
            "gridcolor": "white",
            "gridwidth": 2,
            "linecolor": "white",
            "showbackground": true,
            "ticks": "",
            "zerolinecolor": "white"
           },
           "zaxis": {
            "backgroundcolor": "#E5ECF6",
            "gridcolor": "white",
            "gridwidth": 2,
            "linecolor": "white",
            "showbackground": true,
            "ticks": "",
            "zerolinecolor": "white"
           }
          },
          "shapedefaults": {
           "line": {
            "color": "#2a3f5f"
           }
          },
          "ternary": {
           "aaxis": {
            "gridcolor": "white",
            "linecolor": "white",
            "ticks": ""
           },
           "baxis": {
            "gridcolor": "white",
            "linecolor": "white",
            "ticks": ""
           },
           "bgcolor": "#E5ECF6",
           "caxis": {
            "gridcolor": "white",
            "linecolor": "white",
            "ticks": ""
           }
          },
          "title": {
           "x": 0.05
          },
          "xaxis": {
           "automargin": true,
           "gridcolor": "white",
           "linecolor": "white",
           "ticks": "",
           "title": {
            "standoff": 15
           },
           "zerolinecolor": "white",
           "zerolinewidth": 2
          },
          "yaxis": {
           "automargin": true,
           "gridcolor": "white",
           "linecolor": "white",
           "ticks": "",
           "title": {
            "standoff": 15
           },
           "zerolinecolor": "white",
           "zerolinewidth": 2
          }
         }
        },
        "title": {
         "text": "Elevation Gain by Year"
        },
        "xaxis": {
         "anchor": "y",
         "domain": [
          0,
          1
         ],
         "title": {
          "text": "day_of_year"
         }
        },
        "yaxis": {
         "anchor": "x",
         "domain": [
          0,
          1
         ],
         "title": {
          "text": "total_elevation_gain"
         }
        }
       }
      }
     },
     "metadata": {},
     "output_type": "display_data"
    }
   ],
   "source": [
    "def gain_by_year_line(dataframe):\n",
    "    NON_AEROBIC = ['AlpineSki', 'WeightTraining', 'Workout', 'RockClimbing']\n",
    "    data_filtered = df.loc[~df['type'].isin(NON_AEROBIC)]\n",
    "    days = data_filtered.groupby(['year', 'day_of_year'])['total_elevation_gain'].sum().groupby(level=0).cumsum().reset_index()\n",
    "\n",
    "    line = px.line(\n",
    "        days, \n",
    "        x='day_of_year', \n",
    "        y='total_elevation_gain', \n",
    "        title='Elevation Gain by Year',\n",
    "        custom_data=['year', 'total_elevation_gain'],\n",
    "        color='year'\n",
    "    )\n",
    "    line.update_traces(\n",
    "        hovertemplate='<br>'.join([\n",
    "            '<extra></extra>',\n",
    "            'Year: %{customdata[0]}',\n",
    "            'Elevation: %{y:,.0f}'\n",
    "        ])\n",
    "    )\n",
    "    return line.show()\n",
    "\n",
    "gain_by_year_line(df)"
   ]
  },
  {
   "cell_type": "code",
   "execution_count": 260,
   "metadata": {},
   "outputs": [
    {
     "data": {
      "text/html": [
       "<div>\n",
       "<style scoped>\n",
       "    .dataframe tbody tr th:only-of-type {\n",
       "        vertical-align: middle;\n",
       "    }\n",
       "\n",
       "    .dataframe tbody tr th {\n",
       "        vertical-align: top;\n",
       "    }\n",
       "\n",
       "    .dataframe thead th {\n",
       "        text-align: right;\n",
       "    }\n",
       "</style>\n",
       "<table border=\"1\" class=\"dataframe\">\n",
       "  <thead>\n",
       "    <tr style=\"text-align: right;\">\n",
       "      <th></th>\n",
       "      <th>month</th>\n",
       "      <th>year</th>\n",
       "      <th>total_elevation_gain</th>\n",
       "    </tr>\n",
       "  </thead>\n",
       "  <tbody>\n",
       "    <tr>\n",
       "      <th>0</th>\n",
       "      <td>April</td>\n",
       "      <td>2016</td>\n",
       "      <td>21430</td>\n",
       "    </tr>\n",
       "    <tr>\n",
       "      <th>1</th>\n",
       "      <td>April</td>\n",
       "      <td>2017</td>\n",
       "      <td>29289</td>\n",
       "    </tr>\n",
       "    <tr>\n",
       "      <th>2</th>\n",
       "      <td>April</td>\n",
       "      <td>2018</td>\n",
       "      <td>31459</td>\n",
       "    </tr>\n",
       "    <tr>\n",
       "      <th>3</th>\n",
       "      <td>April</td>\n",
       "      <td>2019</td>\n",
       "      <td>18840</td>\n",
       "    </tr>\n",
       "    <tr>\n",
       "      <th>4</th>\n",
       "      <td>April</td>\n",
       "      <td>2020</td>\n",
       "      <td>21832</td>\n",
       "    </tr>\n",
       "  </tbody>\n",
       "</table>\n",
       "</div>"
      ],
      "text/plain": [
       "   month  year  total_elevation_gain\n",
       "0  April  2016                 21430\n",
       "1  April  2017                 29289\n",
       "2  April  2018                 31459\n",
       "3  April  2019                 18840\n",
       "4  April  2020                 21832"
      ]
     },
     "execution_count": 260,
     "metadata": {},
     "output_type": "execute_result"
    }
   ],
   "source": [
    "elevation_trend_grouping = elevation_filter.groupby(['month', 'year']).agg({'total_elevation_gain': 'sum'}).astype(int).reset_index()\n",
    "elevation_trend_grouping.head()"
   ]
  },
  {
   "cell_type": "code",
   "execution_count": 268,
   "metadata": {},
   "outputs": [
    {
     "data": {
      "application/vnd.plotly.v1+json": {
       "config": {
        "plotlyServerURL": "https://plot.ly"
       },
       "data": [
        {
         "alignmentgroup": "True",
         "customdata": [
          [
           2016
          ],
          [
           2017
          ],
          [
           2018
          ],
          [
           2019
          ],
          [
           2020
          ],
          [
           2021
          ],
          [
           2022
          ],
          [
           2016
          ],
          [
           2017
          ],
          [
           2018
          ],
          [
           2019
          ],
          [
           2020
          ],
          [
           2021
          ],
          [
           2022
          ],
          [
           2016
          ],
          [
           2017
          ],
          [
           2018
          ],
          [
           2019
          ],
          [
           2020
          ],
          [
           2021
          ],
          [
           2022
          ],
          [
           2016
          ],
          [
           2017
          ],
          [
           2018
          ],
          [
           2019
          ],
          [
           2020
          ],
          [
           2021
          ],
          [
           2022
          ],
          [
           2016
          ],
          [
           2017
          ],
          [
           2018
          ],
          [
           2019
          ],
          [
           2020
          ],
          [
           2021
          ],
          [
           2022
          ],
          [
           2015
          ],
          [
           2016
          ],
          [
           2017
          ],
          [
           2018
          ],
          [
           2019
          ],
          [
           2020
          ],
          [
           2021
          ],
          [
           2022
          ],
          [
           2016
          ],
          [
           2017
          ],
          [
           2018
          ],
          [
           2019
          ],
          [
           2020
          ],
          [
           2021
          ],
          [
           2022
          ],
          [
           2016
          ],
          [
           2017
          ],
          [
           2018
          ],
          [
           2019
          ],
          [
           2020
          ],
          [
           2021
          ],
          [
           2022
          ],
          [
           2016
          ],
          [
           2017
          ],
          [
           2018
          ],
          [
           2019
          ],
          [
           2020
          ],
          [
           2021
          ],
          [
           2022
          ],
          [
           2016
          ],
          [
           2017
          ],
          [
           2018
          ],
          [
           2019
          ],
          [
           2020
          ],
          [
           2021
          ],
          [
           2022
          ],
          [
           2016
          ],
          [
           2017
          ],
          [
           2018
          ],
          [
           2019
          ],
          [
           2020
          ],
          [
           2021
          ],
          [
           2022
          ],
          [
           2016
          ],
          [
           2017
          ],
          [
           2018
          ],
          [
           2019
          ],
          [
           2020
          ],
          [
           2021
          ],
          [
           2022
          ]
         ],
         "hovertemplate": "Month: %{x}<br>Year: %{customdata[0]}<br>Elevation: %{y:,}",
         "legendgroup": "",
         "marker": {
          "color": [
           2016,
           2017,
           2018,
           2019,
           2020,
           2021,
           2022,
           2016,
           2017,
           2018,
           2019,
           2020,
           2021,
           2022,
           2016,
           2017,
           2018,
           2019,
           2020,
           2021,
           2022,
           2016,
           2017,
           2018,
           2019,
           2020,
           2021,
           2022,
           2016,
           2017,
           2018,
           2019,
           2020,
           2021,
           2022,
           2015,
           2016,
           2017,
           2018,
           2019,
           2020,
           2021,
           2022,
           2016,
           2017,
           2018,
           2019,
           2020,
           2021,
           2022,
           2016,
           2017,
           2018,
           2019,
           2020,
           2021,
           2022,
           2016,
           2017,
           2018,
           2019,
           2020,
           2021,
           2022,
           2016,
           2017,
           2018,
           2019,
           2020,
           2021,
           2022,
           2016,
           2017,
           2018,
           2019,
           2020,
           2021,
           2022,
           2016,
           2017,
           2018,
           2019,
           2020,
           2021,
           2022
          ],
          "coloraxis": "coloraxis",
          "pattern": {
           "shape": ""
          }
         },
         "name": "",
         "offsetgroup": "",
         "orientation": "v",
         "showlegend": false,
         "textposition": "auto",
         "type": "bar",
         "x": [
          "April",
          "April",
          "April",
          "April",
          "April",
          "April",
          "April",
          "August",
          "August",
          "August",
          "August",
          "August",
          "August",
          "August",
          "December",
          "December",
          "December",
          "December",
          "December",
          "December",
          "December",
          "February",
          "February",
          "February",
          "February",
          "February",
          "February",
          "February",
          "January",
          "January",
          "January",
          "January",
          "January",
          "January",
          "January",
          "July",
          "July",
          "July",
          "July",
          "July",
          "July",
          "July",
          "July",
          "June",
          "June",
          "June",
          "June",
          "June",
          "June",
          "June",
          "March",
          "March",
          "March",
          "March",
          "March",
          "March",
          "March",
          "May",
          "May",
          "May",
          "May",
          "May",
          "May",
          "May",
          "November",
          "November",
          "November",
          "November",
          "November",
          "November",
          "November",
          "October",
          "October",
          "October",
          "October",
          "October",
          "October",
          "October",
          "September",
          "September",
          "September",
          "September",
          "September",
          "September",
          "September"
         ],
         "xaxis": "x",
         "y": [
          21430,
          29289,
          31459,
          18840,
          21832,
          18682,
          12706,
          11798,
          35373,
          37409,
          20531,
          12077,
          21736,
          3589,
          22043,
          25734,
          20823,
          20679,
          23598,
          11536,
          561,
          11261,
          27618,
          26082,
          12349,
          26914,
          22334,
          16283,
          16209,
          30265,
          23712,
          19614,
          14161,
          22326,
          18723,
          205,
          26714,
          36581,
          40016,
          30242,
          25931,
          24846,
          17382,
          17289,
          30928,
          32521,
          17066,
          41719,
          22613,
          15498,
          11217,
          18310,
          28178,
          23149,
          25495,
          24749,
          17588,
          7299,
          19665,
          26998,
          28618,
          21957,
          23847,
          8249,
          25891,
          17415,
          14625,
          20165,
          29942,
          13704,
          6912,
          23011,
          44536,
          11585,
          19698,
          27961,
          13202,
          10990,
          18467,
          28250,
          26164,
          16929,
          25500,
          8891,
          8130
         ],
         "yaxis": "y"
        }
       ],
       "layout": {
        "barmode": "relative",
        "coloraxis": {
         "colorbar": {
          "title": {
           "text": "year"
          }
         },
         "colorscale": [
          [
           0,
           "#0d0887"
          ],
          [
           0.1111111111111111,
           "#46039f"
          ],
          [
           0.2222222222222222,
           "#7201a8"
          ],
          [
           0.3333333333333333,
           "#9c179e"
          ],
          [
           0.4444444444444444,
           "#bd3786"
          ],
          [
           0.5555555555555556,
           "#d8576b"
          ],
          [
           0.6666666666666666,
           "#ed7953"
          ],
          [
           0.7777777777777778,
           "#fb9f3a"
          ],
          [
           0.8888888888888888,
           "#fdca26"
          ],
          [
           1,
           "#f0f921"
          ]
         ]
        },
        "legend": {
         "tracegroupgap": 0
        },
        "template": {
         "data": {
          "bar": [
           {
            "error_x": {
             "color": "#2a3f5f"
            },
            "error_y": {
             "color": "#2a3f5f"
            },
            "marker": {
             "line": {
              "color": "#E5ECF6",
              "width": 0.5
             },
             "pattern": {
              "fillmode": "overlay",
              "size": 10,
              "solidity": 0.2
             }
            },
            "type": "bar"
           }
          ],
          "barpolar": [
           {
            "marker": {
             "line": {
              "color": "#E5ECF6",
              "width": 0.5
             },
             "pattern": {
              "fillmode": "overlay",
              "size": 10,
              "solidity": 0.2
             }
            },
            "type": "barpolar"
           }
          ],
          "carpet": [
           {
            "aaxis": {
             "endlinecolor": "#2a3f5f",
             "gridcolor": "white",
             "linecolor": "white",
             "minorgridcolor": "white",
             "startlinecolor": "#2a3f5f"
            },
            "baxis": {
             "endlinecolor": "#2a3f5f",
             "gridcolor": "white",
             "linecolor": "white",
             "minorgridcolor": "white",
             "startlinecolor": "#2a3f5f"
            },
            "type": "carpet"
           }
          ],
          "choropleth": [
           {
            "colorbar": {
             "outlinewidth": 0,
             "ticks": ""
            },
            "type": "choropleth"
           }
          ],
          "contour": [
           {
            "colorbar": {
             "outlinewidth": 0,
             "ticks": ""
            },
            "colorscale": [
             [
              0,
              "#0d0887"
             ],
             [
              0.1111111111111111,
              "#46039f"
             ],
             [
              0.2222222222222222,
              "#7201a8"
             ],
             [
              0.3333333333333333,
              "#9c179e"
             ],
             [
              0.4444444444444444,
              "#bd3786"
             ],
             [
              0.5555555555555556,
              "#d8576b"
             ],
             [
              0.6666666666666666,
              "#ed7953"
             ],
             [
              0.7777777777777778,
              "#fb9f3a"
             ],
             [
              0.8888888888888888,
              "#fdca26"
             ],
             [
              1,
              "#f0f921"
             ]
            ],
            "type": "contour"
           }
          ],
          "contourcarpet": [
           {
            "colorbar": {
             "outlinewidth": 0,
             "ticks": ""
            },
            "type": "contourcarpet"
           }
          ],
          "heatmap": [
           {
            "colorbar": {
             "outlinewidth": 0,
             "ticks": ""
            },
            "colorscale": [
             [
              0,
              "#0d0887"
             ],
             [
              0.1111111111111111,
              "#46039f"
             ],
             [
              0.2222222222222222,
              "#7201a8"
             ],
             [
              0.3333333333333333,
              "#9c179e"
             ],
             [
              0.4444444444444444,
              "#bd3786"
             ],
             [
              0.5555555555555556,
              "#d8576b"
             ],
             [
              0.6666666666666666,
              "#ed7953"
             ],
             [
              0.7777777777777778,
              "#fb9f3a"
             ],
             [
              0.8888888888888888,
              "#fdca26"
             ],
             [
              1,
              "#f0f921"
             ]
            ],
            "type": "heatmap"
           }
          ],
          "heatmapgl": [
           {
            "colorbar": {
             "outlinewidth": 0,
             "ticks": ""
            },
            "colorscale": [
             [
              0,
              "#0d0887"
             ],
             [
              0.1111111111111111,
              "#46039f"
             ],
             [
              0.2222222222222222,
              "#7201a8"
             ],
             [
              0.3333333333333333,
              "#9c179e"
             ],
             [
              0.4444444444444444,
              "#bd3786"
             ],
             [
              0.5555555555555556,
              "#d8576b"
             ],
             [
              0.6666666666666666,
              "#ed7953"
             ],
             [
              0.7777777777777778,
              "#fb9f3a"
             ],
             [
              0.8888888888888888,
              "#fdca26"
             ],
             [
              1,
              "#f0f921"
             ]
            ],
            "type": "heatmapgl"
           }
          ],
          "histogram": [
           {
            "marker": {
             "pattern": {
              "fillmode": "overlay",
              "size": 10,
              "solidity": 0.2
             }
            },
            "type": "histogram"
           }
          ],
          "histogram2d": [
           {
            "colorbar": {
             "outlinewidth": 0,
             "ticks": ""
            },
            "colorscale": [
             [
              0,
              "#0d0887"
             ],
             [
              0.1111111111111111,
              "#46039f"
             ],
             [
              0.2222222222222222,
              "#7201a8"
             ],
             [
              0.3333333333333333,
              "#9c179e"
             ],
             [
              0.4444444444444444,
              "#bd3786"
             ],
             [
              0.5555555555555556,
              "#d8576b"
             ],
             [
              0.6666666666666666,
              "#ed7953"
             ],
             [
              0.7777777777777778,
              "#fb9f3a"
             ],
             [
              0.8888888888888888,
              "#fdca26"
             ],
             [
              1,
              "#f0f921"
             ]
            ],
            "type": "histogram2d"
           }
          ],
          "histogram2dcontour": [
           {
            "colorbar": {
             "outlinewidth": 0,
             "ticks": ""
            },
            "colorscale": [
             [
              0,
              "#0d0887"
             ],
             [
              0.1111111111111111,
              "#46039f"
             ],
             [
              0.2222222222222222,
              "#7201a8"
             ],
             [
              0.3333333333333333,
              "#9c179e"
             ],
             [
              0.4444444444444444,
              "#bd3786"
             ],
             [
              0.5555555555555556,
              "#d8576b"
             ],
             [
              0.6666666666666666,
              "#ed7953"
             ],
             [
              0.7777777777777778,
              "#fb9f3a"
             ],
             [
              0.8888888888888888,
              "#fdca26"
             ],
             [
              1,
              "#f0f921"
             ]
            ],
            "type": "histogram2dcontour"
           }
          ],
          "mesh3d": [
           {
            "colorbar": {
             "outlinewidth": 0,
             "ticks": ""
            },
            "type": "mesh3d"
           }
          ],
          "parcoords": [
           {
            "line": {
             "colorbar": {
              "outlinewidth": 0,
              "ticks": ""
             }
            },
            "type": "parcoords"
           }
          ],
          "pie": [
           {
            "automargin": true,
            "type": "pie"
           }
          ],
          "scatter": [
           {
            "fillpattern": {
             "fillmode": "overlay",
             "size": 10,
             "solidity": 0.2
            },
            "type": "scatter"
           }
          ],
          "scatter3d": [
           {
            "line": {
             "colorbar": {
              "outlinewidth": 0,
              "ticks": ""
             }
            },
            "marker": {
             "colorbar": {
              "outlinewidth": 0,
              "ticks": ""
             }
            },
            "type": "scatter3d"
           }
          ],
          "scattercarpet": [
           {
            "marker": {
             "colorbar": {
              "outlinewidth": 0,
              "ticks": ""
             }
            },
            "type": "scattercarpet"
           }
          ],
          "scattergeo": [
           {
            "marker": {
             "colorbar": {
              "outlinewidth": 0,
              "ticks": ""
             }
            },
            "type": "scattergeo"
           }
          ],
          "scattergl": [
           {
            "marker": {
             "colorbar": {
              "outlinewidth": 0,
              "ticks": ""
             }
            },
            "type": "scattergl"
           }
          ],
          "scattermapbox": [
           {
            "marker": {
             "colorbar": {
              "outlinewidth": 0,
              "ticks": ""
             }
            },
            "type": "scattermapbox"
           }
          ],
          "scatterpolar": [
           {
            "marker": {
             "colorbar": {
              "outlinewidth": 0,
              "ticks": ""
             }
            },
            "type": "scatterpolar"
           }
          ],
          "scatterpolargl": [
           {
            "marker": {
             "colorbar": {
              "outlinewidth": 0,
              "ticks": ""
             }
            },
            "type": "scatterpolargl"
           }
          ],
          "scatterternary": [
           {
            "marker": {
             "colorbar": {
              "outlinewidth": 0,
              "ticks": ""
             }
            },
            "type": "scatterternary"
           }
          ],
          "surface": [
           {
            "colorbar": {
             "outlinewidth": 0,
             "ticks": ""
            },
            "colorscale": [
             [
              0,
              "#0d0887"
             ],
             [
              0.1111111111111111,
              "#46039f"
             ],
             [
              0.2222222222222222,
              "#7201a8"
             ],
             [
              0.3333333333333333,
              "#9c179e"
             ],
             [
              0.4444444444444444,
              "#bd3786"
             ],
             [
              0.5555555555555556,
              "#d8576b"
             ],
             [
              0.6666666666666666,
              "#ed7953"
             ],
             [
              0.7777777777777778,
              "#fb9f3a"
             ],
             [
              0.8888888888888888,
              "#fdca26"
             ],
             [
              1,
              "#f0f921"
             ]
            ],
            "type": "surface"
           }
          ],
          "table": [
           {
            "cells": {
             "fill": {
              "color": "#EBF0F8"
             },
             "line": {
              "color": "white"
             }
            },
            "header": {
             "fill": {
              "color": "#C8D4E3"
             },
             "line": {
              "color": "white"
             }
            },
            "type": "table"
           }
          ]
         },
         "layout": {
          "annotationdefaults": {
           "arrowcolor": "#2a3f5f",
           "arrowhead": 0,
           "arrowwidth": 1
          },
          "autotypenumbers": "strict",
          "coloraxis": {
           "colorbar": {
            "outlinewidth": 0,
            "ticks": ""
           }
          },
          "colorscale": {
           "diverging": [
            [
             0,
             "#8e0152"
            ],
            [
             0.1,
             "#c51b7d"
            ],
            [
             0.2,
             "#de77ae"
            ],
            [
             0.3,
             "#f1b6da"
            ],
            [
             0.4,
             "#fde0ef"
            ],
            [
             0.5,
             "#f7f7f7"
            ],
            [
             0.6,
             "#e6f5d0"
            ],
            [
             0.7,
             "#b8e186"
            ],
            [
             0.8,
             "#7fbc41"
            ],
            [
             0.9,
             "#4d9221"
            ],
            [
             1,
             "#276419"
            ]
           ],
           "sequential": [
            [
             0,
             "#0d0887"
            ],
            [
             0.1111111111111111,
             "#46039f"
            ],
            [
             0.2222222222222222,
             "#7201a8"
            ],
            [
             0.3333333333333333,
             "#9c179e"
            ],
            [
             0.4444444444444444,
             "#bd3786"
            ],
            [
             0.5555555555555556,
             "#d8576b"
            ],
            [
             0.6666666666666666,
             "#ed7953"
            ],
            [
             0.7777777777777778,
             "#fb9f3a"
            ],
            [
             0.8888888888888888,
             "#fdca26"
            ],
            [
             1,
             "#f0f921"
            ]
           ],
           "sequentialminus": [
            [
             0,
             "#0d0887"
            ],
            [
             0.1111111111111111,
             "#46039f"
            ],
            [
             0.2222222222222222,
             "#7201a8"
            ],
            [
             0.3333333333333333,
             "#9c179e"
            ],
            [
             0.4444444444444444,
             "#bd3786"
            ],
            [
             0.5555555555555556,
             "#d8576b"
            ],
            [
             0.6666666666666666,
             "#ed7953"
            ],
            [
             0.7777777777777778,
             "#fb9f3a"
            ],
            [
             0.8888888888888888,
             "#fdca26"
            ],
            [
             1,
             "#f0f921"
            ]
           ]
          },
          "colorway": [
           "#636efa",
           "#EF553B",
           "#00cc96",
           "#ab63fa",
           "#FFA15A",
           "#19d3f3",
           "#FF6692",
           "#B6E880",
           "#FF97FF",
           "#FECB52"
          ],
          "font": {
           "color": "#2a3f5f"
          },
          "geo": {
           "bgcolor": "white",
           "lakecolor": "white",
           "landcolor": "#E5ECF6",
           "showlakes": true,
           "showland": true,
           "subunitcolor": "white"
          },
          "hoverlabel": {
           "align": "left"
          },
          "hovermode": "closest",
          "mapbox": {
           "style": "light"
          },
          "paper_bgcolor": "white",
          "plot_bgcolor": "#E5ECF6",
          "polar": {
           "angularaxis": {
            "gridcolor": "white",
            "linecolor": "white",
            "ticks": ""
           },
           "bgcolor": "#E5ECF6",
           "radialaxis": {
            "gridcolor": "white",
            "linecolor": "white",
            "ticks": ""
           }
          },
          "scene": {
           "xaxis": {
            "backgroundcolor": "#E5ECF6",
            "gridcolor": "white",
            "gridwidth": 2,
            "linecolor": "white",
            "showbackground": true,
            "ticks": "",
            "zerolinecolor": "white"
           },
           "yaxis": {
            "backgroundcolor": "#E5ECF6",
            "gridcolor": "white",
            "gridwidth": 2,
            "linecolor": "white",
            "showbackground": true,
            "ticks": "",
            "zerolinecolor": "white"
           },
           "zaxis": {
            "backgroundcolor": "#E5ECF6",
            "gridcolor": "white",
            "gridwidth": 2,
            "linecolor": "white",
            "showbackground": true,
            "ticks": "",
            "zerolinecolor": "white"
           }
          },
          "shapedefaults": {
           "line": {
            "color": "#2a3f5f"
           }
          },
          "ternary": {
           "aaxis": {
            "gridcolor": "white",
            "linecolor": "white",
            "ticks": ""
           },
           "baxis": {
            "gridcolor": "white",
            "linecolor": "white",
            "ticks": ""
           },
           "bgcolor": "#E5ECF6",
           "caxis": {
            "gridcolor": "white",
            "linecolor": "white",
            "ticks": ""
           }
          },
          "title": {
           "x": 0.05
          },
          "xaxis": {
           "automargin": true,
           "gridcolor": "white",
           "linecolor": "white",
           "ticks": "",
           "title": {
            "standoff": 15
           },
           "zerolinecolor": "white",
           "zerolinewidth": 2
          },
          "yaxis": {
           "automargin": true,
           "gridcolor": "white",
           "linecolor": "white",
           "ticks": "",
           "title": {
            "standoff": 15
           },
           "zerolinecolor": "white",
           "zerolinewidth": 2
          }
         }
        },
        "title": {
         "text": "Total Elevation Gain by Month"
        },
        "xaxis": {
         "anchor": "y",
         "categoryarray": [
          "January",
          "February",
          "March",
          "April",
          "May",
          "June",
          "July",
          "August",
          "September",
          "October",
          "November",
          "December"
         ],
         "categoryorder": "array",
         "domain": [
          0,
          1
         ],
         "title": {
          "text": "month"
         }
        },
        "yaxis": {
         "anchor": "x",
         "domain": [
          0,
          1
         ],
         "title": {
          "text": "total_elevation_gain"
         }
        }
       }
      }
     },
     "metadata": {},
     "output_type": "display_data"
    }
   ],
   "source": [
    "# Trending Elevation Gain\n",
    "MONTHS = {\"month\": [\"January\", \"February\", \"March\", \"April\", \"May\", \"June\", \"July\", \"August\", \"September\", \"October\", \"November\", \"December\"]}\n",
    "def stacked_elevation_gain_x_month(dataframe):\n",
    "    df = dataframe\n",
    "    NON_AEROBIC = ['AlpineSki', 'WeightTraining', 'Workout', 'RockClimbing']\n",
    "    data_filtered = df.loc[~df['type'].isin(NON_AEROBIC)]\n",
    "    data_grouped = data_filtered.groupby(['month', 'year']).agg({'total_elevation_gain': 'sum'}).astype(int).reset_index()\n",
    "    bar = px.bar(data_grouped, \n",
    "                            x=\"month\", \n",
    "                            y=\"total_elevation_gain\", \n",
    "                            title='Total Elevation Gain by Month', \n",
    "                            color='year',\n",
    "                            custom_data=['year'],\n",
    "                            category_orders=MONTHS\n",
    "                            )\n",
    "    bar.update_traces(\n",
    "        hovertemplate=\"<br>\".join([\n",
    "            \"Month: %{x}\",\n",
    "            \"Year: %{customdata[0]}\",\n",
    "            \"Elevation: %{y:,}\"\n",
    "        ])\n",
    "    )\n",
    "    return bar.show()\n",
    "\n",
    "stacked_elevation_gain_x_month(df)"
   ]
  },
  {
   "cell_type": "code",
   "execution_count": 250,
   "metadata": {},
   "outputs": [],
   "source": [
    "NON_AEROBIC = ['AlpineSki', 'WeightTraining', 'Workout', 'RockClimbing']\n",
    "\n",
    "def max_vert_scatter_plot(dataframe):\n",
    "    df = dataframe\n",
    "    plot_cols = ['month', 'day_of_month', 'year', 'name', 'type', 'hours', 'total_elevation_gain']\n",
    "    sort_cols = ['day_of_month', 'month', 'total_elevation_gain']\n",
    "    dups_cols = ['day_of_month', 'month']\n",
    "    plot_data = df.loc[~df['type'].isin(NON_AEROBIC)]\n",
    "    month_dict = {\n",
    "        \"month\": [\"January\", \"February\", \"March\", \"April\", \"May\", \"June\", \"July\", \"August\", \"September\", \"October\", \"November\", \"December\"]\n",
    "    }\n",
    "    \n",
    "    scatter = px.scatter(\n",
    "        plot_data.sort_values(by=sort_cols, ascending=False).drop_duplicates(subset=dups_cols)[plot_cols], \n",
    "        x='month', \n",
    "        y='day_of_month', \n",
    "        color='total_elevation_gain', \n",
    "        size='hours',\n",
    "        custom_data=['year', 'name', 'total_elevation_gain', 'type'],\n",
    "        category_orders=month_dict\n",
    "    )\n",
    "\n",
    "    scatter.update_traces(\n",
    "        hovertemplate=\"<br>\".join([\n",
    "            \"Name: %{customdata[1]}\",\n",
    "            \"Type: %{customdata[3]}\",\n",
    "            \"Date: %{x} %{y}, %{customdata[0]}\",\n",
    "            \"Elevation: %{customdata[2]}\",\n",
    "        ])\n",
    "    )\n",
    "    return scatter.show()"
   ]
  },
  {
   "cell_type": "code",
   "execution_count": 251,
   "metadata": {},
   "outputs": [
    {
     "data": {
      "application/vnd.plotly.v1+json": {
       "config": {
        "plotlyServerURL": "https://plot.ly"
       },
       "data": [
        {
         "customdata": [
          [
           2022,
           "Afternoon Run",
           787.4,
           "Run"
          ],
          [
           2021,
           "Mt. Garfield",
           1817.59,
           "Run"
          ],
          [
           2019,
           "Bear Peak",
           3553.15,
           "Run"
          ],
          [
           2021,
           "Lunch Run",
           2142.39,
           "Run"
          ],
          [
           2019,
           "Eldora Skimo Laps w/Ben",
           3054.46,
           "BackcountrySki"
          ],
          [
           2019,
           "Lunch Run",
           134.51,
           "Run"
          ],
          [
           2018,
           "2nd Flatiron + 1st Flatironette w/Puma",
           2053.81,
           "Run"
          ],
          [
           2022,
           "Anermoney",
           816.93,
           "Run"
          ],
          [
           2021,
           "Sanitas",
           1292.65,
           "Run"
          ],
          [
           2019,
           "Bear Canyon Ski",
           1394.36,
           "BackcountrySki"
          ],
          [
           2017,
           "Bear Peak",
           2516.4,
           "Run"
          ],
          [
           2017,
           "Bear Peak",
           2611.55,
           "Run"
          ],
          [
           2021,
           "Evening Ride",
           226.38,
           "Ride"
          ],
          [
           2021,
           "Bear Peak",
           2759.19,
           "Run"
          ],
          [
           2017,
           "Bear Peak + Summit Repeat x1",
           3674.54,
           "Run"
          ],
          [
           2018,
           "Winter Park Skimo w/Ben",
           4035.43,
           "BackcountrySki"
          ],
          [
           2018,
           "Afternoon Run",
           1289.37,
           "Run"
          ],
          [
           2020,
           "Sanitas",
           1250,
           "Run"
          ],
          [
           2021,
           "Sanitas",
           1302.49,
           "Run"
          ],
          [
           2019,
           "Shanahan Ridge Ski",
           830.05,
           "BackcountrySki"
          ],
          [
           2020,
           "Fern Amphitheater-> Onoclea/Pellaea Gully-> Larks Ascending-> Nebel Horn",
           2322.83,
           "Run"
          ],
          [
           2017,
           "RMR Green",
           2375.33,
           "Run"
          ],
          [
           2018,
           "Sanitas (S11)",
           1315.62,
           "Run"
          ],
          [
           2021,
           "SoBo",
           2979,
           "Run"
          ],
          [
           2018,
           "Eben G. to Green via Chaps",
           2844.49,
           "Run"
          ],
          [
           2020,
           "Eldora Laps",
           2135.83,
           "BackcountrySki"
          ],
          [
           2017,
           "Bear Peak",
           3366.14,
           "Run"
          ],
          [
           2017,
           "2nd Flatiron-->Flatironette Scramble w/Nick",
           935.04,
           "Run"
          ],
          [
           2020,
           "Lunch Run",
           767.72,
           "Run"
          ],
          [
           2018,
           "The Bear 50k!",
           7742.78,
           "Run"
          ],
          [
           2017,
           "Sobo - Bear Peak",
           3868.11,
           "Run"
          ],
          [
           2016,
           "Morning Bear Peak",
           2732.94,
           "Run"
          ],
          [
           2018,
           "Quandary Peak",
           3674.54,
           "Run"
          ],
          [
           2018,
           "Sanitas (S10)",
           1341.86,
           "Run"
          ],
          [
           2017,
           "Sanitas",
           1532.15,
           "Run"
          ],
          [
           2018,
           "Bear Peak",
           3113.52,
           "Run"
          ],
          [
           2021,
           "RA",
           1338.58,
           "Run"
          ],
          [
           2018,
           "Sanitas (S6)",
           1410.76,
           "Run"
          ],
          [
           2019,
           "A Park Ski",
           3759.84,
           "BackcountrySki"
          ],
          [
           2018,
           "2nd Flatiron x2",
           1814.3,
           "Run"
          ],
          [
           2018,
           "Lunch Ride",
           1135.17,
           "Ride"
          ],
          [
           2017,
           "Bear Peak  (B35)",
           2795.28,
           "Run"
          ],
          [
           2018,
           "Marshall Mesa from the Front Door",
           3024.93,
           "Ride"
          ],
          [
           2020,
           "Sunshine -> Gold Hill",
           3944.88,
           "Ride"
          ],
          [
           2019,
           "Gooseberry to White Rim",
           1509.19,
           "Run"
          ],
          [
           2021,
           "Moab Cruisin",
           5839.9,
           "Ride"
          ],
          [
           2020,
           "Longs Peak",
           5685.7,
           "Run"
          ],
          [
           2019,
           "EVO via Flagstaff",
           2101.05,
           "Ride"
          ],
          [
           2021,
           "Afternoon Run",
           921.92,
           "Run"
          ],
          [
           2022,
           "Green",
           2480.32,
           "Run"
          ],
          [
           2020,
           "Bear Peak + Sobo",
           3766.4,
           "Run"
          ],
          [
           2017,
           "Bear Peak (31) via Shadow Canyon",
           3110.24,
           "Run"
          ],
          [
           2017,
           "Bear Peak x2",
           4232.28,
           "Run"
          ],
          [
           2019,
           "Afternoon Ride",
           380.58,
           "Ride"
          ],
          [
           2017,
           "Bear Peak",
           2808.4,
           "Run"
          ],
          [
           2019,
           "Neighborhood Ski Tour",
           1814.3,
           "BackcountrySki"
          ],
          [
           2019,
           "Syncline to Upheaval Dome",
           2260.5,
           "Run"
          ],
          [
           2016,
           "Morning Run",
           3996.06,
           "Run"
          ],
          [
           2018,
           "Melting in Bear Canyon (B18)",
           2844.49,
           "Run"
          ],
          [
           2016,
           "Salomon Run Club",
           711.94,
           "Run"
          ],
          [
           2018,
           "Bear Peak",
           3080.71,
           "Run"
          ],
          [
           2017,
           "Bear Peak",
           2742.78,
           "Run"
          ],
          [
           2018,
           "Lunch Run",
           462.6,
           "Run"
          ],
          [
           2017,
           "Mt. Princeton",
           2778.87,
           "Run"
          ],
          [
           2021,
           "2nd Flatiron",
           1227.03,
           "Run"
          ],
          [
           2017,
           "Bear Peak  (B34)",
           2772.31,
           "Run"
          ],
          [
           2020,
           "Bear Peak",
           2818.24,
           "Run"
          ],
          [
           2017,
           "Marshall Mesa->Doudy->Springbrook",
           1118.77,
           "Ride"
          ],
          [
           2020,
           "Goat Trail via Skyline",
           6236.88,
           "Run"
          ],
          [
           2017,
           "29'n SoBo Creek->Dirty B->Doudy",
           1624.02,
           "Ride"
          ],
          [
           2016,
           "Mt. Bierstadt",
           2273.62,
           "Run"
          ],
          [
           2021,
           "1st flatironette + sputnik boulder w/NPTR!",
           1184.38,
           "Run"
          ],
          [
           2017,
           "Loop 2 with Rally Runners",
           101.71,
           "Run"
          ],
          [
           2018,
           "Bear Peak (B9) w/Olivia and Rachel",
           2837.93,
           "Run"
          ],
          [
           2019,
           "Fern Saddle",
           1948.82,
           "Run"
          ],
          [
           2018,
           "Bear Peak + Summit Repeats x3",
           5413.39,
           "Run"
          ],
          [
           2017,
           "Mesa Loops",
           1276.25,
           "Run"
          ],
          [
           2017,
           "Bear Peak  (B33)",
           2716.54,
           "Run"
          ],
          [
           2017,
           "Bear Peak  (B47)",
           2788.71,
           "Run"
          ],
          [
           2016,
           "2nd Flatiron + Hammerhead + Buckets.",
           2667.32,
           "Run"
          ],
          [
           2020,
           "1/2 Shavano",
           2280.18,
           "Run"
          ],
          [
           2019,
           "2nd Flatiron w/Puma",
           1322.18,
           "Run"
          ],
          [
           2017,
           "Bear Peak w/Olivia & Morgyn (B23)",
           3438.32,
           "Run"
          ],
          [
           2021,
           "Chapman",
           1712.6,
           "Ride"
          ],
          [
           2017,
           "Bear Peak",
           2769.03,
           "Run"
          ],
          [
           2022,
           "Bear Peak",
           2778.87,
           "Run"
          ],
          [
           2020,
           "Morning Run",
           1499.34,
           "Run"
          ],
          [
           2019,
           "La Plata Peak",
           4738.85,
           "Run"
          ],
          [
           2020,
           "Afternoon Run",
           688.98,
           "Run"
          ],
          [
           2017,
           "Bear Peak (B32)",
           2752.62,
           "Run"
          ],
          [
           2017,
           "Bear Peak w/🐶 (B46)",
           2782.15,
           "Run"
          ],
          [
           2017,
           "Green Mtn",
           2559.06,
           "Run"
          ],
          [
           2021,
           "Regency -> RA",
           1732.28,
           "Run"
          ],
          [
           2019,
           "Bear Peak (B5)",
           3028.22,
           "Run"
          ],
          [
           2018,
           "High Lonesome Loop",
           3743.44,
           "Run"
          ],
          [
           2022,
           "Mt Parnassus & Woods Mountain ",
           3628.61,
           "Run"
          ],
          [
           2016,
           "Morning Run",
           1256.56,
           "Run"
          ],
          [
           2016,
           "Afternoon Run",
           2888.45,
           "Run"
          ],
          [
           2020,
           "Bear Peak",
           2841.21,
           "Run"
          ],
          [
           2021,
           "Mt. Marathon",
           3094.49,
           "Run"
          ],
          [
           2016,
           "Hyner 50k",
           7437.66,
           "Run"
          ],
          [
           2017,
           "Friday Marshall Mesa & Chill",
           1556.43,
           "Ride"
          ],
          [
           2021,
           "Regency -> RA -> Hammerhead",
           1541.99,
           "Run"
          ],
          [
           2021,
           "2nd Flatiron + 1st Flatironette",
           1397.64,
           "Run"
          ],
          [
           2018,
           "2nd Flatiron + 1st Flatironette w/Nick",
           1348.43,
           "Run"
          ],
          [
           2016,
           "Afternoon Run",
           1805.77,
           "Run"
          ],
          [
           2019,
           "Belford",
           3822.18,
           "Run"
          ],
          [
           2019,
           "Mt. Yale",
           4360.24,
           "Run"
          ],
          [
           2022,
           "Sanitas",
           1515.75,
           "Run"
          ],
          [
           2020,
           "Bear Peak",
           2982.28,
           "Run"
          ],
          [
           2017,
           "Bear Peak",
           3083.99,
           "Run"
          ],
          [
           2018,
           "Bear Peak (B23)",
           2739.5,
           "Run"
          ],
          [
           2017,
           "Gold Hill. In honor of Hyner.",
           3238.19,
           "Run"
          ],
          [
           2019,
           "I said hard times! They're just an old friend to me",
           3293.96,
           "Ride"
          ],
          [
           2022,
           "Hall Ranch",
           1440.29,
           "Ride"
          ],
          [
           2020,
           "Bear Peak x3",
           8215.22,
           "Run"
          ],
          [
           2018,
           "Beet Juice Catastrophe w/Nick",
           1417.32,
           "Run"
          ],
          [
           2020,
           "Bear Peak",
           3136.48,
           "Run"
          ],
          [
           2020,
           "Mt. Sherman from Iowa Gulch",
           3117.45,
           "Run"
          ],
          [
           2019,
           "Redcloud / Sunshine / Redcloud",
           4940.95,
           "Run"
          ],
          [
           2017,
           "Bear Peak",
           2847.77,
           "Run"
          ],
          [
           2018,
           "Sanitas",
           1456.69,
           "Run"
          ],
          [
           2019,
           "Allenspark Ski",
           2047.24,
           "BackcountrySki"
          ],
          [
           2021,
           "Harding Ice Field",
           4199.48,
           "Run"
          ],
          [
           2018,
           "Grand Canyon R3",
           11538.71,
           "Run"
          ],
          [
           2022,
           "Walker Loop",
           1509.51,
           "Ride"
          ],
          [
           2019,
           "Sanitas",
           1940.94,
           "Run"
          ],
          [
           2018,
           "Sanitas (S31)",
           1307.74,
           "Run"
          ],
          [
           2020,
           "Morning Run",
           1417.32,
           "Run"
          ],
          [
           2021,
           "Bear Peak",
           3074.15,
           "Run"
          ],
          [
           2022,
           "Buffalo Mountain pt. 1",
           3700.79,
           "Run"
          ],
          [
           2018,
           "Grant Swamp Pass",
           3375.98,
           "Run"
          ],
          [
           2018,
           "Sanitas",
           1459.97,
           "Run"
          ],
          [
           2020,
           "3x10 LT Stairmaster Intervals",
           1702.1,
           "Run"
          ],
          [
           2019,
           "Afternoon Ride",
           1177.82,
           "Ride"
          ],
          [
           2019,
           "To EVO",
           639.76,
           "Ride"
          ],
          [
           2019,
           "2nd Flatiron",
           1246.72,
           "Run"
          ],
          [
           2020,
           "Sanitas",
           1978.35,
           "Run"
          ],
          [
           2019,
           "2nd Flatiron",
           1446.85,
           "Run"
          ],
          [
           2016,
           "Moab 50K. ",
           2664.04,
           "Run"
          ],
          [
           2019,
           "Green!",
           2539.37,
           "Run"
          ],
          [
           2021,
           "A-Basin Happy Hour",
           2087.93,
           "BackcountrySki"
          ],
          [
           2018,
           "Bear Peak",
           2880.58,
           "Run"
          ],
          [
           2018,
           "Mt. Sneffels",
           3428.48,
           "Run"
          ],
          [
           2019,
           "Bear Peak (B2)--> Bear Canyon",
           2988.85,
           "Run"
          ],
          [
           2017,
           "Bouldering around Sanitas (S8)",
           1469.82,
           "Run"
          ],
          [
           2020,
           "Ski resort mtn-eer",
           2080.05,
           "BackcountrySki"
          ],
          [
           2017,
           "Pikes Peak Ascent",
           7089.9,
           "Run"
          ],
          [
           2022,
           "Afternoon Run",
           495.41,
           "Run"
          ],
          [
           2020,
           "Bear Peak",
           3018.37,
           "Run"
          ],
          [
           2017,
           "Bear Peak  (B45)",
           2785.43,
           "Run"
          ],
          [
           2022,
           "Sanitas",
           1400.92,
           "Run"
          ],
          [
           2021,
           "Bear Peak + Sobo",
           3303.81,
           "Run"
          ],
          [
           2018,
           "Sobo - Bear Peak - Green",
           4647.64,
           "Run"
          ],
          [
           2016,
           "Gray's and Torrey's",
           3374.67,
           "Run"
          ],
          [
           2020,
           "Hematite Gulch",
           3008.53,
           "Run"
          ],
          [
           2018,
           "Bear Peak",
           3061.02,
           "Run"
          ],
          [
           2017,
           "Lil hike up royal arch ",
           1535.43,
           "Run"
          ],
          [
           2020,
           "Afternoon Run",
           908.79,
           "Run"
          ],
          [
           2021,
           "2x Flattop Mountain",
           2329.4,
           "Run"
          ],
          [
           2018,
           "Jogging around Slickrock",
           741.47,
           "Run"
          ],
          [
           2019,
           "Afternoon Ride",
           511.81,
           "Ride"
          ],
          [
           2017,
           "Bear Peak  (B44) *watch died*",
           1581.36,
           "Run"
          ],
          [
           2018,
           "Lunch Ride",
           918.64,
           "Ride"
          ],
          [
           2018,
           "Up & Down B. Canyon",
           1938.98,
           "Run"
          ],
          [
           2019,
           "Sanitas (S3)",
           1315.62,
           "Run"
          ],
          [
           2016,
           "Royal Arch - 1st/2nd Trail",
           2214.57,
           "Run"
          ],
          [
           2020,
           "Kendall Mtn",
           3792.65,
           "Run"
          ],
          [
           2017,
           "Bear Peak",
           3044.62,
           "Run"
          ],
          [
           2017,
           "Sobo",
           2880.58,
           "Run"
          ],
          [
           2018,
           "Skimo laps at eldora",
           3064.3,
           "BackcountrySki"
          ],
          [
           2019,
           "Hope Pass: Pacing Tyler",
           2982.28,
           "Run"
          ],
          [
           2021,
           "Bear Peak",
           2775.59,
           "Run"
          ],
          [
           2016,
           "RRR pacing Tomas",
           3546.59,
           "Run"
          ],
          [
           2016,
           "Bear Peak with some Fam",
           2244.09,
           "Run"
          ],
          [
           2019,
           "A-Basin Uphill #1",
           1627.3,
           "BackcountrySki"
          ],
          [
           2018,
           "Sanitas w/Olivia (S20)",
           1305.77,
           "Run"
          ],
          [
           2020,
           "Sanitas",
           1335.3,
           "Run"
          ],
          [
           2020,
           "Bear peak",
           2716.54,
           "Run"
          ],
          [
           2017,
           "Bear Peak  (B27)",
           2611.55,
           "Run"
          ],
          [
           2017,
           "Sanitas x2",
           2837.93,
           "Run"
          ],
          [
           2018,
           "Bear Peak",
           2808.4,
           "Run"
          ],
          [
           2016,
           "Bear Peak + Sobo",
           3540.03,
           "Run"
          ],
          [
           2019,
           "Holy Cross ➕",
           5797.24,
           "Run"
          ],
          [
           2017,
           "SoBo + Bear Peak + Green + Flag",
           4340.55,
           "Run"
          ],
          [
           2022,
           "Sanitas",
           1689.63,
           "Run"
          ],
          [
           2017,
           "Bear Peak + Nebel Horn (B43)",
           3106.96,
           "Run"
          ],
          [
           2018,
           "Sanitas",
           1335.3,
           "Run"
          ],
          [
           2018,
           "2nd Flatiron Scramble w/Nick",
           1217.19,
           "Run"
          ],
          [
           2021,
           "Shanahan ski",
           1410.76,
           "BackcountrySki"
          ],
          [
           2021,
           "Mt Audubon",
           2874.02,
           "Run"
          ],
          [
           2017,
           "Huron Peak",
           4297.9,
           "Run"
          ],
          [
           2022,
           "Batman Loop",
           1610.89,
           "Run"
          ],
          [
           2022,
           "Sanitas ",
           1269.69,
           "Run"
          ],
          [
           2017,
           "Bear Peak (B53) Happy Hour w/Nick",
           2824.8,
           "Run"
          ],
          [
           2018,
           "Sanitas (S26) w/ OC & Queen",
           1263.12,
           "Run"
          ],
          [
           2018,
           "Sanitas",
           1427.17,
           "Run"
          ],
          [
           2019,
           "Hunting Spontaneous Beverages",
           639.76,
           "Ride"
          ],
          [
           2017,
           "Bear Peak (B42)",
           2831.36,
           "Run"
          ],
          [
           2021,
           "2nd Flatiron",
           1730.32,
           "Run"
          ],
          [
           2016,
           "GRT 50Mile. DNF'D at mile 40 due to injury.",
           5000,
           "Run"
          ],
          [
           2020,
           "Bear Peak + Sobo",
           3435.04,
           "Run"
          ],
          [
           2018,
           "Bear Peak",
           2844.49,
           "Run"
          ],
          [
           2019,
           "2nd Flatiron",
           1248.03,
           "Run"
          ],
          [
           2017,
           "Bear Peak",
           2782.15,
           "Run"
          ],
          [
           2018,
           "Sanitas (S4)",
           1312.34,
           "Run"
          ],
          [
           2018,
           "A-Basin Vertical Race",
           1643.7,
           "BackcountrySki"
          ],
          [
           2021,
           "EVO: to & fro'",
           1673.23,
           "Ride"
          ],
          [
           2018,
           "2nd Flatiron-->Green-->Bear Canyon",
           2854.33,
           "Run"
          ],
          [
           2020,
           "2nd flatiron w/emir",
           1377.95,
           "Run"
          ],
          [
           2018,
           "Lost in Denver with Eric",
           2866.14,
           "Ride"
          ],
          [
           2021,
           "Mesa w/Mo",
           1558.4,
           "Run"
          ],
          [
           2017,
           "Mudfest #2 on the GRT. Redeemed!",
           6574.8,
           "Run"
          ],
          [
           2021,
           "East Leadville Tour",
           1700.13,
           "BackcountrySki"
          ],
          [
           2020,
           "Skyline",
           5974.41,
           "Run"
          ],
          [
           2021,
           "Hogsback",
           1341.86,
           "Run"
          ],
          [
           2018,
           "1st/2nd Hike w/O and Morgy",
           1564.96,
           "Run"
          ],
          [
           2019,
           "Afternoon Activity",
           1405.51,
           "BackcountrySki"
          ],
          [
           2018,
           "Afternoon Run",
           390.42,
           "Run"
          ],
          [
           2016,
           "Easy hike on Sanitas",
           1332.02,
           "Run"
          ],
          [
           2019,
           "Sanitas",
           1942.26,
           "Run"
          ],
          [
           2020,
           "WU + Ramble",
           1043.31,
           "Run"
          ],
          [
           2017,
           "Bear Peak w/Olivia (B41)",
           3159.45,
           "Run"
          ],
          [
           2022,
           "Afternoon Run",
           1089.24,
           "Run"
          ],
          [
           2019,
           "Afternoon Run",
           708.66,
           "Run"
          ],
          [
           2022,
           "Sanitas ",
           1394.36,
           "Run"
          ],
          [
           2016,
           "Mesa Trail",
           2018.37,
           "Run"
          ],
          [
           2020,
           "South Arapahoe Peak",
           3408.79,
           "Run"
          ],
          [
           2018,
           "Bear Peak",
           2992.13,
           "Run"
          ],
          [
           2020,
           "Afternoon Run",
           118.11,
           "Run"
          ],
          [
           2021,
           "Bear Peak",
           2329.4,
           "Run"
          ],
          [
           2018,
           "Sobo - Bear Peak - Green",
           4274.93,
           "Run"
          ],
          [
           2020,
           "Bear Peak",
           3079.4,
           "Run"
          ],
          [
           2016,
           "Recovery Hike",
           1322.18,
           "Run"
          ],
          [
           2017,
           "Bear Peak (B40)",
           2762.47,
           "Run"
          ],
          [
           2016,
           "2nd Flatiron x2",
           1827.43,
           "Run"
          ],
          [
           2021,
           "Fern",
           1732.28,
           "Run"
          ],
          [
           2018,
           "Bear Peak (B11) -> SoBo",
           3595.8,
           "Run"
          ],
          [
           2021,
           "Challenger (no summit)",
           3532.48,
           "Run"
          ],
          [
           2021,
           "Mt Sneffels - SW Ridge",
           2843.5,
           "Run"
          ],
          [
           2018,
           "Afternoon Run",
           685.7,
           "Run"
          ],
          [
           2017,
           "Skyline Traverse w/squad (B8, S7)",
           6128.61,
           "Run"
          ],
          [
           2018,
           "Been getting back to it, just not on strava.",
           242.78,
           "Run"
          ],
          [
           2018,
           "Missouri Mountain",
           4786.75,
           "Run"
          ],
          [
           2021,
           "Bear Peak",
           2759.19,
           "Run"
          ],
          [
           2016,
           "Cows",
           777.56,
           "Run"
          ],
          [
           2021,
           "2nd Flatiron",
           1272.97,
           "Run"
          ],
          [
           2018,
           "2nd Flatiron",
           1437.01,
           "Run"
          ],
          [
           2019,
           "Sanitas (S5)!",
           1295.93,
           "Run"
          ],
          [
           2021,
           "Bear Peak",
           2737.53,
           "Run"
          ],
          [
           2018,
           "Grays Peak and Torreys Peak",
           3956.69,
           "Run"
          ],
          [
           2020,
           "Sanitas",
           1400.92,
           "Run"
          ],
          [
           2021,
           "A-Park",
           2041.34,
           "BackcountrySki"
          ],
          [
           2017,
           "Sanitas",
           1246.72,
           "Run"
          ],
          [
           2018,
           "Royal Arch w/the crew",
           1384.51,
           "Run"
          ],
          [
           2019,
           "Kohl's-->Eldo-->Rayback",
           1863.52,
           "Ride"
          ],
          [
           2017,
           "Rallysport --> Sanitas (S11)",
           1574.8,
           "Run"
          ],
          [
           2017,
           "Crested Butte Ultra. Body quit. Brain did not.",
           5780.84,
           "Run"
          ],
          [
           2020,
           "Front Porch -> Angels Way",
           1938.98,
           "Run"
          ],
          [
           2019,
           "Bear Peak Intervals",
           2769.03,
           "Run"
          ],
          [
           2019,
           "Stairclimbin'",
           1200.13,
           "Run"
          ],
          [
           2018,
           "Bear Peak w/Nick (B10)",
           2985.56,
           "Run"
          ],
          [
           2020,
           "Regency -> RA -> Buckets -> Hammerhead -> Yodeling -> Tomato Rock",
           1909.45,
           "Run"
          ],
          [
           2016,
           "Mt. Democrat, Mt. Cameron, Mt. Lincoln, Mt. Bross.",
           2621.39,
           "Run"
          ],
          [
           2021,
           "Bear Peak + Sobo",
           3471.13,
           "Run"
          ],
          [
           2018,
           "Bear Peak (B5)",
           3490.81,
           "Run"
          ],
          [
           2016,
           "Bear Peak w/Simon",
           2713.25,
           "Run"
          ],
          [
           2018,
           "2nd Flatiron x2",
           1793.31,
           "Run"
          ],
          [
           2021,
           "Bear Peak",
           2742.78,
           "Run"
          ],
          [
           2018,
           "Green Mountain tour with Amy & Karin!",
           2208.01,
           "Run"
          ],
          [
           2016,
           "SoBo + Bear Peak + Green + Flagstaff",
           5200.13,
           "Run"
          ],
          [
           2017,
           "Bear Peak  (B50!)",
           2778.87,
           "Run"
          ],
          [
           2021,
           "2nd Flatiron -> Green",
           2874.02,
           "Run"
          ],
          [
           2022,
           "Sanitas x2",
           2322.83,
           "Run"
          ],
          [
           2020,
           "2nd Flatiron",
           1381.23,
           "Run"
          ],
          [
           2019,
           "Bear Peak + SoBo w/Stephen!",
           3392.39,
           "Run"
          ],
          [
           2017,
           "First Bear Peak of the year! (B1)",
           2604.99,
           "Run"
          ],
          [
           2021,
           "Lunch Run",
           941.6,
           "Run"
          ],
          [
           2017,
           "Bear Peak (B52). Up Fern/Down Shadow with Friends!",
           3172.57,
           "Run"
          ],
          [
           2018,
           "2nd Flatiron",
           1220.47,
           "Run"
          ],
          [
           2018,
           "Bear Peak (B14)",
           2755.91,
           "Run"
          ],
          [
           2019,
           "Black Project",
           1791.34,
           "Ride"
          ],
          [
           2020,
           "Sanitas",
           1269.69,
           "Run"
          ],
          [
           2020,
           "Rayback",
           360.89,
           "Ride"
          ],
          [
           2022,
           "Halfmoon creek",
           1151.57,
           "Ride"
          ],
          [
           2021,
           "2nd flatiron",
           1567.91,
           "Run"
          ],
          [
           2020,
           "Belford & Oxford",
           8881.23,
           "Run"
          ],
          [
           2018,
           "Longs Peak",
           5436.35,
           "Run"
          ],
          [
           2019,
           "Morning Laps w/Ben",
           3100.39,
           "BackcountrySki"
          ],
          [
           2021,
           "Green",
           2811.68,
           "Run"
          ],
          [
           2019,
           "A-Park Ski",
           2641.08,
           "BackcountrySki"
          ],
          [
           2016,
           "Mt. Evans",
           1742.13,
           "Run"
          ],
          [
           2021,
           "Regency - RA",
           1348.43,
           "Run"
          ],
          [
           2021,
           "Green WR",
           721.78,
           "Run"
          ],
          [
           2020,
           "Regency-> RA-> Hammerhead",
           1696.19,
           "Run"
          ],
          [
           2020,
           "Skyline",
           6184.38,
           "Run"
          ],
          [
           2018,
           "Regency-->Royal Arch Scramble w/Nick",
           1282.81,
           "Run"
          ],
          [
           2018,
           "1st Flatironette",
           1066.27,
           "Run"
          ],
          [
           2022,
           "Incline -> Powerhair",
           564.3,
           "Run"
          ],
          [
           2020,
           "Sanitas",
           1466.54,
           "Run"
          ],
          [
           2022,
           "Kohler Ski",
           1761.81,
           "BackcountrySki"
          ],
          [
           2020,
           "Treadmill Hike",
           2216.86,
           "Run"
          ],
          [
           2017,
           "Afternoon Run",
           1187.66,
           "Run"
          ],
          [
           2017,
           "Bear Peak w/Amy! (B29)",
           2660.76,
           "Run"
          ],
          [
           2017,
           "Sanitas",
           1692.91,
           "Run"
          ],
          [
           2017,
           "2nd Flatiron",
           1322.51,
           "Run"
          ],
          [
           2017,
           "Bear Peak (B37)",
           2778.87,
           "Run"
          ],
          [
           2018,
           "2nd Flatiron w/Nick",
           1377.95,
           "Run"
          ],
          [
           2022,
           "Lunch Run",
           633.2,
           "Run"
          ],
          [
           2017,
           "Bear Peak",
           2470.47,
           "Run"
          ],
          [
           2021,
           "Bear Peak",
           2926.51,
           "Run"
          ],
          [
           2018,
           "2nd Flatiron-->Spyronette Scramble w/Nick",
           1669.95,
           "Run"
          ],
          [
           2018,
           "Bear Peak",
           3126.64,
           "Run"
          ],
          [
           2017,
           "Bear Peak",
           2713.25,
           "Run"
          ],
          [
           2018,
           "Eldora Skimo Laps",
           2116.14,
           "BackcountrySki"
          ],
          [
           2017,
           "Mesa Out-n-Back",
           2532.81,
           "Run"
          ],
          [
           2022,
           "Caves Trail ",
           931.76,
           "Run"
          ],
          [
           2016,
           "Got lost. And then 3 became 7.",
           823.49,
           "Run"
          ],
          [
           2019,
           "Bear Peak w/Elliot and Liz",
           2736.22,
           "Run"
          ],
          [
           2016,
           "2nd Flatiron & 1st Flatironette w/Simon",
           1466.54,
           "Run"
          ],
          [
           2019,
           "SoBo-->Bear Peak",
           3389.11,
           "Run"
          ],
          [
           2022,
           "Bear Peak",
           2706.69,
           "Run"
          ],
          [
           2019,
           "Dog Jaunt",
           196.85,
           "Run"
          ],
          [
           2018,
           "Bear Peak (B19)",
           2893.7,
           "Run"
          ],
          [
           2020,
           "Sunlight Mountain",
           5091.86,
           "BackcountrySki"
          ],
          [
           2017,
           "Bear Peak",
           2870.74,
           "Run"
          ],
          [
           2016,
           "Quick jaunt up Sanitas",
           1299.21,
           "Run"
          ],
          [
           2018,
           "Afternoon Ride",
           1709.97,
           "Ride"
          ],
          [
           2021,
           "2nd Flatiron",
           1610.89,
           "Run"
          ],
          [
           2016,
           "Cautiously rebuilding.",
           164.04,
           "Run"
          ],
          [
           2020,
           "Bear Peak",
           2791.01,
           "Run"
          ],
          [
           2019,
           "Sanitas w/Queen, Obo, J-Roc",
           1368.11,
           "Run"
          ],
          [
           2021,
           "Sanitas",
           1268.7,
           "Run"
          ],
          [
           2019,
           "Bear Canyon on Skis!",
           1361.55,
           "BackcountrySki"
          ],
          [
           2018,
           "2nd Flatiron + Green",
           2978.35,
           "Run"
          ],
          [
           2021,
           "Shavano & Tabeguache",
           5346.13,
           "Run"
          ],
          [
           2016,
           "Lunch Run",
           761.48,
           "Run"
          ],
          [
           2021,
           "Lunch Run",
           843.18,
           "Run"
          ],
          [
           2016,
           "Mosey around the 1st/2nd",
           1601.05,
           "Run"
          ],
          [
           2017,
           "Bear Peak (B28)",
           2900.26,
           "Run"
          ],
          [
           2020,
           "Bear Peak",
           2785.43,
           "Run"
          ],
          [
           2017,
           "Long's Peak (14,255')",
           5100.07,
           "Run"
          ],
          [
           2020,
           "2nd Flatiron + 1st flatironette",
           1509.19,
           "Run"
          ],
          [
           2020,
           "2nd flatiron by lamp",
           1295.93,
           "Run"
          ],
          [
           2017,
           "Taper lap up Sanitas (S12)",
           1158.14,
           "Run"
          ],
          [
           2019,
           "Bear Peak (B4)",
           2835.96,
           "Run"
          ],
          [
           2020,
           "Green",
           2470.47,
           "Run"
          ],
          [
           2017,
           "Mt. Massive",
           3622.05,
           "Run"
          ],
          [
           2021,
           "Bear Peak + Sobo",
           4120.74,
           "Run"
          ],
          [
           2019,
           "Bear Peak (B3) + SoBo",
           3667.98,
           "Run"
          ],
          [
           2016,
           "Bear Peak Climb w/Simon. Snow. Mountain Lion.",
           2755.91,
           "Run"
          ],
          [
           2020,
           "2nd & 1st Flatironette",
           1291.99,
           "Run"
          ],
          [
           2017,
           "Bear Peak + Sobo",
           3162.73,
           "Run"
          ],
          [
           2018,
           "Bear Peak (B28)",
           2729.66,
           "Run"
          ],
          [
           2017,
           "Scouting the route to Shirttail Peak w/Nick",
           2024.28,
           "Run"
          ],
          [
           2020,
           "2nd Flatiron",
           1555.12,
           "Run"
          ],
          [
           2021,
           "The morning after",
           925.2,
           "Run"
          ],
          [
           2022,
           "Afternoon Run",
           265.75,
           "Run"
          ],
          [
           2020,
           "Bear Peak",
           2611.55,
           "Run"
          ],
          [
           2017,
           "Mt. Elbert",
           4327.43,
           "Run"
          ],
          [
           2020,
           "Allenspark Ski",
           1671.26,
           "BackcountrySki"
          ],
          [
           2020,
           "Winter Park",
           3106.96,
           "BackcountrySki"
          ],
          [
           2018,
           "Eldora Nordic Trails w/Olivia",
           1656.82,
           "NordicSki"
          ],
          [
           2017,
           "Climbin' rocks w/Dán",
           1446.85,
           "Run"
          ],
          [
           2018,
           "Sanitas x5",
           6706.04,
           "Run"
          ]
         ],
         "hovertemplate": "Name: %{customdata[1]}<br>Type: %{customdata[3]}<br>Date: %{x} %{y}, %{customdata[0]}<br>Elevation: %{customdata[2]}",
         "legendgroup": "",
         "marker": {
          "color": [
           787.4,
           1817.59,
           3553.15,
           2142.39,
           3054.46,
           134.51,
           2053.81,
           816.93,
           1292.65,
           1394.36,
           2516.4,
           2611.55,
           226.38,
           2759.19,
           3674.54,
           4035.43,
           1289.37,
           1250,
           1302.49,
           830.05,
           2322.83,
           2375.33,
           1315.62,
           2979,
           2844.49,
           2135.83,
           3366.14,
           935.04,
           767.72,
           7742.78,
           3868.11,
           2732.94,
           3674.54,
           1341.86,
           1532.15,
           3113.52,
           1338.58,
           1410.76,
           3759.84,
           1814.3,
           1135.17,
           2795.28,
           3024.93,
           3944.88,
           1509.19,
           5839.9,
           5685.7,
           2101.05,
           921.92,
           2480.32,
           3766.4,
           3110.24,
           4232.28,
           380.58,
           2808.4,
           1814.3,
           2260.5,
           3996.06,
           2844.49,
           711.94,
           3080.71,
           2742.78,
           462.6,
           2778.87,
           1227.03,
           2772.31,
           2818.24,
           1118.77,
           6236.88,
           1624.02,
           2273.62,
           1184.38,
           101.71,
           2837.93,
           1948.82,
           5413.39,
           1276.25,
           2716.54,
           2788.71,
           2667.32,
           2280.18,
           1322.18,
           3438.32,
           1712.6,
           2769.03,
           2778.87,
           1499.34,
           4738.85,
           688.98,
           2752.62,
           2782.15,
           2559.06,
           1732.28,
           3028.22,
           3743.44,
           3628.61,
           1256.56,
           2888.45,
           2841.21,
           3094.49,
           7437.66,
           1556.43,
           1541.99,
           1397.64,
           1348.43,
           1805.77,
           3822.18,
           4360.24,
           1515.75,
           2982.28,
           3083.99,
           2739.5,
           3238.19,
           3293.96,
           1440.29,
           8215.22,
           1417.32,
           3136.48,
           3117.45,
           4940.95,
           2847.77,
           1456.69,
           2047.24,
           4199.48,
           11538.71,
           1509.51,
           1940.94,
           1307.74,
           1417.32,
           3074.15,
           3700.79,
           3375.98,
           1459.97,
           1702.1,
           1177.82,
           639.76,
           1246.72,
           1978.35,
           1446.85,
           2664.04,
           2539.37,
           2087.93,
           2880.58,
           3428.48,
           2988.85,
           1469.82,
           2080.05,
           7089.9,
           495.41,
           3018.37,
           2785.43,
           1400.92,
           3303.81,
           4647.64,
           3374.67,
           3008.53,
           3061.02,
           1535.43,
           908.79,
           2329.4,
           741.47,
           511.81,
           1581.36,
           918.64,
           1938.98,
           1315.62,
           2214.57,
           3792.65,
           3044.62,
           2880.58,
           3064.3,
           2982.28,
           2775.59,
           3546.59,
           2244.09,
           1627.3,
           1305.77,
           1335.3,
           2716.54,
           2611.55,
           2837.93,
           2808.4,
           3540.03,
           5797.24,
           4340.55,
           1689.63,
           3106.96,
           1335.3,
           1217.19,
           1410.76,
           2874.02,
           4297.9,
           1610.89,
           1269.69,
           2824.8,
           1263.12,
           1427.17,
           639.76,
           2831.36,
           1730.32,
           5000,
           3435.04,
           2844.49,
           1248.03,
           2782.15,
           1312.34,
           1643.7,
           1673.23,
           2854.33,
           1377.95,
           2866.14,
           1558.4,
           6574.8,
           1700.13,
           5974.41,
           1341.86,
           1564.96,
           1405.51,
           390.42,
           1332.02,
           1942.26,
           1043.31,
           3159.45,
           1089.24,
           708.66,
           1394.36,
           2018.37,
           3408.79,
           2992.13,
           118.11,
           2329.4,
           4274.93,
           3079.4,
           1322.18,
           2762.47,
           1827.43,
           1732.28,
           3595.8,
           3532.48,
           2843.5,
           685.7,
           6128.61,
           242.78,
           4786.75,
           2759.19,
           777.56,
           1272.97,
           1437.01,
           1295.93,
           2737.53,
           3956.69,
           1400.92,
           2041.34,
           1246.72,
           1384.51,
           1863.52,
           1574.8,
           5780.84,
           1938.98,
           2769.03,
           1200.13,
           2985.56,
           1909.45,
           2621.39,
           3471.13,
           3490.81,
           2713.25,
           1793.31,
           2742.78,
           2208.01,
           5200.13,
           2778.87,
           2874.02,
           2322.83,
           1381.23,
           3392.39,
           2604.99,
           941.6,
           3172.57,
           1220.47,
           2755.91,
           1791.34,
           1269.69,
           360.89,
           1151.57,
           1567.91,
           8881.23,
           5436.35,
           3100.39,
           2811.68,
           2641.08,
           1742.13,
           1348.43,
           721.78,
           1696.19,
           6184.38,
           1282.81,
           1066.27,
           564.3,
           1466.54,
           1761.81,
           2216.86,
           1187.66,
           2660.76,
           1692.91,
           1322.51,
           2778.87,
           1377.95,
           633.2,
           2470.47,
           2926.51,
           1669.95,
           3126.64,
           2713.25,
           2116.14,
           2532.81,
           931.76,
           823.49,
           2736.22,
           1466.54,
           3389.11,
           2706.69,
           196.85,
           2893.7,
           5091.86,
           2870.74,
           1299.21,
           1709.97,
           1610.89,
           164.04,
           2791.01,
           1368.11,
           1268.7,
           1361.55,
           2978.35,
           5346.13,
           761.48,
           843.18,
           1601.05,
           2900.26,
           2785.43,
           5100.07,
           1509.19,
           1295.93,
           1158.14,
           2835.96,
           2470.47,
           3622.05,
           4120.74,
           3667.98,
           2755.91,
           1291.99,
           3162.73,
           2729.66,
           2024.28,
           1555.12,
           925.2,
           265.75,
           2611.55,
           4327.43,
           1671.26,
           3106.96,
           1656.82,
           1446.85,
           6706.04
          ],
          "coloraxis": "coloraxis",
          "size": [
           1.48,
           2.3,
           2.46,
           2.46,
           1.95,
           0.82,
           2.07,
           1.44,
           1.36,
           1.38,
           2.66,
           1.4,
           1.52,
           3.77,
           2.58,
           3.28,
           1.12,
           1.19,
           1.58,
           1.05,
           3.37,
           1.78,
           0.88,
           3.17,
           3.37,
           1.79,
           2.21,
           1.22,
           1.16,
           8.88,
           3.91,
           1.98,
           4.89,
           1.02,
           2.12,
           2.8,
           1.56,
           1.27,
           3.41,
           1.61,
           1.99,
           2.25,
           3.68,
           3.84,
           1.69,
           8.6,
           9.76,
           1.95,
           1.02,
           2.71,
           4.04,
           2.81,
           3.43,
           0.46,
           1.67,
           2.06,
           3.14,
           5.55,
           2.55,
           0.82,
           2.19,
           2.12,
           1.1,
           3.16,
           1.29,
           2.12,
           2.21,
           1.68,
           6.99,
           3.18,
           3.29,
           1.95,
           0.63,
           2.94,
           2.41,
           3.93,
           1.61,
           1.78,
           2,
           3.79,
           3.41,
           1.23,
           3.89,
           3.04,
           1.91,
           2.37,
           1.69,
           3.76,
           1.52,
           1.92,
           2.09,
           2,
           1.43,
           2.57,
           4.69,
           4.55,
           1.65,
           2.29,
           2.27,
           3.75,
           11.07,
           2.16,
           2.45,
           1.99,
           1.12,
           1.59,
           3.08,
           4.35,
           2.19,
           3.35,
           2.15,
           1.79,
           3.92,
           5.35,
           1.71,
           8.55,
           1.45,
           3.23,
           2.44,
           5.43,
           2.86,
           1.35,
           1.78,
           6.29,
           14.94,
           1.8,
           1.68,
           1.08,
           1.8,
           2.21,
           3.84,
           5.31,
           2.15,
           0.5,
           0.5,
           0.71,
           1.29,
           2.24,
           1.42,
           5.05,
           1.8,
           1.47,
           2.19,
           3.46,
           2.6,
           2.32,
           2.31,
           3.98,
           1.2,
           2.74,
           2.08,
           1.3,
           3.16,
           5.04,
           4.27,
           3.65,
           2.21,
           2.43,
           0.87,
           2.36,
           0.86,
           0.82,
           0.65,
           3.24,
           1.91,
           0.86,
           2,
           4.22,
           2.42,
           4.71,
           2.6,
           3.97,
           2.91,
           9.16,
           3.67,
           1.34,
           1.58,
           1.23,
           2.84,
           2.07,
           2.27,
           2.04,
           3,
           6.28,
           4.04,
           1.92,
           3.72,
           1.3,
           1.07,
           1.52,
           3.81,
           6.8,
           2.07,
           1.17,
           1.94,
           1.49,
           1.87,
           1.34,
           1.8,
           2.15,
           8.46,
           3.19,
           2.31,
           1.16,
           3.58,
           1.48,
           1.09,
           4.78,
           2.66,
           1.75,
           6.06,
           2.26,
           10.93,
           2,
           6.44,
           1.21,
           2.02,
           1.19,
           1.01,
           2.29,
           2.38,
           1.35,
           3.26,
           1.38,
           0.74,
           1.48,
           5.27,
           4.34,
           1.52,
           0.62,
           2.54,
           3.55,
           2.9,
           1.77,
           2.61,
           2.14,
           1.4,
           2.66,
           5.89,
           4.7,
           0.79,
           6.06,
           0.99,
           4.84,
           3.07,
           1.68,
           1.23,
           1.54,
           1.19,
           2.07,
           3.12,
           1.84,
           2.43,
           1.54,
           1.23,
           3.14,
           1.86,
           8.31,
           2.35,
           2.35,
           0.5,
           1.89,
           3.01,
           3.92,
           3.33,
           2.91,
           1.95,
           2.32,
           2.34,
           2.56,
           5.44,
           2.68,
           2.85,
           1.94,
           1.24,
           2.99,
           2.19,
           0.72,
           2.79,
           1.27,
           2.17,
           3.14,
           1.56,
           3.41,
           2.04,
           1.07,
           6.14,
           6.79,
           2.21,
           3.24,
           2,
           3.25,
           2.52,
           1.34,
           2.48,
           9.8,
           1.39,
           0.99,
           0.66,
           1.56,
           1.82,
           1,
           1.17,
           2.21,
           2.39,
           1.38,
           2.13,
           1.11,
           0.57,
           2.26,
           2.95,
           1.64,
           2.22,
           1.91,
           1.79,
           2.72,
           0.83,
           1.61,
           3.94,
           1.93,
           2.17,
           2.59,
           0.33,
           2.46,
           5.49,
           2.35,
           0.93,
           2.81,
           1.42,
           0.63,
           3.14,
           1.79,
           1.23,
           1.88,
           3.08,
           6.75,
           1.55,
           0.78,
           1.8,
           2.16,
           2.4,
           6.5,
           1.83,
           1.75,
           1.33,
           2.23,
           2.48,
           4.72,
           3.15,
           2.76,
           1.13,
           1.89,
           4.65,
           2.01,
           2.62,
           2.08,
           0.94,
           0.73,
           2.41,
           5.39,
           1.48,
           2.73,
           1.44,
           2.34,
           5.48
          ],
          "sizemode": "area",
          "sizeref": 0.03735,
          "symbol": "circle"
         },
         "mode": "markers",
         "name": "",
         "orientation": "v",
         "showlegend": false,
         "type": "scatter",
         "x": [
          "October",
          "May",
          "March",
          "July",
          "January",
          "December",
          "August",
          "September",
          "October",
          "November",
          "May",
          "March",
          "June",
          "July",
          "January",
          "December",
          "August",
          "April",
          "September",
          "October",
          "November",
          "May",
          "March",
          "June",
          "July",
          "January",
          "December",
          "August",
          "April",
          "September",
          "October",
          "November",
          "May",
          "March",
          "June",
          "July",
          "January",
          "February",
          "December",
          "August",
          "April",
          "September",
          "October",
          "November",
          "May",
          "March",
          "June",
          "July",
          "January",
          "February",
          "December",
          "August",
          "April",
          "September",
          "October",
          "November",
          "May",
          "March",
          "June",
          "July",
          "January",
          "February",
          "December",
          "August",
          "April",
          "September",
          "October",
          "November",
          "May",
          "March",
          "June",
          "July",
          "January",
          "February",
          "December",
          "August",
          "April",
          "September",
          "October",
          "November",
          "May",
          "March",
          "June",
          "July",
          "January",
          "February",
          "December",
          "August",
          "April",
          "September",
          "October",
          "November",
          "May",
          "March",
          "June",
          "July",
          "January",
          "February",
          "December",
          "August",
          "April",
          "September",
          "October",
          "November",
          "May",
          "March",
          "June",
          "July",
          "January",
          "February",
          "December",
          "August",
          "April",
          "September",
          "October",
          "November",
          "May",
          "March",
          "June",
          "July",
          "January",
          "February",
          "December",
          "August",
          "April",
          "September",
          "October",
          "November",
          "May",
          "March",
          "June",
          "July",
          "January",
          "February",
          "December",
          "August",
          "April",
          "September",
          "October",
          "November",
          "May",
          "March",
          "June",
          "July",
          "January",
          "February",
          "December",
          "August",
          "April",
          "September",
          "October",
          "November",
          "May",
          "March",
          "June",
          "July",
          "January",
          "February",
          "December",
          "August",
          "April",
          "September",
          "October",
          "November",
          "May",
          "March",
          "June",
          "July",
          "January",
          "February",
          "December",
          "August",
          "April",
          "September",
          "October",
          "November",
          "May",
          "March",
          "June",
          "July",
          "January",
          "February",
          "December",
          "August",
          "April",
          "September",
          "October",
          "November",
          "May",
          "March",
          "June",
          "July",
          "January",
          "February",
          "December",
          "August",
          "April",
          "September",
          "October",
          "November",
          "May",
          "March",
          "June",
          "July",
          "January",
          "February",
          "December",
          "August",
          "April",
          "September",
          "October",
          "November",
          "May",
          "March",
          "June",
          "July",
          "January",
          "February",
          "December",
          "August",
          "April",
          "September",
          "October",
          "November",
          "May",
          "March",
          "June",
          "July",
          "January",
          "February",
          "December",
          "August",
          "April",
          "September",
          "October",
          "November",
          "May",
          "March",
          "June",
          "July",
          "January",
          "February",
          "December",
          "August",
          "April",
          "September",
          "October",
          "November",
          "May",
          "March",
          "June",
          "July",
          "January",
          "February",
          "December",
          "August",
          "April",
          "September",
          "October",
          "November",
          "May",
          "March",
          "June",
          "July",
          "January",
          "February",
          "December",
          "August",
          "April",
          "September",
          "October",
          "November",
          "May",
          "March",
          "June",
          "July",
          "January",
          "February",
          "December",
          "August",
          "April",
          "September",
          "October",
          "November",
          "May",
          "March",
          "June",
          "July",
          "January",
          "February",
          "December",
          "August",
          "April",
          "September",
          "October",
          "November",
          "May",
          "March",
          "June",
          "July",
          "January",
          "February",
          "December",
          "August",
          "April",
          "September",
          "October",
          "November",
          "May",
          "March",
          "June",
          "July",
          "January",
          "February",
          "December",
          "August",
          "April",
          "September",
          "October",
          "November",
          "May",
          "March",
          "June",
          "July",
          "January",
          "February",
          "December",
          "August",
          "April",
          "September",
          "October",
          "November",
          "May",
          "March",
          "June",
          "July",
          "January",
          "February",
          "December",
          "August",
          "April",
          "September",
          "October",
          "November",
          "May",
          "March",
          "June",
          "July",
          "January",
          "February",
          "December",
          "August",
          "April",
          "September",
          "October",
          "November",
          "May",
          "March",
          "June",
          "July",
          "January",
          "February",
          "December",
          "August",
          "April"
         ],
         "xaxis": "x",
         "y": [
          31,
          31,
          31,
          31,
          31,
          31,
          31,
          30,
          30,
          30,
          30,
          30,
          30,
          30,
          30,
          30,
          30,
          30,
          29,
          29,
          29,
          29,
          29,
          29,
          29,
          29,
          29,
          29,
          29,
          28,
          28,
          28,
          28,
          28,
          28,
          28,
          28,
          28,
          28,
          28,
          28,
          27,
          27,
          27,
          27,
          27,
          27,
          27,
          27,
          27,
          27,
          27,
          27,
          26,
          26,
          26,
          26,
          26,
          26,
          26,
          26,
          26,
          26,
          26,
          26,
          25,
          25,
          25,
          25,
          25,
          25,
          25,
          25,
          25,
          25,
          25,
          25,
          24,
          24,
          24,
          24,
          24,
          24,
          24,
          24,
          24,
          24,
          24,
          24,
          23,
          23,
          23,
          23,
          23,
          23,
          23,
          23,
          23,
          23,
          23,
          23,
          22,
          22,
          22,
          22,
          22,
          22,
          22,
          22,
          22,
          22,
          22,
          22,
          21,
          21,
          21,
          21,
          21,
          21,
          21,
          21,
          21,
          21,
          21,
          21,
          20,
          20,
          20,
          20,
          20,
          20,
          20,
          20,
          20,
          20,
          20,
          20,
          19,
          19,
          19,
          19,
          19,
          19,
          19,
          19,
          19,
          19,
          19,
          19,
          18,
          18,
          18,
          18,
          18,
          18,
          18,
          18,
          18,
          18,
          18,
          18,
          17,
          17,
          17,
          17,
          17,
          17,
          17,
          17,
          17,
          17,
          17,
          17,
          16,
          16,
          16,
          16,
          16,
          16,
          16,
          16,
          16,
          16,
          16,
          16,
          15,
          15,
          15,
          15,
          15,
          15,
          15,
          15,
          15,
          15,
          15,
          15,
          14,
          14,
          14,
          14,
          14,
          14,
          14,
          14,
          14,
          14,
          14,
          14,
          13,
          13,
          13,
          13,
          13,
          13,
          13,
          13,
          13,
          13,
          13,
          13,
          12,
          12,
          12,
          12,
          12,
          12,
          12,
          12,
          12,
          12,
          12,
          12,
          11,
          11,
          11,
          11,
          11,
          11,
          11,
          11,
          11,
          11,
          11,
          11,
          10,
          10,
          10,
          10,
          10,
          10,
          10,
          10,
          10,
          10,
          10,
          10,
          9,
          9,
          9,
          9,
          9,
          9,
          9,
          9,
          9,
          9,
          9,
          9,
          8,
          8,
          8,
          8,
          8,
          8,
          8,
          8,
          8,
          8,
          8,
          8,
          7,
          7,
          7,
          7,
          7,
          7,
          7,
          7,
          7,
          7,
          7,
          7,
          6,
          6,
          6,
          6,
          6,
          6,
          6,
          6,
          6,
          6,
          6,
          6,
          5,
          5,
          5,
          5,
          5,
          5,
          5,
          5,
          5,
          5,
          5,
          5,
          4,
          4,
          4,
          4,
          4,
          4,
          4,
          4,
          4,
          4,
          4,
          4,
          3,
          3,
          3,
          3,
          3,
          3,
          3,
          3,
          3,
          3,
          3,
          3,
          2,
          2,
          2,
          2,
          2,
          2,
          2,
          2,
          2,
          2,
          2,
          2,
          1,
          1,
          1,
          1,
          1,
          1,
          1,
          1,
          1,
          1,
          1,
          1
         ],
         "yaxis": "y"
        }
       ],
       "layout": {
        "coloraxis": {
         "colorbar": {
          "title": {
           "text": "total_elevation_gain"
          }
         },
         "colorscale": [
          [
           0,
           "#0d0887"
          ],
          [
           0.1111111111111111,
           "#46039f"
          ],
          [
           0.2222222222222222,
           "#7201a8"
          ],
          [
           0.3333333333333333,
           "#9c179e"
          ],
          [
           0.4444444444444444,
           "#bd3786"
          ],
          [
           0.5555555555555556,
           "#d8576b"
          ],
          [
           0.6666666666666666,
           "#ed7953"
          ],
          [
           0.7777777777777778,
           "#fb9f3a"
          ],
          [
           0.8888888888888888,
           "#fdca26"
          ],
          [
           1,
           "#f0f921"
          ]
         ]
        },
        "legend": {
         "itemsizing": "constant",
         "tracegroupgap": 0
        },
        "margin": {
         "t": 60
        },
        "template": {
         "data": {
          "bar": [
           {
            "error_x": {
             "color": "#2a3f5f"
            },
            "error_y": {
             "color": "#2a3f5f"
            },
            "marker": {
             "line": {
              "color": "#E5ECF6",
              "width": 0.5
             },
             "pattern": {
              "fillmode": "overlay",
              "size": 10,
              "solidity": 0.2
             }
            },
            "type": "bar"
           }
          ],
          "barpolar": [
           {
            "marker": {
             "line": {
              "color": "#E5ECF6",
              "width": 0.5
             },
             "pattern": {
              "fillmode": "overlay",
              "size": 10,
              "solidity": 0.2
             }
            },
            "type": "barpolar"
           }
          ],
          "carpet": [
           {
            "aaxis": {
             "endlinecolor": "#2a3f5f",
             "gridcolor": "white",
             "linecolor": "white",
             "minorgridcolor": "white",
             "startlinecolor": "#2a3f5f"
            },
            "baxis": {
             "endlinecolor": "#2a3f5f",
             "gridcolor": "white",
             "linecolor": "white",
             "minorgridcolor": "white",
             "startlinecolor": "#2a3f5f"
            },
            "type": "carpet"
           }
          ],
          "choropleth": [
           {
            "colorbar": {
             "outlinewidth": 0,
             "ticks": ""
            },
            "type": "choropleth"
           }
          ],
          "contour": [
           {
            "colorbar": {
             "outlinewidth": 0,
             "ticks": ""
            },
            "colorscale": [
             [
              0,
              "#0d0887"
             ],
             [
              0.1111111111111111,
              "#46039f"
             ],
             [
              0.2222222222222222,
              "#7201a8"
             ],
             [
              0.3333333333333333,
              "#9c179e"
             ],
             [
              0.4444444444444444,
              "#bd3786"
             ],
             [
              0.5555555555555556,
              "#d8576b"
             ],
             [
              0.6666666666666666,
              "#ed7953"
             ],
             [
              0.7777777777777778,
              "#fb9f3a"
             ],
             [
              0.8888888888888888,
              "#fdca26"
             ],
             [
              1,
              "#f0f921"
             ]
            ],
            "type": "contour"
           }
          ],
          "contourcarpet": [
           {
            "colorbar": {
             "outlinewidth": 0,
             "ticks": ""
            },
            "type": "contourcarpet"
           }
          ],
          "heatmap": [
           {
            "colorbar": {
             "outlinewidth": 0,
             "ticks": ""
            },
            "colorscale": [
             [
              0,
              "#0d0887"
             ],
             [
              0.1111111111111111,
              "#46039f"
             ],
             [
              0.2222222222222222,
              "#7201a8"
             ],
             [
              0.3333333333333333,
              "#9c179e"
             ],
             [
              0.4444444444444444,
              "#bd3786"
             ],
             [
              0.5555555555555556,
              "#d8576b"
             ],
             [
              0.6666666666666666,
              "#ed7953"
             ],
             [
              0.7777777777777778,
              "#fb9f3a"
             ],
             [
              0.8888888888888888,
              "#fdca26"
             ],
             [
              1,
              "#f0f921"
             ]
            ],
            "type": "heatmap"
           }
          ],
          "heatmapgl": [
           {
            "colorbar": {
             "outlinewidth": 0,
             "ticks": ""
            },
            "colorscale": [
             [
              0,
              "#0d0887"
             ],
             [
              0.1111111111111111,
              "#46039f"
             ],
             [
              0.2222222222222222,
              "#7201a8"
             ],
             [
              0.3333333333333333,
              "#9c179e"
             ],
             [
              0.4444444444444444,
              "#bd3786"
             ],
             [
              0.5555555555555556,
              "#d8576b"
             ],
             [
              0.6666666666666666,
              "#ed7953"
             ],
             [
              0.7777777777777778,
              "#fb9f3a"
             ],
             [
              0.8888888888888888,
              "#fdca26"
             ],
             [
              1,
              "#f0f921"
             ]
            ],
            "type": "heatmapgl"
           }
          ],
          "histogram": [
           {
            "marker": {
             "pattern": {
              "fillmode": "overlay",
              "size": 10,
              "solidity": 0.2
             }
            },
            "type": "histogram"
           }
          ],
          "histogram2d": [
           {
            "colorbar": {
             "outlinewidth": 0,
             "ticks": ""
            },
            "colorscale": [
             [
              0,
              "#0d0887"
             ],
             [
              0.1111111111111111,
              "#46039f"
             ],
             [
              0.2222222222222222,
              "#7201a8"
             ],
             [
              0.3333333333333333,
              "#9c179e"
             ],
             [
              0.4444444444444444,
              "#bd3786"
             ],
             [
              0.5555555555555556,
              "#d8576b"
             ],
             [
              0.6666666666666666,
              "#ed7953"
             ],
             [
              0.7777777777777778,
              "#fb9f3a"
             ],
             [
              0.8888888888888888,
              "#fdca26"
             ],
             [
              1,
              "#f0f921"
             ]
            ],
            "type": "histogram2d"
           }
          ],
          "histogram2dcontour": [
           {
            "colorbar": {
             "outlinewidth": 0,
             "ticks": ""
            },
            "colorscale": [
             [
              0,
              "#0d0887"
             ],
             [
              0.1111111111111111,
              "#46039f"
             ],
             [
              0.2222222222222222,
              "#7201a8"
             ],
             [
              0.3333333333333333,
              "#9c179e"
             ],
             [
              0.4444444444444444,
              "#bd3786"
             ],
             [
              0.5555555555555556,
              "#d8576b"
             ],
             [
              0.6666666666666666,
              "#ed7953"
             ],
             [
              0.7777777777777778,
              "#fb9f3a"
             ],
             [
              0.8888888888888888,
              "#fdca26"
             ],
             [
              1,
              "#f0f921"
             ]
            ],
            "type": "histogram2dcontour"
           }
          ],
          "mesh3d": [
           {
            "colorbar": {
             "outlinewidth": 0,
             "ticks": ""
            },
            "type": "mesh3d"
           }
          ],
          "parcoords": [
           {
            "line": {
             "colorbar": {
              "outlinewidth": 0,
              "ticks": ""
             }
            },
            "type": "parcoords"
           }
          ],
          "pie": [
           {
            "automargin": true,
            "type": "pie"
           }
          ],
          "scatter": [
           {
            "fillpattern": {
             "fillmode": "overlay",
             "size": 10,
             "solidity": 0.2
            },
            "type": "scatter"
           }
          ],
          "scatter3d": [
           {
            "line": {
             "colorbar": {
              "outlinewidth": 0,
              "ticks": ""
             }
            },
            "marker": {
             "colorbar": {
              "outlinewidth": 0,
              "ticks": ""
             }
            },
            "type": "scatter3d"
           }
          ],
          "scattercarpet": [
           {
            "marker": {
             "colorbar": {
              "outlinewidth": 0,
              "ticks": ""
             }
            },
            "type": "scattercarpet"
           }
          ],
          "scattergeo": [
           {
            "marker": {
             "colorbar": {
              "outlinewidth": 0,
              "ticks": ""
             }
            },
            "type": "scattergeo"
           }
          ],
          "scattergl": [
           {
            "marker": {
             "colorbar": {
              "outlinewidth": 0,
              "ticks": ""
             }
            },
            "type": "scattergl"
           }
          ],
          "scattermapbox": [
           {
            "marker": {
             "colorbar": {
              "outlinewidth": 0,
              "ticks": ""
             }
            },
            "type": "scattermapbox"
           }
          ],
          "scatterpolar": [
           {
            "marker": {
             "colorbar": {
              "outlinewidth": 0,
              "ticks": ""
             }
            },
            "type": "scatterpolar"
           }
          ],
          "scatterpolargl": [
           {
            "marker": {
             "colorbar": {
              "outlinewidth": 0,
              "ticks": ""
             }
            },
            "type": "scatterpolargl"
           }
          ],
          "scatterternary": [
           {
            "marker": {
             "colorbar": {
              "outlinewidth": 0,
              "ticks": ""
             }
            },
            "type": "scatterternary"
           }
          ],
          "surface": [
           {
            "colorbar": {
             "outlinewidth": 0,
             "ticks": ""
            },
            "colorscale": [
             [
              0,
              "#0d0887"
             ],
             [
              0.1111111111111111,
              "#46039f"
             ],
             [
              0.2222222222222222,
              "#7201a8"
             ],
             [
              0.3333333333333333,
              "#9c179e"
             ],
             [
              0.4444444444444444,
              "#bd3786"
             ],
             [
              0.5555555555555556,
              "#d8576b"
             ],
             [
              0.6666666666666666,
              "#ed7953"
             ],
             [
              0.7777777777777778,
              "#fb9f3a"
             ],
             [
              0.8888888888888888,
              "#fdca26"
             ],
             [
              1,
              "#f0f921"
             ]
            ],
            "type": "surface"
           }
          ],
          "table": [
           {
            "cells": {
             "fill": {
              "color": "#EBF0F8"
             },
             "line": {
              "color": "white"
             }
            },
            "header": {
             "fill": {
              "color": "#C8D4E3"
             },
             "line": {
              "color": "white"
             }
            },
            "type": "table"
           }
          ]
         },
         "layout": {
          "annotationdefaults": {
           "arrowcolor": "#2a3f5f",
           "arrowhead": 0,
           "arrowwidth": 1
          },
          "autotypenumbers": "strict",
          "coloraxis": {
           "colorbar": {
            "outlinewidth": 0,
            "ticks": ""
           }
          },
          "colorscale": {
           "diverging": [
            [
             0,
             "#8e0152"
            ],
            [
             0.1,
             "#c51b7d"
            ],
            [
             0.2,
             "#de77ae"
            ],
            [
             0.3,
             "#f1b6da"
            ],
            [
             0.4,
             "#fde0ef"
            ],
            [
             0.5,
             "#f7f7f7"
            ],
            [
             0.6,
             "#e6f5d0"
            ],
            [
             0.7,
             "#b8e186"
            ],
            [
             0.8,
             "#7fbc41"
            ],
            [
             0.9,
             "#4d9221"
            ],
            [
             1,
             "#276419"
            ]
           ],
           "sequential": [
            [
             0,
             "#0d0887"
            ],
            [
             0.1111111111111111,
             "#46039f"
            ],
            [
             0.2222222222222222,
             "#7201a8"
            ],
            [
             0.3333333333333333,
             "#9c179e"
            ],
            [
             0.4444444444444444,
             "#bd3786"
            ],
            [
             0.5555555555555556,
             "#d8576b"
            ],
            [
             0.6666666666666666,
             "#ed7953"
            ],
            [
             0.7777777777777778,
             "#fb9f3a"
            ],
            [
             0.8888888888888888,
             "#fdca26"
            ],
            [
             1,
             "#f0f921"
            ]
           ],
           "sequentialminus": [
            [
             0,
             "#0d0887"
            ],
            [
             0.1111111111111111,
             "#46039f"
            ],
            [
             0.2222222222222222,
             "#7201a8"
            ],
            [
             0.3333333333333333,
             "#9c179e"
            ],
            [
             0.4444444444444444,
             "#bd3786"
            ],
            [
             0.5555555555555556,
             "#d8576b"
            ],
            [
             0.6666666666666666,
             "#ed7953"
            ],
            [
             0.7777777777777778,
             "#fb9f3a"
            ],
            [
             0.8888888888888888,
             "#fdca26"
            ],
            [
             1,
             "#f0f921"
            ]
           ]
          },
          "colorway": [
           "#636efa",
           "#EF553B",
           "#00cc96",
           "#ab63fa",
           "#FFA15A",
           "#19d3f3",
           "#FF6692",
           "#B6E880",
           "#FF97FF",
           "#FECB52"
          ],
          "font": {
           "color": "#2a3f5f"
          },
          "geo": {
           "bgcolor": "white",
           "lakecolor": "white",
           "landcolor": "#E5ECF6",
           "showlakes": true,
           "showland": true,
           "subunitcolor": "white"
          },
          "hoverlabel": {
           "align": "left"
          },
          "hovermode": "closest",
          "mapbox": {
           "style": "light"
          },
          "paper_bgcolor": "white",
          "plot_bgcolor": "#E5ECF6",
          "polar": {
           "angularaxis": {
            "gridcolor": "white",
            "linecolor": "white",
            "ticks": ""
           },
           "bgcolor": "#E5ECF6",
           "radialaxis": {
            "gridcolor": "white",
            "linecolor": "white",
            "ticks": ""
           }
          },
          "scene": {
           "xaxis": {
            "backgroundcolor": "#E5ECF6",
            "gridcolor": "white",
            "gridwidth": 2,
            "linecolor": "white",
            "showbackground": true,
            "ticks": "",
            "zerolinecolor": "white"
           },
           "yaxis": {
            "backgroundcolor": "#E5ECF6",
            "gridcolor": "white",
            "gridwidth": 2,
            "linecolor": "white",
            "showbackground": true,
            "ticks": "",
            "zerolinecolor": "white"
           },
           "zaxis": {
            "backgroundcolor": "#E5ECF6",
            "gridcolor": "white",
            "gridwidth": 2,
            "linecolor": "white",
            "showbackground": true,
            "ticks": "",
            "zerolinecolor": "white"
           }
          },
          "shapedefaults": {
           "line": {
            "color": "#2a3f5f"
           }
          },
          "ternary": {
           "aaxis": {
            "gridcolor": "white",
            "linecolor": "white",
            "ticks": ""
           },
           "baxis": {
            "gridcolor": "white",
            "linecolor": "white",
            "ticks": ""
           },
           "bgcolor": "#E5ECF6",
           "caxis": {
            "gridcolor": "white",
            "linecolor": "white",
            "ticks": ""
           }
          },
          "title": {
           "x": 0.05
          },
          "xaxis": {
           "automargin": true,
           "gridcolor": "white",
           "linecolor": "white",
           "ticks": "",
           "title": {
            "standoff": 15
           },
           "zerolinecolor": "white",
           "zerolinewidth": 2
          },
          "yaxis": {
           "automargin": true,
           "gridcolor": "white",
           "linecolor": "white",
           "ticks": "",
           "title": {
            "standoff": 15
           },
           "zerolinecolor": "white",
           "zerolinewidth": 2
          }
         }
        },
        "xaxis": {
         "anchor": "y",
         "categoryarray": [
          "January",
          "February",
          "March",
          "April",
          "May",
          "June",
          "July",
          "August",
          "September",
          "October",
          "November",
          "December"
         ],
         "categoryorder": "array",
         "domain": [
          0,
          1
         ],
         "title": {
          "text": "month"
         }
        },
        "yaxis": {
         "anchor": "x",
         "domain": [
          0,
          1
         ],
         "title": {
          "text": "day_of_month"
         }
        }
       }
      }
     },
     "metadata": {},
     "output_type": "display_data"
    }
   ],
   "source": [
    "max_vert_scatter_plot(df)"
   ]
  },
  {
   "cell_type": "code",
   "execution_count": 295,
   "metadata": {},
   "outputs": [
    {
     "data": {
      "application/vnd.plotly.v1+json": {
       "config": {
        "plotlyServerURL": "https://plot.ly"
       },
       "data": [
        {
         "alignmentgroup": "True",
         "hovertemplate": "week=%{x}<br>hours=%{y}<extra></extra>",
         "legendgroup": "",
         "marker": {
          "color": "#636efa",
          "pattern": {
           "shape": ""
          }
         },
         "name": "",
         "offsetgroup": "",
         "orientation": "v",
         "showlegend": false,
         "textposition": "auto",
         "type": "bar",
         "x": [
          0,
          1,
          2,
          3,
          4,
          5,
          6,
          7,
          8,
          9,
          10,
          11,
          12,
          13,
          14,
          15,
          16,
          17,
          18,
          19,
          20,
          21,
          22,
          23,
          24,
          25,
          26,
          27,
          28,
          29,
          30,
          31,
          32,
          33,
          34,
          35,
          36,
          37,
          38,
          39,
          40,
          41,
          42,
          43,
          44,
          45,
          46,
          47,
          48,
          49,
          50,
          51,
          52
         ],
         "xaxis": "x",
         "y": [
          1.36,
          5.81,
          10.11,
          10.41,
          7.75,
          12.96,
          11.469999999999999,
          12.84,
          6.77,
          9.94,
          6.550000000000001,
          9.48,
          7.8,
          13.620000000000001,
          9.47,
          11.15,
          6.96,
          9.59,
          4.78,
          11.799999999999999,
          2.07,
          9.7,
          9.97,
          5.5,
          15.35,
          8.17,
          14.969999999999999,
          7.96,
          11.43,
          6.55,
          5.43,
          16.18,
          1.4100000000000001,
          11.03,
          9.48,
          11.77,
          11.5,
          1.37,
          8.32,
          7.75,
          10.73,
          11.39,
          4.05,
          9.67,
          6.49,
          7.54,
          3.8699999999999997,
          7.85,
          10.15,
          7.73,
          6.21,
          6.7299999999999995,
          7.67
         ],
         "yaxis": "y"
        }
       ],
       "layout": {
        "barmode": "relative",
        "legend": {
         "tracegroupgap": 0
        },
        "template": {
         "data": {
          "bar": [
           {
            "error_x": {
             "color": "#2a3f5f"
            },
            "error_y": {
             "color": "#2a3f5f"
            },
            "marker": {
             "line": {
              "color": "#E5ECF6",
              "width": 0.5
             },
             "pattern": {
              "fillmode": "overlay",
              "size": 10,
              "solidity": 0.2
             }
            },
            "type": "bar"
           }
          ],
          "barpolar": [
           {
            "marker": {
             "line": {
              "color": "#E5ECF6",
              "width": 0.5
             },
             "pattern": {
              "fillmode": "overlay",
              "size": 10,
              "solidity": 0.2
             }
            },
            "type": "barpolar"
           }
          ],
          "carpet": [
           {
            "aaxis": {
             "endlinecolor": "#2a3f5f",
             "gridcolor": "white",
             "linecolor": "white",
             "minorgridcolor": "white",
             "startlinecolor": "#2a3f5f"
            },
            "baxis": {
             "endlinecolor": "#2a3f5f",
             "gridcolor": "white",
             "linecolor": "white",
             "minorgridcolor": "white",
             "startlinecolor": "#2a3f5f"
            },
            "type": "carpet"
           }
          ],
          "choropleth": [
           {
            "colorbar": {
             "outlinewidth": 0,
             "ticks": ""
            },
            "type": "choropleth"
           }
          ],
          "contour": [
           {
            "colorbar": {
             "outlinewidth": 0,
             "ticks": ""
            },
            "colorscale": [
             [
              0,
              "#0d0887"
             ],
             [
              0.1111111111111111,
              "#46039f"
             ],
             [
              0.2222222222222222,
              "#7201a8"
             ],
             [
              0.3333333333333333,
              "#9c179e"
             ],
             [
              0.4444444444444444,
              "#bd3786"
             ],
             [
              0.5555555555555556,
              "#d8576b"
             ],
             [
              0.6666666666666666,
              "#ed7953"
             ],
             [
              0.7777777777777778,
              "#fb9f3a"
             ],
             [
              0.8888888888888888,
              "#fdca26"
             ],
             [
              1,
              "#f0f921"
             ]
            ],
            "type": "contour"
           }
          ],
          "contourcarpet": [
           {
            "colorbar": {
             "outlinewidth": 0,
             "ticks": ""
            },
            "type": "contourcarpet"
           }
          ],
          "heatmap": [
           {
            "colorbar": {
             "outlinewidth": 0,
             "ticks": ""
            },
            "colorscale": [
             [
              0,
              "#0d0887"
             ],
             [
              0.1111111111111111,
              "#46039f"
             ],
             [
              0.2222222222222222,
              "#7201a8"
             ],
             [
              0.3333333333333333,
              "#9c179e"
             ],
             [
              0.4444444444444444,
              "#bd3786"
             ],
             [
              0.5555555555555556,
              "#d8576b"
             ],
             [
              0.6666666666666666,
              "#ed7953"
             ],
             [
              0.7777777777777778,
              "#fb9f3a"
             ],
             [
              0.8888888888888888,
              "#fdca26"
             ],
             [
              1,
              "#f0f921"
             ]
            ],
            "type": "heatmap"
           }
          ],
          "heatmapgl": [
           {
            "colorbar": {
             "outlinewidth": 0,
             "ticks": ""
            },
            "colorscale": [
             [
              0,
              "#0d0887"
             ],
             [
              0.1111111111111111,
              "#46039f"
             ],
             [
              0.2222222222222222,
              "#7201a8"
             ],
             [
              0.3333333333333333,
              "#9c179e"
             ],
             [
              0.4444444444444444,
              "#bd3786"
             ],
             [
              0.5555555555555556,
              "#d8576b"
             ],
             [
              0.6666666666666666,
              "#ed7953"
             ],
             [
              0.7777777777777778,
              "#fb9f3a"
             ],
             [
              0.8888888888888888,
              "#fdca26"
             ],
             [
              1,
              "#f0f921"
             ]
            ],
            "type": "heatmapgl"
           }
          ],
          "histogram": [
           {
            "marker": {
             "pattern": {
              "fillmode": "overlay",
              "size": 10,
              "solidity": 0.2
             }
            },
            "type": "histogram"
           }
          ],
          "histogram2d": [
           {
            "colorbar": {
             "outlinewidth": 0,
             "ticks": ""
            },
            "colorscale": [
             [
              0,
              "#0d0887"
             ],
             [
              0.1111111111111111,
              "#46039f"
             ],
             [
              0.2222222222222222,
              "#7201a8"
             ],
             [
              0.3333333333333333,
              "#9c179e"
             ],
             [
              0.4444444444444444,
              "#bd3786"
             ],
             [
              0.5555555555555556,
              "#d8576b"
             ],
             [
              0.6666666666666666,
              "#ed7953"
             ],
             [
              0.7777777777777778,
              "#fb9f3a"
             ],
             [
              0.8888888888888888,
              "#fdca26"
             ],
             [
              1,
              "#f0f921"
             ]
            ],
            "type": "histogram2d"
           }
          ],
          "histogram2dcontour": [
           {
            "colorbar": {
             "outlinewidth": 0,
             "ticks": ""
            },
            "colorscale": [
             [
              0,
              "#0d0887"
             ],
             [
              0.1111111111111111,
              "#46039f"
             ],
             [
              0.2222222222222222,
              "#7201a8"
             ],
             [
              0.3333333333333333,
              "#9c179e"
             ],
             [
              0.4444444444444444,
              "#bd3786"
             ],
             [
              0.5555555555555556,
              "#d8576b"
             ],
             [
              0.6666666666666666,
              "#ed7953"
             ],
             [
              0.7777777777777778,
              "#fb9f3a"
             ],
             [
              0.8888888888888888,
              "#fdca26"
             ],
             [
              1,
              "#f0f921"
             ]
            ],
            "type": "histogram2dcontour"
           }
          ],
          "mesh3d": [
           {
            "colorbar": {
             "outlinewidth": 0,
             "ticks": ""
            },
            "type": "mesh3d"
           }
          ],
          "parcoords": [
           {
            "line": {
             "colorbar": {
              "outlinewidth": 0,
              "ticks": ""
             }
            },
            "type": "parcoords"
           }
          ],
          "pie": [
           {
            "automargin": true,
            "type": "pie"
           }
          ],
          "scatter": [
           {
            "fillpattern": {
             "fillmode": "overlay",
             "size": 10,
             "solidity": 0.2
            },
            "type": "scatter"
           }
          ],
          "scatter3d": [
           {
            "line": {
             "colorbar": {
              "outlinewidth": 0,
              "ticks": ""
             }
            },
            "marker": {
             "colorbar": {
              "outlinewidth": 0,
              "ticks": ""
             }
            },
            "type": "scatter3d"
           }
          ],
          "scattercarpet": [
           {
            "marker": {
             "colorbar": {
              "outlinewidth": 0,
              "ticks": ""
             }
            },
            "type": "scattercarpet"
           }
          ],
          "scattergeo": [
           {
            "marker": {
             "colorbar": {
              "outlinewidth": 0,
              "ticks": ""
             }
            },
            "type": "scattergeo"
           }
          ],
          "scattergl": [
           {
            "marker": {
             "colorbar": {
              "outlinewidth": 0,
              "ticks": ""
             }
            },
            "type": "scattergl"
           }
          ],
          "scattermapbox": [
           {
            "marker": {
             "colorbar": {
              "outlinewidth": 0,
              "ticks": ""
             }
            },
            "type": "scattermapbox"
           }
          ],
          "scatterpolar": [
           {
            "marker": {
             "colorbar": {
              "outlinewidth": 0,
              "ticks": ""
             }
            },
            "type": "scatterpolar"
           }
          ],
          "scatterpolargl": [
           {
            "marker": {
             "colorbar": {
              "outlinewidth": 0,
              "ticks": ""
             }
            },
            "type": "scatterpolargl"
           }
          ],
          "scatterternary": [
           {
            "marker": {
             "colorbar": {
              "outlinewidth": 0,
              "ticks": ""
             }
            },
            "type": "scatterternary"
           }
          ],
          "surface": [
           {
            "colorbar": {
             "outlinewidth": 0,
             "ticks": ""
            },
            "colorscale": [
             [
              0,
              "#0d0887"
             ],
             [
              0.1111111111111111,
              "#46039f"
             ],
             [
              0.2222222222222222,
              "#7201a8"
             ],
             [
              0.3333333333333333,
              "#9c179e"
             ],
             [
              0.4444444444444444,
              "#bd3786"
             ],
             [
              0.5555555555555556,
              "#d8576b"
             ],
             [
              0.6666666666666666,
              "#ed7953"
             ],
             [
              0.7777777777777778,
              "#fb9f3a"
             ],
             [
              0.8888888888888888,
              "#fdca26"
             ],
             [
              1,
              "#f0f921"
             ]
            ],
            "type": "surface"
           }
          ],
          "table": [
           {
            "cells": {
             "fill": {
              "color": "#EBF0F8"
             },
             "line": {
              "color": "white"
             }
            },
            "header": {
             "fill": {
              "color": "#C8D4E3"
             },
             "line": {
              "color": "white"
             }
            },
            "type": "table"
           }
          ]
         },
         "layout": {
          "annotationdefaults": {
           "arrowcolor": "#2a3f5f",
           "arrowhead": 0,
           "arrowwidth": 1
          },
          "autotypenumbers": "strict",
          "coloraxis": {
           "colorbar": {
            "outlinewidth": 0,
            "ticks": ""
           }
          },
          "colorscale": {
           "diverging": [
            [
             0,
             "#8e0152"
            ],
            [
             0.1,
             "#c51b7d"
            ],
            [
             0.2,
             "#de77ae"
            ],
            [
             0.3,
             "#f1b6da"
            ],
            [
             0.4,
             "#fde0ef"
            ],
            [
             0.5,
             "#f7f7f7"
            ],
            [
             0.6,
             "#e6f5d0"
            ],
            [
             0.7,
             "#b8e186"
            ],
            [
             0.8,
             "#7fbc41"
            ],
            [
             0.9,
             "#4d9221"
            ],
            [
             1,
             "#276419"
            ]
           ],
           "sequential": [
            [
             0,
             "#0d0887"
            ],
            [
             0.1111111111111111,
             "#46039f"
            ],
            [
             0.2222222222222222,
             "#7201a8"
            ],
            [
             0.3333333333333333,
             "#9c179e"
            ],
            [
             0.4444444444444444,
             "#bd3786"
            ],
            [
             0.5555555555555556,
             "#d8576b"
            ],
            [
             0.6666666666666666,
             "#ed7953"
            ],
            [
             0.7777777777777778,
             "#fb9f3a"
            ],
            [
             0.8888888888888888,
             "#fdca26"
            ],
            [
             1,
             "#f0f921"
            ]
           ],
           "sequentialminus": [
            [
             0,
             "#0d0887"
            ],
            [
             0.1111111111111111,
             "#46039f"
            ],
            [
             0.2222222222222222,
             "#7201a8"
            ],
            [
             0.3333333333333333,
             "#9c179e"
            ],
            [
             0.4444444444444444,
             "#bd3786"
            ],
            [
             0.5555555555555556,
             "#d8576b"
            ],
            [
             0.6666666666666666,
             "#ed7953"
            ],
            [
             0.7777777777777778,
             "#fb9f3a"
            ],
            [
             0.8888888888888888,
             "#fdca26"
            ],
            [
             1,
             "#f0f921"
            ]
           ]
          },
          "colorway": [
           "#636efa",
           "#EF553B",
           "#00cc96",
           "#ab63fa",
           "#FFA15A",
           "#19d3f3",
           "#FF6692",
           "#B6E880",
           "#FF97FF",
           "#FECB52"
          ],
          "font": {
           "color": "#2a3f5f"
          },
          "geo": {
           "bgcolor": "white",
           "lakecolor": "white",
           "landcolor": "#E5ECF6",
           "showlakes": true,
           "showland": true,
           "subunitcolor": "white"
          },
          "hoverlabel": {
           "align": "left"
          },
          "hovermode": "closest",
          "mapbox": {
           "style": "light"
          },
          "paper_bgcolor": "white",
          "plot_bgcolor": "#E5ECF6",
          "polar": {
           "angularaxis": {
            "gridcolor": "white",
            "linecolor": "white",
            "ticks": ""
           },
           "bgcolor": "#E5ECF6",
           "radialaxis": {
            "gridcolor": "white",
            "linecolor": "white",
            "ticks": ""
           }
          },
          "scene": {
           "xaxis": {
            "backgroundcolor": "#E5ECF6",
            "gridcolor": "white",
            "gridwidth": 2,
            "linecolor": "white",
            "showbackground": true,
            "ticks": "",
            "zerolinecolor": "white"
           },
           "yaxis": {
            "backgroundcolor": "#E5ECF6",
            "gridcolor": "white",
            "gridwidth": 2,
            "linecolor": "white",
            "showbackground": true,
            "ticks": "",
            "zerolinecolor": "white"
           },
           "zaxis": {
            "backgroundcolor": "#E5ECF6",
            "gridcolor": "white",
            "gridwidth": 2,
            "linecolor": "white",
            "showbackground": true,
            "ticks": "",
            "zerolinecolor": "white"
           }
          },
          "shapedefaults": {
           "line": {
            "color": "#2a3f5f"
           }
          },
          "ternary": {
           "aaxis": {
            "gridcolor": "white",
            "linecolor": "white",
            "ticks": ""
           },
           "baxis": {
            "gridcolor": "white",
            "linecolor": "white",
            "ticks": ""
           },
           "bgcolor": "#E5ECF6",
           "caxis": {
            "gridcolor": "white",
            "linecolor": "white",
            "ticks": ""
           }
          },
          "title": {
           "x": 0.05
          },
          "xaxis": {
           "automargin": true,
           "gridcolor": "white",
           "linecolor": "white",
           "ticks": "",
           "title": {
            "standoff": 15
           },
           "zerolinecolor": "white",
           "zerolinewidth": 2
          },
          "yaxis": {
           "automargin": true,
           "gridcolor": "white",
           "linecolor": "white",
           "ticks": "",
           "title": {
            "standoff": 15
           },
           "zerolinecolor": "white",
           "zerolinewidth": 2
          }
         }
        },
        "title": {
         "text": "Aerobic Training Time 2017"
        },
        "xaxis": {
         "anchor": "y",
         "domain": [
          0,
          1
         ],
         "title": {
          "text": "week"
         }
        },
        "yaxis": {
         "anchor": "x",
         "domain": [
          0,
          1
         ],
         "title": {
          "text": "hours"
         }
        }
       }
      }
     },
     "metadata": {},
     "output_type": "display_data"
    }
   ],
   "source": [
    "# Bar chart of aerobic time x week x year\n",
    "grouped_yr = df.loc[(~df.type.isin(omit_types)) & (df.year == 2017)].groupby(['week']).agg({'hours': 'sum'}).sort_values(by='week').reset_index()\n",
    "time_x_week_x_year_bar = px.bar(grouped_yr,\n",
    "                          x=\"week\",\n",
    "                          y=\"hours\",\n",
    "                          title='Aerobic Training Time 2017'\n",
    "                         )\n",
    "\n",
    "time_x_week_x_year_bar.show()"
   ]
  },
  {
   "cell_type": "code",
   "execution_count": null,
   "metadata": {},
   "outputs": [],
   "source": []
  }
 ],
 "metadata": {
  "kernelspec": {
   "display_name": "Python 3.10.6 64-bit",
   "language": "python",
   "name": "python3"
  },
  "language_info": {
   "codemirror_mode": {
    "name": "ipython",
    "version": 3
   },
   "file_extension": ".py",
   "mimetype": "text/x-python",
   "name": "python",
   "nbconvert_exporter": "python",
   "pygments_lexer": "ipython3",
   "version": "3.10.6"
  },
  "orig_nbformat": 4,
  "vscode": {
   "interpreter": {
    "hash": "93028d5495cf3fdad3791cfb45569ed1ffef5b94a8e8037ba1bdda77d837769f"
   }
  }
 },
 "nbformat": 4,
 "nbformat_minor": 2
}
