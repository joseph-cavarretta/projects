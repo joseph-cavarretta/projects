{
 "cells": [
  {
   "cell_type": "code",
   "execution_count": 158,
   "metadata": {},
   "outputs": [],
   "source": [
    "import pandas as pd\n",
    "import plotly.express as px\n",
    "import plotly.graph_objects as go"
   ]
  },
  {
   "cell_type": "code",
   "execution_count": 159,
   "metadata": {},
   "outputs": [],
   "source": [
    "df = pd.read_csv('data/processed_activities.csv')\n",
    "# types to not want to include in rankings for distance and elevation\n",
    "omit_types = ['AlpineSki', 'WeightTraining', 'Swim', 'Workout', 'RockClimbing', 'Elliptical']\n",
    "aerobic_types = []"
   ]
  },
  {
   "cell_type": "code",
   "execution_count": 160,
   "metadata": {},
   "outputs": [
    {
     "data": {
      "text/html": [
       "<div>\n",
       "<style scoped>\n",
       "    .dataframe tbody tr th:only-of-type {\n",
       "        vertical-align: middle;\n",
       "    }\n",
       "\n",
       "    .dataframe tbody tr th {\n",
       "        vertical-align: top;\n",
       "    }\n",
       "\n",
       "    .dataframe thead th {\n",
       "        text-align: right;\n",
       "    }\n",
       "</style>\n",
       "<table border=\"1\" class=\"dataframe\">\n",
       "  <thead>\n",
       "    <tr style=\"text-align: right;\">\n",
       "      <th></th>\n",
       "      <th>name</th>\n",
       "      <th>type</th>\n",
       "      <th>start_date_local</th>\n",
       "      <th>total_elevation_gain</th>\n",
       "    </tr>\n",
       "  </thead>\n",
       "  <tbody>\n",
       "    <tr>\n",
       "      <th>1278</th>\n",
       "      <td>Grand Canyon R3</td>\n",
       "      <td>Run</td>\n",
       "      <td>2018-04-21</td>\n",
       "      <td>11538.71</td>\n",
       "    </tr>\n",
       "    <tr>\n",
       "      <th>606</th>\n",
       "      <td>Belford &amp; Oxford</td>\n",
       "      <td>Run</td>\n",
       "      <td>2020-06-07</td>\n",
       "      <td>8881.23</td>\n",
       "    </tr>\n",
       "    <tr>\n",
       "      <th>500</th>\n",
       "      <td>Bear Peak x3</td>\n",
       "      <td>Run</td>\n",
       "      <td>2020-11-21</td>\n",
       "      <td>8215.22</td>\n",
       "    </tr>\n",
       "    <tr>\n",
       "      <th>1138</th>\n",
       "      <td>The Bear 50k!</td>\n",
       "      <td>Run</td>\n",
       "      <td>2018-09-28</td>\n",
       "      <td>7742.78</td>\n",
       "    </tr>\n",
       "    <tr>\n",
       "      <th>1840</th>\n",
       "      <td>Hyner 50k</td>\n",
       "      <td>Run</td>\n",
       "      <td>2016-04-23</td>\n",
       "      <td>7437.66</td>\n",
       "    </tr>\n",
       "    <tr>\n",
       "      <th>1488</th>\n",
       "      <td>Pikes Peak Ascent</td>\n",
       "      <td>Run</td>\n",
       "      <td>2017-08-19</td>\n",
       "      <td>7089.90</td>\n",
       "    </tr>\n",
       "    <tr>\n",
       "      <th>1292</th>\n",
       "      <td>Sanitas x5</td>\n",
       "      <td>Run</td>\n",
       "      <td>2018-04-01</td>\n",
       "      <td>6706.04</td>\n",
       "    </tr>\n",
       "    <tr>\n",
       "      <th>1565</th>\n",
       "      <td>Mudfest #2 on the GRT. Redeemed!</td>\n",
       "      <td>Run</td>\n",
       "      <td>2017-05-13</td>\n",
       "      <td>6574.80</td>\n",
       "    </tr>\n",
       "    <tr>\n",
       "      <th>612</th>\n",
       "      <td>Goat Trail via Skyline</td>\n",
       "      <td>Run</td>\n",
       "      <td>2020-05-25</td>\n",
       "      <td>6236.88</td>\n",
       "    </tr>\n",
       "    <tr>\n",
       "      <th>506</th>\n",
       "      <td>Skyline</td>\n",
       "      <td>Run</td>\n",
       "      <td>2020-11-06</td>\n",
       "      <td>6184.38</td>\n",
       "    </tr>\n",
       "  </tbody>\n",
       "</table>\n",
       "</div>"
      ],
      "text/plain": [
       "                                  name type start_date_local  \\\n",
       "1278                   Grand Canyon R3  Run       2018-04-21   \n",
       "606                   Belford & Oxford  Run       2020-06-07   \n",
       "500                       Bear Peak x3  Run       2020-11-21   \n",
       "1138                     The Bear 50k!  Run       2018-09-28   \n",
       "1840                         Hyner 50k  Run       2016-04-23   \n",
       "1488                 Pikes Peak Ascent  Run       2017-08-19   \n",
       "1292                        Sanitas x5  Run       2018-04-01   \n",
       "1565  Mudfest #2 on the GRT. Redeemed!  Run       2017-05-13   \n",
       "612             Goat Trail via Skyline  Run       2020-05-25   \n",
       "506                            Skyline  Run       2020-11-06   \n",
       "\n",
       "      total_elevation_gain  \n",
       "1278              11538.71  \n",
       "606                8881.23  \n",
       "500                8215.22  \n",
       "1138               7742.78  \n",
       "1840               7437.66  \n",
       "1488               7089.90  \n",
       "1292               6706.04  \n",
       "1565               6574.80  \n",
       "612                6236.88  \n",
       "506                6184.38  "
      ]
     },
     "execution_count": 160,
     "metadata": {},
     "output_type": "execute_result"
    }
   ],
   "source": [
    "# Top 10 elevation overall\n",
    "cols = ['name', 'type', 'start_date_local', 'total_elevation_gain']\n",
    "df.loc[~df.type.isin(omit_types), cols].sort_values(by='total_elevation_gain', ascending=False).head(10)"
   ]
  },
  {
   "cell_type": "code",
   "execution_count": 161,
   "metadata": {},
   "outputs": [
    {
     "data": {
      "text/html": [
       "<div>\n",
       "<style scoped>\n",
       "    .dataframe tbody tr th:only-of-type {\n",
       "        vertical-align: middle;\n",
       "    }\n",
       "\n",
       "    .dataframe tbody tr th {\n",
       "        vertical-align: top;\n",
       "    }\n",
       "\n",
       "    .dataframe thead th {\n",
       "        text-align: right;\n",
       "    }\n",
       "</style>\n",
       "<table border=\"1\" class=\"dataframe\">\n",
       "  <thead>\n",
       "    <tr style=\"text-align: right;\">\n",
       "      <th></th>\n",
       "      <th>name</th>\n",
       "      <th>type</th>\n",
       "      <th>start_date_local</th>\n",
       "      <th>miles</th>\n",
       "    </tr>\n",
       "  </thead>\n",
       "  <tbody>\n",
       "    <tr>\n",
       "      <th>1565</th>\n",
       "      <td>Mudfest #2 on the GRT. Redeemed!</td>\n",
       "      <td>Run</td>\n",
       "      <td>2017-05-13</td>\n",
       "      <td>49.55</td>\n",
       "    </tr>\n",
       "    <tr>\n",
       "      <th>1278</th>\n",
       "      <td>Grand Canyon R3</td>\n",
       "      <td>Run</td>\n",
       "      <td>2018-04-21</td>\n",
       "      <td>47.09</td>\n",
       "    </tr>\n",
       "    <tr>\n",
       "      <th>1835</th>\n",
       "      <td>GRT 50Mile. DNF'D at mile 40 due to injury.</td>\n",
       "      <td>Run</td>\n",
       "      <td>2016-05-14</td>\n",
       "      <td>39.16</td>\n",
       "    </tr>\n",
       "    <tr>\n",
       "      <th>1474</th>\n",
       "      <td>Crested Butte Ultra. Body quit. Brain did not.</td>\n",
       "      <td>Run</td>\n",
       "      <td>2017-09-09</td>\n",
       "      <td>35.19</td>\n",
       "    </tr>\n",
       "    <tr>\n",
       "      <th>1138</th>\n",
       "      <td>The Bear 50k!</td>\n",
       "      <td>Run</td>\n",
       "      <td>2018-09-28</td>\n",
       "      <td>30.05</td>\n",
       "    </tr>\n",
       "    <tr>\n",
       "      <th>1840</th>\n",
       "      <td>Hyner 50k</td>\n",
       "      <td>Run</td>\n",
       "      <td>2016-04-23</td>\n",
       "      <td>29.66</td>\n",
       "    </tr>\n",
       "    <tr>\n",
       "      <th>1727</th>\n",
       "      <td>Moab 50K.</td>\n",
       "      <td>Run</td>\n",
       "      <td>2016-11-19</td>\n",
       "      <td>29.35</td>\n",
       "    </tr>\n",
       "    <tr>\n",
       "      <th>1853</th>\n",
       "      <td>Morning Run</td>\n",
       "      <td>Run</td>\n",
       "      <td>2016-03-26</td>\n",
       "      <td>24.00</td>\n",
       "    </tr>\n",
       "    <tr>\n",
       "      <th>1779</th>\n",
       "      <td>RRR pacing Tomas</td>\n",
       "      <td>Run</td>\n",
       "      <td>2016-09-16</td>\n",
       "      <td>21.28</td>\n",
       "    </tr>\n",
       "    <tr>\n",
       "      <th>1579</th>\n",
       "      <td>Gold Hill. In honor of Hyner.</td>\n",
       "      <td>Run</td>\n",
       "      <td>2017-04-22</td>\n",
       "      <td>21.02</td>\n",
       "    </tr>\n",
       "  </tbody>\n",
       "</table>\n",
       "</div>"
      ],
      "text/plain": [
       "                                                name type start_date_local  \\\n",
       "1565                Mudfest #2 on the GRT. Redeemed!  Run       2017-05-13   \n",
       "1278                                 Grand Canyon R3  Run       2018-04-21   \n",
       "1835     GRT 50Mile. DNF'D at mile 40 due to injury.  Run       2016-05-14   \n",
       "1474  Crested Butte Ultra. Body quit. Brain did not.  Run       2017-09-09   \n",
       "1138                                   The Bear 50k!  Run       2018-09-28   \n",
       "1840                                       Hyner 50k  Run       2016-04-23   \n",
       "1727                                      Moab 50K.   Run       2016-11-19   \n",
       "1853                                     Morning Run  Run       2016-03-26   \n",
       "1779                                RRR pacing Tomas  Run       2016-09-16   \n",
       "1579                   Gold Hill. In honor of Hyner.  Run       2017-04-22   \n",
       "\n",
       "      miles  \n",
       "1565  49.55  \n",
       "1278  47.09  \n",
       "1835  39.16  \n",
       "1474  35.19  \n",
       "1138  30.05  \n",
       "1840  29.66  \n",
       "1727  29.35  \n",
       "1853  24.00  \n",
       "1779  21.28  \n",
       "1579  21.02  "
      ]
     },
     "execution_count": 161,
     "metadata": {},
     "output_type": "execute_result"
    }
   ],
   "source": [
    "# Top 10 run distances\n",
    "cols = ['name', 'type', 'start_date_local', 'miles']\n",
    "df.loc[df.type=='Run', cols].sort_values(by='miles', ascending=False).head(10)"
   ]
  },
  {
   "cell_type": "code",
   "execution_count": 162,
   "metadata": {},
   "outputs": [
    {
     "data": {
      "text/html": [
       "<div>\n",
       "<style scoped>\n",
       "    .dataframe tbody tr th:only-of-type {\n",
       "        vertical-align: middle;\n",
       "    }\n",
       "\n",
       "    .dataframe tbody tr th {\n",
       "        vertical-align: top;\n",
       "    }\n",
       "\n",
       "    .dataframe thead th {\n",
       "        text-align: right;\n",
       "    }\n",
       "</style>\n",
       "<table border=\"1\" class=\"dataframe\">\n",
       "  <thead>\n",
       "    <tr style=\"text-align: right;\">\n",
       "      <th></th>\n",
       "      <th>name</th>\n",
       "      <th>type</th>\n",
       "      <th>start_date_local</th>\n",
       "      <th>miles</th>\n",
       "    </tr>\n",
       "  </thead>\n",
       "  <tbody>\n",
       "    <tr>\n",
       "      <th>426</th>\n",
       "      <td>Moab Cruisin</td>\n",
       "      <td>Ride</td>\n",
       "      <td>2021-03-27</td>\n",
       "      <td>86.67</td>\n",
       "    </tr>\n",
       "    <tr>\n",
       "      <th>1130</th>\n",
       "      <td>Lost in Denver with Eric</td>\n",
       "      <td>Ride</td>\n",
       "      <td>2018-10-13</td>\n",
       "      <td>52.53</td>\n",
       "    </tr>\n",
       "    <tr>\n",
       "      <th>807</th>\n",
       "      <td>I said hard times! They're just an old friend ...</td>\n",
       "      <td>Ride</td>\n",
       "      <td>2019-09-21</td>\n",
       "      <td>42.25</td>\n",
       "    </tr>\n",
       "    <tr>\n",
       "      <th>1347</th>\n",
       "      <td>Tour of Sufferlandria Stage 1: Who Dares + The...</td>\n",
       "      <td>Ride</td>\n",
       "      <td>2018-02-03</td>\n",
       "      <td>40.00</td>\n",
       "    </tr>\n",
       "    <tr>\n",
       "      <th>331</th>\n",
       "      <td>EVO: to &amp; fro'</td>\n",
       "      <td>Ride</td>\n",
       "      <td>2021-08-14</td>\n",
       "      <td>34.20</td>\n",
       "    </tr>\n",
       "    <tr>\n",
       "      <th>822</th>\n",
       "      <td>Black Project</td>\n",
       "      <td>Ride</td>\n",
       "      <td>2019-09-07</td>\n",
       "      <td>33.75</td>\n",
       "    </tr>\n",
       "    <tr>\n",
       "      <th>129</th>\n",
       "      <td>Hero Sand w/Jason</td>\n",
       "      <td>Ride</td>\n",
       "      <td>2022-05-14</td>\n",
       "      <td>32.05</td>\n",
       "    </tr>\n",
       "    <tr>\n",
       "      <th>128</th>\n",
       "      <td>Morning Ride</td>\n",
       "      <td>Ride</td>\n",
       "      <td>2022-05-14</td>\n",
       "      <td>32.03</td>\n",
       "    </tr>\n",
       "    <tr>\n",
       "      <th>1110</th>\n",
       "      <td>Afternoon Ride</td>\n",
       "      <td>Ride</td>\n",
       "      <td>2018-10-29</td>\n",
       "      <td>31.60</td>\n",
       "    </tr>\n",
       "    <tr>\n",
       "      <th>1606</th>\n",
       "      <td>29'n SoBo Creek-&gt;Dirty B-&gt;Doudy</td>\n",
       "      <td>Ride</td>\n",
       "      <td>2017-03-25</td>\n",
       "      <td>31.11</td>\n",
       "    </tr>\n",
       "  </tbody>\n",
       "</table>\n",
       "</div>"
      ],
      "text/plain": [
       "                                                   name  type  \\\n",
       "426                                        Moab Cruisin  Ride   \n",
       "1130                           Lost in Denver with Eric  Ride   \n",
       "807   I said hard times! They're just an old friend ...  Ride   \n",
       "1347  Tour of Sufferlandria Stage 1: Who Dares + The...  Ride   \n",
       "331                                      EVO: to & fro'  Ride   \n",
       "822                                       Black Project  Ride   \n",
       "129                                   Hero Sand w/Jason  Ride   \n",
       "128                                        Morning Ride  Ride   \n",
       "1110                                     Afternoon Ride  Ride   \n",
       "1606                    29'n SoBo Creek->Dirty B->Doudy  Ride   \n",
       "\n",
       "     start_date_local  miles  \n",
       "426        2021-03-27  86.67  \n",
       "1130       2018-10-13  52.53  \n",
       "807        2019-09-21  42.25  \n",
       "1347       2018-02-03  40.00  \n",
       "331        2021-08-14  34.20  \n",
       "822        2019-09-07  33.75  \n",
       "129        2022-05-14  32.05  \n",
       "128        2022-05-14  32.03  \n",
       "1110       2018-10-29  31.60  \n",
       "1606       2017-03-25  31.11  "
      ]
     },
     "execution_count": 162,
     "metadata": {},
     "output_type": "execute_result"
    }
   ],
   "source": [
    "# Top 10 bike distances\n",
    "cols = ['name', 'type', 'start_date_local', 'miles']\n",
    "df.loc[df.type=='Ride', cols].sort_values(by='miles', ascending=False).head(10)"
   ]
  },
  {
   "cell_type": "code",
   "execution_count": 163,
   "metadata": {},
   "outputs": [
    {
     "data": {
      "text/html": [
       "<div>\n",
       "<style scoped>\n",
       "    .dataframe tbody tr th:only-of-type {\n",
       "        vertical-align: middle;\n",
       "    }\n",
       "\n",
       "    .dataframe tbody tr th {\n",
       "        vertical-align: top;\n",
       "    }\n",
       "\n",
       "    .dataframe thead th {\n",
       "        text-align: right;\n",
       "    }\n",
       "</style>\n",
       "<table border=\"1\" class=\"dataframe\">\n",
       "  <thead>\n",
       "    <tr style=\"text-align: right;\">\n",
       "      <th></th>\n",
       "      <th>year_week</th>\n",
       "      <th>hours</th>\n",
       "    </tr>\n",
       "  </thead>\n",
       "  <tbody>\n",
       "    <tr>\n",
       "      <th>0</th>\n",
       "      <td>2022-48</td>\n",
       "      <td>3.91</td>\n",
       "    </tr>\n",
       "    <tr>\n",
       "      <th>1</th>\n",
       "      <td>2022-47</td>\n",
       "      <td>3.76</td>\n",
       "    </tr>\n",
       "    <tr>\n",
       "      <th>2</th>\n",
       "      <td>2022-46</td>\n",
       "      <td>4.81</td>\n",
       "    </tr>\n",
       "    <tr>\n",
       "      <th>3</th>\n",
       "      <td>2022-45</td>\n",
       "      <td>5.37</td>\n",
       "    </tr>\n",
       "    <tr>\n",
       "      <th>4</th>\n",
       "      <td>2022-44</td>\n",
       "      <td>1.48</td>\n",
       "    </tr>\n",
       "    <tr>\n",
       "      <th>5</th>\n",
       "      <td>2022-43</td>\n",
       "      <td>2.52</td>\n",
       "    </tr>\n",
       "    <tr>\n",
       "      <th>6</th>\n",
       "      <td>2022-42</td>\n",
       "      <td>2.71</td>\n",
       "    </tr>\n",
       "    <tr>\n",
       "      <th>7</th>\n",
       "      <td>2022-41</td>\n",
       "      <td>6.43</td>\n",
       "    </tr>\n",
       "    <tr>\n",
       "      <th>8</th>\n",
       "      <td>2022-40</td>\n",
       "      <td>8.67</td>\n",
       "    </tr>\n",
       "    <tr>\n",
       "      <th>9</th>\n",
       "      <td>2022-39</td>\n",
       "      <td>3.81</td>\n",
       "    </tr>\n",
       "    <tr>\n",
       "      <th>10</th>\n",
       "      <td>2022-38</td>\n",
       "      <td>7.19</td>\n",
       "    </tr>\n",
       "    <tr>\n",
       "      <th>11</th>\n",
       "      <td>2022-37</td>\n",
       "      <td>5.86</td>\n",
       "    </tr>\n",
       "  </tbody>\n",
       "</table>\n",
       "</div>"
      ],
      "text/plain": [
       "   year_week  hours\n",
       "0    2022-48   3.91\n",
       "1    2022-47   3.76\n",
       "2    2022-46   4.81\n",
       "3    2022-45   5.37\n",
       "4    2022-44   1.48\n",
       "5    2022-43   2.52\n",
       "6    2022-42   2.71\n",
       "7    2022-41   6.43\n",
       "8    2022-40   8.67\n",
       "9    2022-39   3.81\n",
       "10   2022-38   7.19\n",
       "11   2022-37   5.86"
      ]
     },
     "execution_count": 163,
     "metadata": {},
     "output_type": "execute_result"
    }
   ],
   "source": [
    "df['year_week'] = df['year'].astype(str) + '-' + df['week'].astype(str).str.zfill(2)\n",
    "df.loc[~df.type.isin(omit_types)].groupby(['year_week']).agg({'hours': 'sum'}).sort_values(by='year_week', ascending=False).reset_index().head(12)"
   ]
  },
  {
   "cell_type": "code",
   "execution_count": 164,
   "metadata": {},
   "outputs": [
    {
     "data": {
      "application/vnd.plotly.v1+json": {
       "config": {
        "plotlyServerURL": "https://plot.ly"
       },
       "data": [
        {
         "alignmentgroup": "True",
         "hovertemplate": "year_week=%{x}<br>hours=%{y}<extra></extra>",
         "legendgroup": "",
         "marker": {
          "color": "#636efa",
          "pattern": {
           "shape": ""
          }
         },
         "name": "",
         "offsetgroup": "",
         "orientation": "v",
         "showlegend": false,
         "textposition": "auto",
         "type": "bar",
         "x": [
          "2022-29",
          "2022-30",
          "2022-31",
          "2022-32",
          "2022-33",
          "2022-34",
          "2022-35",
          "2022-36",
          "2022-37",
          "2022-38",
          "2022-39",
          "2022-40",
          "2022-41",
          "2022-42",
          "2022-43",
          "2022-44",
          "2022-45",
          "2022-46",
          "2022-47",
          "2022-48"
         ],
         "xaxis": "x",
         "y": [
          9.607777777777779,
          7.797777777777778,
          4.050833333333333,
          0.5108333333333334,
          8.94,
          3.83,
          5.5,
          0.6133333333333333,
          5.857777777777778,
          7.197777777777778,
          3.8197222222222225,
          8.667499999999999,
          6.426111111111111,
          2.7105555555555556,
          2.52,
          1.4758333333333333,
          5.379166666666666,
          4.814444444444445,
          3.7591666666666668,
          3.9119444444444444
         ],
         "yaxis": "y"
        }
       ],
       "layout": {
        "barmode": "relative",
        "legend": {
         "tracegroupgap": 0
        },
        "template": {
         "data": {
          "bar": [
           {
            "error_x": {
             "color": "#2a3f5f"
            },
            "error_y": {
             "color": "#2a3f5f"
            },
            "marker": {
             "line": {
              "color": "#E5ECF6",
              "width": 0.5
             },
             "pattern": {
              "fillmode": "overlay",
              "size": 10,
              "solidity": 0.2
             }
            },
            "type": "bar"
           }
          ],
          "barpolar": [
           {
            "marker": {
             "line": {
              "color": "#E5ECF6",
              "width": 0.5
             },
             "pattern": {
              "fillmode": "overlay",
              "size": 10,
              "solidity": 0.2
             }
            },
            "type": "barpolar"
           }
          ],
          "carpet": [
           {
            "aaxis": {
             "endlinecolor": "#2a3f5f",
             "gridcolor": "white",
             "linecolor": "white",
             "minorgridcolor": "white",
             "startlinecolor": "#2a3f5f"
            },
            "baxis": {
             "endlinecolor": "#2a3f5f",
             "gridcolor": "white",
             "linecolor": "white",
             "minorgridcolor": "white",
             "startlinecolor": "#2a3f5f"
            },
            "type": "carpet"
           }
          ],
          "choropleth": [
           {
            "colorbar": {
             "outlinewidth": 0,
             "ticks": ""
            },
            "type": "choropleth"
           }
          ],
          "contour": [
           {
            "colorbar": {
             "outlinewidth": 0,
             "ticks": ""
            },
            "colorscale": [
             [
              0,
              "#0d0887"
             ],
             [
              0.1111111111111111,
              "#46039f"
             ],
             [
              0.2222222222222222,
              "#7201a8"
             ],
             [
              0.3333333333333333,
              "#9c179e"
             ],
             [
              0.4444444444444444,
              "#bd3786"
             ],
             [
              0.5555555555555556,
              "#d8576b"
             ],
             [
              0.6666666666666666,
              "#ed7953"
             ],
             [
              0.7777777777777778,
              "#fb9f3a"
             ],
             [
              0.8888888888888888,
              "#fdca26"
             ],
             [
              1,
              "#f0f921"
             ]
            ],
            "type": "contour"
           }
          ],
          "contourcarpet": [
           {
            "colorbar": {
             "outlinewidth": 0,
             "ticks": ""
            },
            "type": "contourcarpet"
           }
          ],
          "heatmap": [
           {
            "colorbar": {
             "outlinewidth": 0,
             "ticks": ""
            },
            "colorscale": [
             [
              0,
              "#0d0887"
             ],
             [
              0.1111111111111111,
              "#46039f"
             ],
             [
              0.2222222222222222,
              "#7201a8"
             ],
             [
              0.3333333333333333,
              "#9c179e"
             ],
             [
              0.4444444444444444,
              "#bd3786"
             ],
             [
              0.5555555555555556,
              "#d8576b"
             ],
             [
              0.6666666666666666,
              "#ed7953"
             ],
             [
              0.7777777777777778,
              "#fb9f3a"
             ],
             [
              0.8888888888888888,
              "#fdca26"
             ],
             [
              1,
              "#f0f921"
             ]
            ],
            "type": "heatmap"
           }
          ],
          "heatmapgl": [
           {
            "colorbar": {
             "outlinewidth": 0,
             "ticks": ""
            },
            "colorscale": [
             [
              0,
              "#0d0887"
             ],
             [
              0.1111111111111111,
              "#46039f"
             ],
             [
              0.2222222222222222,
              "#7201a8"
             ],
             [
              0.3333333333333333,
              "#9c179e"
             ],
             [
              0.4444444444444444,
              "#bd3786"
             ],
             [
              0.5555555555555556,
              "#d8576b"
             ],
             [
              0.6666666666666666,
              "#ed7953"
             ],
             [
              0.7777777777777778,
              "#fb9f3a"
             ],
             [
              0.8888888888888888,
              "#fdca26"
             ],
             [
              1,
              "#f0f921"
             ]
            ],
            "type": "heatmapgl"
           }
          ],
          "histogram": [
           {
            "marker": {
             "pattern": {
              "fillmode": "overlay",
              "size": 10,
              "solidity": 0.2
             }
            },
            "type": "histogram"
           }
          ],
          "histogram2d": [
           {
            "colorbar": {
             "outlinewidth": 0,
             "ticks": ""
            },
            "colorscale": [
             [
              0,
              "#0d0887"
             ],
             [
              0.1111111111111111,
              "#46039f"
             ],
             [
              0.2222222222222222,
              "#7201a8"
             ],
             [
              0.3333333333333333,
              "#9c179e"
             ],
             [
              0.4444444444444444,
              "#bd3786"
             ],
             [
              0.5555555555555556,
              "#d8576b"
             ],
             [
              0.6666666666666666,
              "#ed7953"
             ],
             [
              0.7777777777777778,
              "#fb9f3a"
             ],
             [
              0.8888888888888888,
              "#fdca26"
             ],
             [
              1,
              "#f0f921"
             ]
            ],
            "type": "histogram2d"
           }
          ],
          "histogram2dcontour": [
           {
            "colorbar": {
             "outlinewidth": 0,
             "ticks": ""
            },
            "colorscale": [
             [
              0,
              "#0d0887"
             ],
             [
              0.1111111111111111,
              "#46039f"
             ],
             [
              0.2222222222222222,
              "#7201a8"
             ],
             [
              0.3333333333333333,
              "#9c179e"
             ],
             [
              0.4444444444444444,
              "#bd3786"
             ],
             [
              0.5555555555555556,
              "#d8576b"
             ],
             [
              0.6666666666666666,
              "#ed7953"
             ],
             [
              0.7777777777777778,
              "#fb9f3a"
             ],
             [
              0.8888888888888888,
              "#fdca26"
             ],
             [
              1,
              "#f0f921"
             ]
            ],
            "type": "histogram2dcontour"
           }
          ],
          "mesh3d": [
           {
            "colorbar": {
             "outlinewidth": 0,
             "ticks": ""
            },
            "type": "mesh3d"
           }
          ],
          "parcoords": [
           {
            "line": {
             "colorbar": {
              "outlinewidth": 0,
              "ticks": ""
             }
            },
            "type": "parcoords"
           }
          ],
          "pie": [
           {
            "automargin": true,
            "type": "pie"
           }
          ],
          "scatter": [
           {
            "fillpattern": {
             "fillmode": "overlay",
             "size": 10,
             "solidity": 0.2
            },
            "type": "scatter"
           }
          ],
          "scatter3d": [
           {
            "line": {
             "colorbar": {
              "outlinewidth": 0,
              "ticks": ""
             }
            },
            "marker": {
             "colorbar": {
              "outlinewidth": 0,
              "ticks": ""
             }
            },
            "type": "scatter3d"
           }
          ],
          "scattercarpet": [
           {
            "marker": {
             "colorbar": {
              "outlinewidth": 0,
              "ticks": ""
             }
            },
            "type": "scattercarpet"
           }
          ],
          "scattergeo": [
           {
            "marker": {
             "colorbar": {
              "outlinewidth": 0,
              "ticks": ""
             }
            },
            "type": "scattergeo"
           }
          ],
          "scattergl": [
           {
            "marker": {
             "colorbar": {
              "outlinewidth": 0,
              "ticks": ""
             }
            },
            "type": "scattergl"
           }
          ],
          "scattermapbox": [
           {
            "marker": {
             "colorbar": {
              "outlinewidth": 0,
              "ticks": ""
             }
            },
            "type": "scattermapbox"
           }
          ],
          "scatterpolar": [
           {
            "marker": {
             "colorbar": {
              "outlinewidth": 0,
              "ticks": ""
             }
            },
            "type": "scatterpolar"
           }
          ],
          "scatterpolargl": [
           {
            "marker": {
             "colorbar": {
              "outlinewidth": 0,
              "ticks": ""
             }
            },
            "type": "scatterpolargl"
           }
          ],
          "scatterternary": [
           {
            "marker": {
             "colorbar": {
              "outlinewidth": 0,
              "ticks": ""
             }
            },
            "type": "scatterternary"
           }
          ],
          "surface": [
           {
            "colorbar": {
             "outlinewidth": 0,
             "ticks": ""
            },
            "colorscale": [
             [
              0,
              "#0d0887"
             ],
             [
              0.1111111111111111,
              "#46039f"
             ],
             [
              0.2222222222222222,
              "#7201a8"
             ],
             [
              0.3333333333333333,
              "#9c179e"
             ],
             [
              0.4444444444444444,
              "#bd3786"
             ],
             [
              0.5555555555555556,
              "#d8576b"
             ],
             [
              0.6666666666666666,
              "#ed7953"
             ],
             [
              0.7777777777777778,
              "#fb9f3a"
             ],
             [
              0.8888888888888888,
              "#fdca26"
             ],
             [
              1,
              "#f0f921"
             ]
            ],
            "type": "surface"
           }
          ],
          "table": [
           {
            "cells": {
             "fill": {
              "color": "#EBF0F8"
             },
             "line": {
              "color": "white"
             }
            },
            "header": {
             "fill": {
              "color": "#C8D4E3"
             },
             "line": {
              "color": "white"
             }
            },
            "type": "table"
           }
          ]
         },
         "layout": {
          "annotationdefaults": {
           "arrowcolor": "#2a3f5f",
           "arrowhead": 0,
           "arrowwidth": 1
          },
          "autotypenumbers": "strict",
          "coloraxis": {
           "colorbar": {
            "outlinewidth": 0,
            "ticks": ""
           }
          },
          "colorscale": {
           "diverging": [
            [
             0,
             "#8e0152"
            ],
            [
             0.1,
             "#c51b7d"
            ],
            [
             0.2,
             "#de77ae"
            ],
            [
             0.3,
             "#f1b6da"
            ],
            [
             0.4,
             "#fde0ef"
            ],
            [
             0.5,
             "#f7f7f7"
            ],
            [
             0.6,
             "#e6f5d0"
            ],
            [
             0.7,
             "#b8e186"
            ],
            [
             0.8,
             "#7fbc41"
            ],
            [
             0.9,
             "#4d9221"
            ],
            [
             1,
             "#276419"
            ]
           ],
           "sequential": [
            [
             0,
             "#0d0887"
            ],
            [
             0.1111111111111111,
             "#46039f"
            ],
            [
             0.2222222222222222,
             "#7201a8"
            ],
            [
             0.3333333333333333,
             "#9c179e"
            ],
            [
             0.4444444444444444,
             "#bd3786"
            ],
            [
             0.5555555555555556,
             "#d8576b"
            ],
            [
             0.6666666666666666,
             "#ed7953"
            ],
            [
             0.7777777777777778,
             "#fb9f3a"
            ],
            [
             0.8888888888888888,
             "#fdca26"
            ],
            [
             1,
             "#f0f921"
            ]
           ],
           "sequentialminus": [
            [
             0,
             "#0d0887"
            ],
            [
             0.1111111111111111,
             "#46039f"
            ],
            [
             0.2222222222222222,
             "#7201a8"
            ],
            [
             0.3333333333333333,
             "#9c179e"
            ],
            [
             0.4444444444444444,
             "#bd3786"
            ],
            [
             0.5555555555555556,
             "#d8576b"
            ],
            [
             0.6666666666666666,
             "#ed7953"
            ],
            [
             0.7777777777777778,
             "#fb9f3a"
            ],
            [
             0.8888888888888888,
             "#fdca26"
            ],
            [
             1,
             "#f0f921"
            ]
           ]
          },
          "colorway": [
           "#636efa",
           "#EF553B",
           "#00cc96",
           "#ab63fa",
           "#FFA15A",
           "#19d3f3",
           "#FF6692",
           "#B6E880",
           "#FF97FF",
           "#FECB52"
          ],
          "font": {
           "color": "#2a3f5f"
          },
          "geo": {
           "bgcolor": "white",
           "lakecolor": "white",
           "landcolor": "#E5ECF6",
           "showlakes": true,
           "showland": true,
           "subunitcolor": "white"
          },
          "hoverlabel": {
           "align": "left"
          },
          "hovermode": "closest",
          "mapbox": {
           "style": "light"
          },
          "paper_bgcolor": "white",
          "plot_bgcolor": "#E5ECF6",
          "polar": {
           "angularaxis": {
            "gridcolor": "white",
            "linecolor": "white",
            "ticks": ""
           },
           "bgcolor": "#E5ECF6",
           "radialaxis": {
            "gridcolor": "white",
            "linecolor": "white",
            "ticks": ""
           }
          },
          "scene": {
           "xaxis": {
            "backgroundcolor": "#E5ECF6",
            "gridcolor": "white",
            "gridwidth": 2,
            "linecolor": "white",
            "showbackground": true,
            "ticks": "",
            "zerolinecolor": "white"
           },
           "yaxis": {
            "backgroundcolor": "#E5ECF6",
            "gridcolor": "white",
            "gridwidth": 2,
            "linecolor": "white",
            "showbackground": true,
            "ticks": "",
            "zerolinecolor": "white"
           },
           "zaxis": {
            "backgroundcolor": "#E5ECF6",
            "gridcolor": "white",
            "gridwidth": 2,
            "linecolor": "white",
            "showbackground": true,
            "ticks": "",
            "zerolinecolor": "white"
           }
          },
          "shapedefaults": {
           "line": {
            "color": "#2a3f5f"
           }
          },
          "ternary": {
           "aaxis": {
            "gridcolor": "white",
            "linecolor": "white",
            "ticks": ""
           },
           "baxis": {
            "gridcolor": "white",
            "linecolor": "white",
            "ticks": ""
           },
           "bgcolor": "#E5ECF6",
           "caxis": {
            "gridcolor": "white",
            "linecolor": "white",
            "ticks": ""
           }
          },
          "title": {
           "x": 0.05
          },
          "xaxis": {
           "automargin": true,
           "gridcolor": "white",
           "linecolor": "white",
           "ticks": "",
           "title": {
            "standoff": 15
           },
           "zerolinecolor": "white",
           "zerolinewidth": 2
          },
          "yaxis": {
           "automargin": true,
           "gridcolor": "white",
           "linecolor": "white",
           "ticks": "",
           "title": {
            "standoff": 15
           },
           "zerolinecolor": "white",
           "zerolinewidth": 2
          }
         }
        },
        "title": {
         "text": "Aerobic Training Time Last 20 Weeks"
        },
        "xaxis": {
         "anchor": "y",
         "domain": [
          0,
          1
         ],
         "title": {
          "text": "year_week"
         }
        },
        "yaxis": {
         "anchor": "x",
         "domain": [
          0,
          1
         ],
         "title": {
          "text": "hours"
         }
        }
       }
      }
     },
     "metadata": {},
     "output_type": "display_data"
    }
   ],
   "source": [
    "# Bar chart of aerobic time for last 12 weeks\n",
    "df['year_week'] = df['year'].astype(str) + '-' + df['week'].astype(str).str.zfill(2)\n",
    "grouped_yr_wk = df.loc[~df.type.isin(omit_types)].groupby(['year_week']).agg({'elapsed_time': 'sum'}).sort_values(by='year_week', ascending=False).reset_index().head(20).sort_values(by='year_week', ascending=True)\n",
    "grouped_yr_wk['hours'] = grouped_yr_wk['elapsed_time'] / 60 / 60\n",
    "time_x_week_bar = px.bar(grouped_yr_wk,\n",
    "                          x=\"year_week\",\n",
    "                          y=\"hours\",\n",
    "                          title='Aerobic Training Time Last 20 Weeks'\n",
    "                         )\n",
    "\n",
    "time_x_week_bar.show()"
   ]
  },
  {
   "cell_type": "code",
   "execution_count": 171,
   "metadata": {},
   "outputs": [
    {
     "data": {
      "application/vnd.plotly.v1+json": {
       "config": {
        "plotlyServerURL": "https://plot.ly"
       },
       "data": [
        {
         "hovertemplate": "month=%{x}<br>day_of_month=%{y}<br>hours=%{marker.size}<br>total_elevation_gain=%{marker.color}<extra></extra>",
         "legendgroup": "",
         "marker": {
          "color": [
           6706.04,
           1446.85,
           1656.82,
           3106.96,
           1671.26,
           4327.43,
           2611.55,
           265.75,
           925.2,
           1555.12,
           2024.28,
           2729.66,
           3162.73,
           1291.99,
           2755.91,
           3667.98,
           4120.74,
           3622.05,
           2470.47,
           2835.96,
           1158.14,
           1295.93,
           1509.19,
           5100.07,
           2785.43,
           2900.26,
           1601.05,
           843.18,
           761.48,
           5346.13,
           2978.35,
           1361.55,
           1268.7,
           1368.11,
           2791.01,
           164.04,
           1610.89,
           1709.97,
           1299.21,
           2870.74,
           5091.86,
           2893.7,
           196.85,
           2706.69,
           3389.11,
           1466.54,
           2736.22,
           823.49,
           931.76,
           2532.81,
           2116.14,
           2713.25,
           3126.64,
           1669.95,
           2926.51,
           2470.47,
           633.2,
           1377.95,
           2778.87,
           1322.51,
           1692.91,
           2660.76,
           1187.66,
           2216.86,
           1761.81,
           1466.54,
           564.3,
           1066.27,
           1282.81,
           6184.38,
           1696.19,
           721.78,
           1348.43,
           1742.13,
           2641.08,
           2811.68,
           3100.39,
           5436.35,
           8881.23,
           1567.91,
           1151.57,
           360.89,
           1269.69,
           1791.34,
           2755.91,
           1220.47,
           3172.57,
           941.6,
           2604.99,
           3392.39,
           1381.23,
           2322.83,
           2874.02,
           2778.87,
           5200.13,
           2208.01,
           2742.78,
           1793.31,
           2713.25,
           3490.81,
           3471.13,
           2621.39,
           1909.45,
           2985.56,
           1200.13,
           2769.03,
           1938.98,
           5780.84,
           1574.8,
           1863.52,
           1384.51,
           1246.72,
           2041.34,
           1400.92,
           3956.69,
           2737.53,
           1295.93,
           1437.01,
           1272.97,
           777.56,
           2759.19,
           4786.75,
           242.78,
           6128.61,
           685.7,
           2843.5,
           3532.48,
           3595.8,
           1732.28,
           1827.43,
           2762.47,
           1322.18,
           3079.4,
           4274.93,
           2329.4,
           118.11,
           2992.13,
           3408.79,
           2018.37,
           1394.36,
           708.66,
           1089.24,
           3159.45,
           1043.31,
           1942.26,
           1332.02,
           390.42,
           1405.51,
           1564.96,
           1341.86,
           5974.41,
           1700.13,
           6574.8,
           1558.4,
           2866.14,
           1377.95,
           2854.33,
           1673.23,
           1643.7,
           1312.34,
           2782.15,
           1248.03,
           2844.49,
           3435.04,
           5000,
           1730.32,
           2831.36,
           639.76,
           1427.17,
           1263.12,
           2824.8,
           1269.69,
           1610.89,
           4297.9,
           2874.02,
           1410.76,
           1217.19,
           1335.3,
           3106.96,
           1689.63,
           4340.55,
           5797.24,
           3540.03,
           2808.4,
           2837.93,
           2611.55,
           2716.54,
           1335.3,
           1305.77,
           1627.3,
           2244.09,
           3546.59,
           2775.59,
           2982.28,
           3064.3,
           2880.58,
           3044.62,
           3792.65,
           2214.57,
           1315.62,
           1938.98,
           918.64,
           1581.36,
           511.81,
           741.47,
           2329.4,
           908.79,
           1535.43,
           3061.02,
           3008.53,
           3374.67,
           4647.64,
           3303.81,
           1400.92,
           2785.43,
           3018.37,
           495.41,
           7089.9,
           2080.05,
           1469.82,
           2988.85,
           3428.48,
           2880.58,
           2087.93,
           2539.37,
           2664.04,
           1446.85,
           1978.35,
           1246.72,
           639.76,
           1177.82,
           1702.1,
           1459.97,
           3375.98,
           3700.79,
           3074.15,
           1417.32,
           1307.74,
           1940.94,
           1509.51,
           11538.71,
           4199.48,
           2047.24,
           1456.69,
           2847.77,
           4940.95,
           3117.45,
           3136.48,
           1417.32,
           8215.22,
           1440.29,
           3293.96,
           3238.19,
           2739.5,
           3083.99,
           2982.28,
           1515.75,
           4360.24,
           3822.18,
           1805.77,
           1348.43,
           1397.64,
           1541.99,
           1556.43,
           7437.66,
           3094.49,
           2841.21,
           2888.45,
           1256.56,
           3628.61,
           3743.44,
           3028.22,
           1732.28,
           2559.06,
           2782.15,
           2752.62,
           688.98,
           4738.85,
           1499.34,
           2778.87,
           2769.03,
           1712.6,
           3438.32,
           1322.18,
           2280.18,
           2667.32,
           2788.71,
           2716.54,
           1276.25,
           5413.39,
           1948.82,
           2837.93,
           12378.61,
           1184.38,
           2273.62,
           1624.02,
           6236.88,
           1118.77,
           2818.24,
           2772.31,
           1227.03,
           2778.87,
           462.6,
           2742.78,
           3080.71,
           711.94,
           2844.49,
           3996.06,
           2260.5,
           1814.3,
           2808.4,
           380.58,
           4232.28,
           3110.24,
           3766.4,
           2480.32,
           921.92,
           2101.05,
           5685.7,
           5839.9,
           1509.19,
           3944.88,
           3024.93,
           2795.28,
           1135.17,
           1814.3,
           3759.84,
           1410.76,
           1338.58,
           3113.52,
           1532.15,
           1341.86,
           3674.54,
           2732.94,
           3868.11,
           7742.78,
           767.72,
           935.04,
           3366.14,
           2135.83,
           2844.49,
           2979,
           1315.62,
           2375.33,
           2322.83,
           830.05,
           1302.49,
           1250,
           1289.37,
           4035.43,
           3674.54,
           2759.19,
           226.38,
           2611.55,
           2516.4,
           1394.36,
           1292.65,
           816.93,
           2053.81,
           134.51,
           3054.46,
           2142.39,
           3553.15,
           1817.59,
           787.4
          ],
          "coloraxis": "coloraxis",
          "size": [
           5.48,
           2.34,
           1.44,
           2.73,
           2.81,
           5.39,
           2.41,
           1.03,
           1.2,
           2.08,
           2.62,
           2.64,
           4.65,
           1.89,
           2.98,
           2.76,
           3.15,
           4.72,
           2.48,
           2.23,
           1.33,
           1.75,
           1.83,
           6.5,
           2.4,
           2.16,
           1.8,
           1.75,
           1.55,
           6.75,
           3.08,
           1.88,
           1.47,
           1.79,
           3.14,
           1,
           2.63,
           2.81,
           1.42,
           2.35,
           5.49,
           2.46,
           0.75,
           2.59,
           2.17,
           2,
           3.94,
           1.61,
           0.99,
           2.86,
           3.69,
           1.91,
           2.22,
           1.64,
           2.95,
           2.26,
           0.69,
           2.47,
           2.13,
           1.38,
           2.39,
           2.52,
           1.17,
           3.29,
           1.82,
           1.56,
           1.5,
           2.25,
           1.87,
           9.8,
           2.48,
           2.1,
           2.7,
           3.25,
           2,
           3.24,
           2.21,
           6.79,
           6.14,
           1.69,
           2.04,
           3.41,
           1.56,
           3.14,
           2.17,
           1.27,
           2.79,
           1.28,
           7,
           2.99,
           1.4,
           1.94,
           2.85,
           2.68,
           5.44,
           2.56,
           3.25,
           2.32,
           1.95,
           2.91,
           3.33,
           3.92,
           3.01,
           2.12,
           0.75,
           2.35,
           2.35,
           8.31,
           1.86,
           3.14,
           1.55,
           2.01,
           2.43,
           1.84,
           3.12,
           2.41,
           1.19,
           1.54,
           1.23,
           1.68,
           3.23,
           4.84,
           0.99,
           6.06,
           2,
           4.7,
           5.89,
           2.66,
           2.36,
           2.14,
           2.61,
           5.52,
           2.9,
           3.55,
           2.54,
           0.65,
           2.2,
           4.34,
           5.27,
           1.48,
           1.55,
           1.38,
           3.26,
           1.5,
           2.38,
           2.29,
           1.01,
           1.19,
           2.02,
           1.43,
           6.44,
           2,
           10.93,
           3.92,
           6.06,
           1.75,
           2.66,
           4.78,
           1.17,
           1.48,
           3.58,
           1.16,
           3.72,
           3.19,
           8.46,
           2.15,
           1.8,
           1.34,
           2.59,
           1.74,
           1.94,
           1.17,
           2.07,
           6.8,
           3.81,
           1.52,
           3.45,
           1.47,
           4.11,
           1.92,
           4.04,
           6.28,
           3,
           2.04,
           2.27,
           3.12,
           2.84,
           1.64,
           1.98,
           1.79,
           3.67,
           9.16,
           2.92,
           3.97,
           2.6,
           4.71,
           2.9,
           4.22,
           2,
           1.11,
           2.38,
           3.24,
           2.56,
           1,
           1.01,
           2.59,
           0.93,
           2.43,
           2.21,
           3.65,
           4.27,
           5.04,
           3.16,
           1.3,
           2.08,
           2.74,
           1.2,
           3.98,
           2.31,
           2.32,
           2.6,
           3.58,
           2.19,
           1.47,
           1.8,
           5.05,
           1.5,
           2.24,
           3.38,
           2.25,
           0.7,
           2.93,
           2.15,
           5.31,
           3.86,
           3.02,
           1.8,
           1.63,
           6.74,
           1.8,
           14.94,
           6.29,
           1.78,
           1.35,
           2.86,
           5.43,
           2.44,
           3.23,
           1.45,
           8.55,
           2,
           5.35,
           3.92,
           1.79,
           2.38,
           3.35,
           2.19,
           4.35,
           3.08,
           1.76,
           3.81,
           1.99,
           2.48,
           2.16,
           11.07,
           3.75,
           2.27,
           2.29,
           1.65,
           4.55,
           4.69,
           2.57,
           1.59,
           2.48,
           3,
           1.92,
           1.52,
           3.76,
           2.07,
           2.37,
           1.91,
           3.04,
           3.89,
           1.23,
           3.41,
           3.79,
           2,
           2.72,
           1.77,
           3.93,
           2.41,
           2.94,
           3.92,
           2.42,
           3.29,
           3.18,
           6.99,
           2.2,
           2.21,
           2.3,
           1.74,
           3.16,
           1.28,
           2.12,
           2.19,
           7.12,
           2.55,
           5.55,
           3.14,
           2.81,
           2.22,
           1.25,
           3.43,
           5.32,
           4.04,
           3.12,
           1.04,
           1.95,
           9.76,
           8.6,
           1.92,
           3.84,
           3.68,
           2.25,
           1.99,
           1.79,
           3.41,
           2.11,
           1.56,
           3.67,
           2.48,
           1.02,
           4.89,
           1.98,
           3.91,
           8.88,
           6.74,
           1.22,
           2.21,
           1.79,
           3.37,
           3.17,
           1.53,
           1.79,
           3.37,
           1.5,
           1.58,
           1.5,
           1.12,
           3.28,
           3.61,
           4.36,
           1.52,
           1.4,
           7.17,
           1.64,
           1.36,
           1.44,
           2.07,
           1,
           1.95,
           2.46,
           2.46,
           2.3,
           1.48
          ],
          "sizemode": "area",
          "sizeref": 0.03735,
          "symbol": "circle"
         },
         "mode": "markers",
         "name": "",
         "orientation": "v",
         "showlegend": false,
         "type": "scatter",
         "x": [
          "April",
          "August",
          "December",
          "February",
          "January",
          "July",
          "June",
          "March",
          "May",
          "November",
          "October",
          "September",
          "April",
          "August",
          "December",
          "February",
          "January",
          "July",
          "June",
          "March",
          "May",
          "November",
          "October",
          "September",
          "April",
          "August",
          "December",
          "February",
          "January",
          "July",
          "June",
          "March",
          "May",
          "November",
          "October",
          "September",
          "April",
          "August",
          "December",
          "February",
          "January",
          "July",
          "June",
          "March",
          "May",
          "November",
          "October",
          "September",
          "April",
          "August",
          "December",
          "February",
          "January",
          "July",
          "June",
          "March",
          "May",
          "November",
          "October",
          "September",
          "April",
          "August",
          "December",
          "February",
          "January",
          "July",
          "June",
          "March",
          "May",
          "November",
          "October",
          "September",
          "April",
          "August",
          "December",
          "February",
          "January",
          "July",
          "June",
          "March",
          "May",
          "November",
          "October",
          "September",
          "April",
          "August",
          "December",
          "February",
          "January",
          "July",
          "June",
          "March",
          "May",
          "November",
          "October",
          "September",
          "April",
          "August",
          "December",
          "February",
          "January",
          "July",
          "June",
          "March",
          "May",
          "November",
          "October",
          "September",
          "April",
          "August",
          "December",
          "February",
          "January",
          "July",
          "June",
          "March",
          "May",
          "November",
          "October",
          "September",
          "April",
          "August",
          "December",
          "February",
          "January",
          "July",
          "June",
          "March",
          "May",
          "November",
          "October",
          "September",
          "April",
          "August",
          "December",
          "February",
          "January",
          "July",
          "June",
          "March",
          "May",
          "November",
          "October",
          "September",
          "April",
          "August",
          "December",
          "February",
          "January",
          "July",
          "June",
          "March",
          "May",
          "November",
          "October",
          "September",
          "April",
          "August",
          "December",
          "February",
          "January",
          "July",
          "June",
          "March",
          "May",
          "November",
          "October",
          "September",
          "April",
          "August",
          "December",
          "February",
          "January",
          "July",
          "June",
          "March",
          "May",
          "November",
          "October",
          "September",
          "April",
          "August",
          "December",
          "February",
          "January",
          "July",
          "June",
          "March",
          "May",
          "November",
          "October",
          "September",
          "April",
          "August",
          "December",
          "February",
          "January",
          "July",
          "June",
          "March",
          "May",
          "November",
          "October",
          "September",
          "April",
          "August",
          "December",
          "February",
          "January",
          "July",
          "June",
          "March",
          "May",
          "November",
          "October",
          "September",
          "April",
          "August",
          "December",
          "February",
          "January",
          "July",
          "June",
          "March",
          "May",
          "November",
          "October",
          "September",
          "April",
          "August",
          "December",
          "February",
          "January",
          "July",
          "June",
          "March",
          "May",
          "November",
          "October",
          "September",
          "April",
          "August",
          "December",
          "February",
          "January",
          "July",
          "June",
          "March",
          "May",
          "November",
          "October",
          "September",
          "April",
          "August",
          "December",
          "February",
          "January",
          "July",
          "June",
          "March",
          "May",
          "November",
          "October",
          "September",
          "April",
          "August",
          "December",
          "February",
          "January",
          "July",
          "June",
          "March",
          "May",
          "November",
          "October",
          "September",
          "April",
          "August",
          "December",
          "February",
          "January",
          "July",
          "June",
          "March",
          "May",
          "November",
          "October",
          "September",
          "April",
          "August",
          "December",
          "February",
          "January",
          "July",
          "June",
          "March",
          "May",
          "November",
          "October",
          "September",
          "April",
          "August",
          "December",
          "February",
          "January",
          "July",
          "June",
          "March",
          "May",
          "November",
          "October",
          "September",
          "April",
          "August",
          "December",
          "February",
          "January",
          "July",
          "June",
          "March",
          "May",
          "November",
          "October",
          "September",
          "April",
          "August",
          "December",
          "February",
          "January",
          "July",
          "June",
          "March",
          "May",
          "November",
          "October",
          "September",
          "April",
          "August",
          "December",
          "January",
          "July",
          "June",
          "March",
          "May",
          "November",
          "October",
          "September",
          "April",
          "August",
          "December",
          "January",
          "July",
          "June",
          "March",
          "May",
          "November",
          "October",
          "September",
          "August",
          "December",
          "January",
          "July",
          "March",
          "May",
          "October"
         ],
         "xaxis": "x",
         "y": [
          1,
          1,
          1,
          1,
          1,
          1,
          1,
          1,
          1,
          1,
          1,
          1,
          2,
          2,
          2,
          2,
          2,
          2,
          2,
          2,
          2,
          2,
          2,
          2,
          3,
          3,
          3,
          3,
          3,
          3,
          3,
          3,
          3,
          3,
          3,
          3,
          4,
          4,
          4,
          4,
          4,
          4,
          4,
          4,
          4,
          4,
          4,
          4,
          5,
          5,
          5,
          5,
          5,
          5,
          5,
          5,
          5,
          5,
          5,
          5,
          6,
          6,
          6,
          6,
          6,
          6,
          6,
          6,
          6,
          6,
          6,
          6,
          7,
          7,
          7,
          7,
          7,
          7,
          7,
          7,
          7,
          7,
          7,
          7,
          8,
          8,
          8,
          8,
          8,
          8,
          8,
          8,
          8,
          8,
          8,
          8,
          9,
          9,
          9,
          9,
          9,
          9,
          9,
          9,
          9,
          9,
          9,
          9,
          10,
          10,
          10,
          10,
          10,
          10,
          10,
          10,
          10,
          10,
          10,
          10,
          11,
          11,
          11,
          11,
          11,
          11,
          11,
          11,
          11,
          11,
          11,
          11,
          12,
          12,
          12,
          12,
          12,
          12,
          12,
          12,
          12,
          12,
          12,
          12,
          13,
          13,
          13,
          13,
          13,
          13,
          13,
          13,
          13,
          13,
          13,
          13,
          14,
          14,
          14,
          14,
          14,
          14,
          14,
          14,
          14,
          14,
          14,
          14,
          15,
          15,
          15,
          15,
          15,
          15,
          15,
          15,
          15,
          15,
          15,
          15,
          16,
          16,
          16,
          16,
          16,
          16,
          16,
          16,
          16,
          16,
          16,
          16,
          17,
          17,
          17,
          17,
          17,
          17,
          17,
          17,
          17,
          17,
          17,
          17,
          18,
          18,
          18,
          18,
          18,
          18,
          18,
          18,
          18,
          18,
          18,
          18,
          19,
          19,
          19,
          19,
          19,
          19,
          19,
          19,
          19,
          19,
          19,
          19,
          20,
          20,
          20,
          20,
          20,
          20,
          20,
          20,
          20,
          20,
          20,
          20,
          21,
          21,
          21,
          21,
          21,
          21,
          21,
          21,
          21,
          21,
          21,
          21,
          22,
          22,
          22,
          22,
          22,
          22,
          22,
          22,
          22,
          22,
          22,
          22,
          23,
          23,
          23,
          23,
          23,
          23,
          23,
          23,
          23,
          23,
          23,
          23,
          24,
          24,
          24,
          24,
          24,
          24,
          24,
          24,
          24,
          24,
          24,
          24,
          25,
          25,
          25,
          25,
          25,
          25,
          25,
          25,
          25,
          25,
          25,
          25,
          26,
          26,
          26,
          26,
          26,
          26,
          26,
          26,
          26,
          26,
          26,
          26,
          27,
          27,
          27,
          27,
          27,
          27,
          27,
          27,
          27,
          27,
          27,
          27,
          28,
          28,
          28,
          28,
          28,
          28,
          28,
          28,
          28,
          28,
          28,
          28,
          29,
          29,
          29,
          29,
          29,
          29,
          29,
          29,
          29,
          29,
          29,
          30,
          30,
          30,
          30,
          30,
          30,
          30,
          30,
          30,
          30,
          30,
          31,
          31,
          31,
          31,
          31,
          31,
          31
         ],
         "yaxis": "y"
        }
       ],
       "layout": {
        "coloraxis": {
         "colorbar": {
          "title": {
           "text": "total_elevation_gain"
          }
         },
         "colorscale": [
          [
           0,
           "#0d0887"
          ],
          [
           0.1111111111111111,
           "#46039f"
          ],
          [
           0.2222222222222222,
           "#7201a8"
          ],
          [
           0.3333333333333333,
           "#9c179e"
          ],
          [
           0.4444444444444444,
           "#bd3786"
          ],
          [
           0.5555555555555556,
           "#d8576b"
          ],
          [
           0.6666666666666666,
           "#ed7953"
          ],
          [
           0.7777777777777778,
           "#fb9f3a"
          ],
          [
           0.8888888888888888,
           "#fdca26"
          ],
          [
           1,
           "#f0f921"
          ]
         ]
        },
        "legend": {
         "itemsizing": "constant",
         "tracegroupgap": 0
        },
        "margin": {
         "t": 60
        },
        "template": {
         "data": {
          "bar": [
           {
            "error_x": {
             "color": "#2a3f5f"
            },
            "error_y": {
             "color": "#2a3f5f"
            },
            "marker": {
             "line": {
              "color": "#E5ECF6",
              "width": 0.5
             },
             "pattern": {
              "fillmode": "overlay",
              "size": 10,
              "solidity": 0.2
             }
            },
            "type": "bar"
           }
          ],
          "barpolar": [
           {
            "marker": {
             "line": {
              "color": "#E5ECF6",
              "width": 0.5
             },
             "pattern": {
              "fillmode": "overlay",
              "size": 10,
              "solidity": 0.2
             }
            },
            "type": "barpolar"
           }
          ],
          "carpet": [
           {
            "aaxis": {
             "endlinecolor": "#2a3f5f",
             "gridcolor": "white",
             "linecolor": "white",
             "minorgridcolor": "white",
             "startlinecolor": "#2a3f5f"
            },
            "baxis": {
             "endlinecolor": "#2a3f5f",
             "gridcolor": "white",
             "linecolor": "white",
             "minorgridcolor": "white",
             "startlinecolor": "#2a3f5f"
            },
            "type": "carpet"
           }
          ],
          "choropleth": [
           {
            "colorbar": {
             "outlinewidth": 0,
             "ticks": ""
            },
            "type": "choropleth"
           }
          ],
          "contour": [
           {
            "colorbar": {
             "outlinewidth": 0,
             "ticks": ""
            },
            "colorscale": [
             [
              0,
              "#0d0887"
             ],
             [
              0.1111111111111111,
              "#46039f"
             ],
             [
              0.2222222222222222,
              "#7201a8"
             ],
             [
              0.3333333333333333,
              "#9c179e"
             ],
             [
              0.4444444444444444,
              "#bd3786"
             ],
             [
              0.5555555555555556,
              "#d8576b"
             ],
             [
              0.6666666666666666,
              "#ed7953"
             ],
             [
              0.7777777777777778,
              "#fb9f3a"
             ],
             [
              0.8888888888888888,
              "#fdca26"
             ],
             [
              1,
              "#f0f921"
             ]
            ],
            "type": "contour"
           }
          ],
          "contourcarpet": [
           {
            "colorbar": {
             "outlinewidth": 0,
             "ticks": ""
            },
            "type": "contourcarpet"
           }
          ],
          "heatmap": [
           {
            "colorbar": {
             "outlinewidth": 0,
             "ticks": ""
            },
            "colorscale": [
             [
              0,
              "#0d0887"
             ],
             [
              0.1111111111111111,
              "#46039f"
             ],
             [
              0.2222222222222222,
              "#7201a8"
             ],
             [
              0.3333333333333333,
              "#9c179e"
             ],
             [
              0.4444444444444444,
              "#bd3786"
             ],
             [
              0.5555555555555556,
              "#d8576b"
             ],
             [
              0.6666666666666666,
              "#ed7953"
             ],
             [
              0.7777777777777778,
              "#fb9f3a"
             ],
             [
              0.8888888888888888,
              "#fdca26"
             ],
             [
              1,
              "#f0f921"
             ]
            ],
            "type": "heatmap"
           }
          ],
          "heatmapgl": [
           {
            "colorbar": {
             "outlinewidth": 0,
             "ticks": ""
            },
            "colorscale": [
             [
              0,
              "#0d0887"
             ],
             [
              0.1111111111111111,
              "#46039f"
             ],
             [
              0.2222222222222222,
              "#7201a8"
             ],
             [
              0.3333333333333333,
              "#9c179e"
             ],
             [
              0.4444444444444444,
              "#bd3786"
             ],
             [
              0.5555555555555556,
              "#d8576b"
             ],
             [
              0.6666666666666666,
              "#ed7953"
             ],
             [
              0.7777777777777778,
              "#fb9f3a"
             ],
             [
              0.8888888888888888,
              "#fdca26"
             ],
             [
              1,
              "#f0f921"
             ]
            ],
            "type": "heatmapgl"
           }
          ],
          "histogram": [
           {
            "marker": {
             "pattern": {
              "fillmode": "overlay",
              "size": 10,
              "solidity": 0.2
             }
            },
            "type": "histogram"
           }
          ],
          "histogram2d": [
           {
            "colorbar": {
             "outlinewidth": 0,
             "ticks": ""
            },
            "colorscale": [
             [
              0,
              "#0d0887"
             ],
             [
              0.1111111111111111,
              "#46039f"
             ],
             [
              0.2222222222222222,
              "#7201a8"
             ],
             [
              0.3333333333333333,
              "#9c179e"
             ],
             [
              0.4444444444444444,
              "#bd3786"
             ],
             [
              0.5555555555555556,
              "#d8576b"
             ],
             [
              0.6666666666666666,
              "#ed7953"
             ],
             [
              0.7777777777777778,
              "#fb9f3a"
             ],
             [
              0.8888888888888888,
              "#fdca26"
             ],
             [
              1,
              "#f0f921"
             ]
            ],
            "type": "histogram2d"
           }
          ],
          "histogram2dcontour": [
           {
            "colorbar": {
             "outlinewidth": 0,
             "ticks": ""
            },
            "colorscale": [
             [
              0,
              "#0d0887"
             ],
             [
              0.1111111111111111,
              "#46039f"
             ],
             [
              0.2222222222222222,
              "#7201a8"
             ],
             [
              0.3333333333333333,
              "#9c179e"
             ],
             [
              0.4444444444444444,
              "#bd3786"
             ],
             [
              0.5555555555555556,
              "#d8576b"
             ],
             [
              0.6666666666666666,
              "#ed7953"
             ],
             [
              0.7777777777777778,
              "#fb9f3a"
             ],
             [
              0.8888888888888888,
              "#fdca26"
             ],
             [
              1,
              "#f0f921"
             ]
            ],
            "type": "histogram2dcontour"
           }
          ],
          "mesh3d": [
           {
            "colorbar": {
             "outlinewidth": 0,
             "ticks": ""
            },
            "type": "mesh3d"
           }
          ],
          "parcoords": [
           {
            "line": {
             "colorbar": {
              "outlinewidth": 0,
              "ticks": ""
             }
            },
            "type": "parcoords"
           }
          ],
          "pie": [
           {
            "automargin": true,
            "type": "pie"
           }
          ],
          "scatter": [
           {
            "fillpattern": {
             "fillmode": "overlay",
             "size": 10,
             "solidity": 0.2
            },
            "type": "scatter"
           }
          ],
          "scatter3d": [
           {
            "line": {
             "colorbar": {
              "outlinewidth": 0,
              "ticks": ""
             }
            },
            "marker": {
             "colorbar": {
              "outlinewidth": 0,
              "ticks": ""
             }
            },
            "type": "scatter3d"
           }
          ],
          "scattercarpet": [
           {
            "marker": {
             "colorbar": {
              "outlinewidth": 0,
              "ticks": ""
             }
            },
            "type": "scattercarpet"
           }
          ],
          "scattergeo": [
           {
            "marker": {
             "colorbar": {
              "outlinewidth": 0,
              "ticks": ""
             }
            },
            "type": "scattergeo"
           }
          ],
          "scattergl": [
           {
            "marker": {
             "colorbar": {
              "outlinewidth": 0,
              "ticks": ""
             }
            },
            "type": "scattergl"
           }
          ],
          "scattermapbox": [
           {
            "marker": {
             "colorbar": {
              "outlinewidth": 0,
              "ticks": ""
             }
            },
            "type": "scattermapbox"
           }
          ],
          "scatterpolar": [
           {
            "marker": {
             "colorbar": {
              "outlinewidth": 0,
              "ticks": ""
             }
            },
            "type": "scatterpolar"
           }
          ],
          "scatterpolargl": [
           {
            "marker": {
             "colorbar": {
              "outlinewidth": 0,
              "ticks": ""
             }
            },
            "type": "scatterpolargl"
           }
          ],
          "scatterternary": [
           {
            "marker": {
             "colorbar": {
              "outlinewidth": 0,
              "ticks": ""
             }
            },
            "type": "scatterternary"
           }
          ],
          "surface": [
           {
            "colorbar": {
             "outlinewidth": 0,
             "ticks": ""
            },
            "colorscale": [
             [
              0,
              "#0d0887"
             ],
             [
              0.1111111111111111,
              "#46039f"
             ],
             [
              0.2222222222222222,
              "#7201a8"
             ],
             [
              0.3333333333333333,
              "#9c179e"
             ],
             [
              0.4444444444444444,
              "#bd3786"
             ],
             [
              0.5555555555555556,
              "#d8576b"
             ],
             [
              0.6666666666666666,
              "#ed7953"
             ],
             [
              0.7777777777777778,
              "#fb9f3a"
             ],
             [
              0.8888888888888888,
              "#fdca26"
             ],
             [
              1,
              "#f0f921"
             ]
            ],
            "type": "surface"
           }
          ],
          "table": [
           {
            "cells": {
             "fill": {
              "color": "#EBF0F8"
             },
             "line": {
              "color": "white"
             }
            },
            "header": {
             "fill": {
              "color": "#C8D4E3"
             },
             "line": {
              "color": "white"
             }
            },
            "type": "table"
           }
          ]
         },
         "layout": {
          "annotationdefaults": {
           "arrowcolor": "#2a3f5f",
           "arrowhead": 0,
           "arrowwidth": 1
          },
          "autotypenumbers": "strict",
          "coloraxis": {
           "colorbar": {
            "outlinewidth": 0,
            "ticks": ""
           }
          },
          "colorscale": {
           "diverging": [
            [
             0,
             "#8e0152"
            ],
            [
             0.1,
             "#c51b7d"
            ],
            [
             0.2,
             "#de77ae"
            ],
            [
             0.3,
             "#f1b6da"
            ],
            [
             0.4,
             "#fde0ef"
            ],
            [
             0.5,
             "#f7f7f7"
            ],
            [
             0.6,
             "#e6f5d0"
            ],
            [
             0.7,
             "#b8e186"
            ],
            [
             0.8,
             "#7fbc41"
            ],
            [
             0.9,
             "#4d9221"
            ],
            [
             1,
             "#276419"
            ]
           ],
           "sequential": [
            [
             0,
             "#0d0887"
            ],
            [
             0.1111111111111111,
             "#46039f"
            ],
            [
             0.2222222222222222,
             "#7201a8"
            ],
            [
             0.3333333333333333,
             "#9c179e"
            ],
            [
             0.4444444444444444,
             "#bd3786"
            ],
            [
             0.5555555555555556,
             "#d8576b"
            ],
            [
             0.6666666666666666,
             "#ed7953"
            ],
            [
             0.7777777777777778,
             "#fb9f3a"
            ],
            [
             0.8888888888888888,
             "#fdca26"
            ],
            [
             1,
             "#f0f921"
            ]
           ],
           "sequentialminus": [
            [
             0,
             "#0d0887"
            ],
            [
             0.1111111111111111,
             "#46039f"
            ],
            [
             0.2222222222222222,
             "#7201a8"
            ],
            [
             0.3333333333333333,
             "#9c179e"
            ],
            [
             0.4444444444444444,
             "#bd3786"
            ],
            [
             0.5555555555555556,
             "#d8576b"
            ],
            [
             0.6666666666666666,
             "#ed7953"
            ],
            [
             0.7777777777777778,
             "#fb9f3a"
            ],
            [
             0.8888888888888888,
             "#fdca26"
            ],
            [
             1,
             "#f0f921"
            ]
           ]
          },
          "colorway": [
           "#636efa",
           "#EF553B",
           "#00cc96",
           "#ab63fa",
           "#FFA15A",
           "#19d3f3",
           "#FF6692",
           "#B6E880",
           "#FF97FF",
           "#FECB52"
          ],
          "font": {
           "color": "#2a3f5f"
          },
          "geo": {
           "bgcolor": "white",
           "lakecolor": "white",
           "landcolor": "#E5ECF6",
           "showlakes": true,
           "showland": true,
           "subunitcolor": "white"
          },
          "hoverlabel": {
           "align": "left"
          },
          "hovermode": "closest",
          "mapbox": {
           "style": "light"
          },
          "paper_bgcolor": "white",
          "plot_bgcolor": "#E5ECF6",
          "polar": {
           "angularaxis": {
            "gridcolor": "white",
            "linecolor": "white",
            "ticks": ""
           },
           "bgcolor": "#E5ECF6",
           "radialaxis": {
            "gridcolor": "white",
            "linecolor": "white",
            "ticks": ""
           }
          },
          "scene": {
           "xaxis": {
            "backgroundcolor": "#E5ECF6",
            "gridcolor": "white",
            "gridwidth": 2,
            "linecolor": "white",
            "showbackground": true,
            "ticks": "",
            "zerolinecolor": "white"
           },
           "yaxis": {
            "backgroundcolor": "#E5ECF6",
            "gridcolor": "white",
            "gridwidth": 2,
            "linecolor": "white",
            "showbackground": true,
            "ticks": "",
            "zerolinecolor": "white"
           },
           "zaxis": {
            "backgroundcolor": "#E5ECF6",
            "gridcolor": "white",
            "gridwidth": 2,
            "linecolor": "white",
            "showbackground": true,
            "ticks": "",
            "zerolinecolor": "white"
           }
          },
          "shapedefaults": {
           "line": {
            "color": "#2a3f5f"
           }
          },
          "ternary": {
           "aaxis": {
            "gridcolor": "white",
            "linecolor": "white",
            "ticks": ""
           },
           "baxis": {
            "gridcolor": "white",
            "linecolor": "white",
            "ticks": ""
           },
           "bgcolor": "#E5ECF6",
           "caxis": {
            "gridcolor": "white",
            "linecolor": "white",
            "ticks": ""
           }
          },
          "title": {
           "x": 0.05
          },
          "xaxis": {
           "automargin": true,
           "gridcolor": "white",
           "linecolor": "white",
           "ticks": "",
           "title": {
            "standoff": 15
           },
           "zerolinecolor": "white",
           "zerolinewidth": 2
          },
          "yaxis": {
           "automargin": true,
           "gridcolor": "white",
           "linecolor": "white",
           "ticks": "",
           "title": {
            "standoff": 15
           },
           "zerolinecolor": "white",
           "zerolinewidth": 2
          }
         }
        },
        "xaxis": {
         "anchor": "y",
         "categoryarray": [
          "January",
          "February",
          "March",
          "April",
          "May",
          "June",
          "July",
          "August",
          "September",
          "October",
          "November",
          "December"
         ],
         "categoryorder": "array",
         "domain": [
          0,
          1
         ],
         "title": {
          "text": "month"
         }
        },
        "yaxis": {
         "anchor": "x",
         "domain": [
          0,
          1
         ],
         "title": {
          "text": "day_of_month"
         }
        }
       }
      }
     },
     "metadata": {},
     "output_type": "display_data"
    }
   ],
   "source": [
    "# Most active days of the year (based on max activity elevtion and time)\n",
    "scatter = px.scatter(df.groupby(['day_of_month', 'month']).agg({'total_elevation_gain':'max',\n",
    "                                                  'hours': 'max'}).reset_index(), \n",
    "                 x='month', \n",
    "                 y='day_of_month', \n",
    "                 color='total_elevation_gain', \n",
    "                 size='hours',\n",
    "                 category_orders={\"month\": [\"January\", \"February\", \"March\", \"April\", \"May\", \"June\", \"July\", \"August\", \"September\", \"October\", \"November\", \"December\"]})\n",
    "scatter.show()"
   ]
  },
  {
   "cell_type": "code",
   "execution_count": 166,
   "metadata": {},
   "outputs": [],
   "source": [
    "elevation_filter = df[~df['type'].isin(omit_types)]\n",
    "elevation_grouped = elevation_filter.groupby(['month', 'type']).agg({'total_elevation_gain': 'sum'}).reset_index()"
   ]
  },
  {
   "cell_type": "code",
   "execution_count": 167,
   "metadata": {},
   "outputs": [
    {
     "data": {
      "application/vnd.plotly.v1+json": {
       "config": {
        "plotlyServerURL": "https://plot.ly"
       },
       "data": [
        {
         "alignmentgroup": "True",
         "hovertemplate": "type=BackcountrySki<br>month=%{x}<br>total_elevation_gain=%{y}<extra></extra>",
         "legendgroup": "BackcountrySki",
         "marker": {
          "color": "#636efa",
          "pattern": {
           "shape": ""
          }
         },
         "name": "BackcountrySki",
         "offsetgroup": "BackcountrySki",
         "orientation": "v",
         "showlegend": true,
         "textposition": "auto",
         "type": "bar",
         "x": [
          "April",
          "December",
          "February",
          "January",
          "March",
          "May",
          "November",
          "October"
         ],
         "xaxis": "x",
         "y": [
          3441.6,
          27089.87,
          19191.27,
          30973.08,
          7026.25,
          1023.63,
          14164.7,
          1607.61
         ],
         "yaxis": "y"
        },
        {
         "alignmentgroup": "True",
         "hovertemplate": "type=Ride<br>month=%{x}<br>total_elevation_gain=%{y}<extra></extra>",
         "legendgroup": "Ride",
         "marker": {
          "color": "#EF553B",
          "pattern": {
           "shape": ""
          }
         },
         "name": "Ride",
         "offsetgroup": "Ride",
         "orientation": "v",
         "showlegend": true,
         "textposition": "auto",
         "type": "bar",
         "x": [
          "April",
          "August",
          "December",
          "February",
          "January",
          "July",
          "June",
          "March",
          "May",
          "November",
          "October",
          "September"
         ],
         "xaxis": "x",
         "y": [
          10531.49,
          12109.56,
          2959.97,
          2108.28,
          1459.97,
          17599.75,
          8271.01,
          13371.06,
          20647.3,
          12015.76,
          18380.579999999998,
          24713.91
         ],
         "yaxis": "y"
        },
        {
         "alignmentgroup": "True",
         "hovertemplate": "type=Run<br>month=%{x}<br>total_elevation_gain=%{y}<extra></extra>",
         "legendgroup": "Run",
         "marker": {
          "color": "#00cc96",
          "pattern": {
           "shape": ""
          }
         },
         "name": "Run",
         "offsetgroup": "Run",
         "orientation": "v",
         "showlegend": true,
         "textposition": "auto",
         "type": "bar",
         "x": [
          "April",
          "August",
          "December",
          "February",
          "January",
          "July",
          "June",
          "March",
          "May",
          "November",
          "October",
          "September"
         ],
         "xaxis": "x",
         "y": [
          140268.68,
          130406.52,
          92690.65,
          120808.75,
          112581.1,
          184320.58,
          169366.46,
          128292.31,
          114964.91,
          102476.45,
          130999.35,
          107619.75
         ],
         "yaxis": "y"
        },
        {
         "alignmentgroup": "True",
         "hovertemplate": "type=NordicSki<br>month=%{x}<br>total_elevation_gain=%{y}<extra></extra>",
         "legendgroup": "NordicSki",
         "marker": {
          "color": "#ab63fa",
          "pattern": {
           "shape": ""
          }
         },
         "name": "NordicSki",
         "offsetgroup": "NordicSki",
         "orientation": "v",
         "showlegend": true,
         "textposition": "auto",
         "type": "bar",
         "x": [
          "December",
          "February"
         ],
         "xaxis": "x",
         "y": [
          2237.5299999999997,
          734.91
         ],
         "yaxis": "y"
        }
       ],
       "layout": {
        "barmode": "relative",
        "legend": {
         "title": {
          "text": "type"
         },
         "tracegroupgap": 0
        },
        "template": {
         "data": {
          "bar": [
           {
            "error_x": {
             "color": "#2a3f5f"
            },
            "error_y": {
             "color": "#2a3f5f"
            },
            "marker": {
             "line": {
              "color": "#E5ECF6",
              "width": 0.5
             },
             "pattern": {
              "fillmode": "overlay",
              "size": 10,
              "solidity": 0.2
             }
            },
            "type": "bar"
           }
          ],
          "barpolar": [
           {
            "marker": {
             "line": {
              "color": "#E5ECF6",
              "width": 0.5
             },
             "pattern": {
              "fillmode": "overlay",
              "size": 10,
              "solidity": 0.2
             }
            },
            "type": "barpolar"
           }
          ],
          "carpet": [
           {
            "aaxis": {
             "endlinecolor": "#2a3f5f",
             "gridcolor": "white",
             "linecolor": "white",
             "minorgridcolor": "white",
             "startlinecolor": "#2a3f5f"
            },
            "baxis": {
             "endlinecolor": "#2a3f5f",
             "gridcolor": "white",
             "linecolor": "white",
             "minorgridcolor": "white",
             "startlinecolor": "#2a3f5f"
            },
            "type": "carpet"
           }
          ],
          "choropleth": [
           {
            "colorbar": {
             "outlinewidth": 0,
             "ticks": ""
            },
            "type": "choropleth"
           }
          ],
          "contour": [
           {
            "colorbar": {
             "outlinewidth": 0,
             "ticks": ""
            },
            "colorscale": [
             [
              0,
              "#0d0887"
             ],
             [
              0.1111111111111111,
              "#46039f"
             ],
             [
              0.2222222222222222,
              "#7201a8"
             ],
             [
              0.3333333333333333,
              "#9c179e"
             ],
             [
              0.4444444444444444,
              "#bd3786"
             ],
             [
              0.5555555555555556,
              "#d8576b"
             ],
             [
              0.6666666666666666,
              "#ed7953"
             ],
             [
              0.7777777777777778,
              "#fb9f3a"
             ],
             [
              0.8888888888888888,
              "#fdca26"
             ],
             [
              1,
              "#f0f921"
             ]
            ],
            "type": "contour"
           }
          ],
          "contourcarpet": [
           {
            "colorbar": {
             "outlinewidth": 0,
             "ticks": ""
            },
            "type": "contourcarpet"
           }
          ],
          "heatmap": [
           {
            "colorbar": {
             "outlinewidth": 0,
             "ticks": ""
            },
            "colorscale": [
             [
              0,
              "#0d0887"
             ],
             [
              0.1111111111111111,
              "#46039f"
             ],
             [
              0.2222222222222222,
              "#7201a8"
             ],
             [
              0.3333333333333333,
              "#9c179e"
             ],
             [
              0.4444444444444444,
              "#bd3786"
             ],
             [
              0.5555555555555556,
              "#d8576b"
             ],
             [
              0.6666666666666666,
              "#ed7953"
             ],
             [
              0.7777777777777778,
              "#fb9f3a"
             ],
             [
              0.8888888888888888,
              "#fdca26"
             ],
             [
              1,
              "#f0f921"
             ]
            ],
            "type": "heatmap"
           }
          ],
          "heatmapgl": [
           {
            "colorbar": {
             "outlinewidth": 0,
             "ticks": ""
            },
            "colorscale": [
             [
              0,
              "#0d0887"
             ],
             [
              0.1111111111111111,
              "#46039f"
             ],
             [
              0.2222222222222222,
              "#7201a8"
             ],
             [
              0.3333333333333333,
              "#9c179e"
             ],
             [
              0.4444444444444444,
              "#bd3786"
             ],
             [
              0.5555555555555556,
              "#d8576b"
             ],
             [
              0.6666666666666666,
              "#ed7953"
             ],
             [
              0.7777777777777778,
              "#fb9f3a"
             ],
             [
              0.8888888888888888,
              "#fdca26"
             ],
             [
              1,
              "#f0f921"
             ]
            ],
            "type": "heatmapgl"
           }
          ],
          "histogram": [
           {
            "marker": {
             "pattern": {
              "fillmode": "overlay",
              "size": 10,
              "solidity": 0.2
             }
            },
            "type": "histogram"
           }
          ],
          "histogram2d": [
           {
            "colorbar": {
             "outlinewidth": 0,
             "ticks": ""
            },
            "colorscale": [
             [
              0,
              "#0d0887"
             ],
             [
              0.1111111111111111,
              "#46039f"
             ],
             [
              0.2222222222222222,
              "#7201a8"
             ],
             [
              0.3333333333333333,
              "#9c179e"
             ],
             [
              0.4444444444444444,
              "#bd3786"
             ],
             [
              0.5555555555555556,
              "#d8576b"
             ],
             [
              0.6666666666666666,
              "#ed7953"
             ],
             [
              0.7777777777777778,
              "#fb9f3a"
             ],
             [
              0.8888888888888888,
              "#fdca26"
             ],
             [
              1,
              "#f0f921"
             ]
            ],
            "type": "histogram2d"
           }
          ],
          "histogram2dcontour": [
           {
            "colorbar": {
             "outlinewidth": 0,
             "ticks": ""
            },
            "colorscale": [
             [
              0,
              "#0d0887"
             ],
             [
              0.1111111111111111,
              "#46039f"
             ],
             [
              0.2222222222222222,
              "#7201a8"
             ],
             [
              0.3333333333333333,
              "#9c179e"
             ],
             [
              0.4444444444444444,
              "#bd3786"
             ],
             [
              0.5555555555555556,
              "#d8576b"
             ],
             [
              0.6666666666666666,
              "#ed7953"
             ],
             [
              0.7777777777777778,
              "#fb9f3a"
             ],
             [
              0.8888888888888888,
              "#fdca26"
             ],
             [
              1,
              "#f0f921"
             ]
            ],
            "type": "histogram2dcontour"
           }
          ],
          "mesh3d": [
           {
            "colorbar": {
             "outlinewidth": 0,
             "ticks": ""
            },
            "type": "mesh3d"
           }
          ],
          "parcoords": [
           {
            "line": {
             "colorbar": {
              "outlinewidth": 0,
              "ticks": ""
             }
            },
            "type": "parcoords"
           }
          ],
          "pie": [
           {
            "automargin": true,
            "type": "pie"
           }
          ],
          "scatter": [
           {
            "fillpattern": {
             "fillmode": "overlay",
             "size": 10,
             "solidity": 0.2
            },
            "type": "scatter"
           }
          ],
          "scatter3d": [
           {
            "line": {
             "colorbar": {
              "outlinewidth": 0,
              "ticks": ""
             }
            },
            "marker": {
             "colorbar": {
              "outlinewidth": 0,
              "ticks": ""
             }
            },
            "type": "scatter3d"
           }
          ],
          "scattercarpet": [
           {
            "marker": {
             "colorbar": {
              "outlinewidth": 0,
              "ticks": ""
             }
            },
            "type": "scattercarpet"
           }
          ],
          "scattergeo": [
           {
            "marker": {
             "colorbar": {
              "outlinewidth": 0,
              "ticks": ""
             }
            },
            "type": "scattergeo"
           }
          ],
          "scattergl": [
           {
            "marker": {
             "colorbar": {
              "outlinewidth": 0,
              "ticks": ""
             }
            },
            "type": "scattergl"
           }
          ],
          "scattermapbox": [
           {
            "marker": {
             "colorbar": {
              "outlinewidth": 0,
              "ticks": ""
             }
            },
            "type": "scattermapbox"
           }
          ],
          "scatterpolar": [
           {
            "marker": {
             "colorbar": {
              "outlinewidth": 0,
              "ticks": ""
             }
            },
            "type": "scatterpolar"
           }
          ],
          "scatterpolargl": [
           {
            "marker": {
             "colorbar": {
              "outlinewidth": 0,
              "ticks": ""
             }
            },
            "type": "scatterpolargl"
           }
          ],
          "scatterternary": [
           {
            "marker": {
             "colorbar": {
              "outlinewidth": 0,
              "ticks": ""
             }
            },
            "type": "scatterternary"
           }
          ],
          "surface": [
           {
            "colorbar": {
             "outlinewidth": 0,
             "ticks": ""
            },
            "colorscale": [
             [
              0,
              "#0d0887"
             ],
             [
              0.1111111111111111,
              "#46039f"
             ],
             [
              0.2222222222222222,
              "#7201a8"
             ],
             [
              0.3333333333333333,
              "#9c179e"
             ],
             [
              0.4444444444444444,
              "#bd3786"
             ],
             [
              0.5555555555555556,
              "#d8576b"
             ],
             [
              0.6666666666666666,
              "#ed7953"
             ],
             [
              0.7777777777777778,
              "#fb9f3a"
             ],
             [
              0.8888888888888888,
              "#fdca26"
             ],
             [
              1,
              "#f0f921"
             ]
            ],
            "type": "surface"
           }
          ],
          "table": [
           {
            "cells": {
             "fill": {
              "color": "#EBF0F8"
             },
             "line": {
              "color": "white"
             }
            },
            "header": {
             "fill": {
              "color": "#C8D4E3"
             },
             "line": {
              "color": "white"
             }
            },
            "type": "table"
           }
          ]
         },
         "layout": {
          "annotationdefaults": {
           "arrowcolor": "#2a3f5f",
           "arrowhead": 0,
           "arrowwidth": 1
          },
          "autotypenumbers": "strict",
          "coloraxis": {
           "colorbar": {
            "outlinewidth": 0,
            "ticks": ""
           }
          },
          "colorscale": {
           "diverging": [
            [
             0,
             "#8e0152"
            ],
            [
             0.1,
             "#c51b7d"
            ],
            [
             0.2,
             "#de77ae"
            ],
            [
             0.3,
             "#f1b6da"
            ],
            [
             0.4,
             "#fde0ef"
            ],
            [
             0.5,
             "#f7f7f7"
            ],
            [
             0.6,
             "#e6f5d0"
            ],
            [
             0.7,
             "#b8e186"
            ],
            [
             0.8,
             "#7fbc41"
            ],
            [
             0.9,
             "#4d9221"
            ],
            [
             1,
             "#276419"
            ]
           ],
           "sequential": [
            [
             0,
             "#0d0887"
            ],
            [
             0.1111111111111111,
             "#46039f"
            ],
            [
             0.2222222222222222,
             "#7201a8"
            ],
            [
             0.3333333333333333,
             "#9c179e"
            ],
            [
             0.4444444444444444,
             "#bd3786"
            ],
            [
             0.5555555555555556,
             "#d8576b"
            ],
            [
             0.6666666666666666,
             "#ed7953"
            ],
            [
             0.7777777777777778,
             "#fb9f3a"
            ],
            [
             0.8888888888888888,
             "#fdca26"
            ],
            [
             1,
             "#f0f921"
            ]
           ],
           "sequentialminus": [
            [
             0,
             "#0d0887"
            ],
            [
             0.1111111111111111,
             "#46039f"
            ],
            [
             0.2222222222222222,
             "#7201a8"
            ],
            [
             0.3333333333333333,
             "#9c179e"
            ],
            [
             0.4444444444444444,
             "#bd3786"
            ],
            [
             0.5555555555555556,
             "#d8576b"
            ],
            [
             0.6666666666666666,
             "#ed7953"
            ],
            [
             0.7777777777777778,
             "#fb9f3a"
            ],
            [
             0.8888888888888888,
             "#fdca26"
            ],
            [
             1,
             "#f0f921"
            ]
           ]
          },
          "colorway": [
           "#636efa",
           "#EF553B",
           "#00cc96",
           "#ab63fa",
           "#FFA15A",
           "#19d3f3",
           "#FF6692",
           "#B6E880",
           "#FF97FF",
           "#FECB52"
          ],
          "font": {
           "color": "#2a3f5f"
          },
          "geo": {
           "bgcolor": "white",
           "lakecolor": "white",
           "landcolor": "#E5ECF6",
           "showlakes": true,
           "showland": true,
           "subunitcolor": "white"
          },
          "hoverlabel": {
           "align": "left"
          },
          "hovermode": "closest",
          "mapbox": {
           "style": "light"
          },
          "paper_bgcolor": "white",
          "plot_bgcolor": "#E5ECF6",
          "polar": {
           "angularaxis": {
            "gridcolor": "white",
            "linecolor": "white",
            "ticks": ""
           },
           "bgcolor": "#E5ECF6",
           "radialaxis": {
            "gridcolor": "white",
            "linecolor": "white",
            "ticks": ""
           }
          },
          "scene": {
           "xaxis": {
            "backgroundcolor": "#E5ECF6",
            "gridcolor": "white",
            "gridwidth": 2,
            "linecolor": "white",
            "showbackground": true,
            "ticks": "",
            "zerolinecolor": "white"
           },
           "yaxis": {
            "backgroundcolor": "#E5ECF6",
            "gridcolor": "white",
            "gridwidth": 2,
            "linecolor": "white",
            "showbackground": true,
            "ticks": "",
            "zerolinecolor": "white"
           },
           "zaxis": {
            "backgroundcolor": "#E5ECF6",
            "gridcolor": "white",
            "gridwidth": 2,
            "linecolor": "white",
            "showbackground": true,
            "ticks": "",
            "zerolinecolor": "white"
           }
          },
          "shapedefaults": {
           "line": {
            "color": "#2a3f5f"
           }
          },
          "ternary": {
           "aaxis": {
            "gridcolor": "white",
            "linecolor": "white",
            "ticks": ""
           },
           "baxis": {
            "gridcolor": "white",
            "linecolor": "white",
            "ticks": ""
           },
           "bgcolor": "#E5ECF6",
           "caxis": {
            "gridcolor": "white",
            "linecolor": "white",
            "ticks": ""
           }
          },
          "title": {
           "x": 0.05
          },
          "xaxis": {
           "automargin": true,
           "gridcolor": "white",
           "linecolor": "white",
           "ticks": "",
           "title": {
            "standoff": 15
           },
           "zerolinecolor": "white",
           "zerolinewidth": 2
          },
          "yaxis": {
           "automargin": true,
           "gridcolor": "white",
           "linecolor": "white",
           "ticks": "",
           "title": {
            "standoff": 15
           },
           "zerolinecolor": "white",
           "zerolinewidth": 2
          }
         }
        },
        "title": {
         "text": "All-Time Elevation Gain by Month"
        },
        "xaxis": {
         "anchor": "y",
         "domain": [
          0,
          1
         ],
         "title": {
          "text": "month"
         }
        },
        "yaxis": {
         "anchor": "x",
         "domain": [
          0,
          1
         ],
         "title": {
          "text": "total_elevation_gain"
         }
        }
       }
      }
     },
     "metadata": {},
     "output_type": "display_data"
    }
   ],
   "source": [
    "# Elevation gain by month stacked bar\n",
    "gain_x_month_bar = px.bar(elevation_grouped, \n",
    "                          x=\"month\", \n",
    "                          y=\"total_elevation_gain\", \n",
    "                          color=\"type\", \n",
    "                          title='All-Time Elevation Gain by Month'\n",
    "                         )\n",
    "\n",
    "gain_x_month_bar.show()"
   ]
  },
  {
   "cell_type": "code",
   "execution_count": 168,
   "metadata": {},
   "outputs": [
    {
     "data": {
      "application/vnd.plotly.v1+json": {
       "config": {
        "plotlyServerURL": "https://plot.ly"
       },
       "data": [
        {
         "hovertemplate": "year=2015<br>day_of_year=%{x}<br>total_elevation_gain=%{y}<extra></extra>",
         "legendgroup": "2015",
         "line": {
          "color": "#636efa",
          "dash": "solid"
         },
         "marker": {
          "symbol": "circle"
         },
         "mode": "lines",
         "name": "2015",
         "showlegend": true,
         "type": "scattergl",
         "x": [
          185
         ],
         "xaxis": "x",
         "y": [
          205.05
         ],
         "yaxis": "y"
        },
        {
         "hovertemplate": "year=2016<br>day_of_year=%{x}<br>total_elevation_gain=%{y}<extra></extra>",
         "legendgroup": "2016",
         "line": {
          "color": "#EF553B",
          "dash": "solid"
         },
         "marker": {
          "symbol": "circle"
         },
         "mode": "lines",
         "name": "2016",
         "showlegend": true,
         "type": "scattergl",
         "x": [
          2,
          3,
          6,
          9,
          12,
          17,
          23,
          24,
          26,
          30,
          31,
          33,
          37,
          40,
          47,
          51,
          54,
          58,
          78,
          79,
          80,
          82,
          86,
          89,
          90,
          93,
          94,
          97,
          100,
          103,
          104,
          105,
          107,
          108,
          110,
          114,
          121,
          125,
          127,
          131,
          135,
          145,
          149,
          154,
          161,
          162,
          163,
          164,
          166,
          167,
          169,
          170,
          171,
          174,
          175,
          177,
          179,
          180,
          184,
          185,
          186,
          187,
          189,
          191,
          194,
          196,
          197,
          199,
          200,
          201,
          202,
          203,
          205,
          206,
          208,
          218,
          220,
          226,
          237,
          238,
          240,
          244,
          245,
          247,
          248,
          251,
          252,
          253,
          254,
          255,
          257,
          258,
          260,
          262,
          263,
          265,
          266,
          268,
          269,
          271,
          272,
          275,
          278,
          279,
          280,
          282,
          283,
          285,
          286,
          287,
          288,
          289,
          290,
          292,
          293,
          294,
          295,
          296,
          297,
          299,
          300,
          302,
          304,
          306,
          307,
          308,
          309,
          310,
          311,
          313,
          314,
          316,
          320,
          321,
          324,
          325,
          329,
          330,
          331,
          332,
          333,
          335,
          337,
          338,
          339,
          342,
          343,
          344,
          345,
          347,
          348,
          349,
          350,
          351,
          353,
          354,
          356,
          357,
          359,
          362,
          363,
          364,
          365
         ],
         "xaxis": "x",
         "y": [
          368.77,
          1130.25,
          1741.1399999999999,
          4132.219999999999,
          5287.73,
          6617.13,
          7873.69,
          9801.51,
          11802.82,
          14884.84,
          16209.64,
          16609.25,
          18554.79,
          20161.09,
          22159.78,
          23817.92,
          26706.37,
          27470.809999999998,
          28389.45,
          29345.489999999998,
          31134.86,
          32940.63,
          36936.69,
          37842.2,
          38688.659999999996,
          40932.75,
          42189.31,
          43452.43,
          45817.92,
          47258.21,
          48593.51,
          49223.43,
          51054.14,
          51720.15,
          51743.119999999995,
          59180.78,
          60119.1,
          60217.53,
          60644.04,
          61270.68,
          66270.68,
          67199.16,
          67418.98,
          67533.81,
          67963.59999999999,
          69256.25,
          69400.61,
          71418.98,
          72695.23,
          72977.38,
          75191.95,
          78566.62,
          79104.68,
          81430.8,
          81568.6,
          83842.22,
          83973.45,
          84708.36,
          86798.26,
          88981.98,
          91288.41,
          92544.97,
          92692.61,
          96016.09999999999,
          97338.28,
          97485.92,
          98957.05,
          101519.39,
          101519.39,
          103289.08,
          104865.2,
          107630.29,
          109513.49,
          110711,
          111422.94,
          113329.11,
          115071.24,
          116403.26,
          118959.69,
          120239.22,
          123126.36,
          123221.5,
          123323.20999999999,
          123487.25,
          124310.74,
          124474.78,
          124661.79,
          125862.58,
          126640.14,
          127962.31999999999,
          128821.9,
          129048.28,
          132594.87,
          135170.33,
          136485.95,
          136663.12,
          136814.04,
          138004.98,
          140705.11,
          141430.18,
          141689.37,
          143034.51,
          143280.57,
          143559.44,
          144146.71,
          149346.84,
          149507.6,
          149655.24,
          149934.11,
          150009.57,
          151180.83,
          152079.78,
          154323.87,
          154799.59,
          154963.63,
          155298.28,
          156541.72,
          158815.35,
          161397.37,
          161594.22,
          164409.18,
          164635.56,
          164701.18,
          164701.18,
          165191.34,
          165568.64,
          168242.53,
          169269.43,
          171841.61,
          173869.17,
          173993.84,
          177402.63,
          177402.63,
          177546.99,
          180211.03,
          180877.04,
          183544.36,
          184650,
          186342.91,
          187632.28,
          190365.22,
          190592.25,
          193371.13,
          194972.18,
          196271.39,
          196379.66,
          199237.27,
          201950.52,
          203170.99,
          203174.27,
          203174.27,
          203371.12,
          203446.58,
          206986.61,
          206986.61,
          206986.61,
          207826.51,
          208800.92,
          209312.73,
          209634.25,
          210362.6,
          211150,
          212636.22
         ],
         "yaxis": "y"
        },
        {
         "hovertemplate": "year=2017<br>day_of_year=%{x}<br>total_elevation_gain=%{y}<extra></extra>",
         "legendgroup": "2017",
         "line": {
          "color": "#00cc96",
          "dash": "solid"
         },
         "marker": {
          "symbol": "circle"
         },
         "mode": "lines",
         "name": "2017",
         "showlegend": true,
         "type": "scattergl",
         "x": [
          1,
          4,
          5,
          7,
          8,
          9,
          10,
          11,
          12,
          14,
          16,
          17,
          18,
          21,
          23,
          24,
          25,
          26,
          28,
          29,
          30,
          31,
          32,
          33,
          35,
          36,
          37,
          38,
          39,
          40,
          41,
          42,
          45,
          46,
          47,
          48,
          49,
          50,
          52,
          53,
          56,
          57,
          58,
          59,
          60,
          61,
          63,
          64,
          65,
          66,
          67,
          68,
          70,
          71,
          72,
          73,
          74,
          75,
          77,
          78,
          80,
          81,
          82,
          84,
          86,
          88,
          89,
          91,
          92,
          94,
          95,
          96,
          98,
          99,
          100,
          101,
          102,
          105,
          106,
          107,
          108,
          110,
          112,
          115,
          116,
          117,
          119,
          121,
          122,
          123,
          124,
          127,
          129,
          131,
          133,
          136,
          138,
          141,
          142,
          143,
          145,
          147,
          148,
          149,
          150,
          151,
          153,
          154,
          156,
          158,
          160,
          161,
          163,
          164,
          165,
          166,
          167,
          168,
          169,
          170,
          171,
          172,
          175,
          178,
          179,
          182,
          183,
          184,
          185,
          187,
          189,
          193,
          194,
          196,
          197,
          199,
          200,
          201,
          203,
          204,
          206,
          208,
          210,
          211,
          212,
          213,
          215,
          216,
          217,
          218,
          220,
          223,
          227,
          228,
          229,
          230,
          231,
          234,
          236,
          238,
          239,
          241,
          243,
          244,
          245,
          248,
          250,
          252,
          253,
          256,
          259,
          262,
          263,
          265,
          266,
          267,
          268,
          270,
          273,
          274,
          276,
          277,
          278,
          281,
          284,
          285,
          287,
          288,
          290,
          291,
          296,
          297,
          299,
          301,
          304,
          305,
          306,
          307,
          309,
          310,
          311,
          312,
          313,
          314,
          315,
          316,
          318,
          319,
          320,
          321,
          324,
          325,
          326,
          327,
          328,
          329,
          331,
          332,
          333,
          334,
          335,
          336,
          337,
          338,
          339,
          340,
          341,
          342,
          343,
          346,
          347,
          348,
          349,
          350,
          353,
          354,
          355,
          356,
          358,
          359,
          360,
          361,
          362,
          363,
          364
         ],
         "xaxis": "x",
         "y": [
          666.01,
          892.39,
          892.39,
          2211.29,
          4816.28,
          6384.5199999999995,
          7942.92,
          8047.91,
          8047.91,
          11145.02,
          13996.07,
          17040.69,
          17168.64,
          21578.09,
          21578.09,
          24356.96,
          24557.1,
          24655.52,
          24996.73,
          26292.66,
          29967.2,
          30265.76,
          30498.7,
          30498.7,
          34215.9,
          36929.15,
          37175.21,
          37175.21,
          37601.72,
          38763.14,
          40009.86,
          46138.47,
          46233.61,
          46463.27,
          46847.13,
          49727.71,
          51263.14,
          52732.96,
          52916.69,
          53120.1,
          53503.96,
          56246.74,
          57096.479999999996,
          57883.88,
          58090.57,
          58835.32,
          59189.65,
          61660.119999999995,
          62644.369999999995,
          62755.92,
          62939.65,
          63385.84,
          63815.63,
          63822.19,
          65314.97,
          66095.81,
          66233.61,
          66561.69,
          67755.92,
          68264.45,
          68418.65,
          68658.15,
          68950.14,
          70613.53,
          72070.22,
          73582.69,
          76194.24,
          79085.97,
          82248.7,
          82248.7,
          82491.48,
          84184.39,
          85890.42,
          86326.77,
          87901.56999999999,
          88423.22,
          88574.14,
          89637.13,
          94302.48,
          94469.8,
          94564.94,
          94676.49,
          97914.68,
          100582,
          101054.44,
          105286.72,
          105483.56999999999,
          105634.49,
          106792.63,
          106792.63,
          107504.56999999999,
          107911.39,
          107911.39,
          108006.53,
          114581.33,
          115027.52,
          115027.52,
          115089.86,
          116339.86,
          117018.99,
          117018.99,
          118242.75,
          119883.17,
          122258.5,
          124774.9,
          125148.92,
          125969.13,
          128547.87,
          128757.84,
          131763.09,
          131825.43,
          132025.56,
          132206.01,
          134824.12,
          135017.69,
          138246.03,
          140762.43,
          142078.05,
          143177.13,
          144646.94,
          145139.07,
          147514.4,
          150952.72,
          154545.24,
          156077.39,
          160404.82,
          164026.87,
          166579.36,
          171671.22,
          172878.57,
          174909.41,
          175824.76,
          175978.96,
          180276.86,
          182888.41,
          183728.31,
          184276.21,
          184348.38999999998,
          188003.25,
          188324.77,
          189998,
          190017.68,
          191270.96,
          192520.96,
          192658.76,
          194105.61,
          197005.87,
          197130.54,
          199994.71,
          205250.61,
          205316.23,
          205585.26,
          206697.46,
          207074.76,
          207786.7,
          209666.62,
          216756.52,
          217458.62,
          219259.8,
          222038.67,
          225178.44,
          226727,
          228032.12,
          229348.72,
          234448.79,
          236268.02,
          236320.51,
          242101.35,
          242248.99,
          242360.54,
          242787.05,
          242944.53,
          243603.98,
          245160.41,
          247913.03,
          250629.57,
          253401.88,
          256197.16,
          256282.46,
          258306.74,
          261151.23,
          262440.6,
          265219.47,
          270291.66,
          273054.13,
          276213.58,
          279044.94,
          282151.9,
          285661.74,
          288447.17,
          291229.32,
          294018.02999999997,
          296826.43,
          300694.54,
          300819.21,
          301491.79,
          301629.59,
          302548.23,
          302787.74,
          302968.19,
          303184.73,
          305963.6,
          306094.83,
          306183.41,
          307679.47,
          307910.44,
          308048.24,
          309204.08,
          310808.41,
          310926.52,
          311418.65,
          311940.31,
          311940.31,
          314499.37,
          315001.34,
          316120.11,
          316597.48,
          316997.74,
          316997.74,
          318234.62,
          319510.87,
          322434.1,
          322726.1,
          322982.01,
          323611.93,
          324799.59,
          325085.02,
          328257.59,
          329622.42,
          329973.47,
          330314.68,
          330537.77999999997,
          333362.58,
          334268.09,
          334898.01,
          335012.84,
          335012.84,
          338096.83,
          338972.81,
          339317.3,
          339638.82,
          339638.82,
          339750.37,
          343116.51,
          343969.52999999997
         ],
         "yaxis": "y"
        },
        {
         "hovertemplate": "year=2018<br>day_of_year=%{x}<br>total_elevation_gain=%{y}<extra></extra>",
         "legendgroup": "2018",
         "line": {
          "color": "#ab63fa",
          "dash": "solid"
         },
         "marker": {
          "symbol": "circle"
         },
         "mode": "lines",
         "name": "2018",
         "showlegend": true,
         "type": "scattergl",
         "x": [
          1,
          3,
          4,
          5,
          6,
          7,
          9,
          10,
          11,
          12,
          13,
          14,
          16,
          17,
          18,
          19,
          20,
          24,
          26,
          27,
          28,
          29,
          30,
          31,
          33,
          34,
          35,
          37,
          38,
          39,
          40,
          42,
          44,
          45,
          46,
          47,
          48,
          49,
          51,
          52,
          53,
          54,
          55,
          56,
          58,
          59,
          65,
          68,
          69,
          70,
          72,
          73,
          76,
          77,
          79,
          80,
          81,
          82,
          83,
          86,
          87,
          88,
          91,
          93,
          95,
          96,
          97,
          98,
          104,
          105,
          108,
          109,
          111,
          115,
          116,
          117,
          118,
          120,
          124,
          125,
          126,
          127,
          128,
          129,
          130,
          132,
          133,
          135,
          136,
          137,
          139,
          141,
          142,
          143,
          144,
          146,
          148,
          149,
          150,
          151,
          152,
          153,
          154,
          156,
          157,
          158,
          160,
          161,
          163,
          164,
          165,
          169,
          170,
          171,
          172,
          174,
          176,
          177,
          178,
          180,
          181,
          184,
          185,
          186,
          188,
          191,
          192,
          193,
          197,
          198,
          200,
          201,
          202,
          204,
          205,
          207,
          209,
          210,
          212,
          216,
          219,
          220,
          221,
          222,
          223,
          224,
          226,
          227,
          228,
          229,
          233,
          234,
          235,
          236,
          237,
          238,
          240,
          241,
          242,
          243,
          244,
          245,
          249,
          250,
          251,
          252,
          253,
          254,
          255,
          256,
          262,
          271,
          281,
          282,
          283,
          285,
          286,
          287,
          288,
          289,
          290,
          291,
          292,
          293,
          294,
          295,
          296,
          297,
          300,
          302,
          305,
          307,
          308,
          309,
          310,
          311,
          312,
          314,
          315,
          316,
          317,
          318,
          319,
          320,
          321,
          323,
          324,
          325,
          326,
          327,
          329,
          330,
          331,
          332,
          333,
          334,
          335,
          337,
          338,
          339,
          340,
          341,
          342,
          344,
          345,
          346,
          347,
          348,
          349,
          350,
          351,
          354,
          355,
          356,
          357,
          358,
          360,
          361,
          362,
          364
         ],
         "xaxis": "x",
         "y": [
          1364.83,
          1430.4499999999998,
          1827.4299999999998,
          4954.07,
          5439.63,
          6416.01,
          6681.76,
          6973.76,
          7659.46,
          10651.59,
          12285.45,
          12639.78,
          12980.99,
          13479.68,
          16540.7,
          18066.29,
          19526.260000000002,
          19759.2,
          22839.91,
          23030.2,
          23443.58,
          23443.58,
          23712.61,
          23712.61,
          24263.79,
          24263.79,
          24721.8,
          25893.06,
          27700.8,
          27700.8,
          31191.61,
          32559.72,
          33074.81,
          34521.66,
          34885.83,
          37694.23,
          38914.71,
          39377.31,
          39377.31,
          40834,
          41125.99,
          44005.26,
          44740.17,
          47578.1,
          48383.87,
          49794.63,
          50860.9,
          53846.46,
          55181.76,
          58990.81,
          60316.270000000004,
          61723.75,
          61786.090000000004,
          66433.73,
          67837.93000000001,
          68750,
          69215.88,
          72234.91,
          72398.95,
          74472.44,
          75935.69,
          77973.09,
          84679.13,
          85604.33,
          85778.21,
          87362.86,
          87963.25,
          90719.16,
          93573.49,
          95000.66,
          95742.13,
          96057.09,
          107595.8,
          107618.77,
          107710.63,
          107999.34,
          109134.51,
          109433.06,
          109531.49,
          109666,
          111217.84,
          111319.55,
          112894.35,
          112999.34,
          114288.70999999999,
          114472.44,
          114751.31,
          116699.47,
          118005.24,
          119944.22,
          120049.21,
          121558.39,
          123454.72,
          125351.05,
          127604.99,
          127775.59,
          131450.13,
          133612.21,
          135992.13,
          136431.76,
          137680.45,
          138624.02,
          141602.37,
          141805.78,
          142024.28,
          144744.1,
          146190.95,
          150147.63999999998,
          153157.49,
          153423.24,
          156267.73,
          156415.37,
          159295.95,
          159482.96,
          160860.91,
          164604.35,
          164712.62,
          167557.11,
          167906.19,
          168952.78,
          168952.78,
          169280.86,
          172174.56,
          175153.57,
          180589.91999999998,
          181977.72,
          182384.54,
          185507.9,
          187788.08,
          188345.82,
          191774.3,
          197407.5,
          199303.82,
          199979.68,
          201892.41999999998,
          202945.57,
          206059.09,
          208903.58,
          208969.2,
          210679.16999999998,
          211141.77,
          212362.24,
          214273.66,
          214342.56,
          219129.31,
          223404.24,
          224073.53,
          225336.65,
          226954.1,
          227078.77,
          227078.77,
          231035.46,
          231849.11,
          233604.36,
          239017.75,
          240310.4,
          242226.41,
          243035.47,
          244324.84,
          246378.65,
          250492.82,
          251313.03,
          251910.13999999998,
          253311.06,
          257441.63999999998,
          260227.07,
          260394.38999999998,
          261644.38999999998,
          262290.72,
          263501.35,
          264800.23,
          272543.01,
          272543.01,
          272543.01,
          272543.01,
          273346.82,
          276212.96,
          276212.96,
          276354.04,
          276903.25,
          276903.25,
          277608.63,
          277723.46,
          278556.79,
          279804.82,
          280057.44,
          281104.02999999997,
          281104.02999999997,
          284128.96,
          284128.96,
          284233.95,
          284233.95,
          284233.95,
          285736.57,
          286041.69,
          286166.36,
          286346.81,
          287783.82,
          287931.46,
          288020.04,
          288187.36,
          288489.2,
          289824.5,
          289952.45,
          291434.08,
          291601.4,
          292909.14,
          292958.35,
          293312.68,
          293427.51,
          293427.51,
          293637.48,
          293978.02999999997,
          295903.89,
          297409.8,
          298754.94,
          300487.22,
          302288.4,
          302705.07,
          304821.21,
          304821.21,
          305008.22,
          305588.93,
          306973.44,
          307216.22,
          307409.79,
          307800.21,
          309443.91,
          309673.57,
          310270.68,
          313334.98,
          313554.8,
          313554.8,
          314194.56,
          314220.81,
          314673.57,
          315136.17,
          315385.51,
          315542.99,
          319578.42
         ],
         "yaxis": "y"
        },
        {
         "hovertemplate": "year=2019<br>day_of_year=%{x}<br>total_elevation_gain=%{y}<extra></extra>",
         "legendgroup": "2019",
         "line": {
          "color": "#FFA15A",
          "dash": "solid"
         },
         "marker": {
          "symbol": "circle"
         },
         "mode": "lines",
         "name": "2019",
         "showlegend": true,
         "type": "scattergl",
         "x": [
          1,
          2,
          3,
          5,
          6,
          7,
          8,
          9,
          10,
          12,
          13,
          15,
          18,
          19,
          20,
          21,
          22,
          23,
          26,
          29,
          30,
          31,
          33,
          34,
          36,
          37,
          38,
          40,
          41,
          42,
          43,
          44,
          45,
          46,
          47,
          51,
          52,
          53,
          55,
          56,
          57,
          59,
          61,
          62,
          65,
          66,
          67,
          68,
          69,
          71,
          73,
          74,
          75,
          76,
          77,
          79,
          80,
          81,
          82,
          83,
          84,
          85,
          86,
          87,
          89,
          90,
          91,
          92,
          94,
          96,
          97,
          98,
          99,
          103,
          104,
          106,
          107,
          108,
          110,
          111,
          112,
          113,
          114,
          115,
          116,
          117,
          120,
          121,
          122,
          123,
          124,
          126,
          127,
          128,
          129,
          130,
          131,
          132,
          133,
          134,
          136,
          137,
          138,
          139,
          141,
          142,
          145,
          146,
          147,
          148,
          149,
          150,
          153,
          154,
          155,
          156,
          157,
          160,
          163,
          164,
          166,
          169,
          171,
          173,
          174,
          176,
          183,
          188,
          189,
          190,
          194,
          195,
          196,
          198,
          199,
          201,
          202,
          203,
          204,
          205,
          206,
          207,
          208,
          210,
          219,
          221,
          222,
          223,
          225,
          228,
          229,
          230,
          231,
          232,
          234,
          236,
          250,
          253,
          254,
          257,
          258,
          259,
          260,
          263,
          264,
          265,
          267,
          268,
          269,
          270,
          271,
          272,
          276,
          277,
          286,
          287,
          288,
          289,
          290,
          292,
          293,
          294,
          297,
          298,
          299,
          300,
          302,
          303,
          307,
          308,
          309,
          310,
          312,
          313,
          315,
          319,
          320,
          321,
          322,
          323,
          325,
          326,
          327,
          328,
          330,
          331,
          333,
          334,
          335,
          337,
          338,
          341,
          342,
          344,
          346,
          347,
          348,
          351,
          352,
          354,
          355,
          356,
          358,
          359,
          361,
          362,
          363,
          365
         ],
         "xaxis": "x",
         "y": [
          183.73,
          367.46,
          634.52,
          860.9,
          1070.87,
          4171.26,
          6661.42,
          6989.5,
          7061.679999999999,
          9847.11,
          10234.25,
          10470.47,
          11248.029999999999,
          14236.88,
          15299.88,
          15319.57,
          16349.75,
          16349.75,
          16349.75,
          16349.75,
          16559.72,
          19614.18,
          23282.16,
          23554.47,
          23692.27,
          25893.72,
          25893.72,
          25893.72,
          25923.25,
          26087.29,
          26179.15,
          27584.66,
          27784.79,
          28061.69,
          29590.56,
          29892.4,
          30059.72,
          30266.41,
          31402.89,
          31560.37,
          31734.25,
          31963.91,
          34799.87,
          36161.42,
          36341.87,
          36525.6,
          36899.62,
          39481.64,
          40748.04,
          40803.81,
          41683.08,
          41906.18,
          42037.41,
          43353.03,
          43602.37,
          44259.85,
          44840.56,
          44899.62,
          47927.84,
          49250.02,
          49948.85,
          50191.63,
          50588.93,
          51113.86,
          51560.06,
          55113.21,
          55962.95,
          56701.14,
          57908.49,
          60386.84,
          60550.88,
          61056.13,
          61627,
          63569.26,
          63795.64,
          64852.07,
          65659.15,
          66154.56,
          67978.71,
          70817.29,
          70948.52,
          71453.77,
          71680.15,
          72323.19,
          73425.55,
          73819.25,
          73953.76,
          74150.61,
          74481.97,
          74974.09,
          78363.2,
          78612.54,
          78612.54,
          80112.54,
          81312.67,
          82608.6,
          83671.59,
          84997.05,
          86143.38,
          87977.37,
          88528.55,
          89545.61,
          91471.46,
          94010.83,
          95004.92,
          95100.06,
          95869.09,
          98493.76,
          100002.95,
          101161.09,
          101256.23,
          102571.85,
          102644.03,
          103867.78,
          104064.63,
          105859.26,
          106695.87,
          107722.77,
          107893.37,
          110636.15,
          112870.4,
          113024.6,
          115638.12,
          119460.3,
          119591.53,
          119638.77,
          120157.14,
          122955.7,
          126348.09,
          127023.94,
          128250.97,
          129499,
          130233.91,
          131516.72,
          132074.46,
          134991.13,
          139932.08,
          144292.32,
          145552.16,
          146018.04,
          146126.31,
          146989.17,
          149090.22,
          149880.9,
          150333.65,
          150868.43,
          152731.95,
          153207.67,
          154695.86,
          160493.1,
          163475.38,
          163754.25,
          164544.93,
          165437.31,
          165673.53,
          170412.38,
          172203.72,
          173076.42,
          173801.48,
          174441.24,
          175238.48,
          176196.49,
          176964.21,
          177397.28,
          180691.24,
          182042.95,
          183411.06,
          184405.15,
          184851.35,
          185815.92,
          186511.46,
          187341.51,
          188306.08,
          191042.3,
          192033.11,
          193358.57,
          193735.87,
          194998.99,
          195517.36,
          197508.83,
          199449.77,
          200210.93,
          201861.19,
          203219.46,
          204072.48,
          205432.39,
          206403.52,
          207040,
          208408.11,
          209776.22,
          209877.93,
          209959.95,
          210114.15,
          212883.18,
          212984.89,
          213037.38,
          214664.68,
          214904.18,
          215468.49,
          215488.18,
          216626.63,
          217213.9,
          219346.45,
          221344.48,
          223158.78,
          223788.7,
          225811.01,
          227205.37,
          227326.76,
          227533.45,
          227697.49,
          230338.57,
          231549.2,
          231703.4,
          233596.44,
          233596.44,
          233753.92,
          235076.1,
          235187.65,
          236894.34,
          238941.58,
          241441.58,
          241559.69,
          243508.51,
          243688.96,
          247448.8,
          247750.64,
          247885.15
         ],
         "yaxis": "y"
        },
        {
         "hovertemplate": "year=2020<br>day_of_year=%{x}<br>total_elevation_gain=%{y}<extra></extra>",
         "legendgroup": "2020",
         "line": {
          "color": "#19d3f3",
          "dash": "solid"
         },
         "marker": {
          "symbol": "circle"
         },
         "mode": "lines",
         "name": "2020",
         "showlegend": true,
         "type": "scattergl",
         "x": [
          1,
          2,
          4,
          5,
          7,
          8,
          12,
          13,
          14,
          16,
          22,
          24,
          26,
          28,
          29,
          30,
          32,
          33,
          35,
          36,
          37,
          38,
          39,
          40,
          42,
          43,
          44,
          47,
          50,
          51,
          53,
          54,
          56,
          57,
          59,
          64,
          66,
          67,
          68,
          70,
          72,
          73,
          74,
          76,
          77,
          80,
          81,
          82,
          83,
          84,
          85,
          86,
          88,
          90,
          91,
          94,
          95,
          96,
          98,
          100,
          101,
          102,
          103,
          105,
          108,
          109,
          111,
          112,
          113,
          114,
          115,
          118,
          120,
          121,
          124,
          125,
          126,
          129,
          132,
          133,
          134,
          136,
          137,
          138,
          140,
          141,
          142,
          145,
          146,
          149,
          150,
          151,
          153,
          154,
          159,
          160,
          161,
          163,
          165,
          168,
          170,
          172,
          173,
          177,
          179,
          188,
          189,
          190,
          192,
          194,
          195,
          198,
          199,
          200,
          201,
          203,
          205,
          210,
          211,
          212,
          214,
          215,
          216,
          217,
          218,
          219,
          221,
          222,
          224,
          225,
          226,
          227,
          233,
          234,
          236,
          246,
          247,
          251,
          253,
          254,
          255,
          256,
          257,
          259,
          260,
          262,
          263,
          264,
          265,
          266,
          267,
          268,
          269,
          271,
          274,
          276,
          277,
          278,
          280,
          281,
          282,
          283,
          285,
          288,
          289,
          294,
          295,
          296,
          299,
          301,
          302,
          303,
          304,
          306,
          307,
          310,
          311,
          312,
          316,
          318,
          320,
          321,
          326,
          328,
          330,
          332,
          334,
          336,
          338,
          339,
          340,
          342,
          343,
          345,
          347,
          349,
          353,
          354,
          356,
          357,
          358,
          359,
          362,
          364
         ],
         "xaxis": "x",
         "y": [
          1671.26,
          1776.25,
          6868.11,
          7645.67,
          7763.78,
          8387.14,
          8695.539999999999,
          8895.67,
          9026.9,
          9092.52,
          9092.52,
          9161.42,
          11690.95,
          11766.41,
          13902.24,
          14161.43,
          17268.39,
          20864.19,
          22789.06,
          22894.05,
          25110.91,
          25635.84,
          26226.39,
          28106.31,
          30481.64,
          30599.75,
          31685.71,
          33381.25,
          34723.44,
          36451.79,
          39434.07,
          40736.56,
          40862.54,
          40983.93,
          41075.79,
          41567.92,
          42017.39,
          43336.29,
          44304.14,
          45790.36,
          47030.52,
          48352.7,
          51787.74,
          53123.04,
          53969.5,
          53969.5,
          57105.98,
          57798.24,
          59097.45,
          59901.26,
          60137.48,
          61850.08,
          62529.21,
          63989.18,
          66571.2,
          69356.63,
          70885.5,
          71531.83,
          72386.16,
          72500.99,
          73734.59,
          75758.87,
          78838.27,
          79493.13,
          80910.45,
          81609.27,
          82334.34,
          82498.38,
          83180.79,
          84453.76,
          85142.74,
          85831.72,
          87153.9,
          88403.9,
          89030.54,
          89857.31,
          89926.21,
          91205.74,
          91865.19,
          92370.44,
          93138.16,
          93987.9,
          94814.67,
          96166.38,
          96409.16,
          99184.75,
          99768.74,
          102048.92,
          108285.8,
          109025.96,
          109659.16,
          110361.26,
          112972.81,
          115443.28,
          124324.51,
          125705.74,
          127615.19,
          128392.75,
          134367.16,
          137083.7,
          138428.84,
          141877,
          144994.45,
          146395.37,
          152081.07,
          153547.61,
          154846.82,
          156296.95,
          157697.87,
          161106.66,
          161543.01,
          163737.89,
          167530.54,
          172222.14,
          175447.21,
          175499.7,
          175558.76,
          176365.85,
          177487.9,
          178012.83,
          178388.16,
          179919.65,
          180802.2,
          182111.25,
          182580.41,
          185146.03,
          185323.2,
          185571.23,
          186289.73,
          186378.31,
          187234.61,
          187857.97,
          188581.07,
          190011.52,
          190090.26,
          190241.18,
          190290.39,
          191914.4,
          193266.11,
          193905.87,
          194178.18,
          195221.49,
          197317.94,
          198357.97,
          200306.79,
          204004.62,
          207183.76,
          207574.18,
          208204.1,
          208738.88,
          209145.7,
          209760.86,
          212470.83,
          215049.57,
          215590.91,
          217100.1,
          219891.11,
          221526.93,
          223223.12,
          224492.81,
          226074.17,
          228013.15,
          230559.08,
          231887.82,
          233508.55,
          234122.07,
          234932.44,
          235811.71,
          239129.95,
          240005.93,
          242797.92,
          243165.37,
          243552.51,
          245107.63,
          246403.56,
          246895.69,
          253080.07,
          253440.96,
          254313.66,
          255763.79,
          257030.19,
          257633.86,
          265849.08,
          266337.93,
          267227.04,
          271171.92,
          273494.75,
          274357.61,
          274656.17,
          275505.91,
          276808.08,
          277962.94,
          279285.12,
          280646.67,
          282139.45,
          283169.63,
          284078.42,
          286286.42,
          287221.46,
          288084.32,
          290925.52999999997,
          292424.87,
          296191.27,
          297093.5
         ],
         "yaxis": "y"
        },
        {
         "hovertemplate": "year=2021<br>day_of_year=%{x}<br>total_elevation_gain=%{y}<extra></extra>",
         "legendgroup": "2021",
         "line": {
          "color": "#FF6692",
          "dash": "solid"
         },
         "marker": {
          "symbol": "circle"
         },
         "mode": "lines",
         "name": "2021",
         "showlegend": true,
         "type": "scattergl",
         "x": [
          1,
          2,
          4,
          5,
          7,
          9,
          10,
          14,
          16,
          17,
          21,
          23,
          27,
          28,
          29,
          30,
          34,
          36,
          37,
          38,
          39,
          40,
          42,
          44,
          45,
          46,
          47,
          51,
          52,
          54,
          55,
          56,
          57,
          58,
          59,
          61,
          64,
          65,
          66,
          68,
          69,
          72,
          74,
          75,
          78,
          79,
          85,
          86,
          93,
          94,
          97,
          99,
          101,
          102,
          107,
          113,
          115,
          116,
          117,
          118,
          121,
          122,
          123,
          124,
          126,
          127,
          128,
          131,
          132,
          133,
          136,
          138,
          140,
          143,
          146,
          149,
          150,
          151,
          152,
          153,
          154,
          156,
          159,
          160,
          162,
          163,
          165,
          166,
          172,
          173,
          178,
          179,
          180,
          181,
          184,
          192,
          194,
          197,
          200,
          202,
          205,
          206,
          209,
          210,
          211,
          212,
          216,
          217,
          219,
          221,
          222,
          224,
          225,
          226,
          229,
          230,
          231,
          232,
          233,
          235,
          240,
          241,
          242,
          243,
          248,
          249,
          251,
          252,
          254,
          258,
          263,
          268,
          270,
          272,
          274,
          276,
          277,
          280,
          281,
          282,
          283,
          285,
          286,
          287,
          288,
          289,
          290,
          291,
          293,
          294,
          295,
          296,
          298,
          302,
          303,
          305,
          306,
          307,
          309,
          310,
          311,
          313,
          314,
          315,
          316,
          317,
          318,
          320,
          321,
          322,
          323,
          324,
          326,
          327,
          328,
          333,
          335,
          336,
          338,
          341,
          342,
          343,
          344,
          346,
          348,
          349,
          350,
          353,
          355,
          356,
          357,
          359,
          360
         ],
         "xaxis": "x",
         "y": [
          1141.73,
          5262.469999999999,
          6125.329999999999,
          7040.679999999999,
          8018.369999999999,
          11489.5,
          13530.84,
          14987.529999999999,
          15332.02,
          18051.84,
          18622.71,
          19341.21,
          20263.13,
          21601.71,
          21788.72,
          22326.78,
          23169.96,
          24036.1,
          25196.21,
          28007.89,
          28949.489999999998,
          29858.28,
          30868.78,
          31311.69,
          32302.5,
          33385.18,
          34736.89,
          35543.979999999996,
          36971.15,
          38352.38,
          39490.83,
          41301.85,
          42610.909999999996,
          43342.54,
          44661.44,
          45516.43,
          46372.4,
          47118.46,
          49106.31,
          50699.159999999996,
          53436.69,
          55136.82,
          56547.58,
          57047.58,
          59135.51,
          62209.659999999996,
          63571.21,
          69411.11,
          70946.54,
          72557.43,
          73905.86,
          76648.64,
          79407.83,
          80749.69,
          83525.28,
          83745.42,
          84713.27,
          86363.53,
          87994.76,
          88093.19,
          89018.39,
          89244.77,
          91379.61,
          92685.38,
          93554.8,
          94457.03,
          97331.05,
          99063.33,
          99722.78,
          101231.97,
          101888.14,
          105191.95,
          106451.79,
          108184.07,
          108459.66,
          108853.36,
          110123.05,
          111940.64,
          112098.12,
          113397.33,
          114758.88,
          117685.39,
          117960.98,
          117990.51,
          121522.99,
          122454.75,
          123740.84,
          126614.86,
          127280.87,
          128816.3,
          130079.42,
          131349.11,
          134328.11,
          134554.49,
          139900.62,
          142744.12,
          144085.98,
          145729.68,
          146904.22,
          148301.86,
          150014.46,
          151198.84,
          153062.36,
          154499.37,
          157258.56,
          159400.95,
          159492.81,
          160732.97,
          160979.03,
          162553.84,
          163853.05,
          163853.05,
          163912.11,
          165585.34,
          166126.68,
          168456.08,
          171812.38,
          171820.58,
          176020.06,
          179114.55,
          179478.07,
          179733.98,
          180275.32,
          181137.52,
          181918.36,
          182640.13999999998,
          183033.84,
          183634.23,
          184628.32,
          185825.83,
          186662.44,
          187410.47,
          188726.09,
          190028.58,
          191327.79,
          191367.16,
          191396.69,
          191426.22,
          192302.2,
          192525.3,
          194182.13,
          194310.08,
          194664.42,
          194733.32,
          196078.46,
          197440.01,
          197538.44,
          198982.01,
          199267.44,
          200035.16,
          201577.15,
          201777.28,
          201777.28,
          201938.04,
          203230.69,
          203230.69,
          203329.12,
          203388.18,
          203437.39,
          204972.82,
          204972.82,
          205041.72,
          205930.83,
          206029.26,
          206964.3,
          208522.7,
          210253.02,
          211063.39,
          211870.48,
          211949.22,
          212844.89,
          212844.89,
          214242.53,
          215035.18,
          216091.61,
          216934.79,
          218329.15,
          219477.77,
          220947.59,
          222164.78,
          223283.55,
          224090.64,
          224356.39,
          226685.79,
          227585.07,
          227585.07,
          227673.65,
          227840.97,
          228146.09,
          228283.89,
          228352.79,
          228470.9,
          228470.9
         ],
         "yaxis": "y"
        },
        {
         "hovertemplate": "year=2022<br>day_of_year=%{x}<br>total_elevation_gain=%{y}<extra></extra>",
         "legendgroup": "2022",
         "line": {
          "color": "#B6E880",
          "dash": "solid"
         },
         "marker": {
          "symbol": "circle"
         },
         "mode": "lines",
         "name": "2022",
         "showlegend": true,
         "type": "scattergl",
         "x": [
          1,
          2,
          4,
          5,
          6,
          7,
          8,
          10,
          11,
          13,
          15,
          16,
          21,
          22,
          23,
          26,
          27,
          30,
          32,
          33,
          37,
          38,
          40,
          41,
          46,
          47,
          48,
          49,
          50,
          51,
          54,
          55,
          57,
          58,
          60,
          62,
          63,
          67,
          68,
          69,
          71,
          74,
          79,
          81,
          83,
          85,
          89,
          92,
          93,
          95,
          96,
          99,
          100,
          101,
          104,
          105,
          107,
          109,
          111,
          113,
          114,
          115,
          116,
          121,
          122,
          125,
          127,
          130,
          133,
          134,
          137,
          139,
          156,
          157,
          159,
          161,
          162,
          163,
          165,
          166,
          169,
          171,
          176,
          177,
          181,
          183,
          184,
          187,
          188,
          189,
          190,
          191,
          194,
          196,
          198,
          201,
          202,
          204,
          206,
          207,
          211,
          213,
          214,
          219,
          220,
          228,
          229,
          230,
          231,
          233,
          237,
          238,
          239,
          240,
          243,
          246,
          247,
          250,
          255,
          258,
          259,
          262,
          263,
          266,
          267,
          269,
          270,
          273,
          276,
          277,
          278,
          281,
          282,
          284,
          288,
          289,
          291,
          294,
          299,
          303,
          304,
          311,
          313,
          315,
          316,
          317,
          319,
          320,
          322,
          327,
          328,
          331,
          333,
          335,
          336,
          338
         ],
         "xaxis": "x",
         "y": [
          1617.45,
          2631.23,
          2788.71,
          3572.83,
          5334.639999999999,
          5692.25,
          7014.43,
          7880.57,
          7992.12,
          9074.8,
          10685.69,
          11630.57,
          13464.56,
          14980.31,
          15068.89,
          15088.58,
          15958,
          18723.75,
          18802.49,
          19409.77,
          20295.6,
          21598.09,
          22405.18,
          23605.97,
          24875.66,
          25784.45,
          25843.510000000002,
          26791.670000000002,
          27057.420000000002,
          28369.760000000002,
          28369.760000000002,
          31148.63,
          32526.58,
          35006.9,
          35272.65,
          36519.37,
          39226.06,
          41548.89,
          41548.89,
          44255.58,
          45649.94,
          46201.12,
          47273.95,
          48648.62,
          49593.5,
          52457.67,
          52595.47,
          54216.2,
          55761.48,
          56693.24,
          57113.19,
          58287.73,
          59350.72,
          59649.28,
          59839.57,
          60708.99,
          62395.340000000004,
          62890.75,
          64442.590000000004,
          64796.92,
          65033.14,
          65092.2,
          65302.17,
          65751.65,
          66325.8,
          66959,
          68110.57,
          68505.91,
          69257.22,
          73021.98,
          73423.23,
          73551.18000000001,
          74033.46,
          74597.76,
          75916.98,
          76891.39,
          78243.1,
          79606.62,
          80289.03,
          81240.47,
          82474.07,
          86182.08,
          87425.52,
          88960.95,
          89049.2,
          91788.7,
          92677.81,
          92805.76,
          92854.97,
          93583.32,
          94862.85,
          94862.85,
          95414.03,
          98167.31,
          98167.31,
          98964.56,
          99269.68,
          102898.29,
          103459.31,
          103459.31,
          106431.76,
          106477.69,
          106477.69,
          106477.69,
          106517.06,
          107146.98,
          107875.33,
          109007.22,
          109528.87,
          109528.87,
          109617.45,
          109617.45,
          110020.99,
          110020.99,
          110020.99,
          110020.99,
          110020.99,
          110355.64,
          110355.64,
          112045.27,
          113423.22,
          113423.22,
          114932.73,
          115710.29,
          116720.79,
          116720.79,
          117334.31,
          118151.24,
          119017.38,
          120326.44,
          120631.56,
          122186.68,
          123357.94,
          123357.94,
          125526.58,
          126373.04,
          126373.04,
          127813.33,
          127813.33,
          128354.67,
          129142.07,
          129142.07,
          129142.07,
          129821.2,
          130910.44,
          130999.02,
          131451.78,
          132803.49,
          134204.41,
          134263.47,
          134302.84,
          135546.28,
          136054.81,
          136054.81,
          136054.81,
          136615.83
         ],
         "yaxis": "y"
        }
       ],
       "layout": {
        "legend": {
         "title": {
          "text": "year"
         },
         "tracegroupgap": 0
        },
        "template": {
         "data": {
          "bar": [
           {
            "error_x": {
             "color": "#2a3f5f"
            },
            "error_y": {
             "color": "#2a3f5f"
            },
            "marker": {
             "line": {
              "color": "#E5ECF6",
              "width": 0.5
             },
             "pattern": {
              "fillmode": "overlay",
              "size": 10,
              "solidity": 0.2
             }
            },
            "type": "bar"
           }
          ],
          "barpolar": [
           {
            "marker": {
             "line": {
              "color": "#E5ECF6",
              "width": 0.5
             },
             "pattern": {
              "fillmode": "overlay",
              "size": 10,
              "solidity": 0.2
             }
            },
            "type": "barpolar"
           }
          ],
          "carpet": [
           {
            "aaxis": {
             "endlinecolor": "#2a3f5f",
             "gridcolor": "white",
             "linecolor": "white",
             "minorgridcolor": "white",
             "startlinecolor": "#2a3f5f"
            },
            "baxis": {
             "endlinecolor": "#2a3f5f",
             "gridcolor": "white",
             "linecolor": "white",
             "minorgridcolor": "white",
             "startlinecolor": "#2a3f5f"
            },
            "type": "carpet"
           }
          ],
          "choropleth": [
           {
            "colorbar": {
             "outlinewidth": 0,
             "ticks": ""
            },
            "type": "choropleth"
           }
          ],
          "contour": [
           {
            "colorbar": {
             "outlinewidth": 0,
             "ticks": ""
            },
            "colorscale": [
             [
              0,
              "#0d0887"
             ],
             [
              0.1111111111111111,
              "#46039f"
             ],
             [
              0.2222222222222222,
              "#7201a8"
             ],
             [
              0.3333333333333333,
              "#9c179e"
             ],
             [
              0.4444444444444444,
              "#bd3786"
             ],
             [
              0.5555555555555556,
              "#d8576b"
             ],
             [
              0.6666666666666666,
              "#ed7953"
             ],
             [
              0.7777777777777778,
              "#fb9f3a"
             ],
             [
              0.8888888888888888,
              "#fdca26"
             ],
             [
              1,
              "#f0f921"
             ]
            ],
            "type": "contour"
           }
          ],
          "contourcarpet": [
           {
            "colorbar": {
             "outlinewidth": 0,
             "ticks": ""
            },
            "type": "contourcarpet"
           }
          ],
          "heatmap": [
           {
            "colorbar": {
             "outlinewidth": 0,
             "ticks": ""
            },
            "colorscale": [
             [
              0,
              "#0d0887"
             ],
             [
              0.1111111111111111,
              "#46039f"
             ],
             [
              0.2222222222222222,
              "#7201a8"
             ],
             [
              0.3333333333333333,
              "#9c179e"
             ],
             [
              0.4444444444444444,
              "#bd3786"
             ],
             [
              0.5555555555555556,
              "#d8576b"
             ],
             [
              0.6666666666666666,
              "#ed7953"
             ],
             [
              0.7777777777777778,
              "#fb9f3a"
             ],
             [
              0.8888888888888888,
              "#fdca26"
             ],
             [
              1,
              "#f0f921"
             ]
            ],
            "type": "heatmap"
           }
          ],
          "heatmapgl": [
           {
            "colorbar": {
             "outlinewidth": 0,
             "ticks": ""
            },
            "colorscale": [
             [
              0,
              "#0d0887"
             ],
             [
              0.1111111111111111,
              "#46039f"
             ],
             [
              0.2222222222222222,
              "#7201a8"
             ],
             [
              0.3333333333333333,
              "#9c179e"
             ],
             [
              0.4444444444444444,
              "#bd3786"
             ],
             [
              0.5555555555555556,
              "#d8576b"
             ],
             [
              0.6666666666666666,
              "#ed7953"
             ],
             [
              0.7777777777777778,
              "#fb9f3a"
             ],
             [
              0.8888888888888888,
              "#fdca26"
             ],
             [
              1,
              "#f0f921"
             ]
            ],
            "type": "heatmapgl"
           }
          ],
          "histogram": [
           {
            "marker": {
             "pattern": {
              "fillmode": "overlay",
              "size": 10,
              "solidity": 0.2
             }
            },
            "type": "histogram"
           }
          ],
          "histogram2d": [
           {
            "colorbar": {
             "outlinewidth": 0,
             "ticks": ""
            },
            "colorscale": [
             [
              0,
              "#0d0887"
             ],
             [
              0.1111111111111111,
              "#46039f"
             ],
             [
              0.2222222222222222,
              "#7201a8"
             ],
             [
              0.3333333333333333,
              "#9c179e"
             ],
             [
              0.4444444444444444,
              "#bd3786"
             ],
             [
              0.5555555555555556,
              "#d8576b"
             ],
             [
              0.6666666666666666,
              "#ed7953"
             ],
             [
              0.7777777777777778,
              "#fb9f3a"
             ],
             [
              0.8888888888888888,
              "#fdca26"
             ],
             [
              1,
              "#f0f921"
             ]
            ],
            "type": "histogram2d"
           }
          ],
          "histogram2dcontour": [
           {
            "colorbar": {
             "outlinewidth": 0,
             "ticks": ""
            },
            "colorscale": [
             [
              0,
              "#0d0887"
             ],
             [
              0.1111111111111111,
              "#46039f"
             ],
             [
              0.2222222222222222,
              "#7201a8"
             ],
             [
              0.3333333333333333,
              "#9c179e"
             ],
             [
              0.4444444444444444,
              "#bd3786"
             ],
             [
              0.5555555555555556,
              "#d8576b"
             ],
             [
              0.6666666666666666,
              "#ed7953"
             ],
             [
              0.7777777777777778,
              "#fb9f3a"
             ],
             [
              0.8888888888888888,
              "#fdca26"
             ],
             [
              1,
              "#f0f921"
             ]
            ],
            "type": "histogram2dcontour"
           }
          ],
          "mesh3d": [
           {
            "colorbar": {
             "outlinewidth": 0,
             "ticks": ""
            },
            "type": "mesh3d"
           }
          ],
          "parcoords": [
           {
            "line": {
             "colorbar": {
              "outlinewidth": 0,
              "ticks": ""
             }
            },
            "type": "parcoords"
           }
          ],
          "pie": [
           {
            "automargin": true,
            "type": "pie"
           }
          ],
          "scatter": [
           {
            "fillpattern": {
             "fillmode": "overlay",
             "size": 10,
             "solidity": 0.2
            },
            "type": "scatter"
           }
          ],
          "scatter3d": [
           {
            "line": {
             "colorbar": {
              "outlinewidth": 0,
              "ticks": ""
             }
            },
            "marker": {
             "colorbar": {
              "outlinewidth": 0,
              "ticks": ""
             }
            },
            "type": "scatter3d"
           }
          ],
          "scattercarpet": [
           {
            "marker": {
             "colorbar": {
              "outlinewidth": 0,
              "ticks": ""
             }
            },
            "type": "scattercarpet"
           }
          ],
          "scattergeo": [
           {
            "marker": {
             "colorbar": {
              "outlinewidth": 0,
              "ticks": ""
             }
            },
            "type": "scattergeo"
           }
          ],
          "scattergl": [
           {
            "marker": {
             "colorbar": {
              "outlinewidth": 0,
              "ticks": ""
             }
            },
            "type": "scattergl"
           }
          ],
          "scattermapbox": [
           {
            "marker": {
             "colorbar": {
              "outlinewidth": 0,
              "ticks": ""
             }
            },
            "type": "scattermapbox"
           }
          ],
          "scatterpolar": [
           {
            "marker": {
             "colorbar": {
              "outlinewidth": 0,
              "ticks": ""
             }
            },
            "type": "scatterpolar"
           }
          ],
          "scatterpolargl": [
           {
            "marker": {
             "colorbar": {
              "outlinewidth": 0,
              "ticks": ""
             }
            },
            "type": "scatterpolargl"
           }
          ],
          "scatterternary": [
           {
            "marker": {
             "colorbar": {
              "outlinewidth": 0,
              "ticks": ""
             }
            },
            "type": "scatterternary"
           }
          ],
          "surface": [
           {
            "colorbar": {
             "outlinewidth": 0,
             "ticks": ""
            },
            "colorscale": [
             [
              0,
              "#0d0887"
             ],
             [
              0.1111111111111111,
              "#46039f"
             ],
             [
              0.2222222222222222,
              "#7201a8"
             ],
             [
              0.3333333333333333,
              "#9c179e"
             ],
             [
              0.4444444444444444,
              "#bd3786"
             ],
             [
              0.5555555555555556,
              "#d8576b"
             ],
             [
              0.6666666666666666,
              "#ed7953"
             ],
             [
              0.7777777777777778,
              "#fb9f3a"
             ],
             [
              0.8888888888888888,
              "#fdca26"
             ],
             [
              1,
              "#f0f921"
             ]
            ],
            "type": "surface"
           }
          ],
          "table": [
           {
            "cells": {
             "fill": {
              "color": "#EBF0F8"
             },
             "line": {
              "color": "white"
             }
            },
            "header": {
             "fill": {
              "color": "#C8D4E3"
             },
             "line": {
              "color": "white"
             }
            },
            "type": "table"
           }
          ]
         },
         "layout": {
          "annotationdefaults": {
           "arrowcolor": "#2a3f5f",
           "arrowhead": 0,
           "arrowwidth": 1
          },
          "autotypenumbers": "strict",
          "coloraxis": {
           "colorbar": {
            "outlinewidth": 0,
            "ticks": ""
           }
          },
          "colorscale": {
           "diverging": [
            [
             0,
             "#8e0152"
            ],
            [
             0.1,
             "#c51b7d"
            ],
            [
             0.2,
             "#de77ae"
            ],
            [
             0.3,
             "#f1b6da"
            ],
            [
             0.4,
             "#fde0ef"
            ],
            [
             0.5,
             "#f7f7f7"
            ],
            [
             0.6,
             "#e6f5d0"
            ],
            [
             0.7,
             "#b8e186"
            ],
            [
             0.8,
             "#7fbc41"
            ],
            [
             0.9,
             "#4d9221"
            ],
            [
             1,
             "#276419"
            ]
           ],
           "sequential": [
            [
             0,
             "#0d0887"
            ],
            [
             0.1111111111111111,
             "#46039f"
            ],
            [
             0.2222222222222222,
             "#7201a8"
            ],
            [
             0.3333333333333333,
             "#9c179e"
            ],
            [
             0.4444444444444444,
             "#bd3786"
            ],
            [
             0.5555555555555556,
             "#d8576b"
            ],
            [
             0.6666666666666666,
             "#ed7953"
            ],
            [
             0.7777777777777778,
             "#fb9f3a"
            ],
            [
             0.8888888888888888,
             "#fdca26"
            ],
            [
             1,
             "#f0f921"
            ]
           ],
           "sequentialminus": [
            [
             0,
             "#0d0887"
            ],
            [
             0.1111111111111111,
             "#46039f"
            ],
            [
             0.2222222222222222,
             "#7201a8"
            ],
            [
             0.3333333333333333,
             "#9c179e"
            ],
            [
             0.4444444444444444,
             "#bd3786"
            ],
            [
             0.5555555555555556,
             "#d8576b"
            ],
            [
             0.6666666666666666,
             "#ed7953"
            ],
            [
             0.7777777777777778,
             "#fb9f3a"
            ],
            [
             0.8888888888888888,
             "#fdca26"
            ],
            [
             1,
             "#f0f921"
            ]
           ]
          },
          "colorway": [
           "#636efa",
           "#EF553B",
           "#00cc96",
           "#ab63fa",
           "#FFA15A",
           "#19d3f3",
           "#FF6692",
           "#B6E880",
           "#FF97FF",
           "#FECB52"
          ],
          "font": {
           "color": "#2a3f5f"
          },
          "geo": {
           "bgcolor": "white",
           "lakecolor": "white",
           "landcolor": "#E5ECF6",
           "showlakes": true,
           "showland": true,
           "subunitcolor": "white"
          },
          "hoverlabel": {
           "align": "left"
          },
          "hovermode": "closest",
          "mapbox": {
           "style": "light"
          },
          "paper_bgcolor": "white",
          "plot_bgcolor": "#E5ECF6",
          "polar": {
           "angularaxis": {
            "gridcolor": "white",
            "linecolor": "white",
            "ticks": ""
           },
           "bgcolor": "#E5ECF6",
           "radialaxis": {
            "gridcolor": "white",
            "linecolor": "white",
            "ticks": ""
           }
          },
          "scene": {
           "xaxis": {
            "backgroundcolor": "#E5ECF6",
            "gridcolor": "white",
            "gridwidth": 2,
            "linecolor": "white",
            "showbackground": true,
            "ticks": "",
            "zerolinecolor": "white"
           },
           "yaxis": {
            "backgroundcolor": "#E5ECF6",
            "gridcolor": "white",
            "gridwidth": 2,
            "linecolor": "white",
            "showbackground": true,
            "ticks": "",
            "zerolinecolor": "white"
           },
           "zaxis": {
            "backgroundcolor": "#E5ECF6",
            "gridcolor": "white",
            "gridwidth": 2,
            "linecolor": "white",
            "showbackground": true,
            "ticks": "",
            "zerolinecolor": "white"
           }
          },
          "shapedefaults": {
           "line": {
            "color": "#2a3f5f"
           }
          },
          "ternary": {
           "aaxis": {
            "gridcolor": "white",
            "linecolor": "white",
            "ticks": ""
           },
           "baxis": {
            "gridcolor": "white",
            "linecolor": "white",
            "ticks": ""
           },
           "bgcolor": "#E5ECF6",
           "caxis": {
            "gridcolor": "white",
            "linecolor": "white",
            "ticks": ""
           }
          },
          "title": {
           "x": 0.05
          },
          "xaxis": {
           "automargin": true,
           "gridcolor": "white",
           "linecolor": "white",
           "ticks": "",
           "title": {
            "standoff": 15
           },
           "zerolinecolor": "white",
           "zerolinewidth": 2
          },
          "yaxis": {
           "automargin": true,
           "gridcolor": "white",
           "linecolor": "white",
           "ticks": "",
           "title": {
            "standoff": 15
           },
           "zerolinecolor": "white",
           "zerolinewidth": 2
          }
         }
        },
        "title": {
         "text": "Elevation Gain by Year"
        },
        "xaxis": {
         "anchor": "y",
         "domain": [
          0,
          1
         ],
         "title": {
          "text": "day_of_year"
         }
        },
        "yaxis": {
         "anchor": "x",
         "domain": [
          0,
          1
         ],
         "title": {
          "text": "total_elevation_gain"
         }
        }
       }
      }
     },
     "metadata": {},
     "output_type": "display_data"
    }
   ],
   "source": [
    "days = elevation_filter.groupby(['year', 'day_of_year'])['total_elevation_gain'].sum().groupby(level=0).cumsum().reset_index()\n",
    "\n",
    "gain_x_year_line = px.line(days, \n",
    "                           x=\"day_of_year\", \n",
    "                           y=\"total_elevation_gain\", \n",
    "                           title='Elevation Gain by Year', \n",
    "                           color='year'\n",
    "                          )\n",
    "gain_x_year_line.show()"
   ]
  },
  {
   "cell_type": "code",
   "execution_count": 169,
   "metadata": {},
   "outputs": [
    {
     "data": {
      "text/html": [
       "<div>\n",
       "<style scoped>\n",
       "    .dataframe tbody tr th:only-of-type {\n",
       "        vertical-align: middle;\n",
       "    }\n",
       "\n",
       "    .dataframe tbody tr th {\n",
       "        vertical-align: top;\n",
       "    }\n",
       "\n",
       "    .dataframe thead th {\n",
       "        text-align: right;\n",
       "    }\n",
       "</style>\n",
       "<table border=\"1\" class=\"dataframe\">\n",
       "  <thead>\n",
       "    <tr style=\"text-align: right;\">\n",
       "      <th></th>\n",
       "      <th>month</th>\n",
       "      <th>year</th>\n",
       "      <th>total_elevation_gain</th>\n",
       "    </tr>\n",
       "  </thead>\n",
       "  <tbody>\n",
       "    <tr>\n",
       "      <th>0</th>\n",
       "      <td>April</td>\n",
       "      <td>2016</td>\n",
       "      <td>21430.44</td>\n",
       "    </tr>\n",
       "    <tr>\n",
       "      <th>1</th>\n",
       "      <td>April</td>\n",
       "      <td>2017</td>\n",
       "      <td>29289.33</td>\n",
       "    </tr>\n",
       "    <tr>\n",
       "      <th>2</th>\n",
       "      <td>April</td>\n",
       "      <td>2018</td>\n",
       "      <td>31459.97</td>\n",
       "    </tr>\n",
       "    <tr>\n",
       "      <th>3</th>\n",
       "      <td>April</td>\n",
       "      <td>2019</td>\n",
       "      <td>18840.55</td>\n",
       "    </tr>\n",
       "    <tr>\n",
       "      <th>4</th>\n",
       "      <td>April</td>\n",
       "      <td>2020</td>\n",
       "      <td>21832.70</td>\n",
       "    </tr>\n",
       "  </tbody>\n",
       "</table>\n",
       "</div>"
      ],
      "text/plain": [
       "   month  year  total_elevation_gain\n",
       "0  April  2016              21430.44\n",
       "1  April  2017              29289.33\n",
       "2  April  2018              31459.97\n",
       "3  April  2019              18840.55\n",
       "4  April  2020              21832.70"
      ]
     },
     "execution_count": 169,
     "metadata": {},
     "output_type": "execute_result"
    }
   ],
   "source": [
    "elevation_trend_grouping = elevation_filter.groupby(['month', 'year']).agg({'total_elevation_gain': 'sum'}).reset_index()\n",
    "elevation_trend_grouping.head()"
   ]
  },
  {
   "cell_type": "code",
   "execution_count": 170,
   "metadata": {},
   "outputs": [
    {
     "data": {
      "application/vnd.plotly.v1+json": {
       "config": {
        "plotlyServerURL": "https://plot.ly"
       },
       "data": [
        {
         "alignmentgroup": "True",
         "hovertemplate": "month=%{x}<br>total_elevation_gain=%{y}<br>year=%{marker.color}<extra></extra>",
         "legendgroup": "",
         "marker": {
          "color": [
           2016,
           2017,
           2018,
           2019,
           2020,
           2021,
           2022,
           2016,
           2017,
           2018,
           2019,
           2020,
           2021,
           2022,
           2016,
           2017,
           2018,
           2019,
           2020,
           2021,
           2022,
           2016,
           2017,
           2018,
           2019,
           2020,
           2021,
           2022,
           2016,
           2017,
           2018,
           2019,
           2020,
           2021,
           2022,
           2015,
           2016,
           2017,
           2018,
           2019,
           2020,
           2021,
           2022,
           2016,
           2017,
           2018,
           2019,
           2020,
           2021,
           2022,
           2016,
           2017,
           2018,
           2019,
           2020,
           2021,
           2022,
           2016,
           2017,
           2018,
           2019,
           2020,
           2021,
           2022,
           2016,
           2017,
           2018,
           2019,
           2020,
           2021,
           2022,
           2016,
           2017,
           2018,
           2019,
           2020,
           2021,
           2022,
           2016,
           2017,
           2018,
           2019,
           2020,
           2021,
           2022
          ],
          "coloraxis": "coloraxis",
          "pattern": {
           "shape": ""
          }
         },
         "name": "",
         "offsetgroup": "",
         "orientation": "v",
         "showlegend": false,
         "textposition": "auto",
         "type": "bar",
         "x": [
          "April",
          "April",
          "April",
          "April",
          "April",
          "April",
          "April",
          "August",
          "August",
          "August",
          "August",
          "August",
          "August",
          "August",
          "December",
          "December",
          "December",
          "December",
          "December",
          "December",
          "December",
          "February",
          "February",
          "February",
          "February",
          "February",
          "February",
          "February",
          "January",
          "January",
          "January",
          "January",
          "January",
          "January",
          "January",
          "July",
          "July",
          "July",
          "July",
          "July",
          "July",
          "July",
          "July",
          "June",
          "June",
          "June",
          "June",
          "June",
          "June",
          "June",
          "March",
          "March",
          "March",
          "March",
          "March",
          "March",
          "March",
          "May",
          "May",
          "May",
          "May",
          "May",
          "May",
          "May",
          "November",
          "November",
          "November",
          "November",
          "November",
          "November",
          "November",
          "October",
          "October",
          "October",
          "October",
          "October",
          "October",
          "October",
          "September",
          "September",
          "September",
          "September",
          "September",
          "September",
          "September"
         ],
         "xaxis": "x",
         "y": [
          21430.44,
          29289.33,
          31459.97,
          18840.55,
          21832.7,
          18682.08,
          12706.7,
          11798.56,
          35373.36,
          37409.45,
          20531.48,
          12077.43,
          21736.57,
          3589.23,
          22043.97,
          25734.91,
          20823.48,
          20679.78,
          23598.75,
          11536.11,
          561.02,
          11261.17,
          27618.12,
          26082.02,
          12349.73,
          26914.36,
          22334.66,
          16283.15,
          16209.64,
          30265.76,
          23712.61,
          19614.18,
          14161.43,
          22326.78,
          18723.75,
          205.05,
          26714.58,
          36581.369999999995,
          40016.42,
          30242.13,
          25931.760000000002,
          24846.46,
          17382.56,
          17289.38,
          30928.47,
          32521.02,
          17066.92,
          41719.81,
          22613.85,
          15498.02,
          11217.85,
          18310.36,
          28178.46,
          23149.3,
          25495.41,
          24749.67,
          17588.57,
          7299.88,
          19665.350000000002,
          26998.7,
          28618.09,
          21957.36,
          23847.45,
          8249.01,
          25891.07,
          17415.41,
          14625.98,
          20165.37,
          29942.239999999998,
          13704.1,
          6912.74,
          23011.81,
          44536.75,
          11585.949999999999,
          19698.489999999998,
          27961.6,
          13202.11,
          10990.83,
          18467.87,
          28250.34,
          26164.36,
          16929.13,
          25500.649999999998,
          8891.06,
          8130.25
         ],
         "yaxis": "y"
        }
       ],
       "layout": {
        "barmode": "relative",
        "coloraxis": {
         "colorbar": {
          "title": {
           "text": "year"
          }
         },
         "colorscale": [
          [
           0,
           "#0d0887"
          ],
          [
           0.1111111111111111,
           "#46039f"
          ],
          [
           0.2222222222222222,
           "#7201a8"
          ],
          [
           0.3333333333333333,
           "#9c179e"
          ],
          [
           0.4444444444444444,
           "#bd3786"
          ],
          [
           0.5555555555555556,
           "#d8576b"
          ],
          [
           0.6666666666666666,
           "#ed7953"
          ],
          [
           0.7777777777777778,
           "#fb9f3a"
          ],
          [
           0.8888888888888888,
           "#fdca26"
          ],
          [
           1,
           "#f0f921"
          ]
         ]
        },
        "legend": {
         "tracegroupgap": 0
        },
        "template": {
         "data": {
          "bar": [
           {
            "error_x": {
             "color": "#2a3f5f"
            },
            "error_y": {
             "color": "#2a3f5f"
            },
            "marker": {
             "line": {
              "color": "#E5ECF6",
              "width": 0.5
             },
             "pattern": {
              "fillmode": "overlay",
              "size": 10,
              "solidity": 0.2
             }
            },
            "type": "bar"
           }
          ],
          "barpolar": [
           {
            "marker": {
             "line": {
              "color": "#E5ECF6",
              "width": 0.5
             },
             "pattern": {
              "fillmode": "overlay",
              "size": 10,
              "solidity": 0.2
             }
            },
            "type": "barpolar"
           }
          ],
          "carpet": [
           {
            "aaxis": {
             "endlinecolor": "#2a3f5f",
             "gridcolor": "white",
             "linecolor": "white",
             "minorgridcolor": "white",
             "startlinecolor": "#2a3f5f"
            },
            "baxis": {
             "endlinecolor": "#2a3f5f",
             "gridcolor": "white",
             "linecolor": "white",
             "minorgridcolor": "white",
             "startlinecolor": "#2a3f5f"
            },
            "type": "carpet"
           }
          ],
          "choropleth": [
           {
            "colorbar": {
             "outlinewidth": 0,
             "ticks": ""
            },
            "type": "choropleth"
           }
          ],
          "contour": [
           {
            "colorbar": {
             "outlinewidth": 0,
             "ticks": ""
            },
            "colorscale": [
             [
              0,
              "#0d0887"
             ],
             [
              0.1111111111111111,
              "#46039f"
             ],
             [
              0.2222222222222222,
              "#7201a8"
             ],
             [
              0.3333333333333333,
              "#9c179e"
             ],
             [
              0.4444444444444444,
              "#bd3786"
             ],
             [
              0.5555555555555556,
              "#d8576b"
             ],
             [
              0.6666666666666666,
              "#ed7953"
             ],
             [
              0.7777777777777778,
              "#fb9f3a"
             ],
             [
              0.8888888888888888,
              "#fdca26"
             ],
             [
              1,
              "#f0f921"
             ]
            ],
            "type": "contour"
           }
          ],
          "contourcarpet": [
           {
            "colorbar": {
             "outlinewidth": 0,
             "ticks": ""
            },
            "type": "contourcarpet"
           }
          ],
          "heatmap": [
           {
            "colorbar": {
             "outlinewidth": 0,
             "ticks": ""
            },
            "colorscale": [
             [
              0,
              "#0d0887"
             ],
             [
              0.1111111111111111,
              "#46039f"
             ],
             [
              0.2222222222222222,
              "#7201a8"
             ],
             [
              0.3333333333333333,
              "#9c179e"
             ],
             [
              0.4444444444444444,
              "#bd3786"
             ],
             [
              0.5555555555555556,
              "#d8576b"
             ],
             [
              0.6666666666666666,
              "#ed7953"
             ],
             [
              0.7777777777777778,
              "#fb9f3a"
             ],
             [
              0.8888888888888888,
              "#fdca26"
             ],
             [
              1,
              "#f0f921"
             ]
            ],
            "type": "heatmap"
           }
          ],
          "heatmapgl": [
           {
            "colorbar": {
             "outlinewidth": 0,
             "ticks": ""
            },
            "colorscale": [
             [
              0,
              "#0d0887"
             ],
             [
              0.1111111111111111,
              "#46039f"
             ],
             [
              0.2222222222222222,
              "#7201a8"
             ],
             [
              0.3333333333333333,
              "#9c179e"
             ],
             [
              0.4444444444444444,
              "#bd3786"
             ],
             [
              0.5555555555555556,
              "#d8576b"
             ],
             [
              0.6666666666666666,
              "#ed7953"
             ],
             [
              0.7777777777777778,
              "#fb9f3a"
             ],
             [
              0.8888888888888888,
              "#fdca26"
             ],
             [
              1,
              "#f0f921"
             ]
            ],
            "type": "heatmapgl"
           }
          ],
          "histogram": [
           {
            "marker": {
             "pattern": {
              "fillmode": "overlay",
              "size": 10,
              "solidity": 0.2
             }
            },
            "type": "histogram"
           }
          ],
          "histogram2d": [
           {
            "colorbar": {
             "outlinewidth": 0,
             "ticks": ""
            },
            "colorscale": [
             [
              0,
              "#0d0887"
             ],
             [
              0.1111111111111111,
              "#46039f"
             ],
             [
              0.2222222222222222,
              "#7201a8"
             ],
             [
              0.3333333333333333,
              "#9c179e"
             ],
             [
              0.4444444444444444,
              "#bd3786"
             ],
             [
              0.5555555555555556,
              "#d8576b"
             ],
             [
              0.6666666666666666,
              "#ed7953"
             ],
             [
              0.7777777777777778,
              "#fb9f3a"
             ],
             [
              0.8888888888888888,
              "#fdca26"
             ],
             [
              1,
              "#f0f921"
             ]
            ],
            "type": "histogram2d"
           }
          ],
          "histogram2dcontour": [
           {
            "colorbar": {
             "outlinewidth": 0,
             "ticks": ""
            },
            "colorscale": [
             [
              0,
              "#0d0887"
             ],
             [
              0.1111111111111111,
              "#46039f"
             ],
             [
              0.2222222222222222,
              "#7201a8"
             ],
             [
              0.3333333333333333,
              "#9c179e"
             ],
             [
              0.4444444444444444,
              "#bd3786"
             ],
             [
              0.5555555555555556,
              "#d8576b"
             ],
             [
              0.6666666666666666,
              "#ed7953"
             ],
             [
              0.7777777777777778,
              "#fb9f3a"
             ],
             [
              0.8888888888888888,
              "#fdca26"
             ],
             [
              1,
              "#f0f921"
             ]
            ],
            "type": "histogram2dcontour"
           }
          ],
          "mesh3d": [
           {
            "colorbar": {
             "outlinewidth": 0,
             "ticks": ""
            },
            "type": "mesh3d"
           }
          ],
          "parcoords": [
           {
            "line": {
             "colorbar": {
              "outlinewidth": 0,
              "ticks": ""
             }
            },
            "type": "parcoords"
           }
          ],
          "pie": [
           {
            "automargin": true,
            "type": "pie"
           }
          ],
          "scatter": [
           {
            "fillpattern": {
             "fillmode": "overlay",
             "size": 10,
             "solidity": 0.2
            },
            "type": "scatter"
           }
          ],
          "scatter3d": [
           {
            "line": {
             "colorbar": {
              "outlinewidth": 0,
              "ticks": ""
             }
            },
            "marker": {
             "colorbar": {
              "outlinewidth": 0,
              "ticks": ""
             }
            },
            "type": "scatter3d"
           }
          ],
          "scattercarpet": [
           {
            "marker": {
             "colorbar": {
              "outlinewidth": 0,
              "ticks": ""
             }
            },
            "type": "scattercarpet"
           }
          ],
          "scattergeo": [
           {
            "marker": {
             "colorbar": {
              "outlinewidth": 0,
              "ticks": ""
             }
            },
            "type": "scattergeo"
           }
          ],
          "scattergl": [
           {
            "marker": {
             "colorbar": {
              "outlinewidth": 0,
              "ticks": ""
             }
            },
            "type": "scattergl"
           }
          ],
          "scattermapbox": [
           {
            "marker": {
             "colorbar": {
              "outlinewidth": 0,
              "ticks": ""
             }
            },
            "type": "scattermapbox"
           }
          ],
          "scatterpolar": [
           {
            "marker": {
             "colorbar": {
              "outlinewidth": 0,
              "ticks": ""
             }
            },
            "type": "scatterpolar"
           }
          ],
          "scatterpolargl": [
           {
            "marker": {
             "colorbar": {
              "outlinewidth": 0,
              "ticks": ""
             }
            },
            "type": "scatterpolargl"
           }
          ],
          "scatterternary": [
           {
            "marker": {
             "colorbar": {
              "outlinewidth": 0,
              "ticks": ""
             }
            },
            "type": "scatterternary"
           }
          ],
          "surface": [
           {
            "colorbar": {
             "outlinewidth": 0,
             "ticks": ""
            },
            "colorscale": [
             [
              0,
              "#0d0887"
             ],
             [
              0.1111111111111111,
              "#46039f"
             ],
             [
              0.2222222222222222,
              "#7201a8"
             ],
             [
              0.3333333333333333,
              "#9c179e"
             ],
             [
              0.4444444444444444,
              "#bd3786"
             ],
             [
              0.5555555555555556,
              "#d8576b"
             ],
             [
              0.6666666666666666,
              "#ed7953"
             ],
             [
              0.7777777777777778,
              "#fb9f3a"
             ],
             [
              0.8888888888888888,
              "#fdca26"
             ],
             [
              1,
              "#f0f921"
             ]
            ],
            "type": "surface"
           }
          ],
          "table": [
           {
            "cells": {
             "fill": {
              "color": "#EBF0F8"
             },
             "line": {
              "color": "white"
             }
            },
            "header": {
             "fill": {
              "color": "#C8D4E3"
             },
             "line": {
              "color": "white"
             }
            },
            "type": "table"
           }
          ]
         },
         "layout": {
          "annotationdefaults": {
           "arrowcolor": "#2a3f5f",
           "arrowhead": 0,
           "arrowwidth": 1
          },
          "autotypenumbers": "strict",
          "coloraxis": {
           "colorbar": {
            "outlinewidth": 0,
            "ticks": ""
           }
          },
          "colorscale": {
           "diverging": [
            [
             0,
             "#8e0152"
            ],
            [
             0.1,
             "#c51b7d"
            ],
            [
             0.2,
             "#de77ae"
            ],
            [
             0.3,
             "#f1b6da"
            ],
            [
             0.4,
             "#fde0ef"
            ],
            [
             0.5,
             "#f7f7f7"
            ],
            [
             0.6,
             "#e6f5d0"
            ],
            [
             0.7,
             "#b8e186"
            ],
            [
             0.8,
             "#7fbc41"
            ],
            [
             0.9,
             "#4d9221"
            ],
            [
             1,
             "#276419"
            ]
           ],
           "sequential": [
            [
             0,
             "#0d0887"
            ],
            [
             0.1111111111111111,
             "#46039f"
            ],
            [
             0.2222222222222222,
             "#7201a8"
            ],
            [
             0.3333333333333333,
             "#9c179e"
            ],
            [
             0.4444444444444444,
             "#bd3786"
            ],
            [
             0.5555555555555556,
             "#d8576b"
            ],
            [
             0.6666666666666666,
             "#ed7953"
            ],
            [
             0.7777777777777778,
             "#fb9f3a"
            ],
            [
             0.8888888888888888,
             "#fdca26"
            ],
            [
             1,
             "#f0f921"
            ]
           ],
           "sequentialminus": [
            [
             0,
             "#0d0887"
            ],
            [
             0.1111111111111111,
             "#46039f"
            ],
            [
             0.2222222222222222,
             "#7201a8"
            ],
            [
             0.3333333333333333,
             "#9c179e"
            ],
            [
             0.4444444444444444,
             "#bd3786"
            ],
            [
             0.5555555555555556,
             "#d8576b"
            ],
            [
             0.6666666666666666,
             "#ed7953"
            ],
            [
             0.7777777777777778,
             "#fb9f3a"
            ],
            [
             0.8888888888888888,
             "#fdca26"
            ],
            [
             1,
             "#f0f921"
            ]
           ]
          },
          "colorway": [
           "#636efa",
           "#EF553B",
           "#00cc96",
           "#ab63fa",
           "#FFA15A",
           "#19d3f3",
           "#FF6692",
           "#B6E880",
           "#FF97FF",
           "#FECB52"
          ],
          "font": {
           "color": "#2a3f5f"
          },
          "geo": {
           "bgcolor": "white",
           "lakecolor": "white",
           "landcolor": "#E5ECF6",
           "showlakes": true,
           "showland": true,
           "subunitcolor": "white"
          },
          "hoverlabel": {
           "align": "left"
          },
          "hovermode": "closest",
          "mapbox": {
           "style": "light"
          },
          "paper_bgcolor": "white",
          "plot_bgcolor": "#E5ECF6",
          "polar": {
           "angularaxis": {
            "gridcolor": "white",
            "linecolor": "white",
            "ticks": ""
           },
           "bgcolor": "#E5ECF6",
           "radialaxis": {
            "gridcolor": "white",
            "linecolor": "white",
            "ticks": ""
           }
          },
          "scene": {
           "xaxis": {
            "backgroundcolor": "#E5ECF6",
            "gridcolor": "white",
            "gridwidth": 2,
            "linecolor": "white",
            "showbackground": true,
            "ticks": "",
            "zerolinecolor": "white"
           },
           "yaxis": {
            "backgroundcolor": "#E5ECF6",
            "gridcolor": "white",
            "gridwidth": 2,
            "linecolor": "white",
            "showbackground": true,
            "ticks": "",
            "zerolinecolor": "white"
           },
           "zaxis": {
            "backgroundcolor": "#E5ECF6",
            "gridcolor": "white",
            "gridwidth": 2,
            "linecolor": "white",
            "showbackground": true,
            "ticks": "",
            "zerolinecolor": "white"
           }
          },
          "shapedefaults": {
           "line": {
            "color": "#2a3f5f"
           }
          },
          "ternary": {
           "aaxis": {
            "gridcolor": "white",
            "linecolor": "white",
            "ticks": ""
           },
           "baxis": {
            "gridcolor": "white",
            "linecolor": "white",
            "ticks": ""
           },
           "bgcolor": "#E5ECF6",
           "caxis": {
            "gridcolor": "white",
            "linecolor": "white",
            "ticks": ""
           }
          },
          "title": {
           "x": 0.05
          },
          "xaxis": {
           "automargin": true,
           "gridcolor": "white",
           "linecolor": "white",
           "ticks": "",
           "title": {
            "standoff": 15
           },
           "zerolinecolor": "white",
           "zerolinewidth": 2
          },
          "yaxis": {
           "automargin": true,
           "gridcolor": "white",
           "linecolor": "white",
           "ticks": "",
           "title": {
            "standoff": 15
           },
           "zerolinecolor": "white",
           "zerolinewidth": 2
          }
         }
        },
        "title": {
         "text": "Total Elevation Gain by Month"
        },
        "xaxis": {
         "anchor": "y",
         "categoryarray": [
          "January",
          "February",
          "March",
          "April",
          "May",
          "June",
          "July",
          "August",
          "September",
          "October",
          "November",
          "December"
         ],
         "categoryorder": "array",
         "domain": [
          0,
          1
         ],
         "tickangle": 45,
         "title": {
          "text": "month"
         }
        },
        "yaxis": {
         "anchor": "x",
         "domain": [
          0,
          1
         ],
         "title": {
          "text": "total_elevation_gain"
         }
        }
       }
      }
     },
     "metadata": {},
     "output_type": "display_data"
    }
   ],
   "source": [
    "# Trending Elevation Gain\n",
    "gain_x_month_area = px.bar(elevation_trend_grouping, \n",
    "                           x=\"month\", \n",
    "                           y=\"total_elevation_gain\", \n",
    "                           title='Total Elevation Gain by Month', \n",
    "                           color='year',\n",
    "                           category_orders={\"month\": [\"January\", \"February\", \"March\", \"April\", \"May\", \"June\", \"July\", \"August\", \"September\", \"October\", \"November\", \"December\"]},   \n",
    "                          )\n",
    "\n",
    "gain_x_month_area.update_layout(xaxis_tickangle=45)\n",
    "\n",
    "gain_x_month_area.show()"
   ]
  },
  {
   "cell_type": "code",
   "execution_count": null,
   "metadata": {},
   "outputs": [],
   "source": []
  },
  {
   "cell_type": "code",
   "execution_count": null,
   "metadata": {},
   "outputs": [],
   "source": []
  }
 ],
 "metadata": {
  "kernelspec": {
   "display_name": "Python 3.10.6 64-bit",
   "language": "python",
   "name": "python3"
  },
  "language_info": {
   "codemirror_mode": {
    "name": "ipython",
    "version": 3
   },
   "file_extension": ".py",
   "mimetype": "text/x-python",
   "name": "python",
   "nbconvert_exporter": "python",
   "pygments_lexer": "ipython3",
   "version": "3.10.6"
  },
  "orig_nbformat": 4,
  "vscode": {
   "interpreter": {
    "hash": "93028d5495cf3fdad3791cfb45569ed1ffef5b94a8e8037ba1bdda77d837769f"
   }
  }
 },
 "nbformat": 4,
 "nbformat_minor": 2
}
