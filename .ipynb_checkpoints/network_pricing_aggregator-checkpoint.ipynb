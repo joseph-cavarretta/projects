{
 "cells": [
  {
   "cell_type": "code",
   "execution_count": 1,
   "id": "402af63c",
   "metadata": {},
   "outputs": [
    {
     "ename": "ModuleNotFoundError",
     "evalue": "No module named 'simple_salesforce'",
     "output_type": "error",
     "traceback": [
      "\u001b[1;31m---------------------------------------------------------------------------\u001b[0m",
      "\u001b[1;31mModuleNotFoundError\u001b[0m                       Traceback (most recent call last)",
      "\u001b[1;32m<ipython-input-1-071331660e79>\u001b[0m in \u001b[0;36m<module>\u001b[1;34m\u001b[0m\n\u001b[1;32m----> 1\u001b[1;33m \u001b[1;32mfrom\u001b[0m \u001b[0msimple_salesforce\u001b[0m \u001b[1;32mimport\u001b[0m \u001b[0mSalesforce\u001b[0m\u001b[1;33m\u001b[0m\u001b[1;33m\u001b[0m\u001b[0m\n\u001b[0m\u001b[0;32m      2\u001b[0m \u001b[1;32mimport\u001b[0m \u001b[0mpandas\u001b[0m \u001b[1;32mas\u001b[0m \u001b[0mpd\u001b[0m\u001b[1;33m\u001b[0m\u001b[1;33m\u001b[0m\u001b[0m\n\u001b[0;32m      3\u001b[0m \u001b[1;32mimport\u001b[0m \u001b[0mnumpy\u001b[0m \u001b[1;32mas\u001b[0m \u001b[0mnp\u001b[0m\u001b[1;33m\u001b[0m\u001b[1;33m\u001b[0m\u001b[0m\n\u001b[0;32m      4\u001b[0m \u001b[1;32mimport\u001b[0m \u001b[0mmatplotlib\u001b[0m\u001b[1;33m.\u001b[0m\u001b[0mpyplot\u001b[0m \u001b[1;32mas\u001b[0m \u001b[0mplt\u001b[0m\u001b[1;33m\u001b[0m\u001b[1;33m\u001b[0m\u001b[0m\n\u001b[0;32m      5\u001b[0m \u001b[1;32mimport\u001b[0m \u001b[0mseaborn\u001b[0m \u001b[1;32mas\u001b[0m \u001b[0msns\u001b[0m\u001b[1;33m\u001b[0m\u001b[1;33m\u001b[0m\u001b[0m\n",
      "\u001b[1;31mModuleNotFoundError\u001b[0m: No module named 'simple_salesforce'"
     ]
    }
   ],
   "source": [
    "from simple_salesforce import Salesforce\n",
    "import pandas as pd\n",
    "import numpy as np\n",
    "import matplotlib.pyplot as plt\n",
    "import seaborn as sns\n",
    "import base64\n",
    "\n",
    "sns.set()\n",
    "pd.options.display.float_format = '{:20,.2f}'.format"
   ]
  },
  {
   "cell_type": "markdown",
   "id": "d32865ac",
   "metadata": {},
   "source": [
    "## Connect to Salesforce"
   ]
  },
  {
   "cell_type": "code",
   "execution_count": null,
   "id": "4cbc7cfc",
   "metadata": {},
   "outputs": [],
   "source": [
    "############### CONNECT TO SALESFORCE API ###############\n",
    "    \n",
    "sf = Salesforce(username='', \n",
    "                password='',\n",
    "                security_token='')\n",
    "\n",
    "sf"
   ]
  },
  {
   "cell_type": "markdown",
   "id": "1ec3defe",
   "metadata": {},
   "source": [
    "## SOQL Query Competitor Network Sites"
   ]
  },
  {
   "cell_type": "code",
   "execution_count": null,
   "id": "de8470ee",
   "metadata": {},
   "outputs": [],
   "source": [
    "############### LOAD COMPETITOR PRICING ###############\n",
    "\n",
    "comp_sites_data = sf.query_all(\"\")\n",
    "\n",
    "comp_sites_df = pd.DataFrame(comp_sites_data['records']).drop(columns='attributes')\n",
    "\n",
    "comp_sites_df.head()"
   ]
  },
  {
   "cell_type": "markdown",
   "id": "2758d1aa",
   "metadata": {},
   "source": [
    "## SOQL Query Competitor Pricing Components"
   ]
  },
  {
   "cell_type": "code",
   "execution_count": null,
   "id": "188c9635",
   "metadata": {},
   "outputs": [],
   "source": [
    "############### LOAD VEP ITEMS ###############\n",
    "\n",
    "CPC_data = sf.query_all(\"\")\n",
    "\n",
    "CPC_df = pd.DataFrame(CPC_data['records']).drop(columns='attributes')\n",
    "CPC_df.shape"
   ]
  },
  {
   "cell_type": "code",
   "execution_count": null,
   "id": "07df4fd6",
   "metadata": {},
   "outputs": [],
   "source": [
    "CPC_df.head()"
   ]
  },
  {
   "cell_type": "markdown",
   "id": "3402e47c",
   "metadata": {},
   "source": [
    "## SOQL Query Buildings"
   ]
  },
  {
   "cell_type": "code",
   "execution_count": null,
   "id": "bd80a4b6",
   "metadata": {
    "scrolled": true
   },
   "outputs": [],
   "source": [
    "############### LOAD BUILDINGS ###############\n",
    "\n",
    "bldg_data = sf.query_all(\"\")\n",
    "\n",
    "bldg_df = pd.DataFrame(bldg_data['records']).drop(columns='attributes')\n",
    "bldg_df.head()"
   ]
  },
  {
   "cell_type": "markdown",
   "id": "cc1da9a2",
   "metadata": {},
   "source": [
    "## SOQL Query Markets"
   ]
  },
  {
   "cell_type": "code",
   "execution_count": null,
   "id": "772fdcf1",
   "metadata": {},
   "outputs": [],
   "source": [
    "############### LOAD MARKETS ###############\n",
    "mkt_data = sf.query_all(\"\")\n",
    "\n",
    "mkt_df = pd.DataFrame(mkt_data['records']).drop(columns='attributes')\n",
    "mkt_df.head()"
   ]
  },
  {
   "cell_type": "markdown",
   "id": "ea4e043f",
   "metadata": {},
   "source": [
    "## Merge Markets to Buildings"
   ]
  },
  {
   "cell_type": "code",
   "execution_count": null,
   "id": "05029761",
   "metadata": {},
   "outputs": [],
   "source": [
    "############### MERGE MARKETS WITH BUILDINGS ###############\n",
    "\n",
    "bldg_df = bldg_df.merge(mkt_df, how='left', on='Market Id')"
   ]
  },
  {
   "cell_type": "code",
   "execution_count": null,
   "id": "9dcf078b",
   "metadata": {},
   "outputs": [],
   "source": [
    "bldg_df.shape"
   ]
  },
  {
   "cell_type": "markdown",
   "id": "52744366",
   "metadata": {},
   "source": [
    "## Merge Buildings to Comp Sites"
   ]
  },
  {
   "cell_type": "code",
   "execution_count": null,
   "id": "0eabcec4",
   "metadata": {
    "scrolled": true
   },
   "outputs": [],
   "source": [
    "############### MERGE BUILDINGS TO COMP_SITES__DF ###############\n",
    "\n",
    "comp_sites_df = comp_sites_df.merge(bldg_df, how='inner', on='Building Id')\n",
    "\n",
    "comp_sites_df.head()"
   ]
  },
  {
   "cell_type": "markdown",
   "id": "ac3c14a4",
   "metadata": {},
   "source": [
    "## Create Column for Data Centers vs Enterprise"
   ]
  },
  {
   "cell_type": "code",
   "execution_count": null,
   "id": "c21b5a96",
   "metadata": {},
   "outputs": [],
   "source": [
    "############### CREATE COLUMN FOR DC vs ENTERPRISE ###############\n",
    "\n",
    "DC = ['Carrier Hotel', 'Data Center']\n",
    "comp_sites_df['DC vs Enterprise'] = np.where(comp_sites_df['Type'].isin(DC),'DC','Enterprise')"
   ]
  },
  {
   "cell_type": "markdown",
   "id": "3fd614da",
   "metadata": {},
   "source": [
    "## Match Comp Accounts from Comp Sites to C_Id on Comp Pricing Components"
   ]
  },
  {
   "cell_type": "code",
   "execution_count": null,
   "id": "07aa80db",
   "metadata": {},
   "outputs": [],
   "source": [
    "############### MATCH COMP ACCOUNTS TO COMP PRICING COMPONENTS ###############\n",
    "\n",
    "# filter comp sites dataframe for only comp accounts and comp Ids that are in our network US&CAN buildings\n",
    "temp_df = comp_sites_df[['C_Account', 'C_Id']]\n",
    "\n",
    "# drop dups to see how many unique comp accounts we have, and create a list of unique values\n",
    "temp_df = temp_df.drop_duplicates(subset='VId').reset_index(drop=True)\n",
    "\n",
    "temp_df.head()"
   ]
  },
  {
   "cell_type": "code",
   "execution_count": null,
   "id": "36c420e0",
   "metadata": {},
   "outputs": [],
   "source": [
    "############### DROP COMP ACCOUNTS NOT IN ON-NET US & CAN BUILDINGS ###############\n",
    "\n",
    "# map comp accounts from our on-net US&CAN buildings to a new column, matched on comp Id\n",
    "CPC_df['C_Account'] = CPC_df['C_Id'].map(temp_df.set_index('C_Id')['C_Account'])\n",
    "\n",
    "# if there are blanks in this column, it means VEP Account is not in US&CAN on-net building, drop blank values here\n",
    "CPC_df = CPC_df.dropna(axis=0, subset=['C_Account']).reset_index(drop=True)\n",
    "\n",
    "CPC_df.shape"
   ]
  },
  {
   "cell_type": "markdown",
   "id": "0917b589",
   "metadata": {},
   "source": [
    "## Convert Currency on Comp Pricing Components to USD & Convert NRC to MRR + MAR"
   ]
  },
  {
   "cell_type": "code",
   "execution_count": null,
   "id": "f034c127",
   "metadata": {},
   "outputs": [],
   "source": [
    "## LOAD DICT OF CURRENCY CONVERSIONS\n",
    "\n",
    "currencies_dict = {'AUD':1.297153,\n",
    "                   'BRL':5.635906,\n",
    "                   'CAD':1.256927,\n",
    "                   'CHF':0.929947,\n",
    "                   'DKK':6.247192,\n",
    "                   'EUR':0.840278,\n",
    "                   'GBP':0.721456,\n",
    "                   'HKD':7.764627,\n",
    "                   'JPY':108.760402,\n",
    "                   'MXN':20.766766,\n",
    "                   'SGD':1.342426,\n",
    "                   'USD':1.000000,\n",
    "                   'ZAR':14.976201\n",
    "                   }"
   ]
  },
  {
   "cell_type": "code",
   "execution_count": null,
   "id": "d7d7efca",
   "metadata": {},
   "outputs": [],
   "source": [
    "## CONVERT MRC & NRC FROM COMP PRICING COMPONENTS TO USD\n",
    "\n",
    "CPC_df['MRC (USD)'] = CPC_df['MRC'] / CPC_df['Currency'].map(currencies_dict)\n",
    "CPC_df['NRC (USD)'] = CPC_df['NRC'] / CPC_df['Currency'].map(currencies_dict)"
   ]
  },
  {
   "cell_type": "code",
   "execution_count": null,
   "id": "f795126e",
   "metadata": {
    "scrolled": false
   },
   "outputs": [],
   "source": [
    "## ADD COLUMN FOR MRR + MAR\n",
    "\n",
    "CPC_df['MRR + MAR'] = CPC_df['MRC (USD)'] + (CPC_df['NRC (USD)']/CPC_df['Term'].astype(float))\n",
    "\n",
    "CPC_df.columns # check that columns are added correctly"
   ]
  },
  {
   "cell_type": "markdown",
   "id": "fdc7930e",
   "metadata": {},
   "source": [
    "## Import Network Service Capabilities from CSV"
   ]
  },
  {
   "cell_type": "code",
   "execution_count": null,
   "id": "b151a18e",
   "metadata": {
    "scrolled": true
   },
   "outputs": [],
   "source": [
    "## Load data from the CSV\n",
    "\n",
    "df_caps = pd.read_csv('net_service_caps.csv')\n",
    "\n",
    "df_caps.head(20)"
   ]
  },
  {
   "cell_type": "code",
   "execution_count": null,
   "id": "521a7f94",
   "metadata": {},
   "outputs": [],
   "source": [
    "df_caps['Pref Loc'].value_counts() # Not many locations are labelled as preferred location"
   ]
  },
  {
   "cell_type": "code",
   "execution_count": null,
   "id": "a36c0cc3",
   "metadata": {
    "scrolled": false
   },
   "outputs": [],
   "source": [
    "df_caps['Capability Type'].value_counts() # How many of each enablement level"
   ]
  },
  {
   "cell_type": "code",
   "execution_count": null,
   "id": "21cd91f7",
   "metadata": {
    "scrolled": true
   },
   "outputs": [],
   "source": [
    "df_caps['Capability Type'].isnull().value_counts() # How many service caps don't have Capability Type listed"
   ]
  },
  {
   "cell_type": "code",
   "execution_count": null,
   "id": "3688e694",
   "metadata": {},
   "outputs": [],
   "source": [
    "## Drop the service caps with blank capability types\n",
    "\n",
    "df_caps.dropna(subset = ['Capability Type'], inplace = True)\n",
    "\n",
    "df_caps['Capability Type'].isnull().value_counts() # Only service caps with cap type listed remain"
   ]
  },
  {
   "cell_type": "markdown",
   "id": "ba7ace7e",
   "metadata": {},
   "source": [
    "## Create column that ranks the locs by preferred then capability level"
   ]
  },
  {
   "cell_type": "code",
   "execution_count": null,
   "id": "0fd3c13d",
   "metadata": {},
   "outputs": [],
   "source": [
    "############### CREATE COLUMN FOR RANKED DEMARCS ###############\n",
    "\n",
    "df_caps['Ranked Loc'] = np.where(df_caps['Pref Loc'].str.contains('E', na = False), 1,\n",
    "                                   np.where(df_caps['Capability Type'].eq('100'), 2,\n",
    "                                    np.where(df_caps['Capability Type'].eq('P'), 3,\n",
    "                                     np.where(df_caps['Capability Type'].eq('Pass'), 4,\n",
    "                                      np.where(df_caps['Capability Type'].eq('Ex'), 5,\n",
    "                                       np.where(df_caps['Capability Type'].eq('Path'), 6,\n",
    "                                        np.where(df_caps['Capability Type'].eq('Enabled'), 7,\n",
    "                                         np.where(df_caps['Capability Type'].eq('Accessible'), 8,\n",
    "                                                  'No Rank'\n",
    "                                                 ))))))))\n",
    "\n",
    "df_caps.head()"
   ]
  },
  {
   "cell_type": "code",
   "execution_count": null,
   "id": "9d96f7b8",
   "metadata": {},
   "outputs": [],
   "source": [
    "df_caps['Ranked Loc'].value_counts() # How many of each rank do we have?"
   ]
  },
  {
   "cell_type": "code",
   "execution_count": null,
   "id": "0ade6fe1",
   "metadata": {
    "scrolled": true
   },
   "outputs": [],
   "source": [
    "## Drop non-ranked loc values\n",
    "\n",
    "df_caps.drop(df_caps.index[df_caps['Ranked Loc']=='No Rank'], inplace = True)\n",
    "\n",
    "df_caps.head(10)"
   ]
  },
  {
   "cell_type": "markdown",
   "id": "1360ec95",
   "metadata": {},
   "source": [
    "## Check for ranked location ties in each building"
   ]
  },
  {
   "cell_type": "code",
   "execution_count": null,
   "id": "78707ecf",
   "metadata": {},
   "outputs": [],
   "source": [
    "## TEST FOR DUPLICATES WHERE TIE BREAKERS MAY BE NEEDED\n",
    "\n",
    "df_caps.sort_values(['Building Id', 'Ranked Loc'], ascending=[False, True], inplace = True)\n",
    "\n",
    "## Check if there are duplicate values for building and ranked loc. \n",
    "## This would indicate a need for a tie breaker.\n",
    "\n",
    "dups_df = df_caps[df_caps.duplicated(subset = ['Building Id', 'Ranked Loc'], \n",
    "                                     keep = False)]\n",
    "\n",
    "dups_df.tail()"
   ]
  },
  {
   "cell_type": "markdown",
   "id": "cff3cf36",
   "metadata": {},
   "source": [
    "## Add tie breaker for each building to determine which ranked loc to use"
   ]
  },
  {
   "cell_type": "code",
   "execution_count": null,
   "id": "46155cd3",
   "metadata": {
    "scrolled": true
   },
   "outputs": [],
   "source": [
    "df_caps.sort_values(['Building Id', 'Ranked Loc', 'Specific Building Rank'], \n",
    "                    ascending=[False, True, True], inplace = True)\n",
    "\n",
    "## Keep only the lowest Network Specific Building Rank for the Building\n",
    "df_caps.drop_duplicates(subset = ['Building Id'], keep = 'first', inplace = True)\n",
    "\n",
    "df_caps.head()"
   ]
  },
  {
   "cell_type": "markdown",
   "id": "e98f2078",
   "metadata": {},
   "source": [
    "## Load in Pricing"
   ]
  },
  {
   "cell_type": "code",
   "execution_count": null,
   "id": "92510b36",
   "metadata": {},
   "outputs": [],
   "source": [
    "############### PRICING FOR ONE LOCATION ###############\n",
    "\n",
    "'''\n",
    "Listed below are the term multipliers and building multipliers.\n",
    "'''\n",
    "\n",
    "#term multipliers:\n",
    "mrc_12 = 1.35\n",
    "mrc_24 = 1.15\n",
    "mrc_36 = 1.00\n",
    "mrc_48 = 0.85\n",
    "mrc_60 = 0.65\n",
    "\n",
    "\n",
    "bldg_multipliers = {\n",
    "\n",
    "1 : 0,\n",
    "2 : 0.80,\n",
    "3 : 0.85,\n",
    "4 : 0.90,\n",
    "5 : 0.95,\n",
    "6 : 0.96,\n",
    "7 : 0.97,\n",
    "8 : 0.98,\n",
    "9: 0.99,\n",
    "10 : 1.00,\n",
    "11 : 1.01,\n",
    "12 : 1.02,\n",
    "13 : 1.03,\n",
    "14 : 1.04,\n",
    "15 : 1.05,\n",
    "16 : 1.80,\n",
    "17 : 1.90,\n",
    "18 : 1.91,\n",
    "19 : 1.92,\n",
    "20 : 2.00,\n",
    "21 : 2.15,\n",
    "22 : 2.25,\n",
    "23 : 2.35,\n",
    "24 : 2.45,\n",
    "25 : 2.55\n",
    "}"
   ]
  },
  {
   "cell_type": "code",
   "execution_count": null,
   "id": "395fb09f",
   "metadata": {
    "scrolled": false
   },
   "outputs": [],
   "source": [
    "############### LOAD BASE PRICING FROM CSV ###############\n",
    "\n",
    "df_pricing = pd.read_csv('file.csv', index_col = 'BW')\n",
    "\n",
    "df_pricing.head(20)"
   ]
  },
  {
   "cell_type": "code",
   "execution_count": null,
   "id": "b5c480c9",
   "metadata": {
    "scrolled": true
   },
   "outputs": [],
   "source": [
    "## Calculate MRC by term\n",
    "\n",
    "df_pricing['12mo MRC'] = (df_pricing['MRC'] * mrc_12)\n",
    "df_pricing['24mo MRC'] = (df_pricing['MRC'] * mrc_24)\n",
    "df_pricing['36mo MRC'] = (df_pricing['MRC'] * mrc_36)\n",
    "df_pricing['48mo MRC'] = (df_pricing['MRC'] * mrc_48)\n",
    "df_pricing['60mo MRC'] = (df_pricing['MRC'] * mrc_60)\n",
    "\n",
    "df_pricing.head(50)"
   ]
  },
  {
   "cell_type": "markdown",
   "id": "d75253c2",
   "metadata": {},
   "source": [
    "## Map building multipliers to service caps based on Specific Building Rank"
   ]
  },
  {
   "cell_type": "code",
   "execution_count": null,
   "id": "fec8b928",
   "metadata": {
    "scrolled": false
   },
   "outputs": [],
   "source": [
    "## Map building multipliers to service caps\n",
    "\n",
    "df_caps['Building Multiplier'] = df_caps['Specific Building Rank'].map(bldg_multipliers)\n",
    "\n",
    "df_caps.head()"
   ]
  },
  {
   "cell_type": "markdown",
   "id": "ae0340a0",
   "metadata": {},
   "source": [
    "## Merge building multipliers from service caps to comp sites"
   ]
  },
  {
   "cell_type": "code",
   "execution_count": null,
   "id": "14c861fb",
   "metadata": {
    "scrolled": true
   },
   "outputs": [],
   "source": [
    "## Merge building multiplier from service caps to psites\n",
    "comp_sites_df = comp_sites_df.merge(df_caps[['Building Id', 'Building Multiplier']], how = 'left', on = 'Building Id' )\n",
    "\n",
    "# Null values for Building Multiplier are buildings that are not enabled, drop these\n",
    "comp_sites_df.dropna(subset = ['Building Multiplier'], inplace = True)\n",
    "\n",
    "ps_df.head()"
   ]
  },
  {
   "cell_type": "markdown",
   "id": "93ec2303",
   "metadata": {},
   "source": [
    "# Analyze & Visualize Data"
   ]
  },
  {
   "cell_type": "code",
   "execution_count": null,
   "id": "e6c53819",
   "metadata": {
    "scrolled": true
   },
   "outputs": [],
   "source": [
    "#CPC_df['Term'].value_counts()\n",
    "#CPC_df['Handoff'].value_counts()\n",
    "#CPC_df['Bandwidth'].value_counts()\n",
    "#CPC_df['C_Account'].value_counts()\n",
    "#CPC_df['Tier'].value_counts()"
   ]
  },
  {
   "cell_type": "markdown",
   "id": "511c3aeb",
   "metadata": {},
   "source": [
    "## Use this block for quick viewing of pricing info from Comp Pricing Components"
   ]
  },
  {
   "cell_type": "code",
   "execution_count": null,
   "id": "d2755990",
   "metadata": {
    "scrolled": false
   },
   "outputs": [],
   "source": [
    "## FOR EASY VIEWING: USE THIS TOOL TO PULL SPECIFIC PRICING FROM COMP PRICING COMPONENTS\n",
    "\n",
    "term_ez = '24'\n",
    "handoff_ez = '100G'\n",
    "bw_ez = '500Mb'\n",
    "\n",
    "test_df = CPC_df[(CPC_df['Term'] == term_ez) \n",
    "                 & (CPC_df['Handoff'] == handoff_ez) \n",
    "                 & (CPC_df['Bandwidth'] == bw_ez)]\n",
    "\n",
    "ave_price = test_df['MRR + MAR'].mean()\n",
    "print(f'Average Price across Comp Accounts: ${ave_price:,.2f}')"
   ]
  },
  {
   "cell_type": "markdown",
   "id": "0291d3cb",
   "metadata": {},
   "source": [
    "## Use this block to get quick summary of outliers in Comp Sites pricing"
   ]
  },
  {
   "cell_type": "code",
   "execution_count": null,
   "id": "f92bd752",
   "metadata": {
    "scrolled": true
   },
   "outputs": [],
   "source": [
    "############################ TESTING ###################################\n",
    "## This is the same filter and merge as the function to pull pricing, use this to get test views of data\n",
    "\n",
    "test_comp_df = comp_sites_df\n",
    "\n",
    "## Select term, handoff, and bandwidth below\n",
    "test_view = CPC_df[(CPC_df['Term'] == '24') \n",
    "                    & (CPC_df['Handoff'] == '100G') \n",
    "                    & (CPC_df['Bandwidth'] == '1G')]\n",
    "\n",
    "test_pricing = test_comp_df.merge(test_view[['C_Id', 'Tier', 'Term', 'MRR + MAR', 'MRC', 'NRC']], \n",
    "                            how = 'inner', left_on = ['C_Id','Pricing Tier'], \n",
    "                            right_on = ['C_Id', 'Tier']).drop(columns='Tier')\n",
    "\n",
    "market_test = '' # if you want to slice by market, select market here\n",
    "\n",
    "## Use these views to check max values and other filters\n",
    "\n",
    "test_pricing = test_pricing[test_pricing['Market Name'] == market_test] # to slice by market, uncomment this line\n",
    "#test_pricing[test_pricing['DC vs Enterprise'] == 'DC'].head(10) # to slice by DC vs Enterprise, uncomment this line\n",
    "\n",
    "test_pricing.loc[test_pricing['MRR + MAR'].idxmax()] # views max MRR + MAR in dataset\n",
    "#test_pricing.loc[test_pricing['MRC'].idxmax()] # views max MRC in dataset\n",
    "#test_pricing.loc[test_pricing['NRC'].idxmax()] # views max NRC in dataset\n",
    "\n",
    "test_pricing.loc[test_pricing['MRR + MAR'].idxmin()] # views min MRR + MAR in dataset\n",
    "#test_pricing.loc[test_pricing['MRC'].idxmin()] # views min MRC in dataset\n",
    "#test_pricing.loc[test_pricing['NRC'].idxmin()] # views min NRC in dataset\n",
    "\n",
    "#test_pricing.head()"
   ]
  },
  {
   "cell_type": "markdown",
   "id": "47ac0e01",
   "metadata": {},
   "source": [
    "## Create function to print summary of pricing stats"
   ]
  },
  {
   "cell_type": "code",
   "execution_count": null,
   "id": "89bd5c9b",
   "metadata": {
    "scrolled": true
   },
   "outputs": [],
   "source": [
    "#### Bandwidth / Handoff pairs:\n",
    "\n",
    "def get_avg_pricing (term, handoff, bw, DCE, market = None):\n",
    "    # create copy of comp sites dataframe\n",
    "    temp_comp_df = comp_sites_df\n",
    "\n",
    "    # filter CPC dataframe to only term, handoff, and bw we want to get pricing for\n",
    "    easy_view = CPC_df[(CPC_df['Term'] == term) \n",
    "                        & (CPC_df['Handoff'] == handoff) \n",
    "                        & (CPC_df['Bandwidth'] == bw)]\n",
    "    \n",
    "    # merge filtered CPC_df to comp sites to see pricing for selected term, handoff, bw\n",
    "    pricing = temp_comp_df.merge(easy_view[['C_Id', 'Tier', 'MRR + MAR']], \n",
    "                            how = 'inner', left_on = ['C_Id','Pricing Tier'], \n",
    "                            right_on = ['C_Id', 'Tier']).drop(columns='Tier')\n",
    "    \n",
    "    # grab MRC and NRC from base pricing for this bandwidth, multiply by building multiplier and convert to MRR + MAR\n",
    "    base_MRC = df_pricing.loc[bw][f'{term}mo MRC']\n",
    "    base_NRC = df_pricing.loc[bw]['NRC']\n",
    "    pricing['Price_MRR + MAR'] = (pricing['Building Multiplier'] * base_MRC) + (base_NRC / int(term)) \n",
    "    \n",
    "    if market != None:\n",
    "        pricing = pricing[pricing['Market Name'] == market]\n",
    "    \n",
    "    pricing = pricing[pricing['DC vs Enterprise'] == DCE]\n",
    "    \n",
    "    # create outputs\n",
    "    ave_price = pricing['MRR + MAR'].mean()\n",
    "    min_price = pricing['MRR + MAR'].min()\n",
    "    max_price = pricing['MRR + MAR'].max()\n",
    "    med_price = pricing['MRR + MAR'].median()\n",
    "    count_of_sites = pricing['Comp Site Name'].nunique()\n",
    "    company_ave = pricing['Price_MRR + MAR'].mean()\n",
    "    diff_ave = company_ave - ave_price\n",
    "    \n",
    "    if market != None:\n",
    "        print(f'''{term}mo, {handoff}, {bw}, {DCE}, {market}: \n",
    "        avg = ${ave_price:,.2f}\n",
    "        median = ${med_price:,.2f}\n",
    "        max = ${max_price:,.2f}\n",
    "        min = ${min_price:,.2f} \n",
    "        total_sites = {count_of_sites}\n",
    "        avg (single loc) = ${company_ave:,.2f}\n",
    "        price difference = ${diff_ave:,.2f}''')\n",
    "    else:\n",
    "        print(f'''{term}mo, {handoff}, {bw}, {DCE}: \n",
    "        avg = ${ave_price:,.2f}\n",
    "        median = ${med_price:,.2f}\n",
    "        max = ${max_price:,.2f}\n",
    "        min = ${min_price:,.2f} \n",
    "        total_sites = {count_of_sites}\n",
    "        avg (single loc) = ${company_ave:,.2f}\n",
    "        price difference = ${diff_ave:,.2f}''')\n",
    "    \n",
    "    return \n"
   ]
  },
  {
   "cell_type": "markdown",
   "id": "5ebdc0b7",
   "metadata": {},
   "source": [
    "## Create function to generate boxplot for pricing stats"
   ]
  },
  {
   "cell_type": "code",
   "execution_count": null,
   "id": "98012b8d",
   "metadata": {},
   "outputs": [],
   "source": [
    "def box_plot_pricing (term, handoff, bw, DCE, market = None):\n",
    "    # create copy of comp sites dataframe\n",
    "    temp1_comp_df = comp_sites_df\n",
    "\n",
    "    # filter CPC dataframe to only term, handoff, and bw we want to get pricing for\n",
    "    easy_view = CPC_df[(CPC_df['Term'] == term) \n",
    "                        & (CPC_df['Handoff'] == handoff) \n",
    "                        & (CPC_df['Bandwidth'] == bw)]\n",
    "    \n",
    "    # merge filtered CPC df to comp sites to see pricing for selected term, handoff, bw\n",
    "    pricing = temp1_comp_df.merge(easy_view[['C_Id', 'Tier', 'MRR + MAR']], \n",
    "                            how = 'inner', left_on = ['C_Id','Pricing Tier'], \n",
    "                            right_on = ['C_Id', 'Tier']).drop(columns='Tier')\n",
    "    \n",
    "    # grab MRC and NRC from pricing for this bandwidth, multiply by building multiplier and convert to MRR + MAR\n",
    "    base_MRC = df_pricing.loc[bw][f'{term}mo MRC']\n",
    "    base_NRC = df_pricing.loc[bw]['NRC']\n",
    "    pricing['MRR + MAR'] = (pricing['Building Multiplier'] * base_MRC) + (base_NRC / int(term)) \n",
    "    \n",
    "    if market != None:\n",
    "        pricing = pricing[pricing['Market Name'] == market]\n",
    "    \n",
    "    pricing = pricing[pricing['DC vs Enterprise'] == DCE]\n",
    "    \n",
    "    # create outputs\n",
    "    ave_price = pricing['MRR + MAR'].mean()\n",
    "    min_price = pricing['MRR + MAR'].min()\n",
    "    max_price = pricing['MRR + MAR'].max()\n",
    "    med_price = pricing['MRR + MAR'].median()\n",
    "    count_of_sites = pricing['Partner Site Name'].nunique()\n",
    "    _ave = pricing['MRR + MAR'].mean()\n",
    "    diff_ave = _ave - ave_price\n",
    "    \n",
    "    # Make box plot object\n",
    "    fig, axes = plt.subplots(1,2, figsize=(8,4))\n",
    " \n",
    "    # Plot competitor data\n",
    "    axes[0].boxplot(pricing['MRR + MAR'], showmeans=True)\n",
    "    axes[0].set_title('Competitors')\n",
    "    axes[0].set_ylabel('Price (USD)')\n",
    "    axes[0].set_xlabel('')\n",
    "    \n",
    "    # Plot base data\n",
    "    axes[1].boxplot(pricing['MRR + MAR'], showmeans=True)\n",
    "    axes[1].set_title('(Sinle Loc)')\n",
    "    axes[1].set_xlabel('')\n",
    "    \n",
    "    # Set Overall Title\n",
    "    if market != None:\n",
    "        fig.suptitle(f'{bw} - {DCE}\\n', size = 14)\n",
    "    else:\n",
    "        fig.suptitle(f'Pricing for {term}mo, {bw}, {DCE}\\n', size = 14)\n",
    "    \n",
    "    fig.subplots_adjust(wspace=0.25, top=0.85)\n",
    "    \n",
    "    # show plot\n",
    "    plt.show()\n",
    "    \n",
    "    return "
   ]
  },
  {
   "cell_type": "markdown",
   "id": "cc114f4e",
   "metadata": {},
   "source": [
    "## Create function to generate scatter plot for pricing stats"
   ]
  },
  {
   "cell_type": "code",
   "execution_count": null,
   "id": "34187147",
   "metadata": {},
   "outputs": [],
   "source": [
    "def scatter_plot_pricing (term, handoff, bw, market = None):\n",
    "    # Create copy of PS dataframe\n",
    "    temp2_comp_df = comp_sites_df\n",
    "\n",
    "    # Filter CPC dataframe to only term, handoff, and bw we want to get pricing for\n",
    "    easy_view = CPC_df[(CPC_df['Term'] == term) \n",
    "                        & (CPC_df['Handoff'] == handoff) \n",
    "                        & (CPC_df['Bandwidth'] == bw)]\n",
    "    \n",
    "    # Merge filtered CPC df to comp sites to see pricing for selected term, handoff, bw\n",
    "    pricing = temp2_comp_df.merge(easy_view[['C_Id', 'Tier', 'MRR + MAR']], \n",
    "                            how = 'inner', left_on = ['C_Id','Pricing Tier'], \n",
    "                            right_on = ['C_Id', 'Tier']).drop(columns='Tier')\n",
    "    \n",
    "    # Grab MRC and NRC from base pricing for this bandwidth, multiply by building multiplier and convert to MRR + MAR\n",
    "    base_MRC = df_pricing.loc[bw][f'{term}mo MRC']\n",
    "    base_NRC = df_pricing.loc[bw]['NRC']\n",
    "    pricing['MRR + MAR'] = (pricing['Building Multiplier'] * base_MRC) + (base_NRC / int(term)) \n",
    "    \n",
    "    if market != None:\n",
    "        pricing = pricing[pricing['Market Name'] == market]\n",
    "    \n",
    "    # Create outputs\n",
    "    ave_price = pricing['MRR + MAR'].mean()\n",
    "    min_price = pricing['MRR + MAR'].min()\n",
    "    max_price = pricing['MRR + MAR'].max()\n",
    "    med_price = pricing['MRR + MAR'].median()\n",
    "    count_of_sites = pricing['Partner Site Name'].nunique()\n",
    "    _ave = pricing['Base MRR + MAR'].mean()\n",
    "    diff_ave = _ave - ave_price\n",
    "    _dc_ave = pricing[pricing['DC vs Enterprise'] == 'DC']['MRR + MAR'].mean()\n",
    "    _enterprise_ave = pricing[pricing['DC vs Enterprise'] == 'Enterprise']['MRR + MAR'].mean()\n",
    "    \n",
    "    ##########\n",
    "    \n",
    "    # Group Avg Price by C_Account\n",
    "    grouped_df = pricing.groupby('C_Account')['MRR + MAR'].mean().reset_index()\n",
    "    \n",
    "    dc_df = pricing[pricing['DC vs Enterprise'] == 'DC']\n",
    "    dc_grouped = dc_df.groupby('C_Account')['MRR + MAR'].mean().reset_index()\n",
    "    \n",
    "    enterprise_df = pricing[pricing['DC vs Enterprise'] == 'Enterprise']\n",
    "    enterprise_grouped = enterprise_df.groupby('C_Account')['MRR + MAR'].mean().reset_index()\n",
    "    \n",
    "    # Rename columns\n",
    "    grouped_df.columns = ['Account', 'Overall Avg Pricing']\n",
    "    dc_grouped.columns = ['Account', 'Avg DC Pricing']\n",
    "    enterprise_grouped.columns = ['Account', 'Avg Enterprise Pricing']\n",
    "    \n",
    "    # Merge groupbys\n",
    "    grouped_df = grouped_df.merge(dc_grouped, how = 'left', on = 'Account')\n",
    "    grouped_df = grouped_df.merge(enterprise_grouped, how = 'left', on = 'Account')\n",
    "    \n",
    "    # Append Base Avg Price to grouped\n",
    "    to_add = {'Account': '(Single Loc)', \n",
    "              'Overall Avg Pricing': _ave,\n",
    "              'Avg DC Pricing': _dc_ave,\n",
    "              'Avg Enterprise Pricing': _enterprise_ave}\n",
    "    \n",
    "    grouped_df = grouped_df.append(to_add, ignore_index = True).sort_values(by = 'Overall Avg Pricing')\n",
    "    colors = np.where(grouped_df['Account'].eq('(Single Loc)'), 'orangered', 'royalblue')\n",
    "    \n",
    "    # Make scatter plot object\n",
    "    x_dc = grouped_df['Avg DC Pricing']\n",
    "    x_enterprise = grouped_df['Avg Enterprise Pricing']\n",
    "    y = grouped_df['Account']\n",
    "\n",
    "    fig = plt.scatter(x_dc, y, c = colors, marker = '^', label = 'DC', alpha = 0.8)\n",
    "    fig = plt.scatter(x_enterprise, y, c = colors, label = 'Enterprise', alpha = 0.5)\n",
    "\n",
    "    # Set Overall Title\n",
    "    plt.title(f'{bw}\\n', size = 14)\n",
    "    plt.xlabel('\\nAvg Price (USD)')\n",
    "    plt.legend(loc='lower right')\n",
    "                           \n",
    "    # Show plot\n",
    "    plt.show()\n",
    "    \n",
    "    return"
   ]
  },
  {
   "cell_type": "markdown",
   "id": "31ccee96",
   "metadata": {},
   "source": [
    "## Select your pricing combination to print summary of pricing stats:"
   ]
  },
  {
   "cell_type": "code",
   "execution_count": null,
   "id": "be113ed7",
   "metadata": {
    "scrolled": true
   },
   "outputs": [],
   "source": [
    "############################ CALL GET AVG PRICING FUNCTION HERE ###################################\n",
    "\n",
    "# choose your term, DC vs Enterprise, bandwidth, market here\n",
    "term_var = '36' \n",
    "DCE_var = 'DC'\n",
    "bw_var = '100mb'\n",
    "market_var = '' # If not slicing by market, comment this out and change to market = None below\n",
    "\n",
    "# run function for selected combinations to get pricing\n",
    "get_avg_pricing(term_var,'100G', bw_var, DCE_var, market = market_var)"
   ]
  },
  {
   "cell_type": "markdown",
   "id": "2be9bc61",
   "metadata": {},
   "source": [
    "## Run scatter plot function here:"
   ]
  },
  {
   "cell_type": "code",
   "execution_count": null,
   "id": "f2452fb5",
   "metadata": {
    "scrolled": false
   },
   "outputs": [],
   "source": [
    "############################ CALL SCATTERPLOT PRICING FUNCTION HERE ###################################\n",
    "\n",
    "# Uses same term, DCE, bandwidth, and market variables from above block and shows scatter plot\n",
    "\n",
    "scatter_plot_pricing(term_var,'100G', bw_var, market = market_var)"
   ]
  },
  {
   "cell_type": "markdown",
   "id": "cfb5cca0",
   "metadata": {},
   "source": [
    "## Select pricing combination for Box Plot here:"
   ]
  },
  {
   "cell_type": "code",
   "execution_count": null,
   "id": "89cd297c",
   "metadata": {
    "scrolled": false
   },
   "outputs": [],
   "source": [
    "############################ CALL BOXPLOT PRICING FUNCTION HERE ###################################\n",
    "\n",
    "# Uses same term, DCE, bandwidth, and market variables from above block and shows box plot\n",
    "\n",
    "box_plot_pricing(term_var,'100G', bw_var, DCE_var, market = market_var)"
   ]
  }
 ],
 "metadata": {
  "kernelspec": {
   "display_name": "Python 3",
   "language": "python",
   "name": "python3"
  },
  "language_info": {
   "codemirror_mode": {
    "name": "ipython",
    "version": 3
   },
   "file_extension": ".py",
   "mimetype": "text/x-python",
   "name": "python",
   "nbconvert_exporter": "python",
   "pygments_lexer": "ipython3",
   "version": "3.7.6"
  }
 },
 "nbformat": 4,
 "nbformat_minor": 5
}
